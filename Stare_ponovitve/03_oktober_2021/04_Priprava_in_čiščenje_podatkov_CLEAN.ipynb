{
 "cells": [
  {
   "cell_type": "markdown",
   "metadata": {},
   "source": [
    "# Priprava in čiščenje podatkov"
   ]
  },
  {
   "cell_type": "markdown",
   "metadata": {},
   "source": [
    "## Get the data - Reading CSV Files with Encodings"
   ]
  },
  {
   "cell_type": "code",
   "execution_count": 172,
   "metadata": {},
   "outputs": [],
   "source": [
    "import pandas as pd \n",
    "import numpy as np"
   ]
  },
  {
   "cell_type": "code",
   "execution_count": 173,
   "metadata": {},
   "outputs": [
    {
     "name": "stdout",
     "output_type": "stream",
     "text": [
      "Manufacturer,Model Name,Category,Screen Size,Screen,CPU,RAM, Storage,GPU,Operating System,Operating System Version,Weight,Price (Euros)\r\n",
      "Apple,MacBook Pro,Ultrabook,\"13.3\"\"\",IPS Panel Retina Display 2560x1600,Intel Core i5 2.3GHz,8GB,128GB SSD,Intel Iris Plus Graphics 640,macOS,,1.37kg,\"1339,69\"\r\n",
      "Apple,Macbook Air,Ultrabook,\"13.3\"\"\",1440x900,Intel Core i5 1.8GHz,8GB,128GB Flash Storage,Intel HD Graphics 6000,macOS,,1.34kg,\"898,94\"\r\n"
     ]
    }
   ],
   "source": [
    "!head -n 3 data/INPUT_laptops.csv"
   ]
  },
  {
   "cell_type": "code",
   "execution_count": 174,
   "metadata": {},
   "outputs": [],
   "source": [
    "laptops = pd.read_csv(\"data/INPUT_laptops.csv\", encoding=\"Latin-1\")"
   ]
  },
  {
   "cell_type": "markdown",
   "metadata": {},
   "source": [
    "    df = pd.read_csv(\"filename.csv\", encoding=\"some_encoding\")"
   ]
  },
  {
   "cell_type": "code",
   "execution_count": 175,
   "metadata": {},
   "outputs": [
    {
     "data": {
      "text/html": [
       "<div>\n",
       "<style scoped>\n",
       "    .dataframe tbody tr th:only-of-type {\n",
       "        vertical-align: middle;\n",
       "    }\n",
       "\n",
       "    .dataframe tbody tr th {\n",
       "        vertical-align: top;\n",
       "    }\n",
       "\n",
       "    .dataframe thead th {\n",
       "        text-align: right;\n",
       "    }\n",
       "</style>\n",
       "<table border=\"1\" class=\"dataframe\">\n",
       "  <thead>\n",
       "    <tr style=\"text-align: right;\">\n",
       "      <th></th>\n",
       "      <th>Manufacturer</th>\n",
       "      <th>Model Name</th>\n",
       "      <th>Category</th>\n",
       "      <th>Screen Size</th>\n",
       "      <th>Screen</th>\n",
       "      <th>CPU</th>\n",
       "      <th>RAM</th>\n",
       "      <th>Storage</th>\n",
       "      <th>GPU</th>\n",
       "      <th>Operating System</th>\n",
       "      <th>Operating System Version</th>\n",
       "      <th>Weight</th>\n",
       "      <th>Price (Euros)</th>\n",
       "    </tr>\n",
       "  </thead>\n",
       "  <tbody>\n",
       "    <tr>\n",
       "      <th>0</th>\n",
       "      <td>Apple</td>\n",
       "      <td>MacBook Pro</td>\n",
       "      <td>Ultrabook</td>\n",
       "      <td>13.3\"</td>\n",
       "      <td>IPS Panel Retina Display 2560x1600</td>\n",
       "      <td>Intel Core i5 2.3GHz</td>\n",
       "      <td>8GB</td>\n",
       "      <td>128GB SSD</td>\n",
       "      <td>Intel Iris Plus Graphics 640</td>\n",
       "      <td>macOS</td>\n",
       "      <td>NaN</td>\n",
       "      <td>1.37kg</td>\n",
       "      <td>1339,69</td>\n",
       "    </tr>\n",
       "    <tr>\n",
       "      <th>1</th>\n",
       "      <td>Apple</td>\n",
       "      <td>Macbook Air</td>\n",
       "      <td>Ultrabook</td>\n",
       "      <td>13.3\"</td>\n",
       "      <td>1440x900</td>\n",
       "      <td>Intel Core i5 1.8GHz</td>\n",
       "      <td>8GB</td>\n",
       "      <td>128GB Flash Storage</td>\n",
       "      <td>Intel HD Graphics 6000</td>\n",
       "      <td>macOS</td>\n",
       "      <td>NaN</td>\n",
       "      <td>1.34kg</td>\n",
       "      <td>898,94</td>\n",
       "    </tr>\n",
       "    <tr>\n",
       "      <th>2</th>\n",
       "      <td>HP</td>\n",
       "      <td>250 G6</td>\n",
       "      <td>Notebook</td>\n",
       "      <td>15.6\"</td>\n",
       "      <td>Full HD 1920x1080</td>\n",
       "      <td>Intel Core i5 7200U 2.5GHz</td>\n",
       "      <td>8GB</td>\n",
       "      <td>256GB SSD</td>\n",
       "      <td>Intel HD Graphics 620</td>\n",
       "      <td>No OS</td>\n",
       "      <td>NaN</td>\n",
       "      <td>1.86kg</td>\n",
       "      <td>575,00</td>\n",
       "    </tr>\n",
       "    <tr>\n",
       "      <th>3</th>\n",
       "      <td>Apple</td>\n",
       "      <td>MacBook Pro</td>\n",
       "      <td>Ultrabook</td>\n",
       "      <td>15.4\"</td>\n",
       "      <td>IPS Panel Retina Display 2880x1800</td>\n",
       "      <td>Intel Core i7 2.7GHz</td>\n",
       "      <td>16GB</td>\n",
       "      <td>512GB SSD</td>\n",
       "      <td>AMD Radeon Pro 455</td>\n",
       "      <td>macOS</td>\n",
       "      <td>NaN</td>\n",
       "      <td>1.83kg</td>\n",
       "      <td>2537,45</td>\n",
       "    </tr>\n",
       "    <tr>\n",
       "      <th>4</th>\n",
       "      <td>Apple</td>\n",
       "      <td>MacBook Pro</td>\n",
       "      <td>Ultrabook</td>\n",
       "      <td>13.3\"</td>\n",
       "      <td>IPS Panel Retina Display 2560x1600</td>\n",
       "      <td>Intel Core i5 3.1GHz</td>\n",
       "      <td>8GB</td>\n",
       "      <td>256GB SSD</td>\n",
       "      <td>Intel Iris Plus Graphics 650</td>\n",
       "      <td>macOS</td>\n",
       "      <td>NaN</td>\n",
       "      <td>1.37kg</td>\n",
       "      <td>1803,60</td>\n",
       "    </tr>\n",
       "  </tbody>\n",
       "</table>\n",
       "</div>"
      ],
      "text/plain": [
       "  Manufacturer   Model Name   Category Screen Size  \\\n",
       "0        Apple  MacBook Pro  Ultrabook       13.3\"   \n",
       "1        Apple  Macbook Air  Ultrabook       13.3\"   \n",
       "2           HP       250 G6   Notebook       15.6\"   \n",
       "3        Apple  MacBook Pro  Ultrabook       15.4\"   \n",
       "4        Apple  MacBook Pro  Ultrabook       13.3\"   \n",
       "\n",
       "                               Screen                         CPU   RAM  \\\n",
       "0  IPS Panel Retina Display 2560x1600        Intel Core i5 2.3GHz   8GB   \n",
       "1                            1440x900        Intel Core i5 1.8GHz   8GB   \n",
       "2                   Full HD 1920x1080  Intel Core i5 7200U 2.5GHz   8GB   \n",
       "3  IPS Panel Retina Display 2880x1800        Intel Core i7 2.7GHz  16GB   \n",
       "4  IPS Panel Retina Display 2560x1600        Intel Core i5 3.1GHz   8GB   \n",
       "\n",
       "               Storage                           GPU Operating System  \\\n",
       "0            128GB SSD  Intel Iris Plus Graphics 640            macOS   \n",
       "1  128GB Flash Storage        Intel HD Graphics 6000            macOS   \n",
       "2            256GB SSD         Intel HD Graphics 620            No OS   \n",
       "3            512GB SSD            AMD Radeon Pro 455            macOS   \n",
       "4            256GB SSD  Intel Iris Plus Graphics 650            macOS   \n",
       "\n",
       "  Operating System Version  Weight Price (Euros)  \n",
       "0                      NaN  1.37kg       1339,69  \n",
       "1                      NaN  1.34kg        898,94  \n",
       "2                      NaN  1.86kg        575,00  \n",
       "3                      NaN  1.83kg       2537,45  \n",
       "4                      NaN  1.37kg       1803,60  "
      ]
     },
     "execution_count": 175,
     "metadata": {},
     "output_type": "execute_result"
    }
   ],
   "source": [
    "laptops.head()"
   ]
  },
  {
   "cell_type": "code",
   "execution_count": 176,
   "metadata": {},
   "outputs": [
    {
     "name": "stdout",
     "output_type": "stream",
     "text": [
      "<class 'pandas.core.frame.DataFrame'>\n",
      "RangeIndex: 1303 entries, 0 to 1302\n",
      "Data columns (total 13 columns):\n",
      " #   Column                    Non-Null Count  Dtype \n",
      "---  ------                    --------------  ----- \n",
      " 0   Manufacturer              1303 non-null   object\n",
      " 1   Model Name                1303 non-null   object\n",
      " 2   Category                  1303 non-null   object\n",
      " 3   Screen Size               1303 non-null   object\n",
      " 4   Screen                    1303 non-null   object\n",
      " 5   CPU                       1303 non-null   object\n",
      " 6   RAM                       1303 non-null   object\n",
      " 7    Storage                  1303 non-null   object\n",
      " 8   GPU                       1303 non-null   object\n",
      " 9   Operating System          1303 non-null   object\n",
      " 10  Operating System Version  1133 non-null   object\n",
      " 11  Weight                    1303 non-null   object\n",
      " 12  Price (Euros)             1303 non-null   object\n",
      "dtypes: object(13)\n",
      "memory usage: 132.5+ KB\n"
     ]
    }
   ],
   "source": [
    "laptops.info()"
   ]
  },
  {
   "cell_type": "markdown",
   "metadata": {},
   "source": [
    "## Cleaning Column Names"
   ]
  },
  {
   "cell_type": "code",
   "execution_count": 177,
   "metadata": {},
   "outputs": [],
   "source": [
    "#laptops[\" Storage\"]"
   ]
  },
  {
   "cell_type": "code",
   "execution_count": 178,
   "metadata": {},
   "outputs": [
    {
     "data": {
      "text/plain": [
       "Index(['Manufacturer', 'Model Name', 'Category', 'Screen Size', 'Screen',\n",
       "       'CPU', 'RAM', ' Storage', 'GPU', 'Operating System',\n",
       "       'Operating System Version', 'Weight', 'Price (Euros)'],\n",
       "      dtype='object')"
      ]
     },
     "execution_count": 178,
     "metadata": {},
     "output_type": "execute_result"
    }
   ],
   "source": [
    "laptops.columns"
   ]
  },
  {
   "cell_type": "code",
   "execution_count": 179,
   "metadata": {},
   "outputs": [],
   "source": [
    "laptops_test = laptops.copy()"
   ]
  },
  {
   "cell_type": "code",
   "execution_count": 180,
   "metadata": {},
   "outputs": [],
   "source": [
    "laptops_test.columns = ['A', 'B', 'C', 'D', 'E',\n",
    "                        'F', 'G', 'H', 'I', 'J',\n",
    "                        'K', 'L', 'M']"
   ]
  },
  {
   "cell_type": "code",
   "execution_count": 181,
   "metadata": {},
   "outputs": [
    {
     "data": {
      "text/html": [
       "<div>\n",
       "<style scoped>\n",
       "    .dataframe tbody tr th:only-of-type {\n",
       "        vertical-align: middle;\n",
       "    }\n",
       "\n",
       "    .dataframe tbody tr th {\n",
       "        vertical-align: top;\n",
       "    }\n",
       "\n",
       "    .dataframe thead th {\n",
       "        text-align: right;\n",
       "    }\n",
       "</style>\n",
       "<table border=\"1\" class=\"dataframe\">\n",
       "  <thead>\n",
       "    <tr style=\"text-align: right;\">\n",
       "      <th></th>\n",
       "      <th>A</th>\n",
       "      <th>B</th>\n",
       "      <th>C</th>\n",
       "      <th>D</th>\n",
       "      <th>E</th>\n",
       "      <th>F</th>\n",
       "      <th>G</th>\n",
       "      <th>H</th>\n",
       "      <th>I</th>\n",
       "      <th>J</th>\n",
       "      <th>K</th>\n",
       "      <th>L</th>\n",
       "      <th>M</th>\n",
       "    </tr>\n",
       "  </thead>\n",
       "  <tbody>\n",
       "    <tr>\n",
       "      <th>0</th>\n",
       "      <td>Apple</td>\n",
       "      <td>MacBook Pro</td>\n",
       "      <td>Ultrabook</td>\n",
       "      <td>13.3\"</td>\n",
       "      <td>IPS Panel Retina Display 2560x1600</td>\n",
       "      <td>Intel Core i5 2.3GHz</td>\n",
       "      <td>8GB</td>\n",
       "      <td>128GB SSD</td>\n",
       "      <td>Intel Iris Plus Graphics 640</td>\n",
       "      <td>macOS</td>\n",
       "      <td>NaN</td>\n",
       "      <td>1.37kg</td>\n",
       "      <td>1339,69</td>\n",
       "    </tr>\n",
       "    <tr>\n",
       "      <th>1</th>\n",
       "      <td>Apple</td>\n",
       "      <td>Macbook Air</td>\n",
       "      <td>Ultrabook</td>\n",
       "      <td>13.3\"</td>\n",
       "      <td>1440x900</td>\n",
       "      <td>Intel Core i5 1.8GHz</td>\n",
       "      <td>8GB</td>\n",
       "      <td>128GB Flash Storage</td>\n",
       "      <td>Intel HD Graphics 6000</td>\n",
       "      <td>macOS</td>\n",
       "      <td>NaN</td>\n",
       "      <td>1.34kg</td>\n",
       "      <td>898,94</td>\n",
       "    </tr>\n",
       "  </tbody>\n",
       "</table>\n",
       "</div>"
      ],
      "text/plain": [
       "       A            B          C      D                                   E  \\\n",
       "0  Apple  MacBook Pro  Ultrabook  13.3\"  IPS Panel Retina Display 2560x1600   \n",
       "1  Apple  Macbook Air  Ultrabook  13.3\"                            1440x900   \n",
       "\n",
       "                      F    G                    H  \\\n",
       "0  Intel Core i5 2.3GHz  8GB            128GB SSD   \n",
       "1  Intel Core i5 1.8GHz  8GB  128GB Flash Storage   \n",
       "\n",
       "                              I      J    K       L        M  \n",
       "0  Intel Iris Plus Graphics 640  macOS  NaN  1.37kg  1339,69  \n",
       "1        Intel HD Graphics 6000  macOS  NaN  1.34kg   898,94  "
      ]
     },
     "execution_count": 181,
     "metadata": {},
     "output_type": "execute_result"
    }
   ],
   "source": [
    "laptops_test.head(2)"
   ]
  },
  {
   "cell_type": "code",
   "execution_count": 182,
   "metadata": {},
   "outputs": [
    {
     "data": {
      "text/html": [
       "<div>\n",
       "<style scoped>\n",
       "    .dataframe tbody tr th:only-of-type {\n",
       "        vertical-align: middle;\n",
       "    }\n",
       "\n",
       "    .dataframe tbody tr th {\n",
       "        vertical-align: top;\n",
       "    }\n",
       "\n",
       "    .dataframe thead th {\n",
       "        text-align: right;\n",
       "    }\n",
       "</style>\n",
       "<table border=\"1\" class=\"dataframe\">\n",
       "  <thead>\n",
       "    <tr style=\"text-align: right;\">\n",
       "      <th></th>\n",
       "      <th>manufacturer</th>\n",
       "      <th>model_name</th>\n",
       "      <th>category</th>\n",
       "      <th>screen_size</th>\n",
       "      <th>screen</th>\n",
       "      <th>cpu</th>\n",
       "      <th>ram</th>\n",
       "      <th>storage</th>\n",
       "      <th>gpu</th>\n",
       "      <th>os</th>\n",
       "      <th>os_version</th>\n",
       "      <th>weight</th>\n",
       "      <th>price_euros</th>\n",
       "    </tr>\n",
       "  </thead>\n",
       "  <tbody>\n",
       "    <tr>\n",
       "      <th>0</th>\n",
       "      <td>Apple</td>\n",
       "      <td>MacBook Pro</td>\n",
       "      <td>Ultrabook</td>\n",
       "      <td>13.3\"</td>\n",
       "      <td>IPS Panel Retina Display 2560x1600</td>\n",
       "      <td>Intel Core i5 2.3GHz</td>\n",
       "      <td>8GB</td>\n",
       "      <td>128GB SSD</td>\n",
       "      <td>Intel Iris Plus Graphics 640</td>\n",
       "      <td>macOS</td>\n",
       "      <td>NaN</td>\n",
       "      <td>1.37kg</td>\n",
       "      <td>1339,69</td>\n",
       "    </tr>\n",
       "  </tbody>\n",
       "</table>\n",
       "</div>"
      ],
      "text/plain": [
       "  manufacturer   model_name   category screen_size  \\\n",
       "0        Apple  MacBook Pro  Ultrabook       13.3\"   \n",
       "\n",
       "                               screen                   cpu  ram    storage  \\\n",
       "0  IPS Panel Retina Display 2560x1600  Intel Core i5 2.3GHz  8GB  128GB SSD   \n",
       "\n",
       "                            gpu     os os_version  weight price_euros  \n",
       "0  Intel Iris Plus Graphics 640  macOS        NaN  1.37kg     1339,69  "
      ]
     },
     "execution_count": 182,
     "metadata": {},
     "output_type": "execute_result"
    }
   ],
   "source": [
    "def clean_col(col_name):\n",
    "    col = col_name.strip()\n",
    "    col = col.replace(\"Operating System\", \"os\")\n",
    "    col = col.replace(\" \", \"_\")\n",
    "    col = col.replace(\"(\", \"\")\n",
    "    col = col.replace(\")\", \"\")\n",
    "    col = col.lower()\n",
    "    return col\n",
    "\n",
    "laptops.columns = [clean_col(col) for col in laptops.columns]\n",
    "\n",
    "laptops.head(1)"
   ]
  },
  {
   "cell_type": "markdown",
   "metadata": {},
   "source": [
    "## Converting String Columns to Numeric"
   ]
  },
  {
   "cell_type": "code",
   "execution_count": 183,
   "metadata": {},
   "outputs": [
    {
     "data": {
      "text/html": [
       "<div>\n",
       "<style scoped>\n",
       "    .dataframe tbody tr th:only-of-type {\n",
       "        vertical-align: middle;\n",
       "    }\n",
       "\n",
       "    .dataframe tbody tr th {\n",
       "        vertical-align: top;\n",
       "    }\n",
       "\n",
       "    .dataframe thead th {\n",
       "        text-align: right;\n",
       "    }\n",
       "</style>\n",
       "<table border=\"1\" class=\"dataframe\">\n",
       "  <thead>\n",
       "    <tr style=\"text-align: right;\">\n",
       "      <th></th>\n",
       "      <th>category</th>\n",
       "      <th>screen_size</th>\n",
       "      <th>screen</th>\n",
       "    </tr>\n",
       "  </thead>\n",
       "  <tbody>\n",
       "    <tr>\n",
       "      <th>0</th>\n",
       "      <td>Ultrabook</td>\n",
       "      <td>13.3\"</td>\n",
       "      <td>IPS Panel Retina Display 2560x1600</td>\n",
       "    </tr>\n",
       "    <tr>\n",
       "      <th>1</th>\n",
       "      <td>Ultrabook</td>\n",
       "      <td>13.3\"</td>\n",
       "      <td>1440x900</td>\n",
       "    </tr>\n",
       "    <tr>\n",
       "      <th>2</th>\n",
       "      <td>Notebook</td>\n",
       "      <td>15.6\"</td>\n",
       "      <td>Full HD 1920x1080</td>\n",
       "    </tr>\n",
       "    <tr>\n",
       "      <th>3</th>\n",
       "      <td>Ultrabook</td>\n",
       "      <td>15.4\"</td>\n",
       "      <td>IPS Panel Retina Display 2880x1800</td>\n",
       "    </tr>\n",
       "    <tr>\n",
       "      <th>4</th>\n",
       "      <td>Ultrabook</td>\n",
       "      <td>13.3\"</td>\n",
       "      <td>IPS Panel Retina Display 2560x1600</td>\n",
       "    </tr>\n",
       "  </tbody>\n",
       "</table>\n",
       "</div>"
      ],
      "text/plain": [
       "    category screen_size                              screen\n",
       "0  Ultrabook       13.3\"  IPS Panel Retina Display 2560x1600\n",
       "1  Ultrabook       13.3\"                            1440x900\n",
       "2   Notebook       15.6\"                   Full HD 1920x1080\n",
       "3  Ultrabook       15.4\"  IPS Panel Retina Display 2880x1800\n",
       "4  Ultrabook       13.3\"  IPS Panel Retina Display 2560x1600"
      ]
     },
     "execution_count": 183,
     "metadata": {},
     "output_type": "execute_result"
    }
   ],
   "source": [
    "laptops.iloc[:5, 2:5]"
   ]
  },
  {
   "cell_type": "markdown",
   "metadata": {},
   "source": [
    "\n",
    "<p><img alt=\"string to numeric cleaning workflow\" src=\"images/cleaning_workflow.svg\"></p>\n"
   ]
  },
  {
   "cell_type": "code",
   "execution_count": 184,
   "metadata": {},
   "outputs": [
    {
     "name": "stdout",
     "output_type": "stream",
     "text": [
      "object\n"
     ]
    }
   ],
   "source": [
    "print(laptops[\"screen_size\"].dtype)"
   ]
  },
  {
   "cell_type": "code",
   "execution_count": 185,
   "metadata": {},
   "outputs": [
    {
     "data": {
      "text/plain": [
       "array(['13.3\"', '15.6\"', '15.4\"', '14.0\"', '12.0\"', '11.6\"', '17.3\"',\n",
       "       '10.1\"', '13.5\"', '12.5\"', '13.0\"', '18.4\"', '13.9\"', '12.3\"',\n",
       "       '17.0\"', '15.0\"', '14.1\"', '11.3\"'], dtype=object)"
      ]
     },
     "execution_count": 185,
     "metadata": {},
     "output_type": "execute_result"
    }
   ],
   "source": [
    "laptops[\"screen_size\"].unique()"
   ]
  },
  {
   "cell_type": "code",
   "execution_count": 186,
   "metadata": {},
   "outputs": [
    {
     "data": {
      "text/plain": [
       "array(['8GB', '16GB', '4GB', '2GB', '12GB', '6GB', '32GB', '24GB', '64GB'],\n",
       "      dtype=object)"
      ]
     },
     "execution_count": 186,
     "metadata": {},
     "output_type": "execute_result"
    }
   ],
   "source": [
    "laptops[\"ram\"].unique()"
   ]
  },
  {
   "cell_type": "markdown",
   "metadata": {},
   "source": [
    "\n",
    "<p></p><center><img alt=\"vectorized_string_methods\" src=\"images/Syntax.png\"></center><p></p>\n",
    "\n",
    "\n",
    "\n"
   ]
  },
  {
   "cell_type": "code",
   "execution_count": 187,
   "metadata": {},
   "outputs": [
    {
     "data": {
      "text/plain": [
       "0       13.3\n",
       "1       13.3\n",
       "2       15.6\n",
       "3       15.4\n",
       "4       13.3\n",
       "        ... \n",
       "1298    14.0\n",
       "1299    13.3\n",
       "1300    14.0\n",
       "1301    15.6\n",
       "1302    15.6\n",
       "Name: screen_size, Length: 1303, dtype: object"
      ]
     },
     "execution_count": 187,
     "metadata": {},
     "output_type": "execute_result"
    }
   ],
   "source": [
    "laptops[\"screen_size\"].str[:-1]"
   ]
  },
  {
   "cell_type": "code",
   "execution_count": 188,
   "metadata": {},
   "outputs": [],
   "source": [
    "laptops[\"screen_size\"] = laptops[\"screen_size\"].str.replace('\"', '')"
   ]
  },
  {
   "cell_type": "code",
   "execution_count": 189,
   "metadata": {},
   "outputs": [
    {
     "data": {
      "text/plain": [
       "array(['13.3', '15.6', '15.4', '14.0', '12.0', '11.6', '17.3', '10.1',\n",
       "       '13.5', '12.5', '13.0', '18.4', '13.9', '12.3', '17.0', '15.0',\n",
       "       '14.1', '11.3'], dtype=object)"
      ]
     },
     "execution_count": 189,
     "metadata": {},
     "output_type": "execute_result"
    }
   ],
   "source": [
    "laptops[\"screen_size\"].unique()"
   ]
  },
  {
   "cell_type": "code",
   "execution_count": 190,
   "metadata": {},
   "outputs": [],
   "source": [
    "laptops[\"ram\"] = laptops[\"ram\"].str.replace('GB', '')"
   ]
  },
  {
   "cell_type": "code",
   "execution_count": 191,
   "metadata": {},
   "outputs": [
    {
     "data": {
      "text/plain": [
       "array(['8', '16', '4', '2', '12', '6', '32', '24', '64'], dtype=object)"
      ]
     },
     "execution_count": 191,
     "metadata": {},
     "output_type": "execute_result"
    }
   ],
   "source": [
    "laptops[\"ram\"].unique()"
   ]
  },
  {
   "cell_type": "code",
   "execution_count": 192,
   "metadata": {},
   "outputs": [
    {
     "data": {
      "text/plain": [
       "manufacturer    object\n",
       "model_name      object\n",
       "category        object\n",
       "screen_size     object\n",
       "screen          object\n",
       "cpu             object\n",
       "ram             object\n",
       "storage         object\n",
       "gpu             object\n",
       "os              object\n",
       "os_version      object\n",
       "weight          object\n",
       "price_euros     object\n",
       "dtype: object"
      ]
     },
     "execution_count": 192,
     "metadata": {},
     "output_type": "execute_result"
    }
   ],
   "source": [
    "laptops.dtypes"
   ]
  },
  {
   "cell_type": "code",
   "execution_count": 193,
   "metadata": {},
   "outputs": [],
   "source": [
    "laptops[\"screen_size\"] = laptops[\"screen_size\"].astype(\"float\")"
   ]
  },
  {
   "cell_type": "code",
   "execution_count": 194,
   "metadata": {},
   "outputs": [],
   "source": [
    "laptops[\"ram\"] = laptops[\"ram\"].astype(\"int\")"
   ]
  },
  {
   "cell_type": "code",
   "execution_count": 195,
   "metadata": {},
   "outputs": [
    {
     "data": {
      "text/plain": [
       "manufacturer     object\n",
       "model_name       object\n",
       "category         object\n",
       "screen_size     float64\n",
       "screen           object\n",
       "cpu              object\n",
       "ram               int64\n",
       "storage          object\n",
       "gpu              object\n",
       "os               object\n",
       "os_version       object\n",
       "weight           object\n",
       "price_euros      object\n",
       "dtype: object"
      ]
     },
     "execution_count": 195,
     "metadata": {},
     "output_type": "execute_result"
    }
   ],
   "source": [
    "laptops.dtypes"
   ]
  },
  {
   "cell_type": "markdown",
   "metadata": {},
   "source": [
    "## Renaming Columns"
   ]
  },
  {
   "cell_type": "code",
   "execution_count": 196,
   "metadata": {},
   "outputs": [],
   "source": [
    "laptops.rename({\"screen_size\": \"screen_size_inches\"}, axis=1, inplace=True)"
   ]
  },
  {
   "cell_type": "code",
   "execution_count": 197,
   "metadata": {},
   "outputs": [],
   "source": [
    "laptops.rename({\"ram\": \"ram_gb\"}, axis=1, inplace=True)"
   ]
  },
  {
   "cell_type": "code",
   "execution_count": 198,
   "metadata": {},
   "outputs": [
    {
     "data": {
      "text/plain": [
       "Index(['manufacturer', 'model_name', 'category', 'screen_size_inches',\n",
       "       'screen', 'cpu', 'ram_gb', 'storage', 'gpu', 'os', 'os_version',\n",
       "       'weight', 'price_euros'],\n",
       "      dtype='object')"
      ]
     },
     "execution_count": 198,
     "metadata": {},
     "output_type": "execute_result"
    }
   ],
   "source": [
    "laptops.columns"
   ]
  },
  {
   "cell_type": "code",
   "execution_count": 199,
   "metadata": {},
   "outputs": [
    {
     "data": {
      "text/html": [
       "<div>\n",
       "<style scoped>\n",
       "    .dataframe tbody tr th:only-of-type {\n",
       "        vertical-align: middle;\n",
       "    }\n",
       "\n",
       "    .dataframe tbody tr th {\n",
       "        vertical-align: top;\n",
       "    }\n",
       "\n",
       "    .dataframe thead th {\n",
       "        text-align: right;\n",
       "    }\n",
       "</style>\n",
       "<table border=\"1\" class=\"dataframe\">\n",
       "  <thead>\n",
       "    <tr style=\"text-align: right;\">\n",
       "      <th></th>\n",
       "      <th>manufacturer</th>\n",
       "      <th>model_name</th>\n",
       "      <th>category</th>\n",
       "      <th>screen_size_inches</th>\n",
       "      <th>screen</th>\n",
       "      <th>cpu</th>\n",
       "      <th>ram_gb</th>\n",
       "      <th>storage</th>\n",
       "      <th>gpu</th>\n",
       "      <th>os</th>\n",
       "      <th>os_version</th>\n",
       "      <th>weight</th>\n",
       "      <th>price_euros</th>\n",
       "    </tr>\n",
       "  </thead>\n",
       "  <tbody>\n",
       "    <tr>\n",
       "      <th>0</th>\n",
       "      <td>Apple</td>\n",
       "      <td>MacBook Pro</td>\n",
       "      <td>Ultrabook</td>\n",
       "      <td>13.3</td>\n",
       "      <td>IPS Panel Retina Display 2560x1600</td>\n",
       "      <td>Intel Core i5 2.3GHz</td>\n",
       "      <td>8</td>\n",
       "      <td>128GB SSD</td>\n",
       "      <td>Intel Iris Plus Graphics 640</td>\n",
       "      <td>macOS</td>\n",
       "      <td>NaN</td>\n",
       "      <td>1.37kg</td>\n",
       "      <td>1339,69</td>\n",
       "    </tr>\n",
       "    <tr>\n",
       "      <th>1</th>\n",
       "      <td>Apple</td>\n",
       "      <td>Macbook Air</td>\n",
       "      <td>Ultrabook</td>\n",
       "      <td>13.3</td>\n",
       "      <td>1440x900</td>\n",
       "      <td>Intel Core i5 1.8GHz</td>\n",
       "      <td>8</td>\n",
       "      <td>128GB Flash Storage</td>\n",
       "      <td>Intel HD Graphics 6000</td>\n",
       "      <td>macOS</td>\n",
       "      <td>NaN</td>\n",
       "      <td>1.34kg</td>\n",
       "      <td>898,94</td>\n",
       "    </tr>\n",
       "  </tbody>\n",
       "</table>\n",
       "</div>"
      ],
      "text/plain": [
       "  manufacturer   model_name   category  screen_size_inches  \\\n",
       "0        Apple  MacBook Pro  Ultrabook                13.3   \n",
       "1        Apple  Macbook Air  Ultrabook                13.3   \n",
       "\n",
       "                               screen                   cpu  ram_gb  \\\n",
       "0  IPS Panel Retina Display 2560x1600  Intel Core i5 2.3GHz       8   \n",
       "1                            1440x900  Intel Core i5 1.8GHz       8   \n",
       "\n",
       "               storage                           gpu     os os_version  \\\n",
       "0            128GB SSD  Intel Iris Plus Graphics 640  macOS        NaN   \n",
       "1  128GB Flash Storage        Intel HD Graphics 6000  macOS        NaN   \n",
       "\n",
       "   weight price_euros  \n",
       "0  1.37kg     1339,69  \n",
       "1  1.34kg      898,94  "
      ]
     },
     "execution_count": 199,
     "metadata": {},
     "output_type": "execute_result"
    }
   ],
   "source": [
    "laptops.head(2)"
   ]
  },
  {
   "cell_type": "code",
   "execution_count": 200,
   "metadata": {},
   "outputs": [
    {
     "data": {
      "text/plain": [
       "count    1303.000000\n",
       "mean        8.382195\n",
       "std         5.084665\n",
       "min         2.000000\n",
       "25%         4.000000\n",
       "50%         8.000000\n",
       "75%         8.000000\n",
       "max        64.000000\n",
       "Name: ram_gb, dtype: float64"
      ]
     },
     "execution_count": 200,
     "metadata": {},
     "output_type": "execute_result"
    }
   ],
   "source": [
    "laptops[\"ram_gb\"].describe()"
   ]
  },
  {
   "cell_type": "markdown",
   "metadata": {},
   "source": [
    "## Extracting Values from Strings"
   ]
  },
  {
   "cell_type": "code",
   "execution_count": 201,
   "metadata": {},
   "outputs": [
    {
     "data": {
      "text/plain": [
       "0    Intel Iris Plus Graphics 640\n",
       "1          Intel HD Graphics 6000\n",
       "2           Intel HD Graphics 620\n",
       "3              AMD Radeon Pro 455\n",
       "4    Intel Iris Plus Graphics 650\n",
       "Name: gpu, dtype: object"
      ]
     },
     "execution_count": 201,
     "metadata": {},
     "output_type": "execute_result"
    }
   ],
   "source": [
    "laptops[\"gpu\"].head()"
   ]
  },
  {
   "cell_type": "code",
   "execution_count": 202,
   "metadata": {},
   "outputs": [],
   "source": [
    "laptops[\"gpu_manufacturer\"] = laptops[\"gpu\"].str.split().str[0]"
   ]
  },
  {
   "cell_type": "code",
   "execution_count": 203,
   "metadata": {},
   "outputs": [
    {
     "data": {
      "text/html": [
       "<div>\n",
       "<style scoped>\n",
       "    .dataframe tbody tr th:only-of-type {\n",
       "        vertical-align: middle;\n",
       "    }\n",
       "\n",
       "    .dataframe tbody tr th {\n",
       "        vertical-align: top;\n",
       "    }\n",
       "\n",
       "    .dataframe thead th {\n",
       "        text-align: right;\n",
       "    }\n",
       "</style>\n",
       "<table border=\"1\" class=\"dataframe\">\n",
       "  <thead>\n",
       "    <tr style=\"text-align: right;\">\n",
       "      <th></th>\n",
       "      <th>manufacturer</th>\n",
       "      <th>model_name</th>\n",
       "      <th>category</th>\n",
       "      <th>screen_size_inches</th>\n",
       "      <th>screen</th>\n",
       "      <th>cpu</th>\n",
       "      <th>ram_gb</th>\n",
       "      <th>storage</th>\n",
       "      <th>gpu</th>\n",
       "      <th>os</th>\n",
       "      <th>os_version</th>\n",
       "      <th>weight</th>\n",
       "      <th>price_euros</th>\n",
       "      <th>gpu_manufacturer</th>\n",
       "    </tr>\n",
       "  </thead>\n",
       "  <tbody>\n",
       "    <tr>\n",
       "      <th>0</th>\n",
       "      <td>Apple</td>\n",
       "      <td>MacBook Pro</td>\n",
       "      <td>Ultrabook</td>\n",
       "      <td>13.3</td>\n",
       "      <td>IPS Panel Retina Display 2560x1600</td>\n",
       "      <td>Intel Core i5 2.3GHz</td>\n",
       "      <td>8</td>\n",
       "      <td>128GB SSD</td>\n",
       "      <td>Intel Iris Plus Graphics 640</td>\n",
       "      <td>macOS</td>\n",
       "      <td>NaN</td>\n",
       "      <td>1.37kg</td>\n",
       "      <td>1339,69</td>\n",
       "      <td>Intel</td>\n",
       "    </tr>\n",
       "    <tr>\n",
       "      <th>1</th>\n",
       "      <td>Apple</td>\n",
       "      <td>Macbook Air</td>\n",
       "      <td>Ultrabook</td>\n",
       "      <td>13.3</td>\n",
       "      <td>1440x900</td>\n",
       "      <td>Intel Core i5 1.8GHz</td>\n",
       "      <td>8</td>\n",
       "      <td>128GB Flash Storage</td>\n",
       "      <td>Intel HD Graphics 6000</td>\n",
       "      <td>macOS</td>\n",
       "      <td>NaN</td>\n",
       "      <td>1.34kg</td>\n",
       "      <td>898,94</td>\n",
       "      <td>Intel</td>\n",
       "    </tr>\n",
       "    <tr>\n",
       "      <th>2</th>\n",
       "      <td>HP</td>\n",
       "      <td>250 G6</td>\n",
       "      <td>Notebook</td>\n",
       "      <td>15.6</td>\n",
       "      <td>Full HD 1920x1080</td>\n",
       "      <td>Intel Core i5 7200U 2.5GHz</td>\n",
       "      <td>8</td>\n",
       "      <td>256GB SSD</td>\n",
       "      <td>Intel HD Graphics 620</td>\n",
       "      <td>No OS</td>\n",
       "      <td>NaN</td>\n",
       "      <td>1.86kg</td>\n",
       "      <td>575,00</td>\n",
       "      <td>Intel</td>\n",
       "    </tr>\n",
       "    <tr>\n",
       "      <th>3</th>\n",
       "      <td>Apple</td>\n",
       "      <td>MacBook Pro</td>\n",
       "      <td>Ultrabook</td>\n",
       "      <td>15.4</td>\n",
       "      <td>IPS Panel Retina Display 2880x1800</td>\n",
       "      <td>Intel Core i7 2.7GHz</td>\n",
       "      <td>16</td>\n",
       "      <td>512GB SSD</td>\n",
       "      <td>AMD Radeon Pro 455</td>\n",
       "      <td>macOS</td>\n",
       "      <td>NaN</td>\n",
       "      <td>1.83kg</td>\n",
       "      <td>2537,45</td>\n",
       "      <td>AMD</td>\n",
       "    </tr>\n",
       "    <tr>\n",
       "      <th>4</th>\n",
       "      <td>Apple</td>\n",
       "      <td>MacBook Pro</td>\n",
       "      <td>Ultrabook</td>\n",
       "      <td>13.3</td>\n",
       "      <td>IPS Panel Retina Display 2560x1600</td>\n",
       "      <td>Intel Core i5 3.1GHz</td>\n",
       "      <td>8</td>\n",
       "      <td>256GB SSD</td>\n",
       "      <td>Intel Iris Plus Graphics 650</td>\n",
       "      <td>macOS</td>\n",
       "      <td>NaN</td>\n",
       "      <td>1.37kg</td>\n",
       "      <td>1803,60</td>\n",
       "      <td>Intel</td>\n",
       "    </tr>\n",
       "  </tbody>\n",
       "</table>\n",
       "</div>"
      ],
      "text/plain": [
       "  manufacturer   model_name   category  screen_size_inches  \\\n",
       "0        Apple  MacBook Pro  Ultrabook                13.3   \n",
       "1        Apple  Macbook Air  Ultrabook                13.3   \n",
       "2           HP       250 G6   Notebook                15.6   \n",
       "3        Apple  MacBook Pro  Ultrabook                15.4   \n",
       "4        Apple  MacBook Pro  Ultrabook                13.3   \n",
       "\n",
       "                               screen                         cpu  ram_gb  \\\n",
       "0  IPS Panel Retina Display 2560x1600        Intel Core i5 2.3GHz       8   \n",
       "1                            1440x900        Intel Core i5 1.8GHz       8   \n",
       "2                   Full HD 1920x1080  Intel Core i5 7200U 2.5GHz       8   \n",
       "3  IPS Panel Retina Display 2880x1800        Intel Core i7 2.7GHz      16   \n",
       "4  IPS Panel Retina Display 2560x1600        Intel Core i5 3.1GHz       8   \n",
       "\n",
       "               storage                           gpu     os os_version  \\\n",
       "0            128GB SSD  Intel Iris Plus Graphics 640  macOS        NaN   \n",
       "1  128GB Flash Storage        Intel HD Graphics 6000  macOS        NaN   \n",
       "2            256GB SSD         Intel HD Graphics 620  No OS        NaN   \n",
       "3            512GB SSD            AMD Radeon Pro 455  macOS        NaN   \n",
       "4            256GB SSD  Intel Iris Plus Graphics 650  macOS        NaN   \n",
       "\n",
       "   weight price_euros gpu_manufacturer  \n",
       "0  1.37kg     1339,69            Intel  \n",
       "1  1.34kg      898,94            Intel  \n",
       "2  1.86kg      575,00            Intel  \n",
       "3  1.83kg     2537,45              AMD  \n",
       "4  1.37kg     1803,60            Intel  "
      ]
     },
     "execution_count": 203,
     "metadata": {},
     "output_type": "execute_result"
    }
   ],
   "source": [
    "laptops.head()"
   ]
  },
  {
   "cell_type": "code",
   "execution_count": 204,
   "metadata": {},
   "outputs": [
    {
     "data": {
      "text/plain": [
       "Intel     722\n",
       "Nvidia    400\n",
       "AMD       180\n",
       "ARM         1\n",
       "Name: gpu_manufacturer, dtype: int64"
      ]
     },
     "execution_count": 204,
     "metadata": {},
     "output_type": "execute_result"
    }
   ],
   "source": [
    "laptops[\"gpu_manufacturer\"].value_counts()"
   ]
  },
  {
   "cell_type": "code",
   "execution_count": 205,
   "metadata": {},
   "outputs": [],
   "source": [
    "laptops[\"cpu_manufacturer\"] = laptops[\"cpu\"].str.split().str[0]"
   ]
  },
  {
   "cell_type": "code",
   "execution_count": 206,
   "metadata": {},
   "outputs": [
    {
     "data": {
      "text/html": [
       "<div>\n",
       "<style scoped>\n",
       "    .dataframe tbody tr th:only-of-type {\n",
       "        vertical-align: middle;\n",
       "    }\n",
       "\n",
       "    .dataframe tbody tr th {\n",
       "        vertical-align: top;\n",
       "    }\n",
       "\n",
       "    .dataframe thead th {\n",
       "        text-align: right;\n",
       "    }\n",
       "</style>\n",
       "<table border=\"1\" class=\"dataframe\">\n",
       "  <thead>\n",
       "    <tr style=\"text-align: right;\">\n",
       "      <th></th>\n",
       "      <th>manufacturer</th>\n",
       "      <th>model_name</th>\n",
       "      <th>category</th>\n",
       "      <th>screen_size_inches</th>\n",
       "      <th>screen</th>\n",
       "      <th>cpu</th>\n",
       "      <th>ram_gb</th>\n",
       "      <th>storage</th>\n",
       "      <th>gpu</th>\n",
       "      <th>os</th>\n",
       "      <th>os_version</th>\n",
       "      <th>weight</th>\n",
       "      <th>price_euros</th>\n",
       "      <th>gpu_manufacturer</th>\n",
       "      <th>cpu_manufacturer</th>\n",
       "    </tr>\n",
       "  </thead>\n",
       "  <tbody>\n",
       "    <tr>\n",
       "      <th>0</th>\n",
       "      <td>Apple</td>\n",
       "      <td>MacBook Pro</td>\n",
       "      <td>Ultrabook</td>\n",
       "      <td>13.3</td>\n",
       "      <td>IPS Panel Retina Display 2560x1600</td>\n",
       "      <td>Intel Core i5 2.3GHz</td>\n",
       "      <td>8</td>\n",
       "      <td>128GB SSD</td>\n",
       "      <td>Intel Iris Plus Graphics 640</td>\n",
       "      <td>macOS</td>\n",
       "      <td>NaN</td>\n",
       "      <td>1.37kg</td>\n",
       "      <td>1339,69</td>\n",
       "      <td>Intel</td>\n",
       "      <td>Intel</td>\n",
       "    </tr>\n",
       "    <tr>\n",
       "      <th>1</th>\n",
       "      <td>Apple</td>\n",
       "      <td>Macbook Air</td>\n",
       "      <td>Ultrabook</td>\n",
       "      <td>13.3</td>\n",
       "      <td>1440x900</td>\n",
       "      <td>Intel Core i5 1.8GHz</td>\n",
       "      <td>8</td>\n",
       "      <td>128GB Flash Storage</td>\n",
       "      <td>Intel HD Graphics 6000</td>\n",
       "      <td>macOS</td>\n",
       "      <td>NaN</td>\n",
       "      <td>1.34kg</td>\n",
       "      <td>898,94</td>\n",
       "      <td>Intel</td>\n",
       "      <td>Intel</td>\n",
       "    </tr>\n",
       "    <tr>\n",
       "      <th>2</th>\n",
       "      <td>HP</td>\n",
       "      <td>250 G6</td>\n",
       "      <td>Notebook</td>\n",
       "      <td>15.6</td>\n",
       "      <td>Full HD 1920x1080</td>\n",
       "      <td>Intel Core i5 7200U 2.5GHz</td>\n",
       "      <td>8</td>\n",
       "      <td>256GB SSD</td>\n",
       "      <td>Intel HD Graphics 620</td>\n",
       "      <td>No OS</td>\n",
       "      <td>NaN</td>\n",
       "      <td>1.86kg</td>\n",
       "      <td>575,00</td>\n",
       "      <td>Intel</td>\n",
       "      <td>Intel</td>\n",
       "    </tr>\n",
       "    <tr>\n",
       "      <th>3</th>\n",
       "      <td>Apple</td>\n",
       "      <td>MacBook Pro</td>\n",
       "      <td>Ultrabook</td>\n",
       "      <td>15.4</td>\n",
       "      <td>IPS Panel Retina Display 2880x1800</td>\n",
       "      <td>Intel Core i7 2.7GHz</td>\n",
       "      <td>16</td>\n",
       "      <td>512GB SSD</td>\n",
       "      <td>AMD Radeon Pro 455</td>\n",
       "      <td>macOS</td>\n",
       "      <td>NaN</td>\n",
       "      <td>1.83kg</td>\n",
       "      <td>2537,45</td>\n",
       "      <td>AMD</td>\n",
       "      <td>Intel</td>\n",
       "    </tr>\n",
       "    <tr>\n",
       "      <th>4</th>\n",
       "      <td>Apple</td>\n",
       "      <td>MacBook Pro</td>\n",
       "      <td>Ultrabook</td>\n",
       "      <td>13.3</td>\n",
       "      <td>IPS Panel Retina Display 2560x1600</td>\n",
       "      <td>Intel Core i5 3.1GHz</td>\n",
       "      <td>8</td>\n",
       "      <td>256GB SSD</td>\n",
       "      <td>Intel Iris Plus Graphics 650</td>\n",
       "      <td>macOS</td>\n",
       "      <td>NaN</td>\n",
       "      <td>1.37kg</td>\n",
       "      <td>1803,60</td>\n",
       "      <td>Intel</td>\n",
       "      <td>Intel</td>\n",
       "    </tr>\n",
       "  </tbody>\n",
       "</table>\n",
       "</div>"
      ],
      "text/plain": [
       "  manufacturer   model_name   category  screen_size_inches  \\\n",
       "0        Apple  MacBook Pro  Ultrabook                13.3   \n",
       "1        Apple  Macbook Air  Ultrabook                13.3   \n",
       "2           HP       250 G6   Notebook                15.6   \n",
       "3        Apple  MacBook Pro  Ultrabook                15.4   \n",
       "4        Apple  MacBook Pro  Ultrabook                13.3   \n",
       "\n",
       "                               screen                         cpu  ram_gb  \\\n",
       "0  IPS Panel Retina Display 2560x1600        Intel Core i5 2.3GHz       8   \n",
       "1                            1440x900        Intel Core i5 1.8GHz       8   \n",
       "2                   Full HD 1920x1080  Intel Core i5 7200U 2.5GHz       8   \n",
       "3  IPS Panel Retina Display 2880x1800        Intel Core i7 2.7GHz      16   \n",
       "4  IPS Panel Retina Display 2560x1600        Intel Core i5 3.1GHz       8   \n",
       "\n",
       "               storage                           gpu     os os_version  \\\n",
       "0            128GB SSD  Intel Iris Plus Graphics 640  macOS        NaN   \n",
       "1  128GB Flash Storage        Intel HD Graphics 6000  macOS        NaN   \n",
       "2            256GB SSD         Intel HD Graphics 620  No OS        NaN   \n",
       "3            512GB SSD            AMD Radeon Pro 455  macOS        NaN   \n",
       "4            256GB SSD  Intel Iris Plus Graphics 650  macOS        NaN   \n",
       "\n",
       "   weight price_euros gpu_manufacturer cpu_manufacturer  \n",
       "0  1.37kg     1339,69            Intel            Intel  \n",
       "1  1.34kg      898,94            Intel            Intel  \n",
       "2  1.86kg      575,00            Intel            Intel  \n",
       "3  1.83kg     2537,45              AMD            Intel  \n",
       "4  1.37kg     1803,60            Intel            Intel  "
      ]
     },
     "execution_count": 206,
     "metadata": {},
     "output_type": "execute_result"
    }
   ],
   "source": [
    "laptops.head()"
   ]
  },
  {
   "cell_type": "markdown",
   "metadata": {},
   "source": [
    "## Correcting Bad Values - map() method"
   ]
  },
  {
   "cell_type": "code",
   "execution_count": 207,
   "metadata": {},
   "outputs": [
    {
     "data": {
      "text/plain": [
       "Windows      1125\n",
       "No OS          66\n",
       "Linux          62\n",
       "Chrome OS      27\n",
       "macOS          13\n",
       "Mac OS          8\n",
       "Android         2\n",
       "Name: os, dtype: int64"
      ]
     },
     "execution_count": 207,
     "metadata": {},
     "output_type": "execute_result"
    }
   ],
   "source": [
    "laptops[\"os\"].value_counts()"
   ]
  },
  {
   "cell_type": "code",
   "execution_count": 208,
   "metadata": {},
   "outputs": [],
   "source": [
    "s = pd.Series(['pair', 'oranje', 'bananna', 'oranje', 'oranje', 'oranje'])"
   ]
  },
  {
   "cell_type": "code",
   "execution_count": 209,
   "metadata": {},
   "outputs": [
    {
     "data": {
      "text/plain": [
       "0       pair\n",
       "1     oranje\n",
       "2    bananna\n",
       "3     oranje\n",
       "4     oranje\n",
       "5     oranje\n",
       "dtype: object"
      ]
     },
     "execution_count": 209,
     "metadata": {},
     "output_type": "execute_result"
    }
   ],
   "source": [
    "s"
   ]
  },
  {
   "cell_type": "code",
   "execution_count": 210,
   "metadata": {},
   "outputs": [],
   "source": [
    "corrections = {\n",
    "    \"pair\": \"pear\",\n",
    "    \"oranje\": \"orange\",\n",
    "    \"bananna\": \"banana\"\n",
    "}"
   ]
  },
  {
   "cell_type": "code",
   "execution_count": 211,
   "metadata": {},
   "outputs": [],
   "source": [
    "s = s.map(corrections)"
   ]
  },
  {
   "cell_type": "code",
   "execution_count": 212,
   "metadata": {},
   "outputs": [
    {
     "data": {
      "text/plain": [
       "0      pear\n",
       "1    orange\n",
       "2    banana\n",
       "3    orange\n",
       "4    orange\n",
       "5    orange\n",
       "dtype: object"
      ]
     },
     "execution_count": 212,
     "metadata": {},
     "output_type": "execute_result"
    }
   ],
   "source": [
    "s"
   ]
  },
  {
   "cell_type": "code",
   "execution_count": 213,
   "metadata": {},
   "outputs": [],
   "source": [
    "s = s.map(corrections)"
   ]
  },
  {
   "cell_type": "code",
   "execution_count": 214,
   "metadata": {},
   "outputs": [
    {
     "data": {
      "text/plain": [
       "0    NaN\n",
       "1    NaN\n",
       "2    NaN\n",
       "3    NaN\n",
       "4    NaN\n",
       "5    NaN\n",
       "dtype: object"
      ]
     },
     "execution_count": 214,
     "metadata": {},
     "output_type": "execute_result"
    }
   ],
   "source": [
    "s"
   ]
  },
  {
   "cell_type": "code",
   "execution_count": 215,
   "metadata": {},
   "outputs": [],
   "source": [
    "mapping_dict = {\n",
    "    'Android': 'Android',\n",
    "    'Chrome OS': 'Chrome OS',\n",
    "    'Linux': 'Linux',\n",
    "    'Mac OS': 'macOS',\n",
    "    'No OS': 'No OS',\n",
    "    'Windows': 'Windows',\n",
    "    'macOS': 'macOS'\n",
    "}"
   ]
  },
  {
   "cell_type": "code",
   "execution_count": 216,
   "metadata": {},
   "outputs": [],
   "source": [
    "laptops[\"os\"] = laptops[\"os\"].map(mapping_dict)"
   ]
  },
  {
   "cell_type": "code",
   "execution_count": 217,
   "metadata": {},
   "outputs": [
    {
     "data": {
      "text/plain": [
       "Windows      1125\n",
       "No OS          66\n",
       "Linux          62\n",
       "Chrome OS      27\n",
       "macOS          21\n",
       "Android         2\n",
       "Name: os, dtype: int64"
      ]
     },
     "execution_count": 217,
     "metadata": {},
     "output_type": "execute_result"
    }
   ],
   "source": [
    "laptops[\"os\"].value_counts()"
   ]
  },
  {
   "cell_type": "markdown",
   "metadata": {},
   "source": [
    "## Introduction to Missing Data "
   ]
  },
  {
   "cell_type": "markdown",
   "metadata": {},
   "source": [
    "### Trade-Offs in Missing Data Conventions\n"
   ]
  },
  {
   "cell_type": "markdown",
   "metadata": {},
   "source": [
    "### Missing Data in Pandas\n",
    "\n",
    "\n"
   ]
  },
  {
   "cell_type": "markdown",
   "metadata": {},
   "source": [
    "### None: Pythonic missing data\n"
   ]
  },
  {
   "cell_type": "code",
   "execution_count": 218,
   "metadata": {},
   "outputs": [],
   "source": [
    "vals1 = np.array([1,2,None,3,4])"
   ]
  },
  {
   "cell_type": "code",
   "execution_count": 219,
   "metadata": {},
   "outputs": [
    {
     "data": {
      "text/plain": [
       "array([1, 2, None, 3, 4], dtype=object)"
      ]
     },
     "execution_count": 219,
     "metadata": {},
     "output_type": "execute_result"
    }
   ],
   "source": [
    "vals1"
   ]
  },
  {
   "cell_type": "code",
   "execution_count": 220,
   "metadata": {},
   "outputs": [
    {
     "name": "stdout",
     "output_type": "stream",
     "text": [
      "83.9 ms ± 160 µs per loop (mean ± std. dev. of 7 runs, 10 loops each)\n"
     ]
    }
   ],
   "source": [
    "%timeit np.arange(1E6, dtype=\"object\").sum()"
   ]
  },
  {
   "cell_type": "code",
   "execution_count": 221,
   "metadata": {},
   "outputs": [
    {
     "name": "stdout",
     "output_type": "stream",
     "text": [
      "1.49 ms ± 59.5 µs per loop (mean ± std. dev. of 7 runs, 1000 loops each)\n"
     ]
    }
   ],
   "source": [
    "%timeit np.arange(1E6, dtype=\"int\").sum()"
   ]
  },
  {
   "cell_type": "code",
   "execution_count": 222,
   "metadata": {},
   "outputs": [
    {
     "ename": "TypeError",
     "evalue": "unsupported operand type(s) for +: 'int' and 'NoneType'",
     "output_type": "error",
     "traceback": [
      "\u001b[0;31m---------------------------------------------------------------------------\u001b[0m",
      "\u001b[0;31mTypeError\u001b[0m                                 Traceback (most recent call last)",
      "\u001b[0;32m/tmp/ipykernel_61227/1181914653.py\u001b[0m in \u001b[0;36m<module>\u001b[0;34m\u001b[0m\n\u001b[0;32m----> 1\u001b[0;31m \u001b[0mvals1\u001b[0m\u001b[0;34m.\u001b[0m\u001b[0msum\u001b[0m\u001b[0;34m(\u001b[0m\u001b[0;34m)\u001b[0m\u001b[0;34m\u001b[0m\u001b[0;34m\u001b[0m\u001b[0m\n\u001b[0m",
      "\u001b[0;32m~/python-analitika-public/.venv/lib/python3.8/site-packages/numpy/core/_methods.py\u001b[0m in \u001b[0;36m_sum\u001b[0;34m(a, axis, dtype, out, keepdims, initial, where)\u001b[0m\n\u001b[1;32m     46\u001b[0m def _sum(a, axis=None, dtype=None, out=None, keepdims=False,\n\u001b[1;32m     47\u001b[0m          initial=_NoValue, where=True):\n\u001b[0;32m---> 48\u001b[0;31m     \u001b[0;32mreturn\u001b[0m \u001b[0mumr_sum\u001b[0m\u001b[0;34m(\u001b[0m\u001b[0ma\u001b[0m\u001b[0;34m,\u001b[0m \u001b[0maxis\u001b[0m\u001b[0;34m,\u001b[0m \u001b[0mdtype\u001b[0m\u001b[0;34m,\u001b[0m \u001b[0mout\u001b[0m\u001b[0;34m,\u001b[0m \u001b[0mkeepdims\u001b[0m\u001b[0;34m,\u001b[0m \u001b[0minitial\u001b[0m\u001b[0;34m,\u001b[0m \u001b[0mwhere\u001b[0m\u001b[0;34m)\u001b[0m\u001b[0;34m\u001b[0m\u001b[0;34m\u001b[0m\u001b[0m\n\u001b[0m\u001b[1;32m     49\u001b[0m \u001b[0;34m\u001b[0m\u001b[0m\n\u001b[1;32m     50\u001b[0m def _prod(a, axis=None, dtype=None, out=None, keepdims=False,\n",
      "\u001b[0;31mTypeError\u001b[0m: unsupported operand type(s) for +: 'int' and 'NoneType'"
     ]
    }
   ],
   "source": [
    "vals1.sum()"
   ]
  },
  {
   "cell_type": "markdown",
   "metadata": {},
   "source": [
    "### NaN: Missing numerical data\n",
    "\n"
   ]
  },
  {
   "cell_type": "code",
   "execution_count": 223,
   "metadata": {},
   "outputs": [],
   "source": [
    "vals2 = np.array([1, np.nan, 3, 4])"
   ]
  },
  {
   "cell_type": "code",
   "execution_count": 224,
   "metadata": {},
   "outputs": [
    {
     "data": {
      "text/plain": [
       "dtype('float64')"
      ]
     },
     "execution_count": 224,
     "metadata": {},
     "output_type": "execute_result"
    }
   ],
   "source": [
    "vals2.dtype"
   ]
  },
  {
   "cell_type": "code",
   "execution_count": 225,
   "metadata": {},
   "outputs": [
    {
     "data": {
      "text/plain": [
       "array([ 2., nan,  4.,  5.])"
      ]
     },
     "execution_count": 225,
     "metadata": {},
     "output_type": "execute_result"
    }
   ],
   "source": [
    "vals2 + 1"
   ]
  },
  {
   "cell_type": "code",
   "execution_count": 226,
   "metadata": {},
   "outputs": [
    {
     "data": {
      "text/plain": [
       "nan"
      ]
     },
     "execution_count": 226,
     "metadata": {},
     "output_type": "execute_result"
    }
   ],
   "source": [
    "1 + np.nan"
   ]
  },
  {
   "cell_type": "code",
   "execution_count": 227,
   "metadata": {},
   "outputs": [
    {
     "data": {
      "text/plain": [
       "nan"
      ]
     },
     "execution_count": 227,
     "metadata": {},
     "output_type": "execute_result"
    }
   ],
   "source": [
    "0 * np.nan"
   ]
  },
  {
   "cell_type": "code",
   "execution_count": 228,
   "metadata": {},
   "outputs": [
    {
     "data": {
      "text/plain": [
       "nan"
      ]
     },
     "execution_count": 228,
     "metadata": {},
     "output_type": "execute_result"
    }
   ],
   "source": [
    "vals2.sum()"
   ]
  },
  {
   "cell_type": "code",
   "execution_count": 229,
   "metadata": {},
   "outputs": [
    {
     "data": {
      "text/plain": [
       "8.0"
      ]
     },
     "execution_count": 229,
     "metadata": {},
     "output_type": "execute_result"
    }
   ],
   "source": [
    "np.nansum(vals2)"
   ]
  },
  {
   "cell_type": "markdown",
   "metadata": {},
   "source": [
    "### NaN and None in Pandas\n",
    "\n"
   ]
  },
  {
   "cell_type": "code",
   "execution_count": 230,
   "metadata": {},
   "outputs": [
    {
     "data": {
      "text/plain": [
       "0    1.0\n",
       "1    NaN\n",
       "2    2.0\n",
       "3    NaN\n",
       "dtype: float64"
      ]
     },
     "execution_count": 230,
     "metadata": {},
     "output_type": "execute_result"
    }
   ],
   "source": [
    "pd.Series([1, np.nan, 2, None])"
   ]
  },
  {
   "cell_type": "code",
   "execution_count": 231,
   "metadata": {},
   "outputs": [],
   "source": [
    "x = pd.Series(range(5), dtype=int)"
   ]
  },
  {
   "cell_type": "code",
   "execution_count": 232,
   "metadata": {},
   "outputs": [
    {
     "data": {
      "text/plain": [
       "0    0\n",
       "1    1\n",
       "2    2\n",
       "3    3\n",
       "4    4\n",
       "dtype: int64"
      ]
     },
     "execution_count": 232,
     "metadata": {},
     "output_type": "execute_result"
    }
   ],
   "source": [
    "x"
   ]
  },
  {
   "cell_type": "code",
   "execution_count": 233,
   "metadata": {},
   "outputs": [],
   "source": [
    "x[0] = None"
   ]
  },
  {
   "cell_type": "code",
   "execution_count": 234,
   "metadata": {},
   "outputs": [
    {
     "data": {
      "text/plain": [
       "0    NaN\n",
       "1    1.0\n",
       "2    2.0\n",
       "3    3.0\n",
       "4    4.0\n",
       "dtype: float64"
      ]
     },
     "execution_count": 234,
     "metadata": {},
     "output_type": "execute_result"
    }
   ],
   "source": [
    "x"
   ]
  },
  {
   "cell_type": "markdown",
   "metadata": {},
   "source": [
    "\n",
    "<table>\n",
    "<thead><tr>\n",
    "<th>Typeclass</th>\n",
    "<th>Conversion When Storing NAs</th>\n",
    "<th>NA Sentinel Value</th>\n",
    "</tr>\n",
    "</thead>\n",
    "<tbody>\n",
    "<tr>\n",
    "<td><code>floating</code></td>\n",
    "<td>No change</td>\n",
    "<td><code>np.nan</code></td>\n",
    "</tr>\n",
    "<tr>\n",
    "<td><code>object</code></td>\n",
    "<td>No change</td>\n",
    "<td><code>None</code> or <code>np.nan</code></td>\n",
    "</tr>\n",
    "<tr>\n",
    "<td><code>integer</code></td>\n",
    "<td>Cast to <code>float64</code></td>\n",
    "<td><code>np.nan</code></td>\n",
    "</tr>\n",
    "<tr>\n",
    "<td><code>boolean</code></td>\n",
    "<td>Cast to <code>object</code></td>\n",
    "<td><code>None</code> or <code>np.nan</code></td>\n",
    "</tr>\n",
    "</tbody>\n",
    "</table>\n"
   ]
  },
  {
   "cell_type": "markdown",
   "metadata": {},
   "source": [
    "### Operating on Null Values\n",
    "\n",
    "\n",
    "\n",
    "- `isnull()`: Generate a boolean mask indicating missing values\n",
    "- `notnull()`: Opposite of isnull()\n",
    "- `dropna()`: Return a filtered version of the data\n",
    "- `fillna()`: Return a copy of the data with missing values filled or imputed\n",
    "\n"
   ]
  },
  {
   "cell_type": "markdown",
   "metadata": {},
   "source": [
    "#### Detecting null values\n",
    "\n"
   ]
  },
  {
   "cell_type": "code",
   "execution_count": 235,
   "metadata": {},
   "outputs": [],
   "source": [
    "data = pd.Series([1, np.nan, 'hello', None])"
   ]
  },
  {
   "cell_type": "code",
   "execution_count": 236,
   "metadata": {},
   "outputs": [
    {
     "data": {
      "text/plain": [
       "0        1\n",
       "1      NaN\n",
       "2    hello\n",
       "3     None\n",
       "dtype: object"
      ]
     },
     "execution_count": 236,
     "metadata": {},
     "output_type": "execute_result"
    }
   ],
   "source": [
    "data"
   ]
  },
  {
   "cell_type": "code",
   "execution_count": 237,
   "metadata": {},
   "outputs": [
    {
     "data": {
      "text/plain": [
       "0    False\n",
       "1     True\n",
       "2    False\n",
       "3     True\n",
       "dtype: bool"
      ]
     },
     "execution_count": 237,
     "metadata": {},
     "output_type": "execute_result"
    }
   ],
   "source": [
    "data.isnull()"
   ]
  },
  {
   "cell_type": "code",
   "execution_count": 238,
   "metadata": {},
   "outputs": [
    {
     "data": {
      "text/plain": [
       "0        1\n",
       "2    hello\n",
       "dtype: object"
      ]
     },
     "execution_count": 238,
     "metadata": {},
     "output_type": "execute_result"
    }
   ],
   "source": [
    "data[data.notnull()]"
   ]
  },
  {
   "cell_type": "markdown",
   "metadata": {},
   "source": [
    "#### Dropping null values\n"
   ]
  },
  {
   "cell_type": "code",
   "execution_count": 239,
   "metadata": {},
   "outputs": [
    {
     "data": {
      "text/plain": [
       "0        1\n",
       "1      NaN\n",
       "2    hello\n",
       "3     None\n",
       "dtype: object"
      ]
     },
     "execution_count": 239,
     "metadata": {},
     "output_type": "execute_result"
    }
   ],
   "source": [
    "data"
   ]
  },
  {
   "cell_type": "code",
   "execution_count": 240,
   "metadata": {},
   "outputs": [
    {
     "data": {
      "text/plain": [
       "0        1\n",
       "2    hello\n",
       "dtype: object"
      ]
     },
     "execution_count": 240,
     "metadata": {},
     "output_type": "execute_result"
    }
   ],
   "source": [
    "data.dropna()"
   ]
  },
  {
   "cell_type": "code",
   "execution_count": 241,
   "metadata": {},
   "outputs": [],
   "source": [
    "# dataframe"
   ]
  },
  {
   "cell_type": "code",
   "execution_count": 242,
   "metadata": {},
   "outputs": [],
   "source": [
    "df = pd.DataFrame([[1,      np.nan, 2],\n",
    "                   [2,      3,      5],\n",
    "                   [np.nan, 4,      6]])"
   ]
  },
  {
   "cell_type": "code",
   "execution_count": 243,
   "metadata": {},
   "outputs": [
    {
     "data": {
      "text/html": [
       "<div>\n",
       "<style scoped>\n",
       "    .dataframe tbody tr th:only-of-type {\n",
       "        vertical-align: middle;\n",
       "    }\n",
       "\n",
       "    .dataframe tbody tr th {\n",
       "        vertical-align: top;\n",
       "    }\n",
       "\n",
       "    .dataframe thead th {\n",
       "        text-align: right;\n",
       "    }\n",
       "</style>\n",
       "<table border=\"1\" class=\"dataframe\">\n",
       "  <thead>\n",
       "    <tr style=\"text-align: right;\">\n",
       "      <th></th>\n",
       "      <th>0</th>\n",
       "      <th>1</th>\n",
       "      <th>2</th>\n",
       "    </tr>\n",
       "  </thead>\n",
       "  <tbody>\n",
       "    <tr>\n",
       "      <th>0</th>\n",
       "      <td>1.0</td>\n",
       "      <td>NaN</td>\n",
       "      <td>2</td>\n",
       "    </tr>\n",
       "    <tr>\n",
       "      <th>1</th>\n",
       "      <td>2.0</td>\n",
       "      <td>3.0</td>\n",
       "      <td>5</td>\n",
       "    </tr>\n",
       "    <tr>\n",
       "      <th>2</th>\n",
       "      <td>NaN</td>\n",
       "      <td>4.0</td>\n",
       "      <td>6</td>\n",
       "    </tr>\n",
       "  </tbody>\n",
       "</table>\n",
       "</div>"
      ],
      "text/plain": [
       "     0    1  2\n",
       "0  1.0  NaN  2\n",
       "1  2.0  3.0  5\n",
       "2  NaN  4.0  6"
      ]
     },
     "execution_count": 243,
     "metadata": {},
     "output_type": "execute_result"
    }
   ],
   "source": [
    "df"
   ]
  },
  {
   "cell_type": "code",
   "execution_count": 244,
   "metadata": {},
   "outputs": [
    {
     "data": {
      "text/html": [
       "<div>\n",
       "<style scoped>\n",
       "    .dataframe tbody tr th:only-of-type {\n",
       "        vertical-align: middle;\n",
       "    }\n",
       "\n",
       "    .dataframe tbody tr th {\n",
       "        vertical-align: top;\n",
       "    }\n",
       "\n",
       "    .dataframe thead th {\n",
       "        text-align: right;\n",
       "    }\n",
       "</style>\n",
       "<table border=\"1\" class=\"dataframe\">\n",
       "  <thead>\n",
       "    <tr style=\"text-align: right;\">\n",
       "      <th></th>\n",
       "      <th>0</th>\n",
       "      <th>1</th>\n",
       "      <th>2</th>\n",
       "    </tr>\n",
       "  </thead>\n",
       "  <tbody>\n",
       "    <tr>\n",
       "      <th>1</th>\n",
       "      <td>2.0</td>\n",
       "      <td>3.0</td>\n",
       "      <td>5</td>\n",
       "    </tr>\n",
       "  </tbody>\n",
       "</table>\n",
       "</div>"
      ],
      "text/plain": [
       "     0    1  2\n",
       "1  2.0  3.0  5"
      ]
     },
     "execution_count": 244,
     "metadata": {},
     "output_type": "execute_result"
    }
   ],
   "source": [
    "df.dropna()"
   ]
  },
  {
   "cell_type": "code",
   "execution_count": 245,
   "metadata": {},
   "outputs": [
    {
     "data": {
      "text/html": [
       "<div>\n",
       "<style scoped>\n",
       "    .dataframe tbody tr th:only-of-type {\n",
       "        vertical-align: middle;\n",
       "    }\n",
       "\n",
       "    .dataframe tbody tr th {\n",
       "        vertical-align: top;\n",
       "    }\n",
       "\n",
       "    .dataframe thead th {\n",
       "        text-align: right;\n",
       "    }\n",
       "</style>\n",
       "<table border=\"1\" class=\"dataframe\">\n",
       "  <thead>\n",
       "    <tr style=\"text-align: right;\">\n",
       "      <th></th>\n",
       "      <th>2</th>\n",
       "    </tr>\n",
       "  </thead>\n",
       "  <tbody>\n",
       "    <tr>\n",
       "      <th>0</th>\n",
       "      <td>2</td>\n",
       "    </tr>\n",
       "    <tr>\n",
       "      <th>1</th>\n",
       "      <td>5</td>\n",
       "    </tr>\n",
       "    <tr>\n",
       "      <th>2</th>\n",
       "      <td>6</td>\n",
       "    </tr>\n",
       "  </tbody>\n",
       "</table>\n",
       "</div>"
      ],
      "text/plain": [
       "   2\n",
       "0  2\n",
       "1  5\n",
       "2  6"
      ]
     },
     "execution_count": 245,
     "metadata": {},
     "output_type": "execute_result"
    }
   ],
   "source": [
    "df.dropna(axis=\"columns\")"
   ]
  },
  {
   "cell_type": "code",
   "execution_count": 246,
   "metadata": {},
   "outputs": [],
   "source": [
    "df[3] = np.nan"
   ]
  },
  {
   "cell_type": "code",
   "execution_count": 247,
   "metadata": {},
   "outputs": [
    {
     "data": {
      "text/html": [
       "<div>\n",
       "<style scoped>\n",
       "    .dataframe tbody tr th:only-of-type {\n",
       "        vertical-align: middle;\n",
       "    }\n",
       "\n",
       "    .dataframe tbody tr th {\n",
       "        vertical-align: top;\n",
       "    }\n",
       "\n",
       "    .dataframe thead th {\n",
       "        text-align: right;\n",
       "    }\n",
       "</style>\n",
       "<table border=\"1\" class=\"dataframe\">\n",
       "  <thead>\n",
       "    <tr style=\"text-align: right;\">\n",
       "      <th></th>\n",
       "      <th>0</th>\n",
       "      <th>1</th>\n",
       "      <th>2</th>\n",
       "      <th>3</th>\n",
       "    </tr>\n",
       "  </thead>\n",
       "  <tbody>\n",
       "    <tr>\n",
       "      <th>0</th>\n",
       "      <td>1.0</td>\n",
       "      <td>NaN</td>\n",
       "      <td>2</td>\n",
       "      <td>NaN</td>\n",
       "    </tr>\n",
       "    <tr>\n",
       "      <th>1</th>\n",
       "      <td>2.0</td>\n",
       "      <td>3.0</td>\n",
       "      <td>5</td>\n",
       "      <td>NaN</td>\n",
       "    </tr>\n",
       "    <tr>\n",
       "      <th>2</th>\n",
       "      <td>NaN</td>\n",
       "      <td>4.0</td>\n",
       "      <td>6</td>\n",
       "      <td>NaN</td>\n",
       "    </tr>\n",
       "  </tbody>\n",
       "</table>\n",
       "</div>"
      ],
      "text/plain": [
       "     0    1  2   3\n",
       "0  1.0  NaN  2 NaN\n",
       "1  2.0  3.0  5 NaN\n",
       "2  NaN  4.0  6 NaN"
      ]
     },
     "execution_count": 247,
     "metadata": {},
     "output_type": "execute_result"
    }
   ],
   "source": [
    "df"
   ]
  },
  {
   "cell_type": "code",
   "execution_count": 248,
   "metadata": {},
   "outputs": [
    {
     "data": {
      "text/html": [
       "<div>\n",
       "<style scoped>\n",
       "    .dataframe tbody tr th:only-of-type {\n",
       "        vertical-align: middle;\n",
       "    }\n",
       "\n",
       "    .dataframe tbody tr th {\n",
       "        vertical-align: top;\n",
       "    }\n",
       "\n",
       "    .dataframe thead th {\n",
       "        text-align: right;\n",
       "    }\n",
       "</style>\n",
       "<table border=\"1\" class=\"dataframe\">\n",
       "  <thead>\n",
       "    <tr style=\"text-align: right;\">\n",
       "      <th></th>\n",
       "      <th>0</th>\n",
       "      <th>1</th>\n",
       "      <th>2</th>\n",
       "    </tr>\n",
       "  </thead>\n",
       "  <tbody>\n",
       "    <tr>\n",
       "      <th>0</th>\n",
       "      <td>1.0</td>\n",
       "      <td>NaN</td>\n",
       "      <td>2</td>\n",
       "    </tr>\n",
       "    <tr>\n",
       "      <th>1</th>\n",
       "      <td>2.0</td>\n",
       "      <td>3.0</td>\n",
       "      <td>5</td>\n",
       "    </tr>\n",
       "    <tr>\n",
       "      <th>2</th>\n",
       "      <td>NaN</td>\n",
       "      <td>4.0</td>\n",
       "      <td>6</td>\n",
       "    </tr>\n",
       "  </tbody>\n",
       "</table>\n",
       "</div>"
      ],
      "text/plain": [
       "     0    1  2\n",
       "0  1.0  NaN  2\n",
       "1  2.0  3.0  5\n",
       "2  NaN  4.0  6"
      ]
     },
     "execution_count": 248,
     "metadata": {},
     "output_type": "execute_result"
    }
   ],
   "source": [
    "df.dropna(axis=\"columns\", how=\"all\")"
   ]
  },
  {
   "cell_type": "code",
   "execution_count": 249,
   "metadata": {},
   "outputs": [
    {
     "data": {
      "text/html": [
       "<div>\n",
       "<style scoped>\n",
       "    .dataframe tbody tr th:only-of-type {\n",
       "        vertical-align: middle;\n",
       "    }\n",
       "\n",
       "    .dataframe tbody tr th {\n",
       "        vertical-align: top;\n",
       "    }\n",
       "\n",
       "    .dataframe thead th {\n",
       "        text-align: right;\n",
       "    }\n",
       "</style>\n",
       "<table border=\"1\" class=\"dataframe\">\n",
       "  <thead>\n",
       "    <tr style=\"text-align: right;\">\n",
       "      <th></th>\n",
       "      <th>0</th>\n",
       "      <th>1</th>\n",
       "      <th>2</th>\n",
       "      <th>3</th>\n",
       "    </tr>\n",
       "  </thead>\n",
       "  <tbody>\n",
       "    <tr>\n",
       "      <th>0</th>\n",
       "      <td>1.0</td>\n",
       "      <td>NaN</td>\n",
       "      <td>2</td>\n",
       "      <td>NaN</td>\n",
       "    </tr>\n",
       "    <tr>\n",
       "      <th>1</th>\n",
       "      <td>2.0</td>\n",
       "      <td>3.0</td>\n",
       "      <td>5</td>\n",
       "      <td>NaN</td>\n",
       "    </tr>\n",
       "    <tr>\n",
       "      <th>2</th>\n",
       "      <td>NaN</td>\n",
       "      <td>4.0</td>\n",
       "      <td>6</td>\n",
       "      <td>NaN</td>\n",
       "    </tr>\n",
       "  </tbody>\n",
       "</table>\n",
       "</div>"
      ],
      "text/plain": [
       "     0    1  2   3\n",
       "0  1.0  NaN  2 NaN\n",
       "1  2.0  3.0  5 NaN\n",
       "2  NaN  4.0  6 NaN"
      ]
     },
     "execution_count": 249,
     "metadata": {},
     "output_type": "execute_result"
    }
   ],
   "source": [
    "df"
   ]
  },
  {
   "cell_type": "code",
   "execution_count": 250,
   "metadata": {},
   "outputs": [
    {
     "data": {
      "text/html": [
       "<div>\n",
       "<style scoped>\n",
       "    .dataframe tbody tr th:only-of-type {\n",
       "        vertical-align: middle;\n",
       "    }\n",
       "\n",
       "    .dataframe tbody tr th {\n",
       "        vertical-align: top;\n",
       "    }\n",
       "\n",
       "    .dataframe thead th {\n",
       "        text-align: right;\n",
       "    }\n",
       "</style>\n",
       "<table border=\"1\" class=\"dataframe\">\n",
       "  <thead>\n",
       "    <tr style=\"text-align: right;\">\n",
       "      <th></th>\n",
       "      <th>0</th>\n",
       "      <th>1</th>\n",
       "      <th>2</th>\n",
       "      <th>3</th>\n",
       "    </tr>\n",
       "  </thead>\n",
       "  <tbody>\n",
       "    <tr>\n",
       "      <th>1</th>\n",
       "      <td>2.0</td>\n",
       "      <td>3.0</td>\n",
       "      <td>5</td>\n",
       "      <td>NaN</td>\n",
       "    </tr>\n",
       "  </tbody>\n",
       "</table>\n",
       "</div>"
      ],
      "text/plain": [
       "     0    1  2   3\n",
       "1  2.0  3.0  5 NaN"
      ]
     },
     "execution_count": 250,
     "metadata": {},
     "output_type": "execute_result"
    }
   ],
   "source": [
    "# odsranimo vse vrstice, ki ne vsebujejo 3 ali več ne null vrednosti\n",
    "df.dropna(axis=\"rows\", thresh=3)"
   ]
  },
  {
   "cell_type": "markdown",
   "metadata": {},
   "source": [
    "#### Filling null values\n",
    "\n"
   ]
  },
  {
   "cell_type": "code",
   "execution_count": 251,
   "metadata": {},
   "outputs": [],
   "source": [
    "data = pd.Series([1, np.nan, 2, None, 3], index=list('abcde'))"
   ]
  },
  {
   "cell_type": "code",
   "execution_count": 252,
   "metadata": {},
   "outputs": [
    {
     "data": {
      "text/plain": [
       "a    1.0\n",
       "b    NaN\n",
       "c    2.0\n",
       "d    NaN\n",
       "e    3.0\n",
       "dtype: float64"
      ]
     },
     "execution_count": 252,
     "metadata": {},
     "output_type": "execute_result"
    }
   ],
   "source": [
    "data"
   ]
  },
  {
   "cell_type": "code",
   "execution_count": 253,
   "metadata": {},
   "outputs": [
    {
     "data": {
      "text/plain": [
       "a    1.0\n",
       "b    0.0\n",
       "c    2.0\n",
       "d    0.0\n",
       "e    3.0\n",
       "dtype: float64"
      ]
     },
     "execution_count": 253,
     "metadata": {},
     "output_type": "execute_result"
    }
   ],
   "source": [
    "data.fillna(0)"
   ]
  },
  {
   "cell_type": "code",
   "execution_count": 254,
   "metadata": {},
   "outputs": [
    {
     "data": {
      "text/plain": [
       "a    1.0\n",
       "b    1.0\n",
       "c    2.0\n",
       "d    2.0\n",
       "e    3.0\n",
       "dtype: float64"
      ]
     },
     "execution_count": 254,
     "metadata": {},
     "output_type": "execute_result"
    }
   ],
   "source": [
    "data.fillna(method=\"ffill\")"
   ]
  },
  {
   "cell_type": "code",
   "execution_count": 255,
   "metadata": {},
   "outputs": [
    {
     "data": {
      "text/plain": [
       "a    1.0\n",
       "b    2.0\n",
       "c    2.0\n",
       "d    3.0\n",
       "e    3.0\n",
       "dtype: float64"
      ]
     },
     "execution_count": 255,
     "metadata": {},
     "output_type": "execute_result"
    }
   ],
   "source": [
    "data.fillna(method=\"bfill\")"
   ]
  },
  {
   "cell_type": "code",
   "execution_count": 256,
   "metadata": {},
   "outputs": [
    {
     "data": {
      "text/html": [
       "<div>\n",
       "<style scoped>\n",
       "    .dataframe tbody tr th:only-of-type {\n",
       "        vertical-align: middle;\n",
       "    }\n",
       "\n",
       "    .dataframe tbody tr th {\n",
       "        vertical-align: top;\n",
       "    }\n",
       "\n",
       "    .dataframe thead th {\n",
       "        text-align: right;\n",
       "    }\n",
       "</style>\n",
       "<table border=\"1\" class=\"dataframe\">\n",
       "  <thead>\n",
       "    <tr style=\"text-align: right;\">\n",
       "      <th></th>\n",
       "      <th>0</th>\n",
       "      <th>1</th>\n",
       "      <th>2</th>\n",
       "      <th>3</th>\n",
       "    </tr>\n",
       "  </thead>\n",
       "  <tbody>\n",
       "    <tr>\n",
       "      <th>0</th>\n",
       "      <td>1.0</td>\n",
       "      <td>NaN</td>\n",
       "      <td>2</td>\n",
       "      <td>NaN</td>\n",
       "    </tr>\n",
       "    <tr>\n",
       "      <th>1</th>\n",
       "      <td>2.0</td>\n",
       "      <td>3.0</td>\n",
       "      <td>5</td>\n",
       "      <td>NaN</td>\n",
       "    </tr>\n",
       "    <tr>\n",
       "      <th>2</th>\n",
       "      <td>NaN</td>\n",
       "      <td>4.0</td>\n",
       "      <td>6</td>\n",
       "      <td>NaN</td>\n",
       "    </tr>\n",
       "  </tbody>\n",
       "</table>\n",
       "</div>"
      ],
      "text/plain": [
       "     0    1  2   3\n",
       "0  1.0  NaN  2 NaN\n",
       "1  2.0  3.0  5 NaN\n",
       "2  NaN  4.0  6 NaN"
      ]
     },
     "execution_count": 256,
     "metadata": {},
     "output_type": "execute_result"
    }
   ],
   "source": [
    "df"
   ]
  },
  {
   "cell_type": "code",
   "execution_count": 257,
   "metadata": {},
   "outputs": [
    {
     "data": {
      "text/html": [
       "<div>\n",
       "<style scoped>\n",
       "    .dataframe tbody tr th:only-of-type {\n",
       "        vertical-align: middle;\n",
       "    }\n",
       "\n",
       "    .dataframe tbody tr th {\n",
       "        vertical-align: top;\n",
       "    }\n",
       "\n",
       "    .dataframe thead th {\n",
       "        text-align: right;\n",
       "    }\n",
       "</style>\n",
       "<table border=\"1\" class=\"dataframe\">\n",
       "  <thead>\n",
       "    <tr style=\"text-align: right;\">\n",
       "      <th></th>\n",
       "      <th>0</th>\n",
       "      <th>1</th>\n",
       "      <th>2</th>\n",
       "      <th>3</th>\n",
       "    </tr>\n",
       "  </thead>\n",
       "  <tbody>\n",
       "    <tr>\n",
       "      <th>0</th>\n",
       "      <td>1.0</td>\n",
       "      <td>1.0</td>\n",
       "      <td>2.0</td>\n",
       "      <td>2.0</td>\n",
       "    </tr>\n",
       "    <tr>\n",
       "      <th>1</th>\n",
       "      <td>2.0</td>\n",
       "      <td>3.0</td>\n",
       "      <td>5.0</td>\n",
       "      <td>5.0</td>\n",
       "    </tr>\n",
       "    <tr>\n",
       "      <th>2</th>\n",
       "      <td>NaN</td>\n",
       "      <td>4.0</td>\n",
       "      <td>6.0</td>\n",
       "      <td>6.0</td>\n",
       "    </tr>\n",
       "  </tbody>\n",
       "</table>\n",
       "</div>"
      ],
      "text/plain": [
       "     0    1    2    3\n",
       "0  1.0  1.0  2.0  2.0\n",
       "1  2.0  3.0  5.0  5.0\n",
       "2  NaN  4.0  6.0  6.0"
      ]
     },
     "execution_count": 257,
     "metadata": {},
     "output_type": "execute_result"
    }
   ],
   "source": [
    "df.fillna(method=\"ffill\", axis=1)"
   ]
  },
  {
   "cell_type": "markdown",
   "metadata": {},
   "source": [
    "## Dropping Missing Values"
   ]
  },
  {
   "cell_type": "code",
   "execution_count": 258,
   "metadata": {},
   "outputs": [
    {
     "data": {
      "text/html": [
       "<div>\n",
       "<style scoped>\n",
       "    .dataframe tbody tr th:only-of-type {\n",
       "        vertical-align: middle;\n",
       "    }\n",
       "\n",
       "    .dataframe tbody tr th {\n",
       "        vertical-align: top;\n",
       "    }\n",
       "\n",
       "    .dataframe thead th {\n",
       "        text-align: right;\n",
       "    }\n",
       "</style>\n",
       "<table border=\"1\" class=\"dataframe\">\n",
       "  <thead>\n",
       "    <tr style=\"text-align: right;\">\n",
       "      <th></th>\n",
       "      <th>manufacturer</th>\n",
       "      <th>model_name</th>\n",
       "      <th>category</th>\n",
       "      <th>screen_size_inches</th>\n",
       "      <th>screen</th>\n",
       "      <th>cpu</th>\n",
       "      <th>ram_gb</th>\n",
       "      <th>storage</th>\n",
       "      <th>gpu</th>\n",
       "      <th>os</th>\n",
       "      <th>os_version</th>\n",
       "      <th>weight</th>\n",
       "      <th>price_euros</th>\n",
       "      <th>gpu_manufacturer</th>\n",
       "      <th>cpu_manufacturer</th>\n",
       "    </tr>\n",
       "  </thead>\n",
       "  <tbody>\n",
       "    <tr>\n",
       "      <th>0</th>\n",
       "      <td>Apple</td>\n",
       "      <td>MacBook Pro</td>\n",
       "      <td>Ultrabook</td>\n",
       "      <td>13.3</td>\n",
       "      <td>IPS Panel Retina Display 2560x1600</td>\n",
       "      <td>Intel Core i5 2.3GHz</td>\n",
       "      <td>8</td>\n",
       "      <td>128GB SSD</td>\n",
       "      <td>Intel Iris Plus Graphics 640</td>\n",
       "      <td>macOS</td>\n",
       "      <td>NaN</td>\n",
       "      <td>1.37kg</td>\n",
       "      <td>1339,69</td>\n",
       "      <td>Intel</td>\n",
       "      <td>Intel</td>\n",
       "    </tr>\n",
       "    <tr>\n",
       "      <th>1</th>\n",
       "      <td>Apple</td>\n",
       "      <td>Macbook Air</td>\n",
       "      <td>Ultrabook</td>\n",
       "      <td>13.3</td>\n",
       "      <td>1440x900</td>\n",
       "      <td>Intel Core i5 1.8GHz</td>\n",
       "      <td>8</td>\n",
       "      <td>128GB Flash Storage</td>\n",
       "      <td>Intel HD Graphics 6000</td>\n",
       "      <td>macOS</td>\n",
       "      <td>NaN</td>\n",
       "      <td>1.34kg</td>\n",
       "      <td>898,94</td>\n",
       "      <td>Intel</td>\n",
       "      <td>Intel</td>\n",
       "    </tr>\n",
       "  </tbody>\n",
       "</table>\n",
       "</div>"
      ],
      "text/plain": [
       "  manufacturer   model_name   category  screen_size_inches  \\\n",
       "0        Apple  MacBook Pro  Ultrabook                13.3   \n",
       "1        Apple  Macbook Air  Ultrabook                13.3   \n",
       "\n",
       "                               screen                   cpu  ram_gb  \\\n",
       "0  IPS Panel Retina Display 2560x1600  Intel Core i5 2.3GHz       8   \n",
       "1                            1440x900  Intel Core i5 1.8GHz       8   \n",
       "\n",
       "               storage                           gpu     os os_version  \\\n",
       "0            128GB SSD  Intel Iris Plus Graphics 640  macOS        NaN   \n",
       "1  128GB Flash Storage        Intel HD Graphics 6000  macOS        NaN   \n",
       "\n",
       "   weight price_euros gpu_manufacturer cpu_manufacturer  \n",
       "0  1.37kg     1339,69            Intel            Intel  \n",
       "1  1.34kg      898,94            Intel            Intel  "
      ]
     },
     "execution_count": 258,
     "metadata": {},
     "output_type": "execute_result"
    }
   ],
   "source": [
    "laptops.head(2)"
   ]
  },
  {
   "cell_type": "code",
   "execution_count": 259,
   "metadata": {},
   "outputs": [
    {
     "data": {
      "text/plain": [
       "manufacturer            0\n",
       "model_name              0\n",
       "category                0\n",
       "screen_size_inches      0\n",
       "screen                  0\n",
       "cpu                     0\n",
       "ram_gb                  0\n",
       "storage                 0\n",
       "gpu                     0\n",
       "os                      0\n",
       "os_version            170\n",
       "weight                  0\n",
       "price_euros             0\n",
       "gpu_manufacturer        0\n",
       "cpu_manufacturer        0\n",
       "dtype: int64"
      ]
     },
     "execution_count": 259,
     "metadata": {},
     "output_type": "execute_result"
    }
   ],
   "source": [
    "laptops.isnull().sum()"
   ]
  },
  {
   "cell_type": "code",
   "execution_count": 260,
   "metadata": {},
   "outputs": [
    {
     "data": {
      "text/plain": [
       "(1303, 15)"
      ]
     },
     "execution_count": 260,
     "metadata": {},
     "output_type": "execute_result"
    }
   ],
   "source": [
    "laptops.shape"
   ]
  },
  {
   "cell_type": "code",
   "execution_count": 261,
   "metadata": {},
   "outputs": [
    {
     "data": {
      "text/plain": [
       "(1133, 15)"
      ]
     },
     "execution_count": 261,
     "metadata": {},
     "output_type": "execute_result"
    }
   ],
   "source": [
    "laptops.dropna(axis=0).shape"
   ]
  },
  {
   "cell_type": "code",
   "execution_count": 262,
   "metadata": {},
   "outputs": [
    {
     "data": {
      "text/plain": [
       "(1303, 14)"
      ]
     },
     "execution_count": 262,
     "metadata": {},
     "output_type": "execute_result"
    }
   ],
   "source": [
    "laptops.dropna(axis=1).shape"
   ]
  },
  {
   "cell_type": "markdown",
   "metadata": {},
   "source": [
    "## Filling Missing Values"
   ]
  },
  {
   "cell_type": "code",
   "execution_count": 263,
   "metadata": {},
   "outputs": [
    {
     "data": {
      "text/plain": [
       "10      1072\n",
       "NaN      170\n",
       "7         45\n",
       "X          8\n",
       "10 S       8\n",
       "Name: os_version, dtype: int64"
      ]
     },
     "execution_count": 263,
     "metadata": {},
     "output_type": "execute_result"
    }
   ],
   "source": [
    "laptops[\"os_version\"].value_counts(dropna=False)"
   ]
  },
  {
   "cell_type": "code",
   "execution_count": 264,
   "metadata": {},
   "outputs": [
    {
     "data": {
      "text/plain": [
       "No OS        66\n",
       "Linux        62\n",
       "Chrome OS    27\n",
       "macOS        13\n",
       "Android       2\n",
       "Name: os, dtype: int64"
      ]
     },
     "execution_count": 264,
     "metadata": {},
     "output_type": "execute_result"
    }
   ],
   "source": [
    "laptops.loc[laptops[\"os_version\"].isnull(), \"os\"].value_counts(dropna=False)"
   ]
  },
  {
   "cell_type": "code",
   "execution_count": 265,
   "metadata": {},
   "outputs": [
    {
     "data": {
      "text/html": [
       "<div>\n",
       "<style scoped>\n",
       "    .dataframe tbody tr th:only-of-type {\n",
       "        vertical-align: middle;\n",
       "    }\n",
       "\n",
       "    .dataframe tbody tr th {\n",
       "        vertical-align: top;\n",
       "    }\n",
       "\n",
       "    .dataframe thead th {\n",
       "        text-align: right;\n",
       "    }\n",
       "</style>\n",
       "<table border=\"1\" class=\"dataframe\">\n",
       "  <thead>\n",
       "    <tr style=\"text-align: right;\">\n",
       "      <th></th>\n",
       "      <th>os</th>\n",
       "      <th>os_version</th>\n",
       "    </tr>\n",
       "  </thead>\n",
       "  <tbody>\n",
       "    <tr>\n",
       "      <th>0</th>\n",
       "      <td>macOS</td>\n",
       "      <td>NaN</td>\n",
       "    </tr>\n",
       "    <tr>\n",
       "      <th>1</th>\n",
       "      <td>macOS</td>\n",
       "      <td>NaN</td>\n",
       "    </tr>\n",
       "    <tr>\n",
       "      <th>3</th>\n",
       "      <td>macOS</td>\n",
       "      <td>NaN</td>\n",
       "    </tr>\n",
       "    <tr>\n",
       "      <th>4</th>\n",
       "      <td>macOS</td>\n",
       "      <td>NaN</td>\n",
       "    </tr>\n",
       "    <tr>\n",
       "      <th>6</th>\n",
       "      <td>macOS</td>\n",
       "      <td>X</td>\n",
       "    </tr>\n",
       "  </tbody>\n",
       "</table>\n",
       "</div>"
      ],
      "text/plain": [
       "      os os_version\n",
       "0  macOS        NaN\n",
       "1  macOS        NaN\n",
       "3  macOS        NaN\n",
       "4  macOS        NaN\n",
       "6  macOS          X"
      ]
     },
     "execution_count": 265,
     "metadata": {},
     "output_type": "execute_result"
    }
   ],
   "source": [
    "laptops.loc[laptops[\"os\"] == \"macOS\", ['os', 'os_version']].head()"
   ]
  },
  {
   "cell_type": "code",
   "execution_count": 266,
   "metadata": {},
   "outputs": [],
   "source": [
    "# dopolnemo mankajoče vrednsoti, ki imajo os macOS z X\n",
    "laptops.loc[laptops[\"os\"] == \"macOS\", \"os_version\"] = \"X\""
   ]
  },
  {
   "cell_type": "code",
   "execution_count": 267,
   "metadata": {},
   "outputs": [
    {
     "data": {
      "text/plain": [
       "No OS        66\n",
       "Linux        62\n",
       "Chrome OS    27\n",
       "Android       2\n",
       "Name: os, dtype: int64"
      ]
     },
     "execution_count": 267,
     "metadata": {},
     "output_type": "execute_result"
    }
   ],
   "source": [
    "laptops.loc[laptops[\"os_version\"].isnull(), \"os\"].value_counts(dropna=False)"
   ]
  },
  {
   "cell_type": "code",
   "execution_count": 268,
   "metadata": {},
   "outputs": [],
   "source": [
    "# doplonemo No OS vrednosti\n",
    "laptops.loc[laptops[\"os\"] == \"No OS\", \"os_version\"] = \"Version Unknown\""
   ]
  },
  {
   "cell_type": "code",
   "execution_count": 269,
   "metadata": {},
   "outputs": [
    {
     "data": {
      "text/plain": [
       "Linux        62\n",
       "Chrome OS    27\n",
       "Android       2\n",
       "Name: os, dtype: int64"
      ]
     },
     "execution_count": 269,
     "metadata": {},
     "output_type": "execute_result"
    }
   ],
   "source": [
    "laptops.loc[laptops[\"os_version\"].isnull(), \"os\"].value_counts(dropna=False)"
   ]
  },
  {
   "cell_type": "code",
   "execution_count": 270,
   "metadata": {},
   "outputs": [],
   "source": [
    "laptops.loc[laptops[\"os\"] == \"Linux\", \"os_version\"] = \"Ubuntu\""
   ]
  },
  {
   "cell_type": "code",
   "execution_count": 271,
   "metadata": {},
   "outputs": [],
   "source": [
    "laptops.loc[laptops[\"os\"] == \"Chrome OS\", \"os_version\"] = \"Version Unknown\""
   ]
  },
  {
   "cell_type": "code",
   "execution_count": 272,
   "metadata": {},
   "outputs": [],
   "source": [
    "laptops.loc[laptops[\"os\"] == \"Android\", \"os_version\"] = \"Version Unknown\""
   ]
  },
  {
   "cell_type": "code",
   "execution_count": 273,
   "metadata": {},
   "outputs": [
    {
     "data": {
      "text/plain": [
       "Series([], Name: os, dtype: int64)"
      ]
     },
     "execution_count": 273,
     "metadata": {},
     "output_type": "execute_result"
    }
   ],
   "source": [
    "laptops.loc[laptops[\"os_version\"].isnull(), \"os\"].value_counts(dropna=False)"
   ]
  },
  {
   "cell_type": "code",
   "execution_count": 274,
   "metadata": {},
   "outputs": [
    {
     "data": {
      "text/plain": [
       "10                 1072\n",
       "Version Unknown      95\n",
       "Ubuntu               62\n",
       "7                    45\n",
       "X                    21\n",
       "10 S                  8\n",
       "Name: os_version, dtype: int64"
      ]
     },
     "execution_count": 274,
     "metadata": {},
     "output_type": "execute_result"
    }
   ],
   "source": [
    "laptops[\"os_version\"].value_counts(dropna=False)"
   ]
  },
  {
   "cell_type": "markdown",
   "metadata": {},
   "source": [
    "## Removing Duplicates"
   ]
  },
  {
   "cell_type": "code",
   "execution_count": 275,
   "metadata": {},
   "outputs": [
    {
     "data": {
      "text/plain": [
       "0       False\n",
       "1       False\n",
       "2       False\n",
       "3       False\n",
       "4       False\n",
       "        ...  \n",
       "1298     True\n",
       "1299     True\n",
       "1300     True\n",
       "1301     True\n",
       "1302     True\n",
       "Length: 1303, dtype: bool"
      ]
     },
     "execution_count": 275,
     "metadata": {},
     "output_type": "execute_result"
    }
   ],
   "source": [
    "laptops.duplicated()"
   ]
  },
  {
   "cell_type": "code",
   "execution_count": 276,
   "metadata": {},
   "outputs": [
    {
     "data": {
      "text/plain": [
       "False    1275\n",
       "True       28\n",
       "dtype: int64"
      ]
     },
     "execution_count": 276,
     "metadata": {},
     "output_type": "execute_result"
    }
   ],
   "source": [
    "laptops.duplicated().value_counts()"
   ]
  },
  {
   "cell_type": "code",
   "execution_count": 277,
   "metadata": {},
   "outputs": [
    {
     "data": {
      "text/html": [
       "<div>\n",
       "<style scoped>\n",
       "    .dataframe tbody tr th:only-of-type {\n",
       "        vertical-align: middle;\n",
       "    }\n",
       "\n",
       "    .dataframe tbody tr th {\n",
       "        vertical-align: top;\n",
       "    }\n",
       "\n",
       "    .dataframe thead th {\n",
       "        text-align: right;\n",
       "    }\n",
       "</style>\n",
       "<table border=\"1\" class=\"dataframe\">\n",
       "  <thead>\n",
       "    <tr style=\"text-align: right;\">\n",
       "      <th></th>\n",
       "      <th>manufacturer</th>\n",
       "      <th>model_name</th>\n",
       "      <th>category</th>\n",
       "      <th>screen_size_inches</th>\n",
       "      <th>screen</th>\n",
       "      <th>cpu</th>\n",
       "      <th>ram_gb</th>\n",
       "      <th>storage</th>\n",
       "      <th>gpu</th>\n",
       "      <th>os</th>\n",
       "      <th>os_version</th>\n",
       "      <th>weight</th>\n",
       "      <th>price_euros</th>\n",
       "      <th>gpu_manufacturer</th>\n",
       "      <th>cpu_manufacturer</th>\n",
       "    </tr>\n",
       "  </thead>\n",
       "  <tbody>\n",
       "    <tr>\n",
       "      <th>1275</th>\n",
       "      <td>Asus</td>\n",
       "      <td>ZenBook UX305CA-UBM1</td>\n",
       "      <td>Ultrabook</td>\n",
       "      <td>13.3</td>\n",
       "      <td>IPS Panel Full HD 1920x1080</td>\n",
       "      <td>Intel Core M 6Y30 0.9GHz</td>\n",
       "      <td>8</td>\n",
       "      <td>512GB SSD</td>\n",
       "      <td>Intel HD Graphics 515</td>\n",
       "      <td>Windows</td>\n",
       "      <td>10</td>\n",
       "      <td>1.2kg</td>\n",
       "      <td>729,00</td>\n",
       "      <td>Intel</td>\n",
       "      <td>Intel</td>\n",
       "    </tr>\n",
       "  </tbody>\n",
       "</table>\n",
       "</div>"
      ],
      "text/plain": [
       "     manufacturer            model_name   category  screen_size_inches  \\\n",
       "1275         Asus  ZenBook UX305CA-UBM1  Ultrabook                13.3   \n",
       "\n",
       "                           screen                       cpu  ram_gb  \\\n",
       "1275  IPS Panel Full HD 1920x1080  Intel Core M 6Y30 0.9GHz       8   \n",
       "\n",
       "        storage                    gpu       os os_version weight price_euros  \\\n",
       "1275  512GB SSD  Intel HD Graphics 515  Windows         10  1.2kg      729,00   \n",
       "\n",
       "     gpu_manufacturer cpu_manufacturer  \n",
       "1275            Intel            Intel  "
      ]
     },
     "execution_count": 277,
     "metadata": {},
     "output_type": "execute_result"
    }
   ],
   "source": [
    "laptops[laptops.duplicated()].head(1)"
   ]
  },
  {
   "cell_type": "code",
   "execution_count": 278,
   "metadata": {},
   "outputs": [],
   "source": [
    "zenbook_model = 'ZenBook UX305CA-UBM1'"
   ]
  },
  {
   "cell_type": "code",
   "execution_count": 279,
   "metadata": {},
   "outputs": [
    {
     "data": {
      "text/html": [
       "<div>\n",
       "<style scoped>\n",
       "    .dataframe tbody tr th:only-of-type {\n",
       "        vertical-align: middle;\n",
       "    }\n",
       "\n",
       "    .dataframe tbody tr th {\n",
       "        vertical-align: top;\n",
       "    }\n",
       "\n",
       "    .dataframe thead th {\n",
       "        text-align: right;\n",
       "    }\n",
       "</style>\n",
       "<table border=\"1\" class=\"dataframe\">\n",
       "  <thead>\n",
       "    <tr style=\"text-align: right;\">\n",
       "      <th></th>\n",
       "      <th>manufacturer</th>\n",
       "      <th>model_name</th>\n",
       "      <th>category</th>\n",
       "      <th>screen_size_inches</th>\n",
       "      <th>screen</th>\n",
       "      <th>cpu</th>\n",
       "      <th>ram_gb</th>\n",
       "      <th>storage</th>\n",
       "      <th>gpu</th>\n",
       "      <th>os</th>\n",
       "      <th>os_version</th>\n",
       "      <th>weight</th>\n",
       "      <th>price_euros</th>\n",
       "      <th>gpu_manufacturer</th>\n",
       "      <th>cpu_manufacturer</th>\n",
       "    </tr>\n",
       "  </thead>\n",
       "  <tbody>\n",
       "    <tr>\n",
       "      <th>1261</th>\n",
       "      <td>Asus</td>\n",
       "      <td>ZenBook UX305CA-UBM1</td>\n",
       "      <td>Ultrabook</td>\n",
       "      <td>13.3</td>\n",
       "      <td>IPS Panel Full HD 1920x1080</td>\n",
       "      <td>Intel Core M 6Y30 0.9GHz</td>\n",
       "      <td>8</td>\n",
       "      <td>512GB SSD</td>\n",
       "      <td>Intel HD Graphics 515</td>\n",
       "      <td>Windows</td>\n",
       "      <td>10</td>\n",
       "      <td>1.2kg</td>\n",
       "      <td>729,00</td>\n",
       "      <td>Intel</td>\n",
       "      <td>Intel</td>\n",
       "    </tr>\n",
       "    <tr>\n",
       "      <th>1275</th>\n",
       "      <td>Asus</td>\n",
       "      <td>ZenBook UX305CA-UBM1</td>\n",
       "      <td>Ultrabook</td>\n",
       "      <td>13.3</td>\n",
       "      <td>IPS Panel Full HD 1920x1080</td>\n",
       "      <td>Intel Core M 6Y30 0.9GHz</td>\n",
       "      <td>8</td>\n",
       "      <td>512GB SSD</td>\n",
       "      <td>Intel HD Graphics 515</td>\n",
       "      <td>Windows</td>\n",
       "      <td>10</td>\n",
       "      <td>1.2kg</td>\n",
       "      <td>729,00</td>\n",
       "      <td>Intel</td>\n",
       "      <td>Intel</td>\n",
       "    </tr>\n",
       "    <tr>\n",
       "      <th>1289</th>\n",
       "      <td>Asus</td>\n",
       "      <td>ZenBook UX305CA-UBM1</td>\n",
       "      <td>Ultrabook</td>\n",
       "      <td>13.3</td>\n",
       "      <td>IPS Panel Full HD 1920x1080</td>\n",
       "      <td>Intel Core M 6Y30 0.9GHz</td>\n",
       "      <td>8</td>\n",
       "      <td>512GB SSD</td>\n",
       "      <td>Intel HD Graphics 515</td>\n",
       "      <td>Windows</td>\n",
       "      <td>10</td>\n",
       "      <td>1.2kg</td>\n",
       "      <td>729,00</td>\n",
       "      <td>Intel</td>\n",
       "      <td>Intel</td>\n",
       "    </tr>\n",
       "  </tbody>\n",
       "</table>\n",
       "</div>"
      ],
      "text/plain": [
       "     manufacturer            model_name   category  screen_size_inches  \\\n",
       "1261         Asus  ZenBook UX305CA-UBM1  Ultrabook                13.3   \n",
       "1275         Asus  ZenBook UX305CA-UBM1  Ultrabook                13.3   \n",
       "1289         Asus  ZenBook UX305CA-UBM1  Ultrabook                13.3   \n",
       "\n",
       "                           screen                       cpu  ram_gb  \\\n",
       "1261  IPS Panel Full HD 1920x1080  Intel Core M 6Y30 0.9GHz       8   \n",
       "1275  IPS Panel Full HD 1920x1080  Intel Core M 6Y30 0.9GHz       8   \n",
       "1289  IPS Panel Full HD 1920x1080  Intel Core M 6Y30 0.9GHz       8   \n",
       "\n",
       "        storage                    gpu       os os_version weight price_euros  \\\n",
       "1261  512GB SSD  Intel HD Graphics 515  Windows         10  1.2kg      729,00   \n",
       "1275  512GB SSD  Intel HD Graphics 515  Windows         10  1.2kg      729,00   \n",
       "1289  512GB SSD  Intel HD Graphics 515  Windows         10  1.2kg      729,00   \n",
       "\n",
       "     gpu_manufacturer cpu_manufacturer  \n",
       "1261            Intel            Intel  \n",
       "1275            Intel            Intel  \n",
       "1289            Intel            Intel  "
      ]
     },
     "execution_count": 279,
     "metadata": {},
     "output_type": "execute_result"
    }
   ],
   "source": [
    "laptops[laptops[\"model_name\"] == zenbook_model]"
   ]
  },
  {
   "cell_type": "code",
   "execution_count": 280,
   "metadata": {},
   "outputs": [
    {
     "data": {
      "text/plain": [
       "(1303, 15)"
      ]
     },
     "execution_count": 280,
     "metadata": {},
     "output_type": "execute_result"
    }
   ],
   "source": [
    "laptops.shape"
   ]
  },
  {
   "cell_type": "code",
   "execution_count": 281,
   "metadata": {},
   "outputs": [],
   "source": [
    "laptops.drop_duplicates(inplace=True)"
   ]
  },
  {
   "cell_type": "code",
   "execution_count": 282,
   "metadata": {},
   "outputs": [
    {
     "data": {
      "text/plain": [
       "(1275, 15)"
      ]
     },
     "execution_count": 282,
     "metadata": {},
     "output_type": "execute_result"
    }
   ],
   "source": [
    "laptops.shape"
   ]
  },
  {
   "cell_type": "markdown",
   "metadata": {},
   "source": [
    "## Replacing Values"
   ]
  },
  {
   "cell_type": "code",
   "execution_count": 283,
   "metadata": {},
   "outputs": [
    {
     "data": {
      "text/plain": [
       "Dell         291\n",
       "Lenovo       289\n",
       "HP           268\n",
       "Asus         152\n",
       "Acer         101\n",
       "MSI           54\n",
       "Toshiba       48\n",
       "Apple         21\n",
       "Samsung        9\n",
       "Razer          7\n",
       "Mediacom       7\n",
       "Microsoft      6\n",
       "Xiaomi         4\n",
       "Vero           4\n",
       "Chuwi          3\n",
       "Google         3\n",
       "Fujitsu        3\n",
       "LG             3\n",
       "Huawei         2\n",
       "Name: manufacturer, dtype: int64"
      ]
     },
     "execution_count": 283,
     "metadata": {},
     "output_type": "execute_result"
    }
   ],
   "source": [
    "laptops[\"manufacturer\"].value_counts()"
   ]
  },
  {
   "cell_type": "code",
   "execution_count": 285,
   "metadata": {},
   "outputs": [],
   "source": [
    "laptops.replace(\"MSI\", \"Micro-Star International\", inplace=True)"
   ]
  },
  {
   "cell_type": "code",
   "execution_count": 286,
   "metadata": {},
   "outputs": [
    {
     "data": {
      "text/plain": [
       "Dell                        291\n",
       "Lenovo                      289\n",
       "HP                          268\n",
       "Asus                        152\n",
       "Acer                        101\n",
       "Micro-Star International     54\n",
       "Toshiba                      48\n",
       "Apple                        21\n",
       "Samsung                       9\n",
       "Razer                         7\n",
       "Mediacom                      7\n",
       "Microsoft                     6\n",
       "Xiaomi                        4\n",
       "Vero                          4\n",
       "Chuwi                         3\n",
       "Google                        3\n",
       "Fujitsu                       3\n",
       "LG                            3\n",
       "Huawei                        2\n",
       "Name: manufacturer, dtype: int64"
      ]
     },
     "execution_count": 286,
     "metadata": {},
     "output_type": "execute_result"
    }
   ],
   "source": [
    "laptops[\"manufacturer\"].value_counts()"
   ]
  },
  {
   "cell_type": "markdown",
   "metadata": {},
   "source": [
    "## Dropping Columns "
   ]
  },
  {
   "cell_type": "code",
   "execution_count": 287,
   "metadata": {},
   "outputs": [
    {
     "data": {
      "text/html": [
       "<div>\n",
       "<style scoped>\n",
       "    .dataframe tbody tr th:only-of-type {\n",
       "        vertical-align: middle;\n",
       "    }\n",
       "\n",
       "    .dataframe tbody tr th {\n",
       "        vertical-align: top;\n",
       "    }\n",
       "\n",
       "    .dataframe thead th {\n",
       "        text-align: right;\n",
       "    }\n",
       "</style>\n",
       "<table border=\"1\" class=\"dataframe\">\n",
       "  <thead>\n",
       "    <tr style=\"text-align: right;\">\n",
       "      <th></th>\n",
       "      <th>manufacturer</th>\n",
       "      <th>model_name</th>\n",
       "      <th>category</th>\n",
       "      <th>screen_size_inches</th>\n",
       "      <th>screen</th>\n",
       "      <th>cpu</th>\n",
       "      <th>ram_gb</th>\n",
       "      <th>storage</th>\n",
       "      <th>gpu</th>\n",
       "      <th>os</th>\n",
       "      <th>os_version</th>\n",
       "      <th>weight</th>\n",
       "      <th>price_euros</th>\n",
       "      <th>gpu_manufacturer</th>\n",
       "      <th>cpu_manufacturer</th>\n",
       "    </tr>\n",
       "  </thead>\n",
       "  <tbody>\n",
       "    <tr>\n",
       "      <th>0</th>\n",
       "      <td>Apple</td>\n",
       "      <td>MacBook Pro</td>\n",
       "      <td>Ultrabook</td>\n",
       "      <td>13.3</td>\n",
       "      <td>IPS Panel Retina Display 2560x1600</td>\n",
       "      <td>Intel Core i5 2.3GHz</td>\n",
       "      <td>8</td>\n",
       "      <td>128GB SSD</td>\n",
       "      <td>Intel Iris Plus Graphics 640</td>\n",
       "      <td>macOS</td>\n",
       "      <td>X</td>\n",
       "      <td>1.37kg</td>\n",
       "      <td>1339,69</td>\n",
       "      <td>Intel</td>\n",
       "      <td>Intel</td>\n",
       "    </tr>\n",
       "    <tr>\n",
       "      <th>1</th>\n",
       "      <td>Apple</td>\n",
       "      <td>Macbook Air</td>\n",
       "      <td>Ultrabook</td>\n",
       "      <td>13.3</td>\n",
       "      <td>1440x900</td>\n",
       "      <td>Intel Core i5 1.8GHz</td>\n",
       "      <td>8</td>\n",
       "      <td>128GB Flash Storage</td>\n",
       "      <td>Intel HD Graphics 6000</td>\n",
       "      <td>macOS</td>\n",
       "      <td>X</td>\n",
       "      <td>1.34kg</td>\n",
       "      <td>898,94</td>\n",
       "      <td>Intel</td>\n",
       "      <td>Intel</td>\n",
       "    </tr>\n",
       "  </tbody>\n",
       "</table>\n",
       "</div>"
      ],
      "text/plain": [
       "  manufacturer   model_name   category  screen_size_inches  \\\n",
       "0        Apple  MacBook Pro  Ultrabook                13.3   \n",
       "1        Apple  Macbook Air  Ultrabook                13.3   \n",
       "\n",
       "                               screen                   cpu  ram_gb  \\\n",
       "0  IPS Panel Retina Display 2560x1600  Intel Core i5 2.3GHz       8   \n",
       "1                            1440x900  Intel Core i5 1.8GHz       8   \n",
       "\n",
       "               storage                           gpu     os os_version  \\\n",
       "0            128GB SSD  Intel Iris Plus Graphics 640  macOS          X   \n",
       "1  128GB Flash Storage        Intel HD Graphics 6000  macOS          X   \n",
       "\n",
       "   weight price_euros gpu_manufacturer cpu_manufacturer  \n",
       "0  1.37kg     1339,69            Intel            Intel  \n",
       "1  1.34kg      898,94            Intel            Intel  "
      ]
     },
     "execution_count": 287,
     "metadata": {},
     "output_type": "execute_result"
    }
   ],
   "source": [
    "laptops.head(2)"
   ]
  },
  {
   "cell_type": "code",
   "execution_count": 288,
   "metadata": {},
   "outputs": [],
   "source": [
    "laptops.drop(columns=[\"category\", \"gpu\"], inplace=True)"
   ]
  },
  {
   "cell_type": "code",
   "execution_count": 289,
   "metadata": {},
   "outputs": [
    {
     "data": {
      "text/html": [
       "<div>\n",
       "<style scoped>\n",
       "    .dataframe tbody tr th:only-of-type {\n",
       "        vertical-align: middle;\n",
       "    }\n",
       "\n",
       "    .dataframe tbody tr th {\n",
       "        vertical-align: top;\n",
       "    }\n",
       "\n",
       "    .dataframe thead th {\n",
       "        text-align: right;\n",
       "    }\n",
       "</style>\n",
       "<table border=\"1\" class=\"dataframe\">\n",
       "  <thead>\n",
       "    <tr style=\"text-align: right;\">\n",
       "      <th></th>\n",
       "      <th>manufacturer</th>\n",
       "      <th>model_name</th>\n",
       "      <th>screen_size_inches</th>\n",
       "      <th>screen</th>\n",
       "      <th>cpu</th>\n",
       "      <th>ram_gb</th>\n",
       "      <th>storage</th>\n",
       "      <th>os</th>\n",
       "      <th>os_version</th>\n",
       "      <th>weight</th>\n",
       "      <th>price_euros</th>\n",
       "      <th>gpu_manufacturer</th>\n",
       "      <th>cpu_manufacturer</th>\n",
       "    </tr>\n",
       "  </thead>\n",
       "  <tbody>\n",
       "    <tr>\n",
       "      <th>0</th>\n",
       "      <td>Apple</td>\n",
       "      <td>MacBook Pro</td>\n",
       "      <td>13.3</td>\n",
       "      <td>IPS Panel Retina Display 2560x1600</td>\n",
       "      <td>Intel Core i5 2.3GHz</td>\n",
       "      <td>8</td>\n",
       "      <td>128GB SSD</td>\n",
       "      <td>macOS</td>\n",
       "      <td>X</td>\n",
       "      <td>1.37kg</td>\n",
       "      <td>1339,69</td>\n",
       "      <td>Intel</td>\n",
       "      <td>Intel</td>\n",
       "    </tr>\n",
       "    <tr>\n",
       "      <th>1</th>\n",
       "      <td>Apple</td>\n",
       "      <td>Macbook Air</td>\n",
       "      <td>13.3</td>\n",
       "      <td>1440x900</td>\n",
       "      <td>Intel Core i5 1.8GHz</td>\n",
       "      <td>8</td>\n",
       "      <td>128GB Flash Storage</td>\n",
       "      <td>macOS</td>\n",
       "      <td>X</td>\n",
       "      <td>1.34kg</td>\n",
       "      <td>898,94</td>\n",
       "      <td>Intel</td>\n",
       "      <td>Intel</td>\n",
       "    </tr>\n",
       "  </tbody>\n",
       "</table>\n",
       "</div>"
      ],
      "text/plain": [
       "  manufacturer   model_name  screen_size_inches  \\\n",
       "0        Apple  MacBook Pro                13.3   \n",
       "1        Apple  Macbook Air                13.3   \n",
       "\n",
       "                               screen                   cpu  ram_gb  \\\n",
       "0  IPS Panel Retina Display 2560x1600  Intel Core i5 2.3GHz       8   \n",
       "1                            1440x900  Intel Core i5 1.8GHz       8   \n",
       "\n",
       "               storage     os os_version  weight price_euros gpu_manufacturer  \\\n",
       "0            128GB SSD  macOS          X  1.37kg     1339,69            Intel   \n",
       "1  128GB Flash Storage  macOS          X  1.34kg      898,94            Intel   \n",
       "\n",
       "  cpu_manufacturer  \n",
       "0            Intel  \n",
       "1            Intel  "
      ]
     },
     "execution_count": 289,
     "metadata": {},
     "output_type": "execute_result"
    }
   ],
   "source": [
    "laptops.head(2)"
   ]
  },
  {
   "cell_type": "markdown",
   "metadata": {},
   "source": [
    "## Vaja"
   ]
  },
  {
   "cell_type": "code",
   "execution_count": 290,
   "metadata": {},
   "outputs": [
    {
     "data": {
      "text/plain": [
       "0    1.37kg\n",
       "1    1.34kg\n",
       "2    1.86kg\n",
       "3    1.83kg\n",
       "4    1.37kg\n",
       "5     2.1kg\n",
       "6    2.04kg\n",
       "7    1.34kg\n",
       "8     1.3kg\n",
       "9     1.6kg\n",
       "Name: weight, dtype: object"
      ]
     },
     "execution_count": 290,
     "metadata": {},
     "output_type": "execute_result"
    }
   ],
   "source": [
    "# odstranimo kg znak in preimenujmo stolpec v weight_kg in tip float\n",
    "laptops[\"weight\"].head(10)"
   ]
  },
  {
   "cell_type": "code",
   "execution_count": 291,
   "metadata": {},
   "outputs": [],
   "source": [
    "laptops[\"weight\"] = laptops[\"weight\"].str.replace(\"kgs\", \"\").str.replace(\"kg\", \"\").astype(float)"
   ]
  },
  {
   "cell_type": "code",
   "execution_count": 292,
   "metadata": {},
   "outputs": [
    {
     "data": {
      "text/plain": [
       "dtype('float64')"
      ]
     },
     "execution_count": 292,
     "metadata": {},
     "output_type": "execute_result"
    }
   ],
   "source": [
    "laptops[\"weight\"].dtype"
   ]
  },
  {
   "cell_type": "markdown",
   "metadata": {},
   "source": [
    "### Convert the price_euros column to a numeric dtype."
   ]
  },
  {
   "cell_type": "code",
   "execution_count": 300,
   "metadata": {},
   "outputs": [],
   "source": [
    "laptops[\"price_euros\"] = laptops[\"price_euros\"].str.replace(\",\", \".\").astype(\"float\")"
   ]
  },
  {
   "cell_type": "code",
   "execution_count": 301,
   "metadata": {},
   "outputs": [
    {
     "data": {
      "text/html": [
       "<div>\n",
       "<style scoped>\n",
       "    .dataframe tbody tr th:only-of-type {\n",
       "        vertical-align: middle;\n",
       "    }\n",
       "\n",
       "    .dataframe tbody tr th {\n",
       "        vertical-align: top;\n",
       "    }\n",
       "\n",
       "    .dataframe thead th {\n",
       "        text-align: right;\n",
       "    }\n",
       "</style>\n",
       "<table border=\"1\" class=\"dataframe\">\n",
       "  <thead>\n",
       "    <tr style=\"text-align: right;\">\n",
       "      <th></th>\n",
       "      <th>manufacturer</th>\n",
       "      <th>model_name</th>\n",
       "      <th>screen_size_inches</th>\n",
       "      <th>screen</th>\n",
       "      <th>cpu</th>\n",
       "      <th>ram_gb</th>\n",
       "      <th>storage</th>\n",
       "      <th>os</th>\n",
       "      <th>os_version</th>\n",
       "      <th>weight</th>\n",
       "      <th>price_euros</th>\n",
       "      <th>gpu_manufacturer</th>\n",
       "      <th>cpu_manufacturer</th>\n",
       "      <th>cpu_speed_ghz</th>\n",
       "      <th>storage_size_gb</th>\n",
       "    </tr>\n",
       "  </thead>\n",
       "  <tbody>\n",
       "    <tr>\n",
       "      <th>0</th>\n",
       "      <td>Apple</td>\n",
       "      <td>MacBook Pro</td>\n",
       "      <td>13.3</td>\n",
       "      <td>IPS Panel Retina Display 2560x1600</td>\n",
       "      <td>Intel Core i5 2.3GHz</td>\n",
       "      <td>8</td>\n",
       "      <td>128GB SSD</td>\n",
       "      <td>macOS</td>\n",
       "      <td>X</td>\n",
       "      <td>1.37</td>\n",
       "      <td>1339.69</td>\n",
       "      <td>Intel</td>\n",
       "      <td>Intel</td>\n",
       "      <td>2.3</td>\n",
       "      <td>128</td>\n",
       "    </tr>\n",
       "    <tr>\n",
       "      <th>1</th>\n",
       "      <td>Apple</td>\n",
       "      <td>Macbook Air</td>\n",
       "      <td>13.3</td>\n",
       "      <td>1440x900</td>\n",
       "      <td>Intel Core i5 1.8GHz</td>\n",
       "      <td>8</td>\n",
       "      <td>128GB Flash Storage</td>\n",
       "      <td>macOS</td>\n",
       "      <td>X</td>\n",
       "      <td>1.34</td>\n",
       "      <td>898.94</td>\n",
       "      <td>Intel</td>\n",
       "      <td>Intel</td>\n",
       "      <td>1.8</td>\n",
       "      <td>128</td>\n",
       "    </tr>\n",
       "  </tbody>\n",
       "</table>\n",
       "</div>"
      ],
      "text/plain": [
       "  manufacturer   model_name  screen_size_inches  \\\n",
       "0        Apple  MacBook Pro                13.3   \n",
       "1        Apple  Macbook Air                13.3   \n",
       "\n",
       "                               screen                   cpu  ram_gb  \\\n",
       "0  IPS Panel Retina Display 2560x1600  Intel Core i5 2.3GHz       8   \n",
       "1                            1440x900  Intel Core i5 1.8GHz       8   \n",
       "\n",
       "               storage     os os_version  weight  price_euros  \\\n",
       "0            128GB SSD  macOS          X    1.37      1339.69   \n",
       "1  128GB Flash Storage  macOS          X    1.34       898.94   \n",
       "\n",
       "  gpu_manufacturer cpu_manufacturer  cpu_speed_ghz  storage_size_gb  \n",
       "0            Intel            Intel            2.3              128  \n",
       "1            Intel            Intel            1.8              128  "
      ]
     },
     "execution_count": 301,
     "metadata": {},
     "output_type": "execute_result"
    }
   ],
   "source": [
    "laptops.head(2)"
   ]
  },
  {
   "cell_type": "markdown",
   "metadata": {},
   "source": [
    "### Extract the screen resolution from the screen column."
   ]
  },
  {
   "cell_type": "code",
   "execution_count": 302,
   "metadata": {},
   "outputs": [
    {
     "data": {
      "text/plain": [
       "0    IPS Panel Retina Display 2560x1600\n",
       "1                              1440x900\n",
       "2                     Full HD 1920x1080\n",
       "3    IPS Panel Retina Display 2880x1800\n",
       "4    IPS Panel Retina Display 2560x1600\n",
       "Name: screen, dtype: object"
      ]
     },
     "execution_count": 302,
     "metadata": {},
     "output_type": "execute_result"
    }
   ],
   "source": [
    "laptops[\"screen\"].head()"
   ]
  },
  {
   "cell_type": "code",
   "execution_count": 305,
   "metadata": {},
   "outputs": [],
   "source": [
    "resolution_splitted = laptops[\"screen\"].str.split(\" \").str[-1].str.split(\"x\")"
   ]
  },
  {
   "cell_type": "code",
   "execution_count": 306,
   "metadata": {},
   "outputs": [],
   "source": [
    "laptops[\"screen_width_px\"] = resolution_splitted.str[0].astype(\"int\")\n",
    "laptops[\"screen_high_px\"] = resolution_splitted.str[1].astype(\"int\")"
   ]
  },
  {
   "cell_type": "code",
   "execution_count": 307,
   "metadata": {},
   "outputs": [
    {
     "data": {
      "text/html": [
       "<div>\n",
       "<style scoped>\n",
       "    .dataframe tbody tr th:only-of-type {\n",
       "        vertical-align: middle;\n",
       "    }\n",
       "\n",
       "    .dataframe tbody tr th {\n",
       "        vertical-align: top;\n",
       "    }\n",
       "\n",
       "    .dataframe thead th {\n",
       "        text-align: right;\n",
       "    }\n",
       "</style>\n",
       "<table border=\"1\" class=\"dataframe\">\n",
       "  <thead>\n",
       "    <tr style=\"text-align: right;\">\n",
       "      <th></th>\n",
       "      <th>manufacturer</th>\n",
       "      <th>model_name</th>\n",
       "      <th>screen_size_inches</th>\n",
       "      <th>screen</th>\n",
       "      <th>cpu</th>\n",
       "      <th>ram_gb</th>\n",
       "      <th>storage</th>\n",
       "      <th>os</th>\n",
       "      <th>os_version</th>\n",
       "      <th>weight</th>\n",
       "      <th>price_euros</th>\n",
       "      <th>gpu_manufacturer</th>\n",
       "      <th>cpu_manufacturer</th>\n",
       "      <th>cpu_speed_ghz</th>\n",
       "      <th>storage_size_gb</th>\n",
       "      <th>screen_width_px</th>\n",
       "      <th>screen_high_px</th>\n",
       "    </tr>\n",
       "  </thead>\n",
       "  <tbody>\n",
       "    <tr>\n",
       "      <th>0</th>\n",
       "      <td>Apple</td>\n",
       "      <td>MacBook Pro</td>\n",
       "      <td>13.3</td>\n",
       "      <td>IPS Panel Retina Display 2560x1600</td>\n",
       "      <td>Intel Core i5 2.3GHz</td>\n",
       "      <td>8</td>\n",
       "      <td>128GB SSD</td>\n",
       "      <td>macOS</td>\n",
       "      <td>X</td>\n",
       "      <td>1.37</td>\n",
       "      <td>1339.69</td>\n",
       "      <td>Intel</td>\n",
       "      <td>Intel</td>\n",
       "      <td>2.3</td>\n",
       "      <td>128</td>\n",
       "      <td>2560</td>\n",
       "      <td>1600</td>\n",
       "    </tr>\n",
       "    <tr>\n",
       "      <th>1</th>\n",
       "      <td>Apple</td>\n",
       "      <td>Macbook Air</td>\n",
       "      <td>13.3</td>\n",
       "      <td>1440x900</td>\n",
       "      <td>Intel Core i5 1.8GHz</td>\n",
       "      <td>8</td>\n",
       "      <td>128GB Flash Storage</td>\n",
       "      <td>macOS</td>\n",
       "      <td>X</td>\n",
       "      <td>1.34</td>\n",
       "      <td>898.94</td>\n",
       "      <td>Intel</td>\n",
       "      <td>Intel</td>\n",
       "      <td>1.8</td>\n",
       "      <td>128</td>\n",
       "      <td>1440</td>\n",
       "      <td>900</td>\n",
       "    </tr>\n",
       "  </tbody>\n",
       "</table>\n",
       "</div>"
      ],
      "text/plain": [
       "  manufacturer   model_name  screen_size_inches  \\\n",
       "0        Apple  MacBook Pro                13.3   \n",
       "1        Apple  Macbook Air                13.3   \n",
       "\n",
       "                               screen                   cpu  ram_gb  \\\n",
       "0  IPS Panel Retina Display 2560x1600  Intel Core i5 2.3GHz       8   \n",
       "1                            1440x900  Intel Core i5 1.8GHz       8   \n",
       "\n",
       "               storage     os os_version  weight  price_euros  \\\n",
       "0            128GB SSD  macOS          X    1.37      1339.69   \n",
       "1  128GB Flash Storage  macOS          X    1.34       898.94   \n",
       "\n",
       "  gpu_manufacturer cpu_manufacturer  cpu_speed_ghz  storage_size_gb  \\\n",
       "0            Intel            Intel            2.3              128   \n",
       "1            Intel            Intel            1.8              128   \n",
       "\n",
       "   screen_width_px  screen_high_px  \n",
       "0             2560            1600  \n",
       "1             1440             900  "
      ]
     },
     "execution_count": 307,
     "metadata": {},
     "output_type": "execute_result"
    }
   ],
   "source": [
    "laptops.head(2)"
   ]
  },
  {
   "cell_type": "markdown",
   "metadata": {},
   "source": [
    "### Extract the processor speed from the cpu column."
   ]
  },
  {
   "cell_type": "code",
   "execution_count": 293,
   "metadata": {},
   "outputs": [],
   "source": [
    "laptops[\"cpu\"].unique()\n",
    "\n",
    "laptops[\"cpu_speed_ghz\"] = (laptops[\"cpu\"].str.split(\" \")\n",
    "               .str[-1]\n",
    "               .str.replace(\"GHz\", \"\")\n",
    "               .astype(\"float\"))"
   ]
  },
  {
   "cell_type": "code",
   "execution_count": 294,
   "metadata": {},
   "outputs": [
    {
     "data": {
      "text/html": [
       "<div>\n",
       "<style scoped>\n",
       "    .dataframe tbody tr th:only-of-type {\n",
       "        vertical-align: middle;\n",
       "    }\n",
       "\n",
       "    .dataframe tbody tr th {\n",
       "        vertical-align: top;\n",
       "    }\n",
       "\n",
       "    .dataframe thead th {\n",
       "        text-align: right;\n",
       "    }\n",
       "</style>\n",
       "<table border=\"1\" class=\"dataframe\">\n",
       "  <thead>\n",
       "    <tr style=\"text-align: right;\">\n",
       "      <th></th>\n",
       "      <th>manufacturer</th>\n",
       "      <th>model_name</th>\n",
       "      <th>screen_size_inches</th>\n",
       "      <th>screen</th>\n",
       "      <th>cpu</th>\n",
       "      <th>ram_gb</th>\n",
       "      <th>storage</th>\n",
       "      <th>os</th>\n",
       "      <th>os_version</th>\n",
       "      <th>weight</th>\n",
       "      <th>price_euros</th>\n",
       "      <th>gpu_manufacturer</th>\n",
       "      <th>cpu_manufacturer</th>\n",
       "      <th>cpu_speed_ghz</th>\n",
       "    </tr>\n",
       "  </thead>\n",
       "  <tbody>\n",
       "    <tr>\n",
       "      <th>0</th>\n",
       "      <td>Apple</td>\n",
       "      <td>MacBook Pro</td>\n",
       "      <td>13.3</td>\n",
       "      <td>IPS Panel Retina Display 2560x1600</td>\n",
       "      <td>Intel Core i5 2.3GHz</td>\n",
       "      <td>8</td>\n",
       "      <td>128GB SSD</td>\n",
       "      <td>macOS</td>\n",
       "      <td>X</td>\n",
       "      <td>1.37</td>\n",
       "      <td>1339,69</td>\n",
       "      <td>Intel</td>\n",
       "      <td>Intel</td>\n",
       "      <td>2.3</td>\n",
       "    </tr>\n",
       "    <tr>\n",
       "      <th>1</th>\n",
       "      <td>Apple</td>\n",
       "      <td>Macbook Air</td>\n",
       "      <td>13.3</td>\n",
       "      <td>1440x900</td>\n",
       "      <td>Intel Core i5 1.8GHz</td>\n",
       "      <td>8</td>\n",
       "      <td>128GB Flash Storage</td>\n",
       "      <td>macOS</td>\n",
       "      <td>X</td>\n",
       "      <td>1.34</td>\n",
       "      <td>898,94</td>\n",
       "      <td>Intel</td>\n",
       "      <td>Intel</td>\n",
       "      <td>1.8</td>\n",
       "    </tr>\n",
       "  </tbody>\n",
       "</table>\n",
       "</div>"
      ],
      "text/plain": [
       "  manufacturer   model_name  screen_size_inches  \\\n",
       "0        Apple  MacBook Pro                13.3   \n",
       "1        Apple  Macbook Air                13.3   \n",
       "\n",
       "                               screen                   cpu  ram_gb  \\\n",
       "0  IPS Panel Retina Display 2560x1600  Intel Core i5 2.3GHz       8   \n",
       "1                            1440x900  Intel Core i5 1.8GHz       8   \n",
       "\n",
       "               storage     os os_version  weight price_euros gpu_manufacturer  \\\n",
       "0            128GB SSD  macOS          X    1.37     1339,69            Intel   \n",
       "1  128GB Flash Storage  macOS          X    1.34      898,94            Intel   \n",
       "\n",
       "  cpu_manufacturer  cpu_speed_ghz  \n",
       "0            Intel            2.3  \n",
       "1            Intel            1.8  "
      ]
     },
     "execution_count": 294,
     "metadata": {},
     "output_type": "execute_result"
    }
   ],
   "source": [
    "laptops.head(2)"
   ]
  },
  {
   "cell_type": "markdown",
   "metadata": {},
   "source": [
    "### Extract the storage size from the storage column."
   ]
  },
  {
   "cell_type": "code",
   "execution_count": 295,
   "metadata": {},
   "outputs": [
    {
     "data": {
      "text/plain": [
       "array(['128GB SSD', '128GB Flash Storage', '256GB SSD', '512GB SSD',\n",
       "       '500GB HDD', '256GB Flash Storage', '1TB HDD',\n",
       "       '32GB Flash Storage', '128GB SSD +  1TB HDD',\n",
       "       '256GB SSD +  256GB SSD', '64GB Flash Storage',\n",
       "       '256GB SSD +  1TB HDD', '256GB SSD +  2TB HDD', '32GB SSD',\n",
       "       '2TB HDD', '64GB SSD', '1TB Hybrid', '512GB SSD +  1TB HDD',\n",
       "       '1TB SSD', '256GB SSD +  500GB HDD', '128GB SSD +  2TB HDD',\n",
       "       '512GB SSD +  512GB SSD', '16GB SSD', '16GB Flash Storage',\n",
       "       '512GB SSD +  256GB SSD', '512GB SSD +  2TB HDD',\n",
       "       '64GB Flash Storage +  1TB HDD', '1GB SSD', '1TB HDD +  1TB HDD',\n",
       "       '32GB HDD', '1TB SSD +  1TB HDD', '512GB Flash Storage',\n",
       "       '128GB HDD', '240GB SSD', '8GB SSD', '508GB Hybrid',\n",
       "       '512GB SSD +  1TB Hybrid', '256GB SSD +  1TB Hybrid'], dtype=object)"
      ]
     },
     "execution_count": 295,
     "metadata": {},
     "output_type": "execute_result"
    }
   ],
   "source": [
    "laptops[\"storage\"].unique()"
   ]
  },
  {
   "cell_type": "code",
   "execution_count": 297,
   "metadata": {},
   "outputs": [
    {
     "data": {
      "text/plain": [
       "array([ 128,  256,  512,  500, 1000,   32,   64, 2000,   16,    1,  240,\n",
       "          8,  508])"
      ]
     },
     "execution_count": 297,
     "metadata": {},
     "output_type": "execute_result"
    }
   ],
   "source": [
    "laptops[\"storage_size_gb\"] = laptops[\"storage\"].str.split(\" \").str[0]\n",
    "laptops[\"storage_size_gb\"] = laptops[\"storage_size_gb\"].str.replace(\"GB\", \"\")\n",
    "laptops[\"storage_size_gb\"] = laptops[\"storage_size_gb\"].str.replace(\"TB\", \"000\")\n",
    "laptops[\"storage_size_gb\"] = laptops[\"storage_size_gb\"].astype(\"int\")\n",
    "\n",
    "\n",
    "laptops[\"storage_size_gb\"].unique()"
   ]
  },
  {
   "cell_type": "code",
   "execution_count": 308,
   "metadata": {},
   "outputs": [
    {
     "data": {
      "text/plain": [
       "manufacturer           object\n",
       "model_name             object\n",
       "screen_size_inches    float64\n",
       "screen                 object\n",
       "cpu                    object\n",
       "ram_gb                  int64\n",
       "storage                object\n",
       "os                     object\n",
       "os_version             object\n",
       "weight                float64\n",
       "price_euros           float64\n",
       "gpu_manufacturer       object\n",
       "cpu_manufacturer       object\n",
       "cpu_speed_ghz         float64\n",
       "storage_size_gb         int64\n",
       "screen_width_px         int64\n",
       "screen_high_px          int64\n",
       "dtype: object"
      ]
     },
     "execution_count": 308,
     "metadata": {},
     "output_type": "execute_result"
    }
   ],
   "source": [
    "laptops.dtypes"
   ]
  },
  {
   "cell_type": "markdown",
   "metadata": {},
   "source": [
    "## Save clean data to CSV file"
   ]
  },
  {
   "cell_type": "code",
   "execution_count": 313,
   "metadata": {},
   "outputs": [],
   "source": [
    "laptops.to_csv(\"data/OUTPUT_laptops_cleaned.csv\", index=False)"
   ]
  },
  {
   "cell_type": "markdown",
   "metadata": {},
   "source": [
    "## Analiza"
   ]
  },
  {
   "cell_type": "markdown",
   "metadata": {},
   "source": [
    "### Are laptops made by Apple more expensive than those made by other manufacturers?\n"
   ]
  },
  {
   "cell_type": "code",
   "execution_count": 329,
   "metadata": {},
   "outputs": [
    {
     "data": {
      "text/plain": [
       "manufacturer\n",
       "Razer                       3346.142857\n",
       "LG                          2099.000000\n",
       "Micro-Star International    1728.908148\n",
       "Google                      1677.666667\n",
       "Microsoft                   1612.308333\n",
       "Apple                       1564.198571\n",
       "Huawei                      1424.000000\n",
       "Samsung                     1413.444444\n",
       "Toshiba                     1267.812500\n",
       "Dell                        1199.225120\n",
       "Xiaomi                      1133.462500\n",
       "Asus                        1123.829737\n",
       "Lenovo                      1093.862215\n",
       "HP                          1080.314664\n",
       "Fujitsu                      729.000000\n",
       "Acer                         633.464455\n",
       "Chuwi                        314.296667\n",
       "Mediacom                     295.000000\n",
       "Vero                         217.425000\n",
       "Name: price_euros, dtype: float64"
      ]
     },
     "execution_count": 329,
     "metadata": {},
     "output_type": "execute_result"
    }
   ],
   "source": [
    "# dobra rešitev \n",
    "laptops.groupby('manufacturer')['price_euros'].mean().sort_values(ascending=False)"
   ]
  },
  {
   "cell_type": "code",
   "execution_count": 328,
   "metadata": {},
   "outputs": [
    {
     "data": {
      "text/plain": [
       "[('Razer', 3346.1428571428573),\n",
       " ('LG', 2099.0),\n",
       " ('Micro-Star International', 1728.9081481481483),\n",
       " ('Google', 1677.6666666666667),\n",
       " ('Microsoft', 1612.3083333333334),\n",
       " ('Apple', 1564.1985714285713),\n",
       " ('Huawei', 1424.0),\n",
       " ('Samsung', 1413.4444444444443),\n",
       " ('Toshiba', 1267.8125),\n",
       " ('Dell', 1199.2251202749142),\n",
       " ('Xiaomi', 1133.4625),\n",
       " ('Asus', 1123.8297368421051),\n",
       " ('Lenovo', 1093.8622145328723),\n",
       " ('HP', 1080.3146641791045),\n",
       " ('Fujitsu', 729.0),\n",
       " ('Acer', 633.4644554455446),\n",
       " ('Chuwi', 314.2966666666667),\n",
       " ('Mediacom', 295.0),\n",
       " ('Vero', 217.425)]"
      ]
     },
     "execution_count": 328,
     "metadata": {},
     "output_type": "execute_result"
    }
   ],
   "source": [
    "# opcija z našim znanjem\n",
    "results = {}\n",
    "\n",
    "for manufacturer_name in laptops[\"manufacturer\"].unique():\n",
    "    results[manufacturer_name] = laptops.loc[laptops[\"manufacturer\"] == manufacturer_name, \"price_euros\"].mean()\n",
    "    \n",
    "sorted(results.items(), key= lambda item: item[1], reverse=True)"
   ]
  },
  {
   "cell_type": "code",
   "execution_count": 335,
   "metadata": {},
   "outputs": [
    {
     "data": {
      "text/plain": [
       "Razer                       3346.142857\n",
       "LG                          2099.000000\n",
       "Micro-Star International    1728.908148\n",
       "Google                      1677.666667\n",
       "Microsoft                   1612.308333\n",
       "Apple                       1564.198571\n",
       "Huawei                      1424.000000\n",
       "Samsung                     1413.444444\n",
       "Toshiba                     1267.812500\n",
       "Dell                        1199.225120\n",
       "Xiaomi                      1133.462500\n",
       "Asus                        1123.829737\n",
       "Lenovo                      1093.862215\n",
       "HP                          1080.314664\n",
       "Fujitsu                      729.000000\n",
       "Acer                         633.464455\n",
       "Chuwi                        314.296667\n",
       "Mediacom                     295.000000\n",
       "Vero                         217.425000\n",
       "dtype: float64"
      ]
     },
     "execution_count": 335,
     "metadata": {},
     "output_type": "execute_result"
    }
   ],
   "source": [
    "pd.Series(results).sort_values(ascending=False)"
   ]
  },
  {
   "cell_type": "markdown",
   "metadata": {},
   "source": [
    "### What is the best value laptop with a screen size of 15\" or more?\n",
    "            "
   ]
  },
  {
   "cell_type": "code",
   "execution_count": 336,
   "metadata": {},
   "outputs": [],
   "source": [
    "cols_to_show = ['manufacturer', 'model_name', 'price_euros', 'screen_size_inches']"
   ]
  },
  {
   "cell_type": "code",
   "execution_count": 340,
   "metadata": {},
   "outputs": [
    {
     "data": {
      "text/html": [
       "<div>\n",
       "<style scoped>\n",
       "    .dataframe tbody tr th:only-of-type {\n",
       "        vertical-align: middle;\n",
       "    }\n",
       "\n",
       "    .dataframe tbody tr th {\n",
       "        vertical-align: top;\n",
       "    }\n",
       "\n",
       "    .dataframe thead th {\n",
       "        text-align: right;\n",
       "    }\n",
       "</style>\n",
       "<table border=\"1\" class=\"dataframe\">\n",
       "  <thead>\n",
       "    <tr style=\"text-align: right;\">\n",
       "      <th></th>\n",
       "      <th>manufacturer</th>\n",
       "      <th>model_name</th>\n",
       "      <th>price_euros</th>\n",
       "      <th>screen_size_inches</th>\n",
       "    </tr>\n",
       "  </thead>\n",
       "  <tbody>\n",
       "    <tr>\n",
       "      <th>290</th>\n",
       "      <td>Acer</td>\n",
       "      <td>Chromebook C910-C2ST</td>\n",
       "      <td>199.00</td>\n",
       "      <td>15.6</td>\n",
       "    </tr>\n",
       "    <tr>\n",
       "      <th>1102</th>\n",
       "      <td>Acer</td>\n",
       "      <td>Chromebook 15</td>\n",
       "      <td>209.00</td>\n",
       "      <td>15.6</td>\n",
       "    </tr>\n",
       "    <tr>\n",
       "      <th>555</th>\n",
       "      <td>Asus</td>\n",
       "      <td>A541NA-GO342 (N3350/4GB/500GB/Linux)</td>\n",
       "      <td>224.00</td>\n",
       "      <td>15.6</td>\n",
       "    </tr>\n",
       "    <tr>\n",
       "      <th>30</th>\n",
       "      <td>Chuwi</td>\n",
       "      <td>LapBook 15.6\"</td>\n",
       "      <td>244.99</td>\n",
       "      <td>15.6</td>\n",
       "    </tr>\n",
       "    <tr>\n",
       "      <th>483</th>\n",
       "      <td>Chuwi</td>\n",
       "      <td>Lapbook 15,6</td>\n",
       "      <td>248.90</td>\n",
       "      <td>15.6</td>\n",
       "    </tr>\n",
       "  </tbody>\n",
       "</table>\n",
       "</div>"
      ],
      "text/plain": [
       "     manufacturer                            model_name  price_euros  \\\n",
       "290          Acer                  Chromebook C910-C2ST       199.00   \n",
       "1102         Acer                         Chromebook 15       209.00   \n",
       "555          Asus  A541NA-GO342 (N3350/4GB/500GB/Linux)       224.00   \n",
       "30          Chuwi                         LapBook 15.6\"       244.99   \n",
       "483         Chuwi                          Lapbook 15,6       248.90   \n",
       "\n",
       "      screen_size_inches  \n",
       "290                 15.6  \n",
       "1102                15.6  \n",
       "555                 15.6  \n",
       "30                  15.6  \n",
       "483                 15.6  "
      ]
     },
     "execution_count": 340,
     "metadata": {},
     "output_type": "execute_result"
    }
   ],
   "source": [
    "laptops.loc[laptops[\"screen_size_inches\"] >= 15, cols_to_show].sort_values(by=\"price_euros\").head()"
   ]
  },
  {
   "cell_type": "markdown",
   "metadata": {},
   "source": [
    "### Which laptop has the most RAM?"
   ]
  },
  {
   "cell_type": "code",
   "execution_count": 344,
   "metadata": {},
   "outputs": [
    {
     "data": {
      "text/html": [
       "<div>\n",
       "<style scoped>\n",
       "    .dataframe tbody tr th:only-of-type {\n",
       "        vertical-align: middle;\n",
       "    }\n",
       "\n",
       "    .dataframe tbody tr th {\n",
       "        vertical-align: top;\n",
       "    }\n",
       "\n",
       "    .dataframe thead th {\n",
       "        text-align: right;\n",
       "    }\n",
       "</style>\n",
       "<table border=\"1\" class=\"dataframe\">\n",
       "  <thead>\n",
       "    <tr style=\"text-align: right;\">\n",
       "      <th></th>\n",
       "      <th>manufacturer</th>\n",
       "      <th>model_name</th>\n",
       "      <th>screen_size_inches</th>\n",
       "      <th>screen</th>\n",
       "      <th>cpu</th>\n",
       "      <th>ram_gb</th>\n",
       "      <th>storage</th>\n",
       "      <th>os</th>\n",
       "      <th>os_version</th>\n",
       "      <th>weight</th>\n",
       "      <th>price_euros</th>\n",
       "      <th>gpu_manufacturer</th>\n",
       "      <th>cpu_manufacturer</th>\n",
       "      <th>cpu_speed_ghz</th>\n",
       "      <th>storage_size_gb</th>\n",
       "      <th>screen_width_px</th>\n",
       "      <th>screen_high_px</th>\n",
       "    </tr>\n",
       "  </thead>\n",
       "  <tbody>\n",
       "    <tr>\n",
       "      <th>1066</th>\n",
       "      <td>Asus</td>\n",
       "      <td>ROG G701VO</td>\n",
       "      <td>17.3</td>\n",
       "      <td>IPS Panel Full HD 1920x1080</td>\n",
       "      <td>Intel Core i7 6820HK 2.7GHz</td>\n",
       "      <td>64</td>\n",
       "      <td>1TB SSD</td>\n",
       "      <td>Windows</td>\n",
       "      <td>10</td>\n",
       "      <td>3.58</td>\n",
       "      <td>3975.0</td>\n",
       "      <td>Nvidia</td>\n",
       "      <td>Intel</td>\n",
       "      <td>2.7</td>\n",
       "      <td>1000</td>\n",
       "      <td>1920</td>\n",
       "      <td>1080</td>\n",
       "    </tr>\n",
       "  </tbody>\n",
       "</table>\n",
       "</div>"
      ],
      "text/plain": [
       "     manufacturer  model_name  screen_size_inches  \\\n",
       "1066         Asus  ROG G701VO                17.3   \n",
       "\n",
       "                           screen                          cpu  ram_gb  \\\n",
       "1066  IPS Panel Full HD 1920x1080  Intel Core i7 6820HK 2.7GHz      64   \n",
       "\n",
       "      storage       os os_version  weight  price_euros gpu_manufacturer  \\\n",
       "1066  1TB SSD  Windows         10    3.58       3975.0           Nvidia   \n",
       "\n",
       "     cpu_manufacturer  cpu_speed_ghz  storage_size_gb  screen_width_px  \\\n",
       "1066            Intel            2.7             1000             1920   \n",
       "\n",
       "      screen_high_px  \n",
       "1066            1080  "
      ]
     },
     "execution_count": 344,
     "metadata": {},
     "output_type": "execute_result"
    }
   ],
   "source": [
    "laptops.loc[laptops[\"ram_gb\"] == laptops[\"ram_gb\"].max(), :]"
   ]
  }
 ],
 "metadata": {
  "kernelspec": {
   "display_name": "Python 3 (ipykernel)",
   "language": "python",
   "name": "python3"
  },
  "language_info": {
   "codemirror_mode": {
    "name": "ipython",
    "version": 3
   },
   "file_extension": ".py",
   "mimetype": "text/x-python",
   "name": "python",
   "nbconvert_exporter": "python",
   "pygments_lexer": "ipython3",
   "version": "3.8.10"
  }
 },
 "nbformat": 4,
 "nbformat_minor": 2
}
