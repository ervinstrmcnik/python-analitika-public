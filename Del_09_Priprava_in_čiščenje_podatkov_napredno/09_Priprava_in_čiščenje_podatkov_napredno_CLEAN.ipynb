{
 "cells": [
  {
   "cell_type": "markdown",
   "metadata": {},
   "source": [
    "# Del 9: Priprava in čiščenje podatkov - napredno"
   ]
  },
  {
   "cell_type": "markdown",
   "metadata": {},
   "source": [
    "Pripravimo datasete:"
   ]
  },
  {
   "cell_type": "code",
   "execution_count": 3,
   "metadata": {},
   "outputs": [],
   "source": [
    "!tar -xJf data/data_del_09.tar.xz -C ./data/"
   ]
  },
  {
   "cell_type": "markdown",
   "metadata": {},
   "source": [
    "## Working With Strings In Pandas"
   ]
  },
  {
   "cell_type": "markdown",
   "metadata": {},
   "source": [
    "### Data"
   ]
  },
  {
   "cell_type": "code",
   "execution_count": 4,
   "metadata": {},
   "outputs": [],
   "source": [
    "import pandas as pd\n",
    "import numpy as np\n",
    "%matplotlib inline\n",
    "import matplotlib.pyplot as plt"
   ]
  },
  {
   "cell_type": "code",
   "execution_count": 5,
   "metadata": {},
   "outputs": [],
   "source": [
    "# read the data sets into pandas\n",
    "world_dev = pd.read_csv(\"data/World_dev.csv\")\n",
    "happiness2015 = pd.read_csv('data/World_Happiness_2015.csv')"
   ]
  },
  {
   "cell_type": "code",
   "execution_count": 6,
   "metadata": {},
   "outputs": [
    {
     "data": {
      "text/html": [
       "<div>\n",
       "<style scoped>\n",
       "    .dataframe tbody tr th:only-of-type {\n",
       "        vertical-align: middle;\n",
       "    }\n",
       "\n",
       "    .dataframe tbody tr th {\n",
       "        vertical-align: top;\n",
       "    }\n",
       "\n",
       "    .dataframe thead th {\n",
       "        text-align: right;\n",
       "    }\n",
       "</style>\n",
       "<table border=\"1\" class=\"dataframe\">\n",
       "  <thead>\n",
       "    <tr style=\"text-align: right;\">\n",
       "      <th></th>\n",
       "      <th>Country</th>\n",
       "      <th>Region</th>\n",
       "      <th>Happiness Rank</th>\n",
       "      <th>Happiness Score</th>\n",
       "      <th>Standard Error</th>\n",
       "      <th>Economy (GDP per Capita)</th>\n",
       "      <th>Family</th>\n",
       "      <th>Health (Life Expectancy)</th>\n",
       "      <th>Freedom</th>\n",
       "      <th>Trust (Government Corruption)</th>\n",
       "      <th>Generosity</th>\n",
       "      <th>Dystopia Residual</th>\n",
       "    </tr>\n",
       "  </thead>\n",
       "  <tbody>\n",
       "    <tr>\n",
       "      <th>0</th>\n",
       "      <td>Switzerland</td>\n",
       "      <td>Western Europe</td>\n",
       "      <td>1</td>\n",
       "      <td>7.587</td>\n",
       "      <td>0.03411</td>\n",
       "      <td>1.39651</td>\n",
       "      <td>1.34951</td>\n",
       "      <td>0.94143</td>\n",
       "      <td>0.66557</td>\n",
       "      <td>0.41978</td>\n",
       "      <td>0.29678</td>\n",
       "      <td>2.51738</td>\n",
       "    </tr>\n",
       "    <tr>\n",
       "      <th>1</th>\n",
       "      <td>Iceland</td>\n",
       "      <td>Western Europe</td>\n",
       "      <td>2</td>\n",
       "      <td>7.561</td>\n",
       "      <td>0.04884</td>\n",
       "      <td>1.30232</td>\n",
       "      <td>1.40223</td>\n",
       "      <td>0.94784</td>\n",
       "      <td>0.62877</td>\n",
       "      <td>0.14145</td>\n",
       "      <td>0.43630</td>\n",
       "      <td>2.70201</td>\n",
       "    </tr>\n",
       "    <tr>\n",
       "      <th>2</th>\n",
       "      <td>Denmark</td>\n",
       "      <td>Western Europe</td>\n",
       "      <td>3</td>\n",
       "      <td>7.527</td>\n",
       "      <td>0.03328</td>\n",
       "      <td>1.32548</td>\n",
       "      <td>1.36058</td>\n",
       "      <td>0.87464</td>\n",
       "      <td>0.64938</td>\n",
       "      <td>0.48357</td>\n",
       "      <td>0.34139</td>\n",
       "      <td>2.49204</td>\n",
       "    </tr>\n",
       "    <tr>\n",
       "      <th>3</th>\n",
       "      <td>Norway</td>\n",
       "      <td>Western Europe</td>\n",
       "      <td>4</td>\n",
       "      <td>7.522</td>\n",
       "      <td>0.03880</td>\n",
       "      <td>1.45900</td>\n",
       "      <td>1.33095</td>\n",
       "      <td>0.88521</td>\n",
       "      <td>0.66973</td>\n",
       "      <td>0.36503</td>\n",
       "      <td>0.34699</td>\n",
       "      <td>2.46531</td>\n",
       "    </tr>\n",
       "    <tr>\n",
       "      <th>4</th>\n",
       "      <td>Canada</td>\n",
       "      <td>North America</td>\n",
       "      <td>5</td>\n",
       "      <td>7.427</td>\n",
       "      <td>0.03553</td>\n",
       "      <td>1.32629</td>\n",
       "      <td>1.32261</td>\n",
       "      <td>0.90563</td>\n",
       "      <td>0.63297</td>\n",
       "      <td>0.32957</td>\n",
       "      <td>0.45811</td>\n",
       "      <td>2.45176</td>\n",
       "    </tr>\n",
       "  </tbody>\n",
       "</table>\n",
       "</div>"
      ],
      "text/plain": [
       "       Country          Region  Happiness Rank  Happiness Score  \\\n",
       "0  Switzerland  Western Europe               1            7.587   \n",
       "1      Iceland  Western Europe               2            7.561   \n",
       "2      Denmark  Western Europe               3            7.527   \n",
       "3       Norway  Western Europe               4            7.522   \n",
       "4       Canada   North America               5            7.427   \n",
       "\n",
       "   Standard Error  Economy (GDP per Capita)   Family  \\\n",
       "0         0.03411                   1.39651  1.34951   \n",
       "1         0.04884                   1.30232  1.40223   \n",
       "2         0.03328                   1.32548  1.36058   \n",
       "3         0.03880                   1.45900  1.33095   \n",
       "4         0.03553                   1.32629  1.32261   \n",
       "\n",
       "   Health (Life Expectancy)  Freedom  Trust (Government Corruption)  \\\n",
       "0                   0.94143  0.66557                        0.41978   \n",
       "1                   0.94784  0.62877                        0.14145   \n",
       "2                   0.87464  0.64938                        0.48357   \n",
       "3                   0.88521  0.66973                        0.36503   \n",
       "4                   0.90563  0.63297                        0.32957   \n",
       "\n",
       "   Generosity  Dystopia Residual  \n",
       "0     0.29678            2.51738  \n",
       "1     0.43630            2.70201  \n",
       "2     0.34139            2.49204  \n",
       "3     0.34699            2.46531  \n",
       "4     0.45811            2.45176  "
      ]
     },
     "execution_count": 6,
     "metadata": {},
     "output_type": "execute_result"
    }
   ],
   "source": [
    "happiness2015.head()"
   ]
  },
  {
   "cell_type": "code",
   "execution_count": 7,
   "metadata": {},
   "outputs": [
    {
     "data": {
      "text/html": [
       "<div>\n",
       "<style scoped>\n",
       "    .dataframe tbody tr th:only-of-type {\n",
       "        vertical-align: middle;\n",
       "    }\n",
       "\n",
       "    .dataframe tbody tr th {\n",
       "        vertical-align: top;\n",
       "    }\n",
       "\n",
       "    .dataframe thead th {\n",
       "        text-align: right;\n",
       "    }\n",
       "</style>\n",
       "<table border=\"1\" class=\"dataframe\">\n",
       "  <thead>\n",
       "    <tr style=\"text-align: right;\">\n",
       "      <th></th>\n",
       "      <th>CountryCode</th>\n",
       "      <th>ShortName</th>\n",
       "      <th>TableName</th>\n",
       "      <th>LongName</th>\n",
       "      <th>Alpha2Code</th>\n",
       "      <th>CurrencyUnit</th>\n",
       "      <th>SpecialNotes</th>\n",
       "      <th>Region</th>\n",
       "      <th>IncomeGroup</th>\n",
       "      <th>Wb2Code</th>\n",
       "      <th>...</th>\n",
       "      <th>GovernmentAccountingConcept</th>\n",
       "      <th>ImfDataDisseminationStandard</th>\n",
       "      <th>LatestPopulationCensus</th>\n",
       "      <th>LatestHouseholdSurvey</th>\n",
       "      <th>SourceOfMostRecentIncomeAndExpenditureData</th>\n",
       "      <th>VitalRegistrationComplete</th>\n",
       "      <th>LatestAgriculturalCensus</th>\n",
       "      <th>LatestIndustrialData</th>\n",
       "      <th>LatestTradeData</th>\n",
       "      <th>LatestWaterWithdrawalData</th>\n",
       "    </tr>\n",
       "  </thead>\n",
       "  <tbody>\n",
       "    <tr>\n",
       "      <th>0</th>\n",
       "      <td>AFG</td>\n",
       "      <td>Afghanistan</td>\n",
       "      <td>Afghanistan</td>\n",
       "      <td>Islamic State of Afghanistan</td>\n",
       "      <td>AF</td>\n",
       "      <td>Afghan afghani</td>\n",
       "      <td>Fiscal year end: March 20; reporting period fo...</td>\n",
       "      <td>South Asia</td>\n",
       "      <td>Low income</td>\n",
       "      <td>AF</td>\n",
       "      <td>...</td>\n",
       "      <td>Consolidated central government</td>\n",
       "      <td>General Data Dissemination System (GDDS)</td>\n",
       "      <td>1979</td>\n",
       "      <td>Multiple Indicator Cluster Survey (MICS), 2010/11</td>\n",
       "      <td>Integrated household survey (IHS), 2008</td>\n",
       "      <td>NaN</td>\n",
       "      <td>2013/14</td>\n",
       "      <td>NaN</td>\n",
       "      <td>2013.0</td>\n",
       "      <td>2000.0</td>\n",
       "    </tr>\n",
       "    <tr>\n",
       "      <th>1</th>\n",
       "      <td>ALB</td>\n",
       "      <td>Albania</td>\n",
       "      <td>Albania</td>\n",
       "      <td>Republic of Albania</td>\n",
       "      <td>AL</td>\n",
       "      <td>Albanian lek</td>\n",
       "      <td>NaN</td>\n",
       "      <td>Europe &amp; Central Asia</td>\n",
       "      <td>Upper middle income</td>\n",
       "      <td>AL</td>\n",
       "      <td>...</td>\n",
       "      <td>Budgetary central government</td>\n",
       "      <td>General Data Dissemination System (GDDS)</td>\n",
       "      <td>2011</td>\n",
       "      <td>Demographic and Health Survey (DHS), 2008/09</td>\n",
       "      <td>Living Standards Measurement Study Survey (LSM...</td>\n",
       "      <td>Yes</td>\n",
       "      <td>2012</td>\n",
       "      <td>2011.0</td>\n",
       "      <td>2013.0</td>\n",
       "      <td>2006.0</td>\n",
       "    </tr>\n",
       "    <tr>\n",
       "      <th>2</th>\n",
       "      <td>DZA</td>\n",
       "      <td>Algeria</td>\n",
       "      <td>Algeria</td>\n",
       "      <td>People's Democratic Republic of Algeria</td>\n",
       "      <td>DZ</td>\n",
       "      <td>Algerian dinar</td>\n",
       "      <td>NaN</td>\n",
       "      <td>Middle East &amp; North Africa</td>\n",
       "      <td>Upper middle income</td>\n",
       "      <td>DZ</td>\n",
       "      <td>...</td>\n",
       "      <td>Budgetary central government</td>\n",
       "      <td>General Data Dissemination System (GDDS)</td>\n",
       "      <td>2008</td>\n",
       "      <td>Multiple Indicator Cluster Survey (MICS), 2012</td>\n",
       "      <td>Integrated household survey (IHS), 1995</td>\n",
       "      <td>NaN</td>\n",
       "      <td>NaN</td>\n",
       "      <td>2010.0</td>\n",
       "      <td>2013.0</td>\n",
       "      <td>2001.0</td>\n",
       "    </tr>\n",
       "    <tr>\n",
       "      <th>3</th>\n",
       "      <td>ASM</td>\n",
       "      <td>American Samoa</td>\n",
       "      <td>American Samoa</td>\n",
       "      <td>American Samoa</td>\n",
       "      <td>AS</td>\n",
       "      <td>U.S. dollar</td>\n",
       "      <td>NaN</td>\n",
       "      <td>East Asia &amp; Pacific</td>\n",
       "      <td>Upper middle income</td>\n",
       "      <td>AS</td>\n",
       "      <td>...</td>\n",
       "      <td>NaN</td>\n",
       "      <td>NaN</td>\n",
       "      <td>2010</td>\n",
       "      <td>NaN</td>\n",
       "      <td>NaN</td>\n",
       "      <td>Yes</td>\n",
       "      <td>2007</td>\n",
       "      <td>NaN</td>\n",
       "      <td>NaN</td>\n",
       "      <td>NaN</td>\n",
       "    </tr>\n",
       "    <tr>\n",
       "      <th>4</th>\n",
       "      <td>ADO</td>\n",
       "      <td>Andorra</td>\n",
       "      <td>Andorra</td>\n",
       "      <td>Principality of Andorra</td>\n",
       "      <td>AD</td>\n",
       "      <td>Euro</td>\n",
       "      <td>NaN</td>\n",
       "      <td>Europe &amp; Central Asia</td>\n",
       "      <td>High income: nonOECD</td>\n",
       "      <td>AD</td>\n",
       "      <td>...</td>\n",
       "      <td>NaN</td>\n",
       "      <td>NaN</td>\n",
       "      <td>2011. Population data compiled from administra...</td>\n",
       "      <td>NaN</td>\n",
       "      <td>NaN</td>\n",
       "      <td>Yes</td>\n",
       "      <td>NaN</td>\n",
       "      <td>NaN</td>\n",
       "      <td>2006.0</td>\n",
       "      <td>NaN</td>\n",
       "    </tr>\n",
       "  </tbody>\n",
       "</table>\n",
       "<p>5 rows × 31 columns</p>\n",
       "</div>"
      ],
      "text/plain": [
       "  CountryCode       ShortName       TableName  \\\n",
       "0         AFG     Afghanistan     Afghanistan   \n",
       "1         ALB         Albania         Albania   \n",
       "2         DZA         Algeria         Algeria   \n",
       "3         ASM  American Samoa  American Samoa   \n",
       "4         ADO         Andorra         Andorra   \n",
       "\n",
       "                                  LongName Alpha2Code    CurrencyUnit  \\\n",
       "0             Islamic State of Afghanistan         AF  Afghan afghani   \n",
       "1                      Republic of Albania         AL    Albanian lek   \n",
       "2  People's Democratic Republic of Algeria         DZ  Algerian dinar   \n",
       "3                           American Samoa         AS     U.S. dollar   \n",
       "4                  Principality of Andorra         AD            Euro   \n",
       "\n",
       "                                        SpecialNotes  \\\n",
       "0  Fiscal year end: March 20; reporting period fo...   \n",
       "1                                                NaN   \n",
       "2                                                NaN   \n",
       "3                                                NaN   \n",
       "4                                                NaN   \n",
       "\n",
       "                       Region           IncomeGroup Wb2Code  ...  \\\n",
       "0                  South Asia            Low income      AF  ...   \n",
       "1       Europe & Central Asia   Upper middle income      AL  ...   \n",
       "2  Middle East & North Africa   Upper middle income      DZ  ...   \n",
       "3         East Asia & Pacific   Upper middle income      AS  ...   \n",
       "4       Europe & Central Asia  High income: nonOECD      AD  ...   \n",
       "\n",
       "       GovernmentAccountingConcept              ImfDataDisseminationStandard  \\\n",
       "0  Consolidated central government  General Data Dissemination System (GDDS)   \n",
       "1     Budgetary central government  General Data Dissemination System (GDDS)   \n",
       "2     Budgetary central government  General Data Dissemination System (GDDS)   \n",
       "3                              NaN                                       NaN   \n",
       "4                              NaN                                       NaN   \n",
       "\n",
       "                              LatestPopulationCensus  \\\n",
       "0                                               1979   \n",
       "1                                               2011   \n",
       "2                                               2008   \n",
       "3                                               2010   \n",
       "4  2011. Population data compiled from administra...   \n",
       "\n",
       "                               LatestHouseholdSurvey  \\\n",
       "0  Multiple Indicator Cluster Survey (MICS), 2010/11   \n",
       "1       Demographic and Health Survey (DHS), 2008/09   \n",
       "2     Multiple Indicator Cluster Survey (MICS), 2012   \n",
       "3                                                NaN   \n",
       "4                                                NaN   \n",
       "\n",
       "          SourceOfMostRecentIncomeAndExpenditureData  \\\n",
       "0            Integrated household survey (IHS), 2008   \n",
       "1  Living Standards Measurement Study Survey (LSM...   \n",
       "2            Integrated household survey (IHS), 1995   \n",
       "3                                                NaN   \n",
       "4                                                NaN   \n",
       "\n",
       "  VitalRegistrationComplete LatestAgriculturalCensus LatestIndustrialData  \\\n",
       "0                       NaN                  2013/14                  NaN   \n",
       "1                       Yes                     2012               2011.0   \n",
       "2                       NaN                      NaN               2010.0   \n",
       "3                       Yes                     2007                  NaN   \n",
       "4                       Yes                      NaN                  NaN   \n",
       "\n",
       "  LatestTradeData LatestWaterWithdrawalData  \n",
       "0          2013.0                    2000.0  \n",
       "1          2013.0                    2006.0  \n",
       "2          2013.0                    2001.0  \n",
       "3             NaN                       NaN  \n",
       "4          2006.0                       NaN  \n",
       "\n",
       "[5 rows x 31 columns]"
      ]
     },
     "execution_count": 7,
     "metadata": {},
     "output_type": "execute_result"
    }
   ],
   "source": [
    "world_dev.head()"
   ]
  },
  {
   "cell_type": "code",
   "execution_count": 8,
   "metadata": {},
   "outputs": [],
   "source": [
    "merged = pd.merge(left=happiness2015,\n",
    "                 right=world_dev,\n",
    "                 how='left',\n",
    "                 left_on='Country',\n",
    "                 right_on='ShortName')"
   ]
  },
  {
   "cell_type": "code",
   "execution_count": 9,
   "metadata": {},
   "outputs": [
    {
     "name": "stdout",
     "output_type": "stream",
     "text": [
      "<class 'pandas.core.frame.DataFrame'>\n",
      "Int64Index: 158 entries, 0 to 157\n",
      "Data columns (total 43 columns):\n",
      "Country                                       158 non-null object\n",
      "Region_x                                      158 non-null object\n",
      "Happiness Rank                                158 non-null int64\n",
      "Happiness Score                               158 non-null float64\n",
      "Standard Error                                158 non-null float64\n",
      "Economy (GDP per Capita)                      158 non-null float64\n",
      "Family                                        158 non-null float64\n",
      "Health (Life Expectancy)                      158 non-null float64\n",
      "Freedom                                       158 non-null float64\n",
      "Trust (Government Corruption)                 158 non-null float64\n",
      "Generosity                                    158 non-null float64\n",
      "Dystopia Residual                             158 non-null float64\n",
      "CountryCode                                   145 non-null object\n",
      "ShortName                                     145 non-null object\n",
      "TableName                                     145 non-null object\n",
      "LongName                                      145 non-null object\n",
      "Alpha2Code                                    144 non-null object\n",
      "CurrencyUnit                                  145 non-null object\n",
      "SpecialNotes                                  93 non-null object\n",
      "Region_y                                      145 non-null object\n",
      "IncomeGroup                                   145 non-null object\n",
      "Wb2Code                                       145 non-null object\n",
      "NationalAccountsBaseYear                      145 non-null object\n",
      "NationalAccountsReferenceYear                 48 non-null object\n",
      "SnaPriceValuation                             145 non-null object\n",
      "LendingCategory                               106 non-null object\n",
      "OtherGroups                                   48 non-null object\n",
      "SystemOfNationalAccounts                      145 non-null object\n",
      "AlternativeConversionFactor                   40 non-null object\n",
      "PppSurveyYear                                 139 non-null object\n",
      "BalanceOfPaymentsManualInUse                  141 non-null object\n",
      "ExternalDebtReportingStatus                   98 non-null object\n",
      "SystemOfTrade                                 143 non-null object\n",
      "GovernmentAccountingConcept                   128 non-null object\n",
      "ImfDataDisseminationStandard                  142 non-null object\n",
      "LatestPopulationCensus                        145 non-null object\n",
      "LatestHouseholdSurvey                         115 non-null object\n",
      "SourceOfMostRecentIncomeAndExpenditureData    130 non-null object\n",
      "VitalRegistrationComplete                     73 non-null object\n",
      "LatestAgriculturalCensus                      116 non-null object\n",
      "LatestIndustrialData                          99 non-null float64\n",
      "LatestTradeData                               139 non-null float64\n",
      "LatestWaterWithdrawalData                     144 non-null float64\n",
      "dtypes: float64(12), int64(1), object(30)\n",
      "memory usage: 54.3+ KB\n"
     ]
    }
   ],
   "source": [
    "merged.info()"
   ]
  },
  {
   "cell_type": "code",
   "execution_count": 10,
   "metadata": {},
   "outputs": [],
   "source": [
    "col_renaming = {'SourceOfMostRecentIncomeAndExpenditureData': 'IESurvey'}"
   ]
  },
  {
   "cell_type": "code",
   "execution_count": 11,
   "metadata": {},
   "outputs": [],
   "source": [
    "merged.rename(col_renaming, axis=1, inplace=True)"
   ]
  },
  {
   "cell_type": "code",
   "execution_count": 12,
   "metadata": {},
   "outputs": [
    {
     "data": {
      "text/html": [
       "<div>\n",
       "<style scoped>\n",
       "    .dataframe tbody tr th:only-of-type {\n",
       "        vertical-align: middle;\n",
       "    }\n",
       "\n",
       "    .dataframe tbody tr th {\n",
       "        vertical-align: top;\n",
       "    }\n",
       "\n",
       "    .dataframe thead th {\n",
       "        text-align: right;\n",
       "    }\n",
       "</style>\n",
       "<table border=\"1\" class=\"dataframe\">\n",
       "  <thead>\n",
       "    <tr style=\"text-align: right;\">\n",
       "      <th></th>\n",
       "      <th>Country</th>\n",
       "      <th>Region_x</th>\n",
       "      <th>Happiness Rank</th>\n",
       "      <th>Happiness Score</th>\n",
       "      <th>Standard Error</th>\n",
       "      <th>Economy (GDP per Capita)</th>\n",
       "      <th>Family</th>\n",
       "      <th>Health (Life Expectancy)</th>\n",
       "      <th>Freedom</th>\n",
       "      <th>Trust (Government Corruption)</th>\n",
       "      <th>...</th>\n",
       "      <th>GovernmentAccountingConcept</th>\n",
       "      <th>ImfDataDisseminationStandard</th>\n",
       "      <th>LatestPopulationCensus</th>\n",
       "      <th>LatestHouseholdSurvey</th>\n",
       "      <th>IESurvey</th>\n",
       "      <th>VitalRegistrationComplete</th>\n",
       "      <th>LatestAgriculturalCensus</th>\n",
       "      <th>LatestIndustrialData</th>\n",
       "      <th>LatestTradeData</th>\n",
       "      <th>LatestWaterWithdrawalData</th>\n",
       "    </tr>\n",
       "  </thead>\n",
       "  <tbody>\n",
       "    <tr>\n",
       "      <th>0</th>\n",
       "      <td>Switzerland</td>\n",
       "      <td>Western Europe</td>\n",
       "      <td>1</td>\n",
       "      <td>7.587</td>\n",
       "      <td>0.03411</td>\n",
       "      <td>1.39651</td>\n",
       "      <td>1.34951</td>\n",
       "      <td>0.94143</td>\n",
       "      <td>0.66557</td>\n",
       "      <td>0.41978</td>\n",
       "      <td>...</td>\n",
       "      <td>Consolidated central government</td>\n",
       "      <td>Special Data Dissemination Standard (SDDS)</td>\n",
       "      <td>2010</td>\n",
       "      <td>NaN</td>\n",
       "      <td>Expenditure survey/budget survey (ES/BS), 2004</td>\n",
       "      <td>Yes</td>\n",
       "      <td>2008</td>\n",
       "      <td>2010.0</td>\n",
       "      <td>2013.0</td>\n",
       "      <td>2000.0</td>\n",
       "    </tr>\n",
       "    <tr>\n",
       "      <th>1</th>\n",
       "      <td>Iceland</td>\n",
       "      <td>Western Europe</td>\n",
       "      <td>2</td>\n",
       "      <td>7.561</td>\n",
       "      <td>0.04884</td>\n",
       "      <td>1.30232</td>\n",
       "      <td>1.40223</td>\n",
       "      <td>0.94784</td>\n",
       "      <td>0.62877</td>\n",
       "      <td>0.14145</td>\n",
       "      <td>...</td>\n",
       "      <td>Consolidated central government</td>\n",
       "      <td>Special Data Dissemination Standard (SDDS)</td>\n",
       "      <td>2011</td>\n",
       "      <td>NaN</td>\n",
       "      <td>Integrated household survey (IHS), 2010</td>\n",
       "      <td>Yes</td>\n",
       "      <td>2010</td>\n",
       "      <td>2005.0</td>\n",
       "      <td>2013.0</td>\n",
       "      <td>2005.0</td>\n",
       "    </tr>\n",
       "  </tbody>\n",
       "</table>\n",
       "<p>2 rows × 43 columns</p>\n",
       "</div>"
      ],
      "text/plain": [
       "       Country        Region_x  Happiness Rank  Happiness Score  \\\n",
       "0  Switzerland  Western Europe               1            7.587   \n",
       "1      Iceland  Western Europe               2            7.561   \n",
       "\n",
       "   Standard Error  Economy (GDP per Capita)   Family  \\\n",
       "0         0.03411                   1.39651  1.34951   \n",
       "1         0.04884                   1.30232  1.40223   \n",
       "\n",
       "   Health (Life Expectancy)  Freedom  Trust (Government Corruption)  ...  \\\n",
       "0                   0.94143  0.66557                        0.41978  ...   \n",
       "1                   0.94784  0.62877                        0.14145  ...   \n",
       "\n",
       "       GovernmentAccountingConcept  \\\n",
       "0  Consolidated central government   \n",
       "1  Consolidated central government   \n",
       "\n",
       "                 ImfDataDisseminationStandard LatestPopulationCensus  \\\n",
       "0  Special Data Dissemination Standard (SDDS)                   2010   \n",
       "1  Special Data Dissemination Standard (SDDS)                   2011   \n",
       "\n",
       "  LatestHouseholdSurvey                                        IESurvey  \\\n",
       "0                   NaN  Expenditure survey/budget survey (ES/BS), 2004   \n",
       "1                   NaN         Integrated household survey (IHS), 2010   \n",
       "\n",
       "  VitalRegistrationComplete LatestAgriculturalCensus LatestIndustrialData  \\\n",
       "0                       Yes                     2008               2010.0   \n",
       "1                       Yes                     2010               2005.0   \n",
       "\n",
       "  LatestTradeData LatestWaterWithdrawalData  \n",
       "0          2013.0                    2000.0  \n",
       "1          2013.0                    2005.0  \n",
       "\n",
       "[2 rows x 43 columns]"
      ]
     },
     "execution_count": 12,
     "metadata": {},
     "output_type": "execute_result"
    }
   ],
   "source": [
    "merged.head(2)"
   ]
  },
  {
   "cell_type": "markdown",
   "metadata": {},
   "source": [
    "### Using Apply to Transform Strings"
   ]
  },
  {
   "cell_type": "code",
   "execution_count": 13,
   "metadata": {},
   "outputs": [
    {
     "data": {
      "text/plain": [
       "0        Swiss franc\n",
       "1      Iceland krona\n",
       "2       Danish krone\n",
       "3    Norwegian krone\n",
       "4    Canadian dollar\n",
       "Name: CurrencyUnit, dtype: object"
      ]
     },
     "execution_count": 13,
     "metadata": {},
     "output_type": "execute_result"
    }
   ],
   "source": [
    "merged['CurrencyUnit'].head()"
   ]
  },
  {
   "cell_type": "code",
   "execution_count": 14,
   "metadata": {},
   "outputs": [],
   "source": [
    "words = 'Danish krone'"
   ]
  },
  {
   "cell_type": "code",
   "execution_count": 15,
   "metadata": {},
   "outputs": [
    {
     "data": {
      "text/plain": [
       "'krone'"
      ]
     },
     "execution_count": 15,
     "metadata": {},
     "output_type": "execute_result"
    }
   ],
   "source": [
    "words.split()[-1]"
   ]
  },
  {
   "cell_type": "code",
   "execution_count": 16,
   "metadata": {},
   "outputs": [],
   "source": [
    "def extract_last_word(element):\n",
    "    return str(element).split()[-1]"
   ]
  },
  {
   "cell_type": "code",
   "execution_count": 17,
   "metadata": {},
   "outputs": [],
   "source": [
    "merged['Currency Apply'] = merged['CurrencyUnit'].apply(extract_last_word)"
   ]
  },
  {
   "cell_type": "code",
   "execution_count": 18,
   "metadata": {},
   "outputs": [
    {
     "data": {
      "text/plain": [
       "0     franc\n",
       "1     krona\n",
       "2     krone\n",
       "3     krone\n",
       "4    dollar\n",
       "Name: Currency Apply, dtype: object"
      ]
     },
     "execution_count": 18,
     "metadata": {},
     "output_type": "execute_result"
    }
   ],
   "source": [
    "merged['Currency Apply'].head()"
   ]
  },
  {
   "cell_type": "markdown",
   "metadata": {},
   "source": [
    "### Vectorized String Methods"
   ]
  },
  {
   "cell_type": "markdown",
   "metadata": {},
   "source": [
    "<img src=\"./images/Split.png\">"
   ]
  },
  {
   "cell_type": "markdown",
   "metadata": {},
   "source": [
    "<table class=\"tg\">\n",
    "<tbody><tr>\n",
    "<th>Method</th>\n",
    "<th>Description</th>\n",
    "</tr>\n",
    "<tr>\n",
    "<td>Series.str.split()</td>\n",
    "<td>Splits each element in the Series.</td>\n",
    "</tr>\n",
    "<tr>\n",
    "<td>Series.str.strip()</td>\n",
    "<td>Strips whitespace from each string in the Series.</td>\n",
    "</tr>\n",
    "<tr>\n",
    "<td>Series.str.lower()</td>\n",
    "<td>Converts strings in the Series to lowercase.</td>\n",
    "</tr>\n",
    "<tr>\n",
    "<td>Series.str.upper()</td>\n",
    "<td>Converts strings in the Series to uppercase.</td>\n",
    "</tr>\n",
    "<tr>\n",
    "<td>Series.str.get()</td>\n",
    "<td>Retrieves the ith element of each element in the Series.</td>\n",
    "</tr>\n",
    "<tr>\n",
    "<td><span style=\"font-weight:300;font-style:normal\">Series.str.replace()</span></td>\n",
    "<td><span style=\"font-weight:300;font-style:normal\">Replaces a regex or string in the Series with another string.</span></td>\n",
    "</tr>\n",
    "<tr>\n",
    "<td>Series.str.cat()</td>\n",
    "<td>Concatenates strings in a Series.</td>\n",
    "</tr>\n",
    "<tr>\n",
    "<td><span style=\"font-weight:300;font-style:normal\">Series.str.extract()</span></td>\n",
    "<td><span style=\"font-weight:300;font-style:normal\">Extracts substrings from the Series matching a regex pattern.</span></td>\n",
    "</tr>\n",
    "</tbody></table>"
   ]
  },
  {
   "cell_type": "markdown",
   "metadata": {},
   "source": [
    "<img src=\"./images/Syntax.png\">"
   ]
  },
  {
   "cell_type": "code",
   "execution_count": 19,
   "metadata": {},
   "outputs": [
    {
     "data": {
      "text/plain": [
       "0       franc\n",
       "1       krona\n",
       "2       krone\n",
       "3       krone\n",
       "4      dollar\n",
       "        ...  \n",
       "153     franc\n",
       "154     franc\n",
       "155       NaN\n",
       "156     franc\n",
       "157     franc\n",
       "Name: Currency Vectorized, Length: 158, dtype: object"
      ]
     },
     "execution_count": 19,
     "metadata": {},
     "output_type": "execute_result"
    }
   ],
   "source": [
    "merged['Currency Vectorized'] = merged['CurrencyUnit'].str.split().str.get(-1)\n",
    "merged['Currency Vectorized']"
   ]
  },
  {
   "cell_type": "markdown",
   "metadata": {},
   "source": [
    "#### Exploring Missing Values with Vectorized String Methods"
   ]
  },
  {
   "cell_type": "code",
   "execution_count": 20,
   "metadata": {},
   "outputs": [
    {
     "data": {
      "text/plain": [
       "13"
      ]
     },
     "execution_count": 20,
     "metadata": {},
     "output_type": "execute_result"
    }
   ],
   "source": [
    "merged['CurrencyUnit'].isnull().sum() # število manjkajočih vrednosti"
   ]
  },
  {
   "cell_type": "code",
   "execution_count": 21,
   "metadata": {},
   "outputs": [],
   "source": [
    "def compute_lengths(element):\n",
    "    return len(str(element))"
   ]
  },
  {
   "cell_type": "code",
   "execution_count": 22,
   "metadata": {},
   "outputs": [],
   "source": [
    "lengths_apply = merged['CurrencyUnit'].apply(compute_lengths)"
   ]
  },
  {
   "cell_type": "code",
   "execution_count": 23,
   "metadata": {},
   "outputs": [
    {
     "data": {
      "text/plain": [
       "14    21\n",
       "4     20\n",
       "12    17\n",
       "13    14\n",
       "3     13\n",
       "15    13\n",
       "16    12\n",
       "18     9\n",
       "17     9\n",
       "11     8\n",
       "22     7\n",
       "25     5\n",
       "19     3\n",
       "9      2\n",
       "26     1\n",
       "20     1\n",
       "23     1\n",
       "10     1\n",
       "39     1\n",
       "Name: CurrencyUnit, dtype: int64"
      ]
     },
     "execution_count": 23,
     "metadata": {},
     "output_type": "execute_result"
    }
   ],
   "source": [
    "lengths_apply.value_counts(dropna=False)"
   ]
  },
  {
   "cell_type": "code",
   "execution_count": 24,
   "metadata": {},
   "outputs": [],
   "source": [
    "def compute_lengths(element):\n",
    "    if pd.isnull(element):\n",
    "        pass\n",
    "    else:\n",
    "        return len(str(element))"
   ]
  },
  {
   "cell_type": "code",
   "execution_count": 25,
   "metadata": {},
   "outputs": [],
   "source": [
    "lengths_apply = merged['CurrencyUnit'].apply(compute_lengths)"
   ]
  },
  {
   "cell_type": "code",
   "execution_count": 26,
   "metadata": {},
   "outputs": [
    {
     "data": {
      "text/plain": [
       "14.0    21\n",
       "4.0     20\n",
       "12.0    17\n",
       "13.0    14\n",
       "NaN     13\n",
       "15.0    13\n",
       "16.0    12\n",
       "18.0     9\n",
       "17.0     9\n",
       "11.0     8\n",
       "22.0     7\n",
       "25.0     5\n",
       "19.0     3\n",
       "9.0      2\n",
       "10.0     1\n",
       "39.0     1\n",
       "26.0     1\n",
       "23.0     1\n",
       "20.0     1\n",
       "Name: CurrencyUnit, dtype: int64"
      ]
     },
     "execution_count": 26,
     "metadata": {},
     "output_type": "execute_result"
    }
   ],
   "source": [
    "lengths_apply.value_counts(dropna=False)"
   ]
  },
  {
   "cell_type": "code",
   "execution_count": 27,
   "metadata": {},
   "outputs": [
    {
     "data": {
      "text/plain": [
       "14.0    21\n",
       "4.0     20\n",
       "12.0    17\n",
       "13.0    14\n",
       "NaN     13\n",
       "15.0    13\n",
       "16.0    12\n",
       "18.0     9\n",
       "17.0     9\n",
       "11.0     8\n",
       "22.0     7\n",
       "25.0     5\n",
       "19.0     3\n",
       "9.0      2\n",
       "10.0     1\n",
       "39.0     1\n",
       "26.0     1\n",
       "23.0     1\n",
       "20.0     1\n",
       "Name: CurrencyUnit, dtype: int64"
      ]
     },
     "execution_count": 27,
     "metadata": {},
     "output_type": "execute_result"
    }
   ],
   "source": [
    "merged['CurrencyUnit'].str.len().value_counts(dropna=False)"
   ]
  },
  {
   "cell_type": "markdown",
   "metadata": {},
   "source": [
    "## Regular Expressions in Pandas"
   ]
  },
  {
   "cell_type": "markdown",
   "metadata": {},
   "source": [
    "https://regexr.com/"
   ]
  },
  {
   "cell_type": "markdown",
   "metadata": {},
   "source": [
    "### The Regular Expression Module"
   ]
  },
  {
   "cell_type": "code",
   "execution_count": 28,
   "metadata": {},
   "outputs": [],
   "source": [
    "import re"
   ]
  },
  {
   "cell_type": "code",
   "execution_count": 29,
   "metadata": {},
   "outputs": [
    {
     "data": {
      "text/plain": [
       "<re.Match object; span=(11, 14), match='and'>"
      ]
     },
     "execution_count": 29,
     "metadata": {},
     "output_type": "execute_result"
    }
   ],
   "source": [
    "pattern = 'and'\n",
    "re.search(pattern, 'This is a hand.')"
   ]
  },
  {
   "cell_type": "code",
   "execution_count": 30,
   "metadata": {},
   "outputs": [],
   "source": [
    "pattern = 'and'\n",
    "re.search(pattern, 'This is a leg.')"
   ]
  },
  {
   "cell_type": "markdown",
   "metadata": {},
   "source": [
    "### Finding Specific Words in Strings"
   ]
  },
  {
   "cell_type": "markdown",
   "metadata": {},
   "source": [
    "<img src=\"./images/set_syntax_breakdown.svg\">"
   ]
  },
  {
   "cell_type": "markdown",
   "metadata": {},
   "source": [
    "<img src=\"./images/basic_match_2.svg\">"
   ]
  },
  {
   "cell_type": "code",
   "execution_count": 31,
   "metadata": {},
   "outputs": [],
   "source": [
    "# stari način\n",
    "pattern1 = 'National accounts'\n",
    "pattern2 = 'national accounts'\n",
    "national_accounts1 = merged['SpecialNotes'].str.contains(pattern1)\n",
    "national_accounts2 = merged['SpecialNotes'].str.contains(pattern2)"
   ]
  },
  {
   "cell_type": "code",
   "execution_count": 32,
   "metadata": {},
   "outputs": [
    {
     "data": {
      "text/html": [
       "<div>\n",
       "<style scoped>\n",
       "    .dataframe tbody tr th:only-of-type {\n",
       "        vertical-align: middle;\n",
       "    }\n",
       "\n",
       "    .dataframe tbody tr th {\n",
       "        vertical-align: top;\n",
       "    }\n",
       "\n",
       "    .dataframe thead th {\n",
       "        text-align: right;\n",
       "    }\n",
       "</style>\n",
       "<table border=\"1\" class=\"dataframe\">\n",
       "  <thead>\n",
       "    <tr style=\"text-align: right;\">\n",
       "      <th></th>\n",
       "      <th>data1</th>\n",
       "      <th>data2</th>\n",
       "    </tr>\n",
       "  </thead>\n",
       "  <tbody>\n",
       "    <tr>\n",
       "      <th>23</th>\n",
       "      <td>True</td>\n",
       "      <td>True</td>\n",
       "    </tr>\n",
       "    <tr>\n",
       "      <th>152</th>\n",
       "      <td>True</td>\n",
       "      <td>True</td>\n",
       "    </tr>\n",
       "  </tbody>\n",
       "</table>\n",
       "</div>"
      ],
      "text/plain": [
       "    data1 data2\n",
       "23   True  True\n",
       "152  True  True"
      ]
     },
     "execution_count": 32,
     "metadata": {},
     "output_type": "execute_result"
    }
   ],
   "source": [
    "data = pd.DataFrame({'data1': national_accounts1, 'data2': national_accounts2})\n",
    "data[((data['data1'] == True) & (data['data2'] == True))]"
   ]
  },
  {
   "cell_type": "code",
   "execution_count": 33,
   "metadata": {},
   "outputs": [
    {
     "data": {
      "text/plain": [
       "'Fiscal year end: March 31; reporting period for national accounts data: CY. Country reports using a blend of SNA 1993 and SNA 2008. April 2012 database update: National accounts time series were replaced with official government statistics.'"
      ]
     },
     "execution_count": 33,
     "metadata": {},
     "output_type": "execute_result"
    }
   ],
   "source": [
    "merged.loc[23,'SpecialNotes']"
   ]
  },
  {
   "cell_type": "code",
   "execution_count": 34,
   "metadata": {},
   "outputs": [
    {
     "data": {
      "text/plain": [
       "'Fiscal year end: March 20; reporting period for national accounts data: FY (from 2013 are CY). National accounts data are sourced from the IMF and differ from the Central Statistics Organization numbers due to exclusion of the opium economy.'"
      ]
     },
     "execution_count": 34,
     "metadata": {},
     "output_type": "execute_result"
    }
   ],
   "source": [
    "merged.loc[152,'SpecialNotes']"
   ]
  },
  {
   "cell_type": "code",
   "execution_count": 35,
   "metadata": {},
   "outputs": [],
   "source": [
    "pattern = '[Nn]ational accounts'"
   ]
  },
  {
   "cell_type": "code",
   "execution_count": 36,
   "metadata": {},
   "outputs": [
    {
     "data": {
      "text/plain": [
       "0                                                  NaN\n",
       "1                                                  NaN\n",
       "2                                                  NaN\n",
       "3                                                  NaN\n",
       "4    Fiscal year end: March 31; reporting period fo...\n",
       "5    A simple multiplier is used to convert the nat...\n",
       "6    A simple multiplier is used to convert the nat...\n",
       "7    Fiscal year end: June 30; reporting period for...\n",
       "8    Fiscal year end: March 31; reporting period fo...\n",
       "9    Fiscal year end: June 30; reporting period for...\n",
       "Name: SpecialNotes, dtype: object"
      ]
     },
     "execution_count": 36,
     "metadata": {},
     "output_type": "execute_result"
    }
   ],
   "source": [
    "merged['SpecialNotes'].head(10)"
   ]
  },
  {
   "cell_type": "code",
   "execution_count": 37,
   "metadata": {},
   "outputs": [],
   "source": [
    "national_accounts = merged['SpecialNotes'].str.contains(pattern)"
   ]
  },
  {
   "cell_type": "code",
   "execution_count": 38,
   "metadata": {},
   "outputs": [
    {
     "data": {
      "text/plain": [
       "0      NaN\n",
       "1      NaN\n",
       "2      NaN\n",
       "3      NaN\n",
       "4     True\n",
       "5    False\n",
       "6    False\n",
       "7     True\n",
       "8     True\n",
       "9     True\n",
       "Name: SpecialNotes, dtype: object"
      ]
     },
     "execution_count": 38,
     "metadata": {},
     "output_type": "execute_result"
    }
   ],
   "source": [
    "national_accounts.head(10)"
   ]
  },
  {
   "cell_type": "code",
   "execution_count": 39,
   "metadata": {},
   "outputs": [
    {
     "data": {
      "text/plain": [
       "54"
      ]
     },
     "execution_count": 39,
     "metadata": {},
     "output_type": "execute_result"
    }
   ],
   "source": [
    "national_accounts.sum()"
   ]
  },
  {
   "cell_type": "code",
   "execution_count": 40,
   "metadata": {},
   "outputs": [
    {
     "data": {
      "text/plain": [
       "54"
      ]
     },
     "execution_count": 40,
     "metadata": {},
     "output_type": "execute_result"
    }
   ],
   "source": [
    "merged['SpecialNotes'].str.contains(pattern).sum()"
   ]
  },
  {
   "cell_type": "code",
   "execution_count": 41,
   "metadata": {},
   "outputs": [
    {
     "data": {
      "text/plain": [
       "NaN      65\n",
       "True     54\n",
       "False    39\n",
       "Name: SpecialNotes, dtype: int64"
      ]
     },
     "execution_count": 41,
     "metadata": {},
     "output_type": "execute_result"
    }
   ],
   "source": [
    "national_accounts.value_counts(dropna=False)"
   ]
  },
  {
   "cell_type": "markdown",
   "metadata": {},
   "source": [
    "### Using Regular Expressions to Select Data"
   ]
  },
  {
   "cell_type": "code",
   "execution_count": 42,
   "metadata": {},
   "outputs": [
    {
     "ename": "ValueError",
     "evalue": "cannot index with vector containing NA / NaN values",
     "output_type": "error",
     "traceback": [
      "\u001b[0;31m---------------------------------------------------------------------------\u001b[0m",
      "\u001b[0;31mValueError\u001b[0m                                Traceback (most recent call last)",
      "\u001b[0;32m<ipython-input-42-9c700c3b3679>\u001b[0m in \u001b[0;36m<module>\u001b[0;34m\u001b[0m\n\u001b[0;32m----> 1\u001b[0;31m \u001b[0mmerged\u001b[0m\u001b[0;34m[\u001b[0m\u001b[0mnational_accounts\u001b[0m\u001b[0;34m]\u001b[0m\u001b[0;34m\u001b[0m\u001b[0;34m\u001b[0m\u001b[0m\n\u001b[0m",
      "\u001b[0;32m/opt/conda/lib/python3.7/site-packages/pandas/core/frame.py\u001b[0m in \u001b[0;36m__getitem__\u001b[0;34m(self, key)\u001b[0m\n\u001b[1;32m   2983\u001b[0m \u001b[0;34m\u001b[0m\u001b[0m\n\u001b[1;32m   2984\u001b[0m         \u001b[0;31m# Do we have a (boolean) 1d indexer?\u001b[0m\u001b[0;34m\u001b[0m\u001b[0;34m\u001b[0m\u001b[0;34m\u001b[0m\u001b[0m\n\u001b[0;32m-> 2985\u001b[0;31m         \u001b[0;32mif\u001b[0m \u001b[0mcom\u001b[0m\u001b[0;34m.\u001b[0m\u001b[0mis_bool_indexer\u001b[0m\u001b[0;34m(\u001b[0m\u001b[0mkey\u001b[0m\u001b[0;34m)\u001b[0m\u001b[0;34m:\u001b[0m\u001b[0;34m\u001b[0m\u001b[0;34m\u001b[0m\u001b[0m\n\u001b[0m\u001b[1;32m   2986\u001b[0m             \u001b[0;32mreturn\u001b[0m \u001b[0mself\u001b[0m\u001b[0;34m.\u001b[0m\u001b[0m_getitem_bool_array\u001b[0m\u001b[0;34m(\u001b[0m\u001b[0mkey\u001b[0m\u001b[0;34m)\u001b[0m\u001b[0;34m\u001b[0m\u001b[0;34m\u001b[0m\u001b[0m\n\u001b[1;32m   2987\u001b[0m \u001b[0;34m\u001b[0m\u001b[0m\n",
      "\u001b[0;32m/opt/conda/lib/python3.7/site-packages/pandas/core/common.py\u001b[0m in \u001b[0;36mis_bool_indexer\u001b[0;34m(key)\u001b[0m\n\u001b[1;32m    128\u001b[0m             \u001b[0;32mif\u001b[0m \u001b[0;32mnot\u001b[0m \u001b[0mlib\u001b[0m\u001b[0;34m.\u001b[0m\u001b[0mis_bool_array\u001b[0m\u001b[0;34m(\u001b[0m\u001b[0mkey\u001b[0m\u001b[0;34m)\u001b[0m\u001b[0;34m:\u001b[0m\u001b[0;34m\u001b[0m\u001b[0;34m\u001b[0m\u001b[0m\n\u001b[1;32m    129\u001b[0m                 \u001b[0;32mif\u001b[0m \u001b[0misna\u001b[0m\u001b[0;34m(\u001b[0m\u001b[0mkey\u001b[0m\u001b[0;34m)\u001b[0m\u001b[0;34m.\u001b[0m\u001b[0many\u001b[0m\u001b[0;34m(\u001b[0m\u001b[0;34m)\u001b[0m\u001b[0;34m:\u001b[0m\u001b[0;34m\u001b[0m\u001b[0;34m\u001b[0m\u001b[0m\n\u001b[0;32m--> 130\u001b[0;31m                     \u001b[0;32mraise\u001b[0m \u001b[0mValueError\u001b[0m\u001b[0;34m(\u001b[0m\u001b[0mna_msg\u001b[0m\u001b[0;34m)\u001b[0m\u001b[0;34m\u001b[0m\u001b[0;34m\u001b[0m\u001b[0m\n\u001b[0m\u001b[1;32m    131\u001b[0m                 \u001b[0;32mreturn\u001b[0m \u001b[0;32mFalse\u001b[0m\u001b[0;34m\u001b[0m\u001b[0;34m\u001b[0m\u001b[0m\n\u001b[1;32m    132\u001b[0m             \u001b[0;32mreturn\u001b[0m \u001b[0;32mTrue\u001b[0m\u001b[0;34m\u001b[0m\u001b[0;34m\u001b[0m\u001b[0m\n",
      "\u001b[0;31mValueError\u001b[0m: cannot index with vector containing NA / NaN values"
     ]
    }
   ],
   "source": [
    "merged[national_accounts]"
   ]
  },
  {
   "cell_type": "code",
   "execution_count": 48,
   "metadata": {},
   "outputs": [],
   "source": [
    "pattern = '[Nn]ational accounts'\n",
    "national_accounts = merged['SpecialNotes'].str.contains(pattern, na=False)"
   ]
  },
  {
   "cell_type": "code",
   "execution_count": 49,
   "metadata": {},
   "outputs": [
    {
     "data": {
      "text/plain": [
       "False    104\n",
       "True      54\n",
       "Name: SpecialNotes, dtype: int64"
      ]
     },
     "execution_count": 49,
     "metadata": {},
     "output_type": "execute_result"
    }
   ],
   "source": [
    "national_accounts.value_counts(dropna=False)"
   ]
  },
  {
   "cell_type": "code",
   "execution_count": 50,
   "metadata": {},
   "outputs": [],
   "source": [
    "merged_nataional = merged[national_accounts]"
   ]
  },
  {
   "cell_type": "code",
   "execution_count": 51,
   "metadata": {},
   "outputs": [
    {
     "data": {
      "text/html": [
       "<div>\n",
       "<style scoped>\n",
       "    .dataframe tbody tr th:only-of-type {\n",
       "        vertical-align: middle;\n",
       "    }\n",
       "\n",
       "    .dataframe tbody tr th {\n",
       "        vertical-align: top;\n",
       "    }\n",
       "\n",
       "    .dataframe thead th {\n",
       "        text-align: right;\n",
       "    }\n",
       "</style>\n",
       "<table border=\"1\" class=\"dataframe\">\n",
       "  <thead>\n",
       "    <tr style=\"text-align: right;\">\n",
       "      <th></th>\n",
       "      <th>Country</th>\n",
       "      <th>Region_x</th>\n",
       "      <th>Happiness Rank</th>\n",
       "      <th>Happiness Score</th>\n",
       "      <th>Standard Error</th>\n",
       "      <th>Economy (GDP per Capita)</th>\n",
       "      <th>Family</th>\n",
       "      <th>Health (Life Expectancy)</th>\n",
       "      <th>Freedom</th>\n",
       "      <th>Trust (Government Corruption)</th>\n",
       "      <th>...</th>\n",
       "      <th>LatestPopulationCensus</th>\n",
       "      <th>LatestHouseholdSurvey</th>\n",
       "      <th>IESurvey</th>\n",
       "      <th>VitalRegistrationComplete</th>\n",
       "      <th>LatestAgriculturalCensus</th>\n",
       "      <th>LatestIndustrialData</th>\n",
       "      <th>LatestTradeData</th>\n",
       "      <th>LatestWaterWithdrawalData</th>\n",
       "      <th>Currency Apply</th>\n",
       "      <th>Currency Vectorized</th>\n",
       "    </tr>\n",
       "  </thead>\n",
       "  <tbody>\n",
       "    <tr>\n",
       "      <th>4</th>\n",
       "      <td>Canada</td>\n",
       "      <td>North America</td>\n",
       "      <td>5</td>\n",
       "      <td>7.427</td>\n",
       "      <td>0.03553</td>\n",
       "      <td>1.32629</td>\n",
       "      <td>1.32261</td>\n",
       "      <td>0.90563</td>\n",
       "      <td>0.63297</td>\n",
       "      <td>0.32957</td>\n",
       "      <td>...</td>\n",
       "      <td>2011</td>\n",
       "      <td>NaN</td>\n",
       "      <td>Labor force survey (LFS), 2010</td>\n",
       "      <td>Yes</td>\n",
       "      <td>2011</td>\n",
       "      <td>2011.0</td>\n",
       "      <td>2013.0</td>\n",
       "      <td>1986.0</td>\n",
       "      <td>dollar</td>\n",
       "      <td>dollar</td>\n",
       "    </tr>\n",
       "    <tr>\n",
       "      <th>7</th>\n",
       "      <td>Sweden</td>\n",
       "      <td>Western Europe</td>\n",
       "      <td>8</td>\n",
       "      <td>7.364</td>\n",
       "      <td>0.03157</td>\n",
       "      <td>1.33171</td>\n",
       "      <td>1.28907</td>\n",
       "      <td>0.91087</td>\n",
       "      <td>0.65980</td>\n",
       "      <td>0.43844</td>\n",
       "      <td>...</td>\n",
       "      <td>2011</td>\n",
       "      <td>NaN</td>\n",
       "      <td>Income survey (IS), 2005</td>\n",
       "      <td>Yes</td>\n",
       "      <td>2010</td>\n",
       "      <td>2010.0</td>\n",
       "      <td>2013.0</td>\n",
       "      <td>2007.0</td>\n",
       "      <td>krona</td>\n",
       "      <td>krona</td>\n",
       "    </tr>\n",
       "    <tr>\n",
       "      <th>8</th>\n",
       "      <td>New Zealand</td>\n",
       "      <td>Australia and New Zealand</td>\n",
       "      <td>9</td>\n",
       "      <td>7.286</td>\n",
       "      <td>0.03371</td>\n",
       "      <td>1.25018</td>\n",
       "      <td>1.31967</td>\n",
       "      <td>0.90837</td>\n",
       "      <td>0.63938</td>\n",
       "      <td>0.42922</td>\n",
       "      <td>...</td>\n",
       "      <td>2013</td>\n",
       "      <td>NaN</td>\n",
       "      <td>NaN</td>\n",
       "      <td>Yes</td>\n",
       "      <td>2012</td>\n",
       "      <td>2010.0</td>\n",
       "      <td>2013.0</td>\n",
       "      <td>2002.0</td>\n",
       "      <td>dollar</td>\n",
       "      <td>dollar</td>\n",
       "    </tr>\n",
       "    <tr>\n",
       "      <th>9</th>\n",
       "      <td>Australia</td>\n",
       "      <td>Australia and New Zealand</td>\n",
       "      <td>10</td>\n",
       "      <td>7.284</td>\n",
       "      <td>0.04083</td>\n",
       "      <td>1.33358</td>\n",
       "      <td>1.30923</td>\n",
       "      <td>0.93156</td>\n",
       "      <td>0.65124</td>\n",
       "      <td>0.35637</td>\n",
       "      <td>...</td>\n",
       "      <td>2011</td>\n",
       "      <td>NaN</td>\n",
       "      <td>Expenditure survey/budget survey (ES/BS), 2003</td>\n",
       "      <td>Yes</td>\n",
       "      <td>2011</td>\n",
       "      <td>2011.0</td>\n",
       "      <td>2013.0</td>\n",
       "      <td>2000.0</td>\n",
       "      <td>dollar</td>\n",
       "      <td>dollar</td>\n",
       "    </tr>\n",
       "    <tr>\n",
       "      <th>14</th>\n",
       "      <td>United States</td>\n",
       "      <td>North America</td>\n",
       "      <td>15</td>\n",
       "      <td>7.119</td>\n",
       "      <td>0.03839</td>\n",
       "      <td>1.39451</td>\n",
       "      <td>1.24711</td>\n",
       "      <td>0.86179</td>\n",
       "      <td>0.54604</td>\n",
       "      <td>0.15890</td>\n",
       "      <td>...</td>\n",
       "      <td>2010</td>\n",
       "      <td>NaN</td>\n",
       "      <td>Labor force survey (LFS), 2010</td>\n",
       "      <td>Yes</td>\n",
       "      <td>2012</td>\n",
       "      <td>2008.0</td>\n",
       "      <td>2013.0</td>\n",
       "      <td>2005.0</td>\n",
       "      <td>dollar</td>\n",
       "      <td>dollar</td>\n",
       "    </tr>\n",
       "  </tbody>\n",
       "</table>\n",
       "<p>5 rows × 45 columns</p>\n",
       "</div>"
      ],
      "text/plain": [
       "          Country                   Region_x  Happiness Rank  Happiness Score  \\\n",
       "4          Canada              North America               5            7.427   \n",
       "7          Sweden             Western Europe               8            7.364   \n",
       "8     New Zealand  Australia and New Zealand               9            7.286   \n",
       "9       Australia  Australia and New Zealand              10            7.284   \n",
       "14  United States              North America              15            7.119   \n",
       "\n",
       "    Standard Error  Economy (GDP per Capita)   Family  \\\n",
       "4          0.03553                   1.32629  1.32261   \n",
       "7          0.03157                   1.33171  1.28907   \n",
       "8          0.03371                   1.25018  1.31967   \n",
       "9          0.04083                   1.33358  1.30923   \n",
       "14         0.03839                   1.39451  1.24711   \n",
       "\n",
       "    Health (Life Expectancy)  Freedom  Trust (Government Corruption)  ...  \\\n",
       "4                    0.90563  0.63297                        0.32957  ...   \n",
       "7                    0.91087  0.65980                        0.43844  ...   \n",
       "8                    0.90837  0.63938                        0.42922  ...   \n",
       "9                    0.93156  0.65124                        0.35637  ...   \n",
       "14                   0.86179  0.54604                        0.15890  ...   \n",
       "\n",
       "    LatestPopulationCensus  LatestHouseholdSurvey  \\\n",
       "4                     2011                    NaN   \n",
       "7                     2011                    NaN   \n",
       "8                     2013                    NaN   \n",
       "9                     2011                    NaN   \n",
       "14                    2010                    NaN   \n",
       "\n",
       "                                          IESurvey VitalRegistrationComplete  \\\n",
       "4                   Labor force survey (LFS), 2010                       Yes   \n",
       "7                         Income survey (IS), 2005                       Yes   \n",
       "8                                              NaN                       Yes   \n",
       "9   Expenditure survey/budget survey (ES/BS), 2003                       Yes   \n",
       "14                  Labor force survey (LFS), 2010                       Yes   \n",
       "\n",
       "   LatestAgriculturalCensus LatestIndustrialData LatestTradeData  \\\n",
       "4                      2011               2011.0          2013.0   \n",
       "7                      2010               2010.0          2013.0   \n",
       "8                      2012               2010.0          2013.0   \n",
       "9                      2011               2011.0          2013.0   \n",
       "14                     2012               2008.0          2013.0   \n",
       "\n",
       "   LatestWaterWithdrawalData Currency Apply Currency Vectorized  \n",
       "4                     1986.0         dollar              dollar  \n",
       "7                     2007.0          krona               krona  \n",
       "8                     2002.0         dollar              dollar  \n",
       "9                     2000.0         dollar              dollar  \n",
       "14                    2005.0         dollar              dollar  \n",
       "\n",
       "[5 rows x 45 columns]"
      ]
     },
     "execution_count": 51,
     "metadata": {},
     "output_type": "execute_result"
    }
   ],
   "source": [
    "merged_nataional.head()"
   ]
  },
  {
   "cell_type": "markdown",
   "metadata": {},
   "source": [
    "### Import new dataset"
   ]
  },
  {
   "cell_type": "code",
   "execution_count": 52,
   "metadata": {},
   "outputs": [],
   "source": [
    "hn = pd.read_csv('data/hacker_news.csv')"
   ]
  },
  {
   "cell_type": "code",
   "execution_count": 53,
   "metadata": {},
   "outputs": [
    {
     "data": {
      "text/html": [
       "<div>\n",
       "<style scoped>\n",
       "    .dataframe tbody tr th:only-of-type {\n",
       "        vertical-align: middle;\n",
       "    }\n",
       "\n",
       "    .dataframe tbody tr th {\n",
       "        vertical-align: top;\n",
       "    }\n",
       "\n",
       "    .dataframe thead th {\n",
       "        text-align: right;\n",
       "    }\n",
       "</style>\n",
       "<table border=\"1\" class=\"dataframe\">\n",
       "  <thead>\n",
       "    <tr style=\"text-align: right;\">\n",
       "      <th></th>\n",
       "      <th>id</th>\n",
       "      <th>title</th>\n",
       "      <th>url</th>\n",
       "      <th>num_points</th>\n",
       "      <th>num_comments</th>\n",
       "      <th>author</th>\n",
       "      <th>created_at</th>\n",
       "    </tr>\n",
       "  </thead>\n",
       "  <tbody>\n",
       "    <tr>\n",
       "      <th>0</th>\n",
       "      <td>12224879</td>\n",
       "      <td>Interactive Dynamic Video</td>\n",
       "      <td>http://www.interactivedynamicvideo.com/</td>\n",
       "      <td>386</td>\n",
       "      <td>52</td>\n",
       "      <td>ne0phyte</td>\n",
       "      <td>8/4/2016 11:52</td>\n",
       "    </tr>\n",
       "    <tr>\n",
       "      <th>1</th>\n",
       "      <td>11964716</td>\n",
       "      <td>Florida DJs May Face Felony for April Fools' W...</td>\n",
       "      <td>http://www.thewire.com/entertainment/2013/04/f...</td>\n",
       "      <td>2</td>\n",
       "      <td>1</td>\n",
       "      <td>vezycash</td>\n",
       "      <td>6/23/2016 22:20</td>\n",
       "    </tr>\n",
       "    <tr>\n",
       "      <th>2</th>\n",
       "      <td>11919867</td>\n",
       "      <td>Technology ventures: From Idea to Enterprise</td>\n",
       "      <td>https://www.amazon.com/Technology-Ventures-Ent...</td>\n",
       "      <td>3</td>\n",
       "      <td>1</td>\n",
       "      <td>hswarna</td>\n",
       "      <td>6/17/2016 0:01</td>\n",
       "    </tr>\n",
       "    <tr>\n",
       "      <th>3</th>\n",
       "      <td>10301696</td>\n",
       "      <td>Note by Note: The Making of Steinway L1037 (2007)</td>\n",
       "      <td>http://www.nytimes.com/2007/11/07/movies/07ste...</td>\n",
       "      <td>8</td>\n",
       "      <td>2</td>\n",
       "      <td>walterbell</td>\n",
       "      <td>9/30/2015 4:12</td>\n",
       "    </tr>\n",
       "    <tr>\n",
       "      <th>4</th>\n",
       "      <td>10482257</td>\n",
       "      <td>Title II kills investment? Comcast and other I...</td>\n",
       "      <td>http://arstechnica.com/business/2015/10/comcas...</td>\n",
       "      <td>53</td>\n",
       "      <td>22</td>\n",
       "      <td>Deinos</td>\n",
       "      <td>10/31/2015 9:48</td>\n",
       "    </tr>\n",
       "  </tbody>\n",
       "</table>\n",
       "</div>"
      ],
      "text/plain": [
       "         id                                              title  \\\n",
       "0  12224879                          Interactive Dynamic Video   \n",
       "1  11964716  Florida DJs May Face Felony for April Fools' W...   \n",
       "2  11919867       Technology ventures: From Idea to Enterprise   \n",
       "3  10301696  Note by Note: The Making of Steinway L1037 (2007)   \n",
       "4  10482257  Title II kills investment? Comcast and other I...   \n",
       "\n",
       "                                                 url  num_points  \\\n",
       "0            http://www.interactivedynamicvideo.com/         386   \n",
       "1  http://www.thewire.com/entertainment/2013/04/f...           2   \n",
       "2  https://www.amazon.com/Technology-Ventures-Ent...           3   \n",
       "3  http://www.nytimes.com/2007/11/07/movies/07ste...           8   \n",
       "4  http://arstechnica.com/business/2015/10/comcas...          53   \n",
       "\n",
       "   num_comments      author       created_at  \n",
       "0            52    ne0phyte   8/4/2016 11:52  \n",
       "1             1    vezycash  6/23/2016 22:20  \n",
       "2             1     hswarna   6/17/2016 0:01  \n",
       "3             2  walterbell   9/30/2015 4:12  \n",
       "4            22      Deinos  10/31/2015 9:48  "
      ]
     },
     "execution_count": 53,
     "metadata": {},
     "output_type": "execute_result"
    }
   ],
   "source": [
    "hn.head()"
   ]
  },
  {
   "cell_type": "code",
   "execution_count": 54,
   "metadata": {},
   "outputs": [
    {
     "name": "stdout",
     "output_type": "stream",
     "text": [
      "<class 'pandas.core.frame.DataFrame'>\n",
      "RangeIndex: 20099 entries, 0 to 20098\n",
      "Data columns (total 7 columns):\n",
      "id              20099 non-null int64\n",
      "title           20099 non-null object\n",
      "url             17659 non-null object\n",
      "num_points      20099 non-null int64\n",
      "num_comments    20099 non-null int64\n",
      "author          20099 non-null object\n",
      "created_at      20099 non-null object\n",
      "dtypes: int64(3), object(4)\n",
      "memory usage: 1.1+ MB\n"
     ]
    }
   ],
   "source": [
    "hn.info()"
   ]
  },
  {
   "cell_type": "code",
   "execution_count": 55,
   "metadata": {},
   "outputs": [],
   "source": [
    "titles = hn['title']"
   ]
  },
  {
   "cell_type": "code",
   "execution_count": 56,
   "metadata": {},
   "outputs": [
    {
     "data": {
      "text/plain": [
       "160"
      ]
     },
     "execution_count": 56,
     "metadata": {},
     "output_type": "execute_result"
    }
   ],
   "source": [
    "pattern = r'[Pp]ython'\n",
    "titles.str.contains(pattern).sum()"
   ]
  },
  {
   "cell_type": "code",
   "execution_count": 57,
   "metadata": {},
   "outputs": [
    {
     "data": {
      "text/plain": [
       "190                    Ruby on Google AppEngine Goes Beta\n",
       "484          Related: Pure Ruby Relational Algebra Engine\n",
       "1388    Show HN: HTTPalooza  Ruby's greatest HTTP clie...\n",
       "1949    Rewriting a Ruby C Extension in Rust: How a Na...\n",
       "2022    Show HN: CrashBreak  Reproduce exceptions as f...\n",
       "Name: title, dtype: object"
      ]
     },
     "execution_count": 57,
     "metadata": {},
     "output_type": "execute_result"
    }
   ],
   "source": [
    "pattern = r'[Rr]uby'\n",
    "titles[titles.str.contains(pattern)].head()"
   ]
  },
  {
   "cell_type": "markdown",
   "metadata": {},
   "source": [
    "### Quantifiers"
   ]
  },
  {
   "cell_type": "markdown",
   "metadata": {},
   "source": [
    "\n",
    "<p></p><center><img alt=\"quantifier example\" src=\"images/quantifier_example.svg\"></center><p></p>\n",
    "\n",
    "<p></p><center><img alt=\"quantifiers\" src=\"images/quantifiers_numeric.svg\"></center><p></p>\n",
    "\n",
    "<p></p><center><img alt=\"quantifiers\" src=\"images/quantifiers_other.svg\"></center><p></p>\n"
   ]
  },
  {
   "cell_type": "markdown",
   "metadata": {},
   "source": [
    "    email, e-mail"
   ]
  },
  {
   "cell_type": "code",
   "execution_count": 58,
   "metadata": {},
   "outputs": [
    {
     "data": {
      "text/plain": [
       "86"
      ]
     },
     "execution_count": 58,
     "metadata": {},
     "output_type": "execute_result"
    }
   ],
   "source": [
    "pattern = r'e-?mail'\n",
    "titles.str.contains(pattern).sum()"
   ]
  },
  {
   "cell_type": "markdown",
   "metadata": {},
   "source": [
    "    1992-1998"
   ]
  },
  {
   "cell_type": "code",
   "execution_count": 59,
   "metadata": {},
   "outputs": [
    {
     "data": {
      "text/plain": [
       "47"
      ]
     },
     "execution_count": 59,
     "metadata": {},
     "output_type": "execute_result"
    }
   ],
   "source": [
    "pattern = r'19{2}[2-8]'\n",
    "titles.str.contains(pattern).sum()"
   ]
  },
  {
   "cell_type": "markdown",
   "metadata": {},
   "source": [
    "### Character Classes"
   ]
  },
  {
   "cell_type": "markdown",
   "metadata": {},
   "source": [
    "    [pdf]"
   ]
  },
  {
   "cell_type": "code",
   "execution_count": 60,
   "metadata": {},
   "outputs": [],
   "source": [
    "pattern = r'\\[pdf\\]'"
   ]
  },
  {
   "cell_type": "markdown",
   "metadata": {},
   "source": [
    "\n",
    "<p></p><center><img alt=\"character classes one\" src=\"images/character_classes_v2_1.svg\"></center><p></p>\n",
    "\n",
    "<p></p><center><img alt=\"character classes two\" src=\"images/character_classes_v2_2.svg\"></center><p></p>\n"
   ]
  },
  {
   "cell_type": "code",
   "execution_count": 61,
   "metadata": {},
   "outputs": [],
   "source": [
    "pattern = r'\\[\\w+\\]'"
   ]
  },
  {
   "cell_type": "code",
   "execution_count": 62,
   "metadata": {},
   "outputs": [
    {
     "data": {
      "text/plain": [
       "444"
      ]
     },
     "execution_count": 62,
     "metadata": {},
     "output_type": "execute_result"
    }
   ],
   "source": [
    "titles.str.contains(pattern).sum()"
   ]
  },
  {
   "cell_type": "code",
   "execution_count": 63,
   "metadata": {},
   "outputs": [
    {
     "data": {
      "text/plain": [
       "66     Analysis of 114 propaganda sources from ISIS, ...\n",
       "100    Munich Gunman Got Weapon from the Darknet [Ger...\n",
       "159         File indexing and searching for Plan 9 [pdf]\n",
       "162    Attack on Kunduz Trauma Centre, Afghanistan  I...\n",
       "195               [Beta] Speedtest.net  HTML5 Speed Test\n",
       "Name: title, dtype: object"
      ]
     },
     "execution_count": 63,
     "metadata": {},
     "output_type": "execute_result"
    }
   ],
   "source": [
    "titles[titles.str.contains(pattern)].head()"
   ]
  },
  {
   "cell_type": "markdown",
   "metadata": {},
   "source": [
    "### Raw strings"
   ]
  },
  {
   "cell_type": "code",
   "execution_count": 64,
   "metadata": {},
   "outputs": [
    {
     "name": "stdout",
     "output_type": "stream",
     "text": [
      "hell\bhello\n"
     ]
    }
   ],
   "source": [
    "print('hell\\bhello')"
   ]
  },
  {
   "cell_type": "code",
   "execution_count": 65,
   "metadata": {},
   "outputs": [
    {
     "name": "stdout",
     "output_type": "stream",
     "text": [
      "hell\\bhello\n"
     ]
    }
   ],
   "source": [
    "print(r'hell\\bhello')"
   ]
  },
  {
   "cell_type": "markdown",
   "metadata": {},
   "source": [
    "### Extracting Substrings from a Series"
   ]
  },
  {
   "cell_type": "code",
   "execution_count": 66,
   "metadata": {},
   "outputs": [],
   "source": [
    "titles = hn['title']\n",
    "pattern = r'\\[\\w+\\]'\n",
    "tag_titles = titles[titles.str.contains(pattern)]\n",
    "tag_5 = tag_titles.head()"
   ]
  },
  {
   "cell_type": "code",
   "execution_count": 67,
   "metadata": {},
   "outputs": [
    {
     "data": {
      "text/plain": [
       "66     Analysis of 114 propaganda sources from ISIS, ...\n",
       "100    Munich Gunman Got Weapon from the Darknet [Ger...\n",
       "159         File indexing and searching for Plan 9 [pdf]\n",
       "162    Attack on Kunduz Trauma Centre, Afghanistan  I...\n",
       "195               [Beta] Speedtest.net  HTML5 Speed Test\n",
       "Name: title, dtype: object"
      ]
     },
     "execution_count": 67,
     "metadata": {},
     "output_type": "execute_result"
    }
   ],
   "source": [
    "tag_5"
   ]
  },
  {
   "cell_type": "code",
   "execution_count": 68,
   "metadata": {},
   "outputs": [
    {
     "data": {
      "text/html": [
       "<div>\n",
       "<style scoped>\n",
       "    .dataframe tbody tr th:only-of-type {\n",
       "        vertical-align: middle;\n",
       "    }\n",
       "\n",
       "    .dataframe tbody tr th {\n",
       "        vertical-align: top;\n",
       "    }\n",
       "\n",
       "    .dataframe thead th {\n",
       "        text-align: right;\n",
       "    }\n",
       "</style>\n",
       "<table border=\"1\" class=\"dataframe\">\n",
       "  <thead>\n",
       "    <tr style=\"text-align: right;\">\n",
       "      <th></th>\n",
       "      <th>0</th>\n",
       "    </tr>\n",
       "  </thead>\n",
       "  <tbody>\n",
       "    <tr>\n",
       "      <th>66</th>\n",
       "      <td>[pdf]</td>\n",
       "    </tr>\n",
       "    <tr>\n",
       "      <th>100</th>\n",
       "      <td>[German]</td>\n",
       "    </tr>\n",
       "    <tr>\n",
       "      <th>159</th>\n",
       "      <td>[pdf]</td>\n",
       "    </tr>\n",
       "    <tr>\n",
       "      <th>162</th>\n",
       "      <td>[pdf]</td>\n",
       "    </tr>\n",
       "    <tr>\n",
       "      <th>195</th>\n",
       "      <td>[Beta]</td>\n",
       "    </tr>\n",
       "  </tbody>\n",
       "</table>\n",
       "</div>"
      ],
      "text/plain": [
       "            0\n",
       "66      [pdf]\n",
       "100  [German]\n",
       "159     [pdf]\n",
       "162     [pdf]\n",
       "195    [Beta]"
      ]
     },
     "execution_count": 68,
     "metadata": {},
     "output_type": "execute_result"
    }
   ],
   "source": [
    "pattern_ex = r'(\\[\\w+\\])'\n",
    "tag_5.str.extract(pattern_ex)"
   ]
  },
  {
   "cell_type": "code",
   "execution_count": 69,
   "metadata": {},
   "outputs": [
    {
     "data": {
      "text/html": [
       "<div>\n",
       "<style scoped>\n",
       "    .dataframe tbody tr th:only-of-type {\n",
       "        vertical-align: middle;\n",
       "    }\n",
       "\n",
       "    .dataframe tbody tr th {\n",
       "        vertical-align: top;\n",
       "    }\n",
       "\n",
       "    .dataframe thead th {\n",
       "        text-align: right;\n",
       "    }\n",
       "</style>\n",
       "<table border=\"1\" class=\"dataframe\">\n",
       "  <thead>\n",
       "    <tr style=\"text-align: right;\">\n",
       "      <th></th>\n",
       "      <th>0</th>\n",
       "    </tr>\n",
       "  </thead>\n",
       "  <tbody>\n",
       "    <tr>\n",
       "      <th>66</th>\n",
       "      <td>pdf</td>\n",
       "    </tr>\n",
       "    <tr>\n",
       "      <th>100</th>\n",
       "      <td>German</td>\n",
       "    </tr>\n",
       "    <tr>\n",
       "      <th>159</th>\n",
       "      <td>pdf</td>\n",
       "    </tr>\n",
       "    <tr>\n",
       "      <th>162</th>\n",
       "      <td>pdf</td>\n",
       "    </tr>\n",
       "    <tr>\n",
       "      <th>195</th>\n",
       "      <td>Beta</td>\n",
       "    </tr>\n",
       "  </tbody>\n",
       "</table>\n",
       "</div>"
      ],
      "text/plain": [
       "          0\n",
       "66      pdf\n",
       "100  German\n",
       "159     pdf\n",
       "162     pdf\n",
       "195    Beta"
      ]
     },
     "execution_count": 69,
     "metadata": {},
     "output_type": "execute_result"
    }
   ],
   "source": [
    "pattern_ex = r'\\[(\\w+)\\]'\n",
    "tag_5.str.extract(pattern_ex)"
   ]
  },
  {
   "cell_type": "code",
   "execution_count": 70,
   "metadata": {},
   "outputs": [
    {
     "data": {
      "text/plain": [
       "66        pdf\n",
       "100    German\n",
       "159       pdf\n",
       "162       pdf\n",
       "195      Beta\n",
       "Name: title, dtype: object"
      ]
     },
     "execution_count": 70,
     "metadata": {},
     "output_type": "execute_result"
    }
   ],
   "source": [
    "pattern_ex = r'\\[(\\w+)\\]'\n",
    "tag_5.str.extract(pattern_ex, expand=False)"
   ]
  },
  {
   "cell_type": "code",
   "execution_count": 71,
   "metadata": {},
   "outputs": [
    {
     "data": {
      "text/plain": [
       "pdf          276\n",
       "video        111\n",
       "audio          3\n",
       "2015           3\n",
       "slides         2\n",
       "beta           2\n",
       "2014           2\n",
       "USA            1\n",
       "CSS            1\n",
       "Infograph      1\n",
       "Name: title, dtype: int64"
      ]
     },
     "execution_count": 71,
     "metadata": {},
     "output_type": "execute_result"
    }
   ],
   "source": [
    "titles.str.extract(pattern_ex, expand=False).value_counts().head(10)"
   ]
  },
  {
   "cell_type": "markdown",
   "metadata": {},
   "source": [
    "### Replace"
   ]
  },
  {
   "cell_type": "code",
   "execution_count": 72,
   "metadata": {},
   "outputs": [
    {
     "data": {
      "text/plain": [
       "0                                Interactive Dynamic Video\n",
       "1        Florida DJs May Face Felony for April Fools' W...\n",
       "2             Technology ventures: From Idea to Enterprise\n",
       "3          Note by Note: The Making of Steinway L1037 3000\n",
       "4        Title II kills investment? Comcast and other I...\n",
       "                               ...                        \n",
       "20094    How Purism Avoids Intels Active Management Tec...\n",
       "20095            YC Application Translated and Broken Down\n",
       "20096    Microkernels are slow and Elvis didn't do no d...\n",
       "20097                        How Product Hunt really works\n",
       "20098    RoboBrowser: Your friendly neighborhood web sc...\n",
       "Name: title, Length: 20099, dtype: object"
      ]
     },
     "execution_count": 72,
     "metadata": {},
     "output_type": "execute_result"
    }
   ],
   "source": [
    "titles_test = titles.copy()\n",
    "titles_test.str.replace(r'\\(2\\d{3}\\)', '3000')"
   ]
  },
  {
   "cell_type": "markdown",
   "metadata": {},
   "source": [
    "### Using Flags to Modify Regex Patterns"
   ]
  },
  {
   "cell_type": "code",
   "execution_count": 73,
   "metadata": {},
   "outputs": [],
   "source": [
    "email_tests = pd.Series(['email', 'Email', 'eMail', 'EMAIL'])"
   ]
  },
  {
   "cell_type": "code",
   "execution_count": 74,
   "metadata": {},
   "outputs": [],
   "source": [
    "# se da boljše\n",
    "pattern = r'[Ee][Mm][Aa][Ii][Ll]'"
   ]
  },
  {
   "cell_type": "code",
   "execution_count": 75,
   "metadata": {},
   "outputs": [
    {
     "data": {
      "text/plain": [
       "0    True\n",
       "1    True\n",
       "2    True\n",
       "3    True\n",
       "dtype: bool"
      ]
     },
     "execution_count": 75,
     "metadata": {},
     "output_type": "execute_result"
    }
   ],
   "source": [
    "import re\n",
    "email_tests.str.contains(r'email', flags=re.I)"
   ]
  },
  {
   "cell_type": "markdown",
   "metadata": {},
   "source": [
    "### Primer: Create a frequency table of the different capitalizations of SQL"
   ]
  },
  {
   "cell_type": "code",
   "execution_count": 76,
   "metadata": {},
   "outputs": [
    {
     "data": {
      "text/plain": [
       "SQL    101\n",
       "Sql      4\n",
       "sql      3\n",
       "Name: title, dtype: int64"
      ]
     },
     "execution_count": 76,
     "metadata": {},
     "output_type": "execute_result"
    }
   ],
   "source": [
    "pattern = r'(SQL)'\n",
    "titles.str.extract(pattern, flags=re.I, expand=False).value_counts()"
   ]
  },
  {
   "cell_type": "code",
   "execution_count": 77,
   "metadata": {},
   "outputs": [
    {
     "name": "stderr",
     "output_type": "stream",
     "text": [
      "/opt/conda/lib/python3.7/site-packages/pandas/core/strings.py:1843: UserWarning: This pattern has match groups. To actually get the groups, use str.extract.\n",
      "  return func(self, *args, **kwargs)\n"
     ]
    }
   ],
   "source": [
    "pattern = r'(\\w+SQL)'\n",
    "hn_sql = hn[hn['title'].str.contains(pattern, flags=re.I)].copy()"
   ]
  },
  {
   "cell_type": "code",
   "execution_count": 78,
   "metadata": {},
   "outputs": [
    {
     "data": {
      "text/html": [
       "<div>\n",
       "<style scoped>\n",
       "    .dataframe tbody tr th:only-of-type {\n",
       "        vertical-align: middle;\n",
       "    }\n",
       "\n",
       "    .dataframe tbody tr th {\n",
       "        vertical-align: top;\n",
       "    }\n",
       "\n",
       "    .dataframe thead th {\n",
       "        text-align: right;\n",
       "    }\n",
       "</style>\n",
       "<table border=\"1\" class=\"dataframe\">\n",
       "  <thead>\n",
       "    <tr style=\"text-align: right;\">\n",
       "      <th></th>\n",
       "      <th>id</th>\n",
       "      <th>title</th>\n",
       "      <th>url</th>\n",
       "      <th>num_points</th>\n",
       "      <th>num_comments</th>\n",
       "      <th>author</th>\n",
       "      <th>created_at</th>\n",
       "    </tr>\n",
       "  </thead>\n",
       "  <tbody>\n",
       "    <tr>\n",
       "      <th>142</th>\n",
       "      <td>10957172</td>\n",
       "      <td>PostgreSQL: Linux VS Windows  part 2</td>\n",
       "      <td>http://www.sqig.net/2016/01/postgresql-linux-v...</td>\n",
       "      <td>16</td>\n",
       "      <td>3</td>\n",
       "      <td>based2</td>\n",
       "      <td>1/23/2016 4:21</td>\n",
       "    </tr>\n",
       "    <tr>\n",
       "      <th>221</th>\n",
       "      <td>11544342</td>\n",
       "      <td>MemSQL (YC W11) Raises $36M Series C</td>\n",
       "      <td>http://blog.memsql.com/memsql-raises-series-c/</td>\n",
       "      <td>74</td>\n",
       "      <td>14</td>\n",
       "      <td>ericfrenkiel</td>\n",
       "      <td>4/21/2016 18:32</td>\n",
       "    </tr>\n",
       "    <tr>\n",
       "      <th>882</th>\n",
       "      <td>10413272</td>\n",
       "      <td>Pgmemcahe :A PostgreSQL memcache functions</td>\n",
       "      <td>https://github.com/ohmu/pgmemcache/</td>\n",
       "      <td>2</td>\n",
       "      <td>1</td>\n",
       "      <td>websec</td>\n",
       "      <td>10/19/2015 14:55</td>\n",
       "    </tr>\n",
       "    <tr>\n",
       "      <th>1160</th>\n",
       "      <td>10546681</td>\n",
       "      <td>How to choose an in-memory NoSQL solution: Per...</td>\n",
       "      <td>http://articles.rvncerr.org/how-to-chose-an-in...</td>\n",
       "      <td>9</td>\n",
       "      <td>4</td>\n",
       "      <td>rvncerr</td>\n",
       "      <td>11/11/2015 14:04</td>\n",
       "    </tr>\n",
       "    <tr>\n",
       "      <th>1197</th>\n",
       "      <td>11583183</td>\n",
       "      <td>Postgraphql: A GraphQL schema created by refle...</td>\n",
       "      <td>https://github.com/calebmer/postgraphql</td>\n",
       "      <td>217</td>\n",
       "      <td>24</td>\n",
       "      <td>craigkerstiens</td>\n",
       "      <td>4/27/2016 18:29</td>\n",
       "    </tr>\n",
       "  </tbody>\n",
       "</table>\n",
       "</div>"
      ],
      "text/plain": [
       "            id                                              title  \\\n",
       "142   10957172               PostgreSQL: Linux VS Windows  part 2   \n",
       "221   11544342               MemSQL (YC W11) Raises $36M Series C   \n",
       "882   10413272         Pgmemcahe :A PostgreSQL memcache functions   \n",
       "1160  10546681  How to choose an in-memory NoSQL solution: Per...   \n",
       "1197  11583183  Postgraphql: A GraphQL schema created by refle...   \n",
       "\n",
       "                                                    url  num_points  \\\n",
       "142   http://www.sqig.net/2016/01/postgresql-linux-v...          16   \n",
       "221      http://blog.memsql.com/memsql-raises-series-c/          74   \n",
       "882                 https://github.com/ohmu/pgmemcache/           2   \n",
       "1160  http://articles.rvncerr.org/how-to-chose-an-in...           9   \n",
       "1197            https://github.com/calebmer/postgraphql         217   \n",
       "\n",
       "      num_comments          author        created_at  \n",
       "142              3          based2    1/23/2016 4:21  \n",
       "221             14    ericfrenkiel   4/21/2016 18:32  \n",
       "882              1          websec  10/19/2015 14:55  \n",
       "1160             4         rvncerr  11/11/2015 14:04  \n",
       "1197            24  craigkerstiens   4/27/2016 18:29  "
      ]
     },
     "execution_count": 78,
     "metadata": {},
     "output_type": "execute_result"
    }
   ],
   "source": [
    "hn_sql.head()"
   ]
  },
  {
   "cell_type": "code",
   "execution_count": 79,
   "metadata": {},
   "outputs": [],
   "source": [
    "hn_sql['flavor'] = hn_sql['title'].str.extract(pattern, flags=re.I, expand=False)"
   ]
  },
  {
   "cell_type": "code",
   "execution_count": 80,
   "metadata": {},
   "outputs": [
    {
     "data": {
      "text/html": [
       "<div>\n",
       "<style scoped>\n",
       "    .dataframe tbody tr th:only-of-type {\n",
       "        vertical-align: middle;\n",
       "    }\n",
       "\n",
       "    .dataframe tbody tr th {\n",
       "        vertical-align: top;\n",
       "    }\n",
       "\n",
       "    .dataframe thead th {\n",
       "        text-align: right;\n",
       "    }\n",
       "</style>\n",
       "<table border=\"1\" class=\"dataframe\">\n",
       "  <thead>\n",
       "    <tr style=\"text-align: right;\">\n",
       "      <th></th>\n",
       "      <th>id</th>\n",
       "      <th>title</th>\n",
       "      <th>url</th>\n",
       "      <th>num_points</th>\n",
       "      <th>num_comments</th>\n",
       "      <th>author</th>\n",
       "      <th>created_at</th>\n",
       "      <th>flavor</th>\n",
       "    </tr>\n",
       "  </thead>\n",
       "  <tbody>\n",
       "    <tr>\n",
       "      <th>142</th>\n",
       "      <td>10957172</td>\n",
       "      <td>PostgreSQL: Linux VS Windows  part 2</td>\n",
       "      <td>http://www.sqig.net/2016/01/postgresql-linux-v...</td>\n",
       "      <td>16</td>\n",
       "      <td>3</td>\n",
       "      <td>based2</td>\n",
       "      <td>1/23/2016 4:21</td>\n",
       "      <td>PostgreSQL</td>\n",
       "    </tr>\n",
       "    <tr>\n",
       "      <th>221</th>\n",
       "      <td>11544342</td>\n",
       "      <td>MemSQL (YC W11) Raises $36M Series C</td>\n",
       "      <td>http://blog.memsql.com/memsql-raises-series-c/</td>\n",
       "      <td>74</td>\n",
       "      <td>14</td>\n",
       "      <td>ericfrenkiel</td>\n",
       "      <td>4/21/2016 18:32</td>\n",
       "      <td>MemSQL</td>\n",
       "    </tr>\n",
       "    <tr>\n",
       "      <th>882</th>\n",
       "      <td>10413272</td>\n",
       "      <td>Pgmemcahe :A PostgreSQL memcache functions</td>\n",
       "      <td>https://github.com/ohmu/pgmemcache/</td>\n",
       "      <td>2</td>\n",
       "      <td>1</td>\n",
       "      <td>websec</td>\n",
       "      <td>10/19/2015 14:55</td>\n",
       "      <td>PostgreSQL</td>\n",
       "    </tr>\n",
       "    <tr>\n",
       "      <th>1160</th>\n",
       "      <td>10546681</td>\n",
       "      <td>How to choose an in-memory NoSQL solution: Per...</td>\n",
       "      <td>http://articles.rvncerr.org/how-to-chose-an-in...</td>\n",
       "      <td>9</td>\n",
       "      <td>4</td>\n",
       "      <td>rvncerr</td>\n",
       "      <td>11/11/2015 14:04</td>\n",
       "      <td>NoSQL</td>\n",
       "    </tr>\n",
       "    <tr>\n",
       "      <th>1197</th>\n",
       "      <td>11583183</td>\n",
       "      <td>Postgraphql: A GraphQL schema created by refle...</td>\n",
       "      <td>https://github.com/calebmer/postgraphql</td>\n",
       "      <td>217</td>\n",
       "      <td>24</td>\n",
       "      <td>craigkerstiens</td>\n",
       "      <td>4/27/2016 18:29</td>\n",
       "      <td>PostgreSQL</td>\n",
       "    </tr>\n",
       "  </tbody>\n",
       "</table>\n",
       "</div>"
      ],
      "text/plain": [
       "            id                                              title  \\\n",
       "142   10957172               PostgreSQL: Linux VS Windows  part 2   \n",
       "221   11544342               MemSQL (YC W11) Raises $36M Series C   \n",
       "882   10413272         Pgmemcahe :A PostgreSQL memcache functions   \n",
       "1160  10546681  How to choose an in-memory NoSQL solution: Per...   \n",
       "1197  11583183  Postgraphql: A GraphQL schema created by refle...   \n",
       "\n",
       "                                                    url  num_points  \\\n",
       "142   http://www.sqig.net/2016/01/postgresql-linux-v...          16   \n",
       "221      http://blog.memsql.com/memsql-raises-series-c/          74   \n",
       "882                 https://github.com/ohmu/pgmemcache/           2   \n",
       "1160  http://articles.rvncerr.org/how-to-chose-an-in...           9   \n",
       "1197            https://github.com/calebmer/postgraphql         217   \n",
       "\n",
       "      num_comments          author        created_at      flavor  \n",
       "142              3          based2    1/23/2016 4:21  PostgreSQL  \n",
       "221             14    ericfrenkiel   4/21/2016 18:32      MemSQL  \n",
       "882              1          websec  10/19/2015 14:55  PostgreSQL  \n",
       "1160             4         rvncerr  11/11/2015 14:04       NoSQL  \n",
       "1197            24  craigkerstiens   4/27/2016 18:29  PostgreSQL  "
      ]
     },
     "execution_count": 80,
     "metadata": {},
     "output_type": "execute_result"
    }
   ],
   "source": [
    "hn_sql.head()"
   ]
  },
  {
   "cell_type": "code",
   "execution_count": 81,
   "metadata": {},
   "outputs": [
    {
     "data": {
      "text/plain": [
       "PostgreSQL    27\n",
       "NoSQL         16\n",
       "MySQL         12\n",
       "nosql          1\n",
       "MemSQL         1\n",
       "SparkSQL       1\n",
       "CloudSQL       1\n",
       "mySql          1\n",
       "Name: flavor, dtype: int64"
      ]
     },
     "execution_count": 81,
     "metadata": {},
     "output_type": "execute_result"
    }
   ],
   "source": [
    "hn_sql['flavor'].value_counts()"
   ]
  },
  {
   "cell_type": "code",
   "execution_count": 82,
   "metadata": {},
   "outputs": [],
   "source": [
    "hn_sql['flavor'] = hn_sql['flavor'].str.lower()"
   ]
  },
  {
   "cell_type": "code",
   "execution_count": 83,
   "metadata": {},
   "outputs": [
    {
     "data": {
      "text/plain": [
       "postgresql    27\n",
       "nosql         17\n",
       "mysql         13\n",
       "memsql         1\n",
       "cloudsql       1\n",
       "sparksql       1\n",
       "Name: flavor, dtype: int64"
      ]
     },
     "execution_count": 83,
     "metadata": {},
     "output_type": "execute_result"
    }
   ],
   "source": [
    "hn_sql['flavor'].value_counts()"
   ]
  },
  {
   "cell_type": "code",
   "execution_count": 84,
   "metadata": {},
   "outputs": [
    {
     "data": {
      "text/html": [
       "<div>\n",
       "<style scoped>\n",
       "    .dataframe tbody tr th:only-of-type {\n",
       "        vertical-align: middle;\n",
       "    }\n",
       "\n",
       "    .dataframe tbody tr th {\n",
       "        vertical-align: top;\n",
       "    }\n",
       "\n",
       "    .dataframe thead th {\n",
       "        text-align: right;\n",
       "    }\n",
       "</style>\n",
       "<table border=\"1\" class=\"dataframe\">\n",
       "  <thead>\n",
       "    <tr style=\"text-align: right;\">\n",
       "      <th></th>\n",
       "      <th>num_comments</th>\n",
       "    </tr>\n",
       "    <tr>\n",
       "      <th>flavor</th>\n",
       "      <th></th>\n",
       "    </tr>\n",
       "  </thead>\n",
       "  <tbody>\n",
       "    <tr>\n",
       "      <th>cloudsql</th>\n",
       "      <td>5.000000</td>\n",
       "    </tr>\n",
       "    <tr>\n",
       "      <th>memsql</th>\n",
       "      <td>14.000000</td>\n",
       "    </tr>\n",
       "    <tr>\n",
       "      <th>mysql</th>\n",
       "      <td>12.230769</td>\n",
       "    </tr>\n",
       "    <tr>\n",
       "      <th>nosql</th>\n",
       "      <td>14.529412</td>\n",
       "    </tr>\n",
       "    <tr>\n",
       "      <th>postgresql</th>\n",
       "      <td>25.962963</td>\n",
       "    </tr>\n",
       "    <tr>\n",
       "      <th>sparksql</th>\n",
       "      <td>1.000000</td>\n",
       "    </tr>\n",
       "  </tbody>\n",
       "</table>\n",
       "</div>"
      ],
      "text/plain": [
       "            num_comments\n",
       "flavor                  \n",
       "cloudsql        5.000000\n",
       "memsql         14.000000\n",
       "mysql          12.230769\n",
       "nosql          14.529412\n",
       "postgresql     25.962963\n",
       "sparksql        1.000000"
      ]
     },
     "execution_count": 84,
     "metadata": {},
     "output_type": "execute_result"
    }
   ],
   "source": [
    "hn_sql.pivot_table(index='flavor', values='num_comments', aggfunc='mean')"
   ]
  },
  {
   "cell_type": "code",
   "execution_count": 85,
   "metadata": {},
   "outputs": [
    {
     "data": {
      "text/plain": [
       "flavor\n",
       "cloudsql       5.000000\n",
       "memsql        14.000000\n",
       "mysql         12.230769\n",
       "nosql         14.529412\n",
       "postgresql    25.962963\n",
       "sparksql       1.000000\n",
       "Name: num_comments, dtype: float64"
      ]
     },
     "execution_count": 85,
     "metadata": {},
     "output_type": "execute_result"
    }
   ],
   "source": [
    "# isto z pomočjo groupby-ja\n",
    "hn_sql.groupby('flavor')['num_comments'].mean()"
   ]
  },
  {
   "cell_type": "markdown",
   "metadata": {},
   "source": [
    "### Primer: Versions of Python"
   ]
  },
  {
   "cell_type": "code",
   "execution_count": 86,
   "metadata": {},
   "outputs": [
    {
     "data": {
      "text/plain": [
       "3        10\n",
       "2         3\n",
       "3.5       3\n",
       "3.6       2\n",
       "8         1\n",
       "2.7       1\n",
       "4         1\n",
       "1.5       1\n",
       "3.5.0     1\n",
       "Name: title, dtype: int64"
      ]
     },
     "execution_count": 86,
     "metadata": {},
     "output_type": "execute_result"
    }
   ],
   "source": [
    "pattern = r'[Pp]ython\\s([\\d\\.]+)'\n",
    "titles.str.extract(pattern, expand=False).value_counts()"
   ]
  },
  {
   "cell_type": "markdown",
   "metadata": {},
   "source": [
    "### Primer: Extracting URL Parts"
   ]
  },
  {
   "cell_type": "code",
   "execution_count": 87,
   "metadata": {},
   "outputs": [],
   "source": [
    "url_parts = hn['url']\n",
    "pd.set_option('display.max_colwidth', -1)"
   ]
  },
  {
   "cell_type": "code",
   "execution_count": 88,
   "metadata": {},
   "outputs": [
    {
     "data": {
      "text/plain": [
       "0     http://www.interactivedynamicvideo.com/                                                                          \n",
       "1     http://www.thewire.com/entertainment/2013/04/florida-djs-april-fools-water-joke/63798/                           \n",
       "2     https://www.amazon.com/Technology-Ventures-Enterprise-Thomas-Byers/dp/0073523429                                 \n",
       "3     http://www.nytimes.com/2007/11/07/movies/07stein.html?_r=0                                                       \n",
       "4     http://arstechnica.com/business/2015/10/comcast-and-other-isps-boost-network-investment-despite-net-neutrality/  \n",
       "5     NaN                                                                                                              \n",
       "6     NaN                                                                                                              \n",
       "7     http://firstround.com/review/shims-jigs-and-other-woodworking-concepts-to-conquer-technical-debt/                \n",
       "8     http://www.southpolestation.com/trivia/igy1/appendix.html                                                        \n",
       "9     http://techcrunch.com/2016/03/15/crate-raises-4m-seed-round-for-its-next-gen-sql-database/                       \n",
       "10    http://evonomics.com/advertising-cannot-maintain-internet-heres-solution/                                        \n",
       "11    https://medium.com/@loorinm/coding-is-over-6d653abe8da8                                                          \n",
       "12    https://iot.seeed.cc                                                                                             \n",
       "13    http://www.bfilipek.com/2016/04/custom-deleters-for-c-smart-pointers.html                                        \n",
       "14    NaN                                                                                                              \n",
       "15    http://beta.crowdfireapp.com/?beta=agnipath                                                                      \n",
       "16    NaN                                                                                                              \n",
       "17    https://www.bostonglobe.com/magazine/2015/12/29/years-later-did-big-dig-deliver/tSb8PIMS4QJUETsMpA7SpI/story.html\n",
       "18    https://www.valid.ly                                                                                             \n",
       "19    http://apod.nasa.gov/apod/astropix.html                                                                          \n",
       "Name: url, dtype: object"
      ]
     },
     "execution_count": 88,
     "metadata": {},
     "output_type": "execute_result"
    }
   ],
   "source": [
    "url_parts.head(20)"
   ]
  },
  {
   "cell_type": "code",
   "execution_count": 89,
   "metadata": {},
   "outputs": [
    {
     "data": {
      "text/html": [
       "<div>\n",
       "<style scoped>\n",
       "    .dataframe tbody tr th:only-of-type {\n",
       "        vertical-align: middle;\n",
       "    }\n",
       "\n",
       "    .dataframe tbody tr th {\n",
       "        vertical-align: top;\n",
       "    }\n",
       "\n",
       "    .dataframe thead th {\n",
       "        text-align: right;\n",
       "    }\n",
       "</style>\n",
       "<table border=\"1\" class=\"dataframe\">\n",
       "  <thead>\n",
       "    <tr style=\"text-align: right;\">\n",
       "      <th></th>\n",
       "      <th>0</th>\n",
       "      <th>1</th>\n",
       "      <th>2</th>\n",
       "    </tr>\n",
       "  </thead>\n",
       "  <tbody>\n",
       "    <tr>\n",
       "      <th>0</th>\n",
       "      <td>http</td>\n",
       "      <td>www.interactivedynamicvideo.com</td>\n",
       "      <td></td>\n",
       "    </tr>\n",
       "    <tr>\n",
       "      <th>1</th>\n",
       "      <td>http</td>\n",
       "      <td>www.thewire.com</td>\n",
       "      <td>entertainment/2013/04/florida-djs-april-fools-water-joke/63798/</td>\n",
       "    </tr>\n",
       "    <tr>\n",
       "      <th>2</th>\n",
       "      <td>https</td>\n",
       "      <td>www.amazon.com</td>\n",
       "      <td>Technology-Ventures-Enterprise-Thomas-Byers/dp/0073523429</td>\n",
       "    </tr>\n",
       "    <tr>\n",
       "      <th>3</th>\n",
       "      <td>http</td>\n",
       "      <td>www.nytimes.com</td>\n",
       "      <td>2007/11/07/movies/07stein.html?_r=0</td>\n",
       "    </tr>\n",
       "    <tr>\n",
       "      <th>4</th>\n",
       "      <td>http</td>\n",
       "      <td>arstechnica.com</td>\n",
       "      <td>business/2015/10/comcast-and-other-isps-boost-network-investment-despite-net-neutrality/</td>\n",
       "    </tr>\n",
       "  </tbody>\n",
       "</table>\n",
       "</div>"
      ],
      "text/plain": [
       "       0                                1  \\\n",
       "0  http   www.interactivedynamicvideo.com   \n",
       "1  http   www.thewire.com                   \n",
       "2  https  www.amazon.com                    \n",
       "3  http   www.nytimes.com                   \n",
       "4  http   arstechnica.com                   \n",
       "\n",
       "                                                                                          2  \n",
       "0                                                                                            \n",
       "1  entertainment/2013/04/florida-djs-april-fools-water-joke/63798/                           \n",
       "2  Technology-Ventures-Enterprise-Thomas-Byers/dp/0073523429                                 \n",
       "3  2007/11/07/movies/07stein.html?_r=0                                                       \n",
       "4  business/2015/10/comcast-and-other-isps-boost-network-investment-despite-net-neutrality/  "
      ]
     },
     "execution_count": 89,
     "metadata": {},
     "output_type": "execute_result"
    }
   ],
   "source": [
    "pattern = r'(.+)://([\\w\\.]+)/?(.*)'\n",
    "url_parts.str.extract(pattern).head()"
   ]
  },
  {
   "cell_type": "markdown",
   "metadata": {},
   "source": [
    "#### Using Named Capture Groups"
   ]
  },
  {
   "cell_type": "code",
   "execution_count": 90,
   "metadata": {},
   "outputs": [
    {
     "data": {
      "text/html": [
       "<div>\n",
       "<style scoped>\n",
       "    .dataframe tbody tr th:only-of-type {\n",
       "        vertical-align: middle;\n",
       "    }\n",
       "\n",
       "    .dataframe tbody tr th {\n",
       "        vertical-align: top;\n",
       "    }\n",
       "\n",
       "    .dataframe thead th {\n",
       "        text-align: right;\n",
       "    }\n",
       "</style>\n",
       "<table border=\"1\" class=\"dataframe\">\n",
       "  <thead>\n",
       "    <tr style=\"text-align: right;\">\n",
       "      <th></th>\n",
       "      <th>protocol</th>\n",
       "      <th>domain</th>\n",
       "      <th>path</th>\n",
       "    </tr>\n",
       "  </thead>\n",
       "  <tbody>\n",
       "    <tr>\n",
       "      <th>0</th>\n",
       "      <td>http</td>\n",
       "      <td>www.interactivedynamicvideo.com</td>\n",
       "      <td></td>\n",
       "    </tr>\n",
       "    <tr>\n",
       "      <th>1</th>\n",
       "      <td>http</td>\n",
       "      <td>www.thewire.com</td>\n",
       "      <td>entertainment/2013/04/florida-djs-april-fools-water-joke/63798/</td>\n",
       "    </tr>\n",
       "    <tr>\n",
       "      <th>2</th>\n",
       "      <td>https</td>\n",
       "      <td>www.amazon.com</td>\n",
       "      <td>Technology-Ventures-Enterprise-Thomas-Byers/dp/0073523429</td>\n",
       "    </tr>\n",
       "    <tr>\n",
       "      <th>3</th>\n",
       "      <td>http</td>\n",
       "      <td>www.nytimes.com</td>\n",
       "      <td>2007/11/07/movies/07stein.html?_r=0</td>\n",
       "    </tr>\n",
       "    <tr>\n",
       "      <th>4</th>\n",
       "      <td>http</td>\n",
       "      <td>arstechnica.com</td>\n",
       "      <td>business/2015/10/comcast-and-other-isps-boost-network-investment-despite-net-neutrality/</td>\n",
       "    </tr>\n",
       "  </tbody>\n",
       "</table>\n",
       "</div>"
      ],
      "text/plain": [
       "  protocol                           domain  \\\n",
       "0  http     www.interactivedynamicvideo.com   \n",
       "1  http     www.thewire.com                   \n",
       "2  https    www.amazon.com                    \n",
       "3  http     www.nytimes.com                   \n",
       "4  http     arstechnica.com                   \n",
       "\n",
       "                                                                                       path  \n",
       "0                                                                                            \n",
       "1  entertainment/2013/04/florida-djs-april-fools-water-joke/63798/                           \n",
       "2  Technology-Ventures-Enterprise-Thomas-Byers/dp/0073523429                                 \n",
       "3  2007/11/07/movies/07stein.html?_r=0                                                       \n",
       "4  business/2015/10/comcast-and-other-isps-boost-network-investment-despite-net-neutrality/  "
      ]
     },
     "execution_count": 90,
     "metadata": {},
     "output_type": "execute_result"
    }
   ],
   "source": [
    "pattern = r'(?P<protocol>.+)://(?P<domain>[\\w\\.]+)/?(?P<path>.*)'\n",
    "url_parts.str.extract(pattern).head()"
   ]
  },
  {
   "cell_type": "markdown",
   "metadata": {},
   "source": [
    "### Primer: Clean a String Column, Aggregate the Data, and Plot the Results"
   ]
  },
  {
   "cell_type": "markdown",
   "metadata": {},
   "source": [
    "<table class=\"tg\">\n",
    "<tbody><tr>\n",
    "<th>Method</th>\n",
    "<th>Description</th>\n",
    "</tr>\n",
    "<tr>\n",
    "<td>Series.str.split()</td>\n",
    "<td>Splits each element in the Series.</td>\n",
    "</tr>\n",
    "<tr>\n",
    "<td>Series.str.strip()</td>\n",
    "<td>Strips whitespace from each string in the Series.</td>\n",
    "</tr>\n",
    "<tr>\n",
    "<td>Series.str.lower()</td>\n",
    "<td>Converts strings in the Series to lowercase.</td>\n",
    "</tr>\n",
    "<tr>\n",
    "<td>Series.str.upper()</td>\n",
    "<td>Converts strings in the Series to uppercase.</td>\n",
    "</tr>\n",
    "<tr>\n",
    "<td>Series.str.get()</td>\n",
    "<td>Retrieves the ith element of each element in the Series.</td>\n",
    "</tr>\n",
    "<tr>\n",
    "<td><span style=\"font-weight:300;font-style:normal\">Series.str.replace()</span></td>\n",
    "<td><span style=\"font-weight:300;font-style:normal\">Replaces a regex or string in the Series with another string.</span></td>\n",
    "</tr>\n",
    "<tr>\n",
    "<td>Series.str.cat()</td>\n",
    "<td>Concatenates strings in a Series.</td>\n",
    "</tr>\n",
    "<tr>\n",
    "<td><span style=\"font-weight:300;font-style:normal\">Series.str.extract()</span></td>\n",
    "<td><span style=\"font-weight:300;font-style:normal\">Extracts substrings from the Series matching a regex pattern.</span></td>\n",
    "</tr>\n",
    "</tbody></table>"
   ]
  },
  {
   "cell_type": "code",
   "execution_count": 91,
   "metadata": {},
   "outputs": [
    {
     "data": {
      "text/html": [
       "<div>\n",
       "<style scoped>\n",
       "    .dataframe tbody tr th:only-of-type {\n",
       "        vertical-align: middle;\n",
       "    }\n",
       "\n",
       "    .dataframe tbody tr th {\n",
       "        vertical-align: top;\n",
       "    }\n",
       "\n",
       "    .dataframe thead th {\n",
       "        text-align: right;\n",
       "    }\n",
       "</style>\n",
       "<table border=\"1\" class=\"dataframe\">\n",
       "  <thead>\n",
       "    <tr style=\"text-align: right;\">\n",
       "      <th></th>\n",
       "      <th>Country</th>\n",
       "      <th>Region_x</th>\n",
       "      <th>Happiness Rank</th>\n",
       "      <th>Happiness Score</th>\n",
       "      <th>Standard Error</th>\n",
       "      <th>Economy (GDP per Capita)</th>\n",
       "      <th>Family</th>\n",
       "      <th>Health (Life Expectancy)</th>\n",
       "      <th>Freedom</th>\n",
       "      <th>Trust (Government Corruption)</th>\n",
       "      <th>...</th>\n",
       "      <th>LatestPopulationCensus</th>\n",
       "      <th>LatestHouseholdSurvey</th>\n",
       "      <th>IESurvey</th>\n",
       "      <th>VitalRegistrationComplete</th>\n",
       "      <th>LatestAgriculturalCensus</th>\n",
       "      <th>LatestIndustrialData</th>\n",
       "      <th>LatestTradeData</th>\n",
       "      <th>LatestWaterWithdrawalData</th>\n",
       "      <th>Currency Apply</th>\n",
       "      <th>Currency Vectorized</th>\n",
       "    </tr>\n",
       "  </thead>\n",
       "  <tbody>\n",
       "    <tr>\n",
       "      <th>0</th>\n",
       "      <td>Switzerland</td>\n",
       "      <td>Western Europe</td>\n",
       "      <td>1</td>\n",
       "      <td>7.587</td>\n",
       "      <td>0.03411</td>\n",
       "      <td>1.39651</td>\n",
       "      <td>1.34951</td>\n",
       "      <td>0.94143</td>\n",
       "      <td>0.66557</td>\n",
       "      <td>0.41978</td>\n",
       "      <td>...</td>\n",
       "      <td>2010</td>\n",
       "      <td>NaN</td>\n",
       "      <td>Expenditure survey/budget survey (ES/BS), 2004</td>\n",
       "      <td>Yes</td>\n",
       "      <td>2008</td>\n",
       "      <td>2010.0</td>\n",
       "      <td>2013.0</td>\n",
       "      <td>2000.0</td>\n",
       "      <td>franc</td>\n",
       "      <td>franc</td>\n",
       "    </tr>\n",
       "    <tr>\n",
       "      <th>1</th>\n",
       "      <td>Iceland</td>\n",
       "      <td>Western Europe</td>\n",
       "      <td>2</td>\n",
       "      <td>7.561</td>\n",
       "      <td>0.04884</td>\n",
       "      <td>1.30232</td>\n",
       "      <td>1.40223</td>\n",
       "      <td>0.94784</td>\n",
       "      <td>0.62877</td>\n",
       "      <td>0.14145</td>\n",
       "      <td>...</td>\n",
       "      <td>2011</td>\n",
       "      <td>NaN</td>\n",
       "      <td>Integrated household survey (IHS), 2010</td>\n",
       "      <td>Yes</td>\n",
       "      <td>2010</td>\n",
       "      <td>2005.0</td>\n",
       "      <td>2013.0</td>\n",
       "      <td>2005.0</td>\n",
       "      <td>krona</td>\n",
       "      <td>krona</td>\n",
       "    </tr>\n",
       "    <tr>\n",
       "      <th>2</th>\n",
       "      <td>Denmark</td>\n",
       "      <td>Western Europe</td>\n",
       "      <td>3</td>\n",
       "      <td>7.527</td>\n",
       "      <td>0.03328</td>\n",
       "      <td>1.32548</td>\n",
       "      <td>1.36058</td>\n",
       "      <td>0.87464</td>\n",
       "      <td>0.64938</td>\n",
       "      <td>0.48357</td>\n",
       "      <td>...</td>\n",
       "      <td>2011</td>\n",
       "      <td>NaN</td>\n",
       "      <td>Income tax registers (ITR), 2010</td>\n",
       "      <td>Yes</td>\n",
       "      <td>2010</td>\n",
       "      <td>2010.0</td>\n",
       "      <td>2013.0</td>\n",
       "      <td>2009.0</td>\n",
       "      <td>krone</td>\n",
       "      <td>krone</td>\n",
       "    </tr>\n",
       "    <tr>\n",
       "      <th>3</th>\n",
       "      <td>Norway</td>\n",
       "      <td>Western Europe</td>\n",
       "      <td>4</td>\n",
       "      <td>7.522</td>\n",
       "      <td>0.03880</td>\n",
       "      <td>1.45900</td>\n",
       "      <td>1.33095</td>\n",
       "      <td>0.88521</td>\n",
       "      <td>0.66973</td>\n",
       "      <td>0.36503</td>\n",
       "      <td>...</td>\n",
       "      <td>2011</td>\n",
       "      <td>NaN</td>\n",
       "      <td>Income survey (IS), 2010</td>\n",
       "      <td>Yes</td>\n",
       "      <td>2010</td>\n",
       "      <td>2010.0</td>\n",
       "      <td>2013.0</td>\n",
       "      <td>2006.0</td>\n",
       "      <td>krone</td>\n",
       "      <td>krone</td>\n",
       "    </tr>\n",
       "    <tr>\n",
       "      <th>4</th>\n",
       "      <td>Canada</td>\n",
       "      <td>North America</td>\n",
       "      <td>5</td>\n",
       "      <td>7.427</td>\n",
       "      <td>0.03553</td>\n",
       "      <td>1.32629</td>\n",
       "      <td>1.32261</td>\n",
       "      <td>0.90563</td>\n",
       "      <td>0.63297</td>\n",
       "      <td>0.32957</td>\n",
       "      <td>...</td>\n",
       "      <td>2011</td>\n",
       "      <td>NaN</td>\n",
       "      <td>Labor force survey (LFS), 2010</td>\n",
       "      <td>Yes</td>\n",
       "      <td>2011</td>\n",
       "      <td>2011.0</td>\n",
       "      <td>2013.0</td>\n",
       "      <td>1986.0</td>\n",
       "      <td>dollar</td>\n",
       "      <td>dollar</td>\n",
       "    </tr>\n",
       "  </tbody>\n",
       "</table>\n",
       "<p>5 rows × 45 columns</p>\n",
       "</div>"
      ],
      "text/plain": [
       "       Country        Region_x  Happiness Rank  Happiness Score  \\\n",
       "0  Switzerland  Western Europe  1               7.587             \n",
       "1  Iceland      Western Europe  2               7.561             \n",
       "2  Denmark      Western Europe  3               7.527             \n",
       "3  Norway       Western Europe  4               7.522             \n",
       "4  Canada       North America   5               7.427             \n",
       "\n",
       "   Standard Error  Economy (GDP per Capita)   Family  \\\n",
       "0  0.03411         1.39651                   1.34951   \n",
       "1  0.04884         1.30232                   1.40223   \n",
       "2  0.03328         1.32548                   1.36058   \n",
       "3  0.03880         1.45900                   1.33095   \n",
       "4  0.03553         1.32629                   1.32261   \n",
       "\n",
       "   Health (Life Expectancy)  Freedom  Trust (Government Corruption)  ...  \\\n",
       "0  0.94143                   0.66557  0.41978                        ...   \n",
       "1  0.94784                   0.62877  0.14145                        ...   \n",
       "2  0.87464                   0.64938  0.48357                        ...   \n",
       "3  0.88521                   0.66973  0.36503                        ...   \n",
       "4  0.90563                   0.63297  0.32957                        ...   \n",
       "\n",
       "   LatestPopulationCensus  LatestHouseholdSurvey  \\\n",
       "0  2010                    NaN                     \n",
       "1  2011                    NaN                     \n",
       "2  2011                    NaN                     \n",
       "3  2011                    NaN                     \n",
       "4  2011                    NaN                     \n",
       "\n",
       "                                         IESurvey VitalRegistrationComplete  \\\n",
       "0  Expenditure survey/budget survey (ES/BS), 2004  Yes                        \n",
       "1  Integrated household survey (IHS), 2010         Yes                        \n",
       "2  Income tax registers (ITR), 2010                Yes                        \n",
       "3  Income survey (IS), 2010                        Yes                        \n",
       "4  Labor force survey (LFS), 2010                  Yes                        \n",
       "\n",
       "  LatestAgriculturalCensus LatestIndustrialData LatestTradeData  \\\n",
       "0  2008                     2010.0               2013.0           \n",
       "1  2010                     2005.0               2013.0           \n",
       "2  2010                     2010.0               2013.0           \n",
       "3  2010                     2010.0               2013.0           \n",
       "4  2011                     2011.0               2013.0           \n",
       "\n",
       "  LatestWaterWithdrawalData Currency Apply Currency Vectorized  \n",
       "0  2000.0                    franc          franc               \n",
       "1  2005.0                    krona          krona               \n",
       "2  2009.0                    krone          krone               \n",
       "3  2006.0                    krone          krone               \n",
       "4  1986.0                    dollar         dollar              \n",
       "\n",
       "[5 rows x 45 columns]"
      ]
     },
     "execution_count": 91,
     "metadata": {},
     "output_type": "execute_result"
    }
   ],
   "source": [
    "merged.head()"
   ]
  },
  {
   "cell_type": "code",
   "execution_count": 92,
   "metadata": {},
   "outputs": [
    {
     "data": {
      "text/plain": [
       "0    High income: OECD\n",
       "1    High income: OECD\n",
       "2    High income: OECD\n",
       "3    High income: OECD\n",
       "4    High income: OECD\n",
       "Name: IncomeGroup, dtype: object"
      ]
     },
     "execution_count": 92,
     "metadata": {},
     "output_type": "execute_result"
    }
   ],
   "source": [
    "merged['IncomeGroup'].head()"
   ]
  },
  {
   "cell_type": "code",
   "execution_count": 93,
   "metadata": {},
   "outputs": [],
   "source": [
    "pv_incomes = merged.pivot_table(values='Happiness Score', index='IncomeGroup')"
   ]
  },
  {
   "cell_type": "code",
   "execution_count": 94,
   "metadata": {},
   "outputs": [
    {
     "data": {
      "text/html": [
       "<div>\n",
       "<style scoped>\n",
       "    .dataframe tbody tr th:only-of-type {\n",
       "        vertical-align: middle;\n",
       "    }\n",
       "\n",
       "    .dataframe tbody tr th {\n",
       "        vertical-align: top;\n",
       "    }\n",
       "\n",
       "    .dataframe thead th {\n",
       "        text-align: right;\n",
       "    }\n",
       "</style>\n",
       "<table border=\"1\" class=\"dataframe\">\n",
       "  <thead>\n",
       "    <tr style=\"text-align: right;\">\n",
       "      <th></th>\n",
       "      <th>Happiness Score</th>\n",
       "    </tr>\n",
       "    <tr>\n",
       "      <th>IncomeGroup</th>\n",
       "      <th></th>\n",
       "    </tr>\n",
       "  </thead>\n",
       "  <tbody>\n",
       "    <tr>\n",
       "      <th>High income: OECD</th>\n",
       "      <td>6.674000</td>\n",
       "    </tr>\n",
       "    <tr>\n",
       "      <th>High income: nonOECD</th>\n",
       "      <td>6.250765</td>\n",
       "    </tr>\n",
       "    <tr>\n",
       "      <th>Low income</th>\n",
       "      <td>3.925625</td>\n",
       "    </tr>\n",
       "    <tr>\n",
       "      <th>Lower middle income</th>\n",
       "      <td>4.927971</td>\n",
       "    </tr>\n",
       "    <tr>\n",
       "      <th>Upper middle income</th>\n",
       "      <td>5.426718</td>\n",
       "    </tr>\n",
       "  </tbody>\n",
       "</table>\n",
       "</div>"
      ],
      "text/plain": [
       "                      Happiness Score\n",
       "IncomeGroup                          \n",
       "High income: OECD     6.674000       \n",
       "High income: nonOECD  6.250765       \n",
       "Low income            3.925625       \n",
       "Lower middle income   4.927971       \n",
       "Upper middle income   5.426718       "
      ]
     },
     "execution_count": 94,
     "metadata": {},
     "output_type": "execute_result"
    }
   ],
   "source": [
    "pv_incomes"
   ]
  },
  {
   "cell_type": "code",
   "execution_count": 95,
   "metadata": {},
   "outputs": [
    {
     "data": {
      "image/png": "[encoded data removed]",
      "text/plain": [
       "<Figure size 432x288 with 1 Axes>"
      ]
     },
     "metadata": {
      "needs_background": "light"
     },
     "output_type": "display_data"
    }
   ],
   "source": [
    "pv_incomes.plot(kind='bar', rot=30, ylim=(0,10), legend=False)\n",
    "plt.show()"
   ]
  },
  {
   "cell_type": "code",
   "execution_count": 96,
   "metadata": {},
   "outputs": [
    {
     "data": {
      "image/png": "[encoded data removed]",
      "text/plain": [
       "<Figure size 432x288 with 1 Axes>"
      ]
     },
     "metadata": {
      "needs_background": "light"
     },
     "output_type": "display_data"
    }
   ],
   "source": [
    "merged['IncomeGroup'] = merged['IncomeGroup'].str.replace(' income', '').str.replace(':', '').str.upper()\n",
    "pv_incomes = merged.pivot_table(values='Happiness Score', index='IncomeGroup')\n",
    "pv_incomes.plot(kind='bar', rot=30, ylim=(0,10), legend=False)\n",
    "plt.show()"
   ]
  },
  {
   "cell_type": "markdown",
   "metadata": {},
   "source": [
    "## Working With Missing Data"
   ]
  },
  {
   "cell_type": "markdown",
   "metadata": {},
   "source": [
    "### Introduction"
   ]
  },
  {
   "cell_type": "code",
   "execution_count": 97,
   "metadata": {},
   "outputs": [],
   "source": [
    "happiness2015 = pd.read_csv('data/wh_2015.csv') \n",
    "happiness2016 = pd.read_csv('data/wh_2016.csv') \n",
    "happiness2017 = pd.read_csv('data/wh_2017.csv')"
   ]
  },
  {
   "cell_type": "code",
   "execution_count": 98,
   "metadata": {},
   "outputs": [],
   "source": [
    "shape_2015 = happiness2015.shape\n",
    "shape_2016 = happiness2016.shape\n",
    "shape_2017 = happiness2017.shape"
   ]
  },
  {
   "cell_type": "code",
   "execution_count": 99,
   "metadata": {},
   "outputs": [
    {
     "data": {
      "text/plain": [
       "(164, 13)"
      ]
     },
     "execution_count": 99,
     "metadata": {},
     "output_type": "execute_result"
    }
   ],
   "source": [
    "shape_2015"
   ]
  },
  {
   "cell_type": "code",
   "execution_count": 100,
   "metadata": {},
   "outputs": [
    {
     "data": {
      "text/plain": [
       "(164, 14)"
      ]
     },
     "execution_count": 100,
     "metadata": {},
     "output_type": "execute_result"
    }
   ],
   "source": [
    "shape_2016"
   ]
  },
  {
   "cell_type": "code",
   "execution_count": 101,
   "metadata": {},
   "outputs": [
    {
     "data": {
      "text/plain": [
       "(164, 13)"
      ]
     },
     "execution_count": 101,
     "metadata": {},
     "output_type": "execute_result"
    }
   ],
   "source": [
    "shape_2017"
   ]
  },
  {
   "cell_type": "markdown",
   "metadata": {},
   "source": [
    "### Identifying Missing Values"
   ]
  },
  {
   "cell_type": "code",
   "execution_count": 102,
   "metadata": {},
   "outputs": [],
   "source": [
    "missing = happiness2015['Happiness Score'].isnull()"
   ]
  },
  {
   "cell_type": "code",
   "execution_count": 103,
   "metadata": {},
   "outputs": [
    {
     "data": {
      "text/html": [
       "<div>\n",
       "<style scoped>\n",
       "    .dataframe tbody tr th:only-of-type {\n",
       "        vertical-align: middle;\n",
       "    }\n",
       "\n",
       "    .dataframe tbody tr th {\n",
       "        vertical-align: top;\n",
       "    }\n",
       "\n",
       "    .dataframe thead th {\n",
       "        text-align: right;\n",
       "    }\n",
       "</style>\n",
       "<table border=\"1\" class=\"dataframe\">\n",
       "  <thead>\n",
       "    <tr style=\"text-align: right;\">\n",
       "      <th></th>\n",
       "      <th>Country</th>\n",
       "      <th>Region</th>\n",
       "      <th>Happiness Rank</th>\n",
       "      <th>Happiness Score</th>\n",
       "      <th>Standard Error</th>\n",
       "      <th>Economy (GDP per Capita)</th>\n",
       "      <th>Family</th>\n",
       "      <th>Health (Life Expectancy)</th>\n",
       "      <th>Freedom</th>\n",
       "      <th>Trust (Government Corruption)</th>\n",
       "      <th>Generosity</th>\n",
       "      <th>Dystopia Residual</th>\n",
       "      <th>Year</th>\n",
       "    </tr>\n",
       "  </thead>\n",
       "  <tbody>\n",
       "    <tr>\n",
       "      <th>158</th>\n",
       "      <td>Belize</td>\n",
       "      <td>NaN</td>\n",
       "      <td>NaN</td>\n",
       "      <td>NaN</td>\n",
       "      <td>NaN</td>\n",
       "      <td>NaN</td>\n",
       "      <td>NaN</td>\n",
       "      <td>NaN</td>\n",
       "      <td>NaN</td>\n",
       "      <td>NaN</td>\n",
       "      <td>NaN</td>\n",
       "      <td>NaN</td>\n",
       "      <td>2015</td>\n",
       "    </tr>\n",
       "    <tr>\n",
       "      <th>159</th>\n",
       "      <td>Namibia</td>\n",
       "      <td>NaN</td>\n",
       "      <td>NaN</td>\n",
       "      <td>NaN</td>\n",
       "      <td>NaN</td>\n",
       "      <td>NaN</td>\n",
       "      <td>NaN</td>\n",
       "      <td>NaN</td>\n",
       "      <td>NaN</td>\n",
       "      <td>NaN</td>\n",
       "      <td>NaN</td>\n",
       "      <td>NaN</td>\n",
       "      <td>2015</td>\n",
       "    </tr>\n",
       "    <tr>\n",
       "      <th>160</th>\n",
       "      <td>Puerto Rico</td>\n",
       "      <td>NaN</td>\n",
       "      <td>NaN</td>\n",
       "      <td>NaN</td>\n",
       "      <td>NaN</td>\n",
       "      <td>NaN</td>\n",
       "      <td>NaN</td>\n",
       "      <td>NaN</td>\n",
       "      <td>NaN</td>\n",
       "      <td>NaN</td>\n",
       "      <td>NaN</td>\n",
       "      <td>NaN</td>\n",
       "      <td>2015</td>\n",
       "    </tr>\n",
       "    <tr>\n",
       "      <th>161</th>\n",
       "      <td>Somalia</td>\n",
       "      <td>NaN</td>\n",
       "      <td>NaN</td>\n",
       "      <td>NaN</td>\n",
       "      <td>NaN</td>\n",
       "      <td>NaN</td>\n",
       "      <td>NaN</td>\n",
       "      <td>NaN</td>\n",
       "      <td>NaN</td>\n",
       "      <td>NaN</td>\n",
       "      <td>NaN</td>\n",
       "      <td>NaN</td>\n",
       "      <td>2015</td>\n",
       "    </tr>\n",
       "    <tr>\n",
       "      <th>162</th>\n",
       "      <td>Somaliland Region</td>\n",
       "      <td>NaN</td>\n",
       "      <td>NaN</td>\n",
       "      <td>NaN</td>\n",
       "      <td>NaN</td>\n",
       "      <td>NaN</td>\n",
       "      <td>NaN</td>\n",
       "      <td>NaN</td>\n",
       "      <td>NaN</td>\n",
       "      <td>NaN</td>\n",
       "      <td>NaN</td>\n",
       "      <td>NaN</td>\n",
       "      <td>2015</td>\n",
       "    </tr>\n",
       "    <tr>\n",
       "      <th>163</th>\n",
       "      <td>South Sudan</td>\n",
       "      <td>NaN</td>\n",
       "      <td>NaN</td>\n",
       "      <td>NaN</td>\n",
       "      <td>NaN</td>\n",
       "      <td>NaN</td>\n",
       "      <td>NaN</td>\n",
       "      <td>NaN</td>\n",
       "      <td>NaN</td>\n",
       "      <td>NaN</td>\n",
       "      <td>NaN</td>\n",
       "      <td>NaN</td>\n",
       "      <td>2015</td>\n",
       "    </tr>\n",
       "  </tbody>\n",
       "</table>\n",
       "</div>"
      ],
      "text/plain": [
       "               Country Region  Happiness Rank  Happiness Score  \\\n",
       "158  Belize             NaN   NaN             NaN                \n",
       "159  Namibia            NaN   NaN             NaN                \n",
       "160  Puerto Rico        NaN   NaN             NaN                \n",
       "161  Somalia            NaN   NaN             NaN                \n",
       "162  Somaliland Region  NaN   NaN             NaN                \n",
       "163  South Sudan        NaN   NaN             NaN                \n",
       "\n",
       "     Standard Error  Economy (GDP per Capita)  Family  \\\n",
       "158 NaN             NaN                       NaN       \n",
       "159 NaN             NaN                       NaN       \n",
       "160 NaN             NaN                       NaN       \n",
       "161 NaN             NaN                       NaN       \n",
       "162 NaN             NaN                       NaN       \n",
       "163 NaN             NaN                       NaN       \n",
       "\n",
       "     Health (Life Expectancy)  Freedom  Trust (Government Corruption)  \\\n",
       "158 NaN                       NaN      NaN                              \n",
       "159 NaN                       NaN      NaN                              \n",
       "160 NaN                       NaN      NaN                              \n",
       "161 NaN                       NaN      NaN                              \n",
       "162 NaN                       NaN      NaN                              \n",
       "163 NaN                       NaN      NaN                              \n",
       "\n",
       "     Generosity  Dystopia Residual  Year  \n",
       "158 NaN         NaN                 2015  \n",
       "159 NaN         NaN                 2015  \n",
       "160 NaN         NaN                 2015  \n",
       "161 NaN         NaN                 2015  \n",
       "162 NaN         NaN                 2015  \n",
       "163 NaN         NaN                 2015  "
      ]
     },
     "execution_count": 103,
     "metadata": {},
     "output_type": "execute_result"
    }
   ],
   "source": [
    "happiness2015[missing]"
   ]
  },
  {
   "cell_type": "code",
   "execution_count": 104,
   "metadata": {},
   "outputs": [
    {
     "data": {
      "text/plain": [
       "Country                          0\n",
       "Region                           6\n",
       "Happiness Rank                   6\n",
       "Happiness Score                  6\n",
       "Standard Error                   6\n",
       "Economy (GDP per Capita)         6\n",
       "Family                           6\n",
       "Health (Life Expectancy)         6\n",
       "Freedom                          6\n",
       "Trust (Government Corruption)    6\n",
       "Generosity                       6\n",
       "Dystopia Residual                6\n",
       "Year                             0\n",
       "dtype: int64"
      ]
     },
     "execution_count": 104,
     "metadata": {},
     "output_type": "execute_result"
    }
   ],
   "source": [
    "happiness2015.isnull().sum()"
   ]
  },
  {
   "cell_type": "code",
   "execution_count": 105,
   "metadata": {},
   "outputs": [
    {
     "data": {
      "text/plain": [
       "Country                          0\n",
       "Region                           7\n",
       "Happiness Rank                   7\n",
       "Happiness Score                  7\n",
       "Lower Confidence Interval        7\n",
       "Upper Confidence Interval        7\n",
       "Economy (GDP per Capita)         7\n",
       "Family                           7\n",
       "Health (Life Expectancy)         7\n",
       "Freedom                          7\n",
       "Trust (Government Corruption)    7\n",
       "Generosity                       7\n",
       "Dystopia Residual                7\n",
       "Year                             0\n",
       "dtype: int64"
      ]
     },
     "execution_count": 105,
     "metadata": {},
     "output_type": "execute_result"
    }
   ],
   "source": [
    "happiness2016.isnull().sum()"
   ]
  },
  {
   "cell_type": "code",
   "execution_count": 106,
   "metadata": {},
   "outputs": [
    {
     "data": {
      "text/plain": [
       "Country                          0\n",
       "Happiness.Rank                   9\n",
       "Happiness.Score                  9\n",
       "Whisker.high                     9\n",
       "Whisker.low                      9\n",
       "Economy..GDP.per.Capita.         9\n",
       "Family                           9\n",
       "Health..Life.Expectancy.         9\n",
       "Freedom                          9\n",
       "Generosity                       9\n",
       "Trust..Government.Corruption.    9\n",
       "Dystopia.Residual                9\n",
       "Year                             0\n",
       "dtype: int64"
      ]
     },
     "execution_count": 106,
     "metadata": {},
     "output_type": "execute_result"
    }
   ],
   "source": [
    "happiness2017.isnull().sum()"
   ]
  },
  {
   "cell_type": "markdown",
   "metadata": {},
   "source": [
    "### Correcting Data Cleaning Errors that Result in Missing Values"
   ]
  },
  {
   "cell_type": "code",
   "execution_count": 107,
   "metadata": {},
   "outputs": [],
   "source": [
    "combined = pd.concat([happiness2015,happiness2016,happiness2017], ignore_index=True, sort=True)"
   ]
  },
  {
   "cell_type": "code",
   "execution_count": 108,
   "metadata": {},
   "outputs": [
    {
     "data": {
      "text/plain": [
       "Country                          0  \n",
       "Dystopia Residual                177\n",
       "Dystopia.Residual                337\n",
       "Economy (GDP per Capita)         177\n",
       "Economy..GDP.per.Capita.         337\n",
       "Family                           22 \n",
       "Freedom                          22 \n",
       "Generosity                       22 \n",
       "Happiness Rank                   177\n",
       "Happiness Score                  177\n",
       "Happiness.Rank                   337\n",
       "Happiness.Score                  337\n",
       "Health (Life Expectancy)         177\n",
       "Health..Life.Expectancy.         337\n",
       "Lower Confidence Interval        335\n",
       "Region                           177\n",
       "Standard Error                   334\n",
       "Trust (Government Corruption)    177\n",
       "Trust..Government.Corruption.    337\n",
       "Upper Confidence Interval        335\n",
       "Whisker.high                     337\n",
       "Whisker.low                      337\n",
       "Year                             0  \n",
       "dtype: int64"
      ]
     },
     "execution_count": 108,
     "metadata": {},
     "output_type": "execute_result"
    }
   ],
   "source": [
    "combined.isnull().sum()"
   ]
  },
  {
   "cell_type": "code",
   "execution_count": 109,
   "metadata": {},
   "outputs": [
    {
     "data": {
      "text/html": [
       "<div>\n",
       "<style scoped>\n",
       "    .dataframe tbody tr th:only-of-type {\n",
       "        vertical-align: middle;\n",
       "    }\n",
       "\n",
       "    .dataframe tbody tr th {\n",
       "        vertical-align: top;\n",
       "    }\n",
       "\n",
       "    .dataframe thead th {\n",
       "        text-align: right;\n",
       "    }\n",
       "</style>\n",
       "<table border=\"1\" class=\"dataframe\">\n",
       "  <thead>\n",
       "    <tr style=\"text-align: right;\">\n",
       "      <th></th>\n",
       "      <th>Country</th>\n",
       "      <th>Happiness.Rank</th>\n",
       "      <th>Happiness.Score</th>\n",
       "      <th>Whisker.high</th>\n",
       "      <th>Whisker.low</th>\n",
       "      <th>Economy..GDP.per.Capita.</th>\n",
       "      <th>Family</th>\n",
       "      <th>Health..Life.Expectancy.</th>\n",
       "      <th>Freedom</th>\n",
       "      <th>Generosity</th>\n",
       "      <th>Trust..Government.Corruption.</th>\n",
       "      <th>Dystopia.Residual</th>\n",
       "      <th>Year</th>\n",
       "    </tr>\n",
       "  </thead>\n",
       "  <tbody>\n",
       "    <tr>\n",
       "      <th>0</th>\n",
       "      <td>Norway</td>\n",
       "      <td>1.0</td>\n",
       "      <td>7.537</td>\n",
       "      <td>7.594445</td>\n",
       "      <td>7.479556</td>\n",
       "      <td>1.616463</td>\n",
       "      <td>1.533524</td>\n",
       "      <td>0.796667</td>\n",
       "      <td>0.635423</td>\n",
       "      <td>0.362012</td>\n",
       "      <td>0.315964</td>\n",
       "      <td>2.277027</td>\n",
       "      <td>2017</td>\n",
       "    </tr>\n",
       "    <tr>\n",
       "      <th>1</th>\n",
       "      <td>Denmark</td>\n",
       "      <td>2.0</td>\n",
       "      <td>7.522</td>\n",
       "      <td>7.581728</td>\n",
       "      <td>7.462272</td>\n",
       "      <td>1.482383</td>\n",
       "      <td>1.551122</td>\n",
       "      <td>0.792566</td>\n",
       "      <td>0.626007</td>\n",
       "      <td>0.355280</td>\n",
       "      <td>0.400770</td>\n",
       "      <td>2.313707</td>\n",
       "      <td>2017</td>\n",
       "    </tr>\n",
       "  </tbody>\n",
       "</table>\n",
       "</div>"
      ],
      "text/plain": [
       "   Country  Happiness.Rank  Happiness.Score  Whisker.high  Whisker.low  \\\n",
       "0  Norway   1.0             7.537            7.594445      7.479556      \n",
       "1  Denmark  2.0             7.522            7.581728      7.462272      \n",
       "\n",
       "   Economy..GDP.per.Capita.    Family  Health..Life.Expectancy.   Freedom  \\\n",
       "0  1.616463                  1.533524  0.796667                  0.635423   \n",
       "1  1.482383                  1.551122  0.792566                  0.626007   \n",
       "\n",
       "   Generosity  Trust..Government.Corruption.  Dystopia.Residual  Year  \n",
       "0  0.362012    0.315964                       2.277027           2017  \n",
       "1  0.355280    0.400770                       2.313707           2017  "
      ]
     },
     "execution_count": 109,
     "metadata": {},
     "output_type": "execute_result"
    }
   ],
   "source": [
    "happiness2017.head(2)"
   ]
  },
  {
   "cell_type": "code",
   "execution_count": 110,
   "metadata": {},
   "outputs": [],
   "source": [
    "happiness2017.columns = happiness2017.columns.str.replace('.', ' ') \\\n",
    "                        .str.replace(r'\\s+', ' ') \\\n",
    "                        .str.strip() \\\n",
    "                        .str.upper()"
   ]
  },
  {
   "cell_type": "code",
   "execution_count": 111,
   "metadata": {},
   "outputs": [
    {
     "data": {
      "text/html": [
       "<div>\n",
       "<style scoped>\n",
       "    .dataframe tbody tr th:only-of-type {\n",
       "        vertical-align: middle;\n",
       "    }\n",
       "\n",
       "    .dataframe tbody tr th {\n",
       "        vertical-align: top;\n",
       "    }\n",
       "\n",
       "    .dataframe thead th {\n",
       "        text-align: right;\n",
       "    }\n",
       "</style>\n",
       "<table border=\"1\" class=\"dataframe\">\n",
       "  <thead>\n",
       "    <tr style=\"text-align: right;\">\n",
       "      <th></th>\n",
       "      <th>COUNTRY</th>\n",
       "      <th>HAPPINESS RANK</th>\n",
       "      <th>HAPPINESS SCORE</th>\n",
       "      <th>WHISKER HIGH</th>\n",
       "      <th>WHISKER LOW</th>\n",
       "      <th>ECONOMY GDP PER CAPITA</th>\n",
       "      <th>FAMILY</th>\n",
       "      <th>HEALTH LIFE EXPECTANCY</th>\n",
       "      <th>FREEDOM</th>\n",
       "      <th>GENEROSITY</th>\n",
       "      <th>TRUST GOVERNMENT CORRUPTION</th>\n",
       "      <th>DYSTOPIA RESIDUAL</th>\n",
       "      <th>YEAR</th>\n",
       "    </tr>\n",
       "  </thead>\n",
       "  <tbody>\n",
       "    <tr>\n",
       "      <th>0</th>\n",
       "      <td>Norway</td>\n",
       "      <td>1.0</td>\n",
       "      <td>7.537</td>\n",
       "      <td>7.594445</td>\n",
       "      <td>7.479556</td>\n",
       "      <td>1.616463</td>\n",
       "      <td>1.533524</td>\n",
       "      <td>0.796667</td>\n",
       "      <td>0.635423</td>\n",
       "      <td>0.362012</td>\n",
       "      <td>0.315964</td>\n",
       "      <td>2.277027</td>\n",
       "      <td>2017</td>\n",
       "    </tr>\n",
       "    <tr>\n",
       "      <th>1</th>\n",
       "      <td>Denmark</td>\n",
       "      <td>2.0</td>\n",
       "      <td>7.522</td>\n",
       "      <td>7.581728</td>\n",
       "      <td>7.462272</td>\n",
       "      <td>1.482383</td>\n",
       "      <td>1.551122</td>\n",
       "      <td>0.792566</td>\n",
       "      <td>0.626007</td>\n",
       "      <td>0.355280</td>\n",
       "      <td>0.400770</td>\n",
       "      <td>2.313707</td>\n",
       "      <td>2017</td>\n",
       "    </tr>\n",
       "  </tbody>\n",
       "</table>\n",
       "</div>"
      ],
      "text/plain": [
       "   COUNTRY  HAPPINESS RANK  HAPPINESS SCORE  WHISKER HIGH  WHISKER LOW  \\\n",
       "0  Norway   1.0             7.537            7.594445      7.479556      \n",
       "1  Denmark  2.0             7.522            7.581728      7.462272      \n",
       "\n",
       "   ECONOMY GDP PER CAPITA    FAMILY  HEALTH LIFE EXPECTANCY   FREEDOM  \\\n",
       "0  1.616463                1.533524  0.796667                0.635423   \n",
       "1  1.482383                1.551122  0.792566                0.626007   \n",
       "\n",
       "   GENEROSITY  TRUST GOVERNMENT CORRUPTION  DYSTOPIA RESIDUAL  YEAR  \n",
       "0  0.362012    0.315964                     2.277027           2017  \n",
       "1  0.355280    0.400770                     2.313707           2017  "
      ]
     },
     "execution_count": 111,
     "metadata": {},
     "output_type": "execute_result"
    }
   ],
   "source": [
    "happiness2017.head(2)"
   ]
  },
  {
   "cell_type": "code",
   "execution_count": 112,
   "metadata": {},
   "outputs": [
    {
     "data": {
      "text/html": [
       "<div>\n",
       "<style scoped>\n",
       "    .dataframe tbody tr th:only-of-type {\n",
       "        vertical-align: middle;\n",
       "    }\n",
       "\n",
       "    .dataframe tbody tr th {\n",
       "        vertical-align: top;\n",
       "    }\n",
       "\n",
       "    .dataframe thead th {\n",
       "        text-align: right;\n",
       "    }\n",
       "</style>\n",
       "<table border=\"1\" class=\"dataframe\">\n",
       "  <thead>\n",
       "    <tr style=\"text-align: right;\">\n",
       "      <th></th>\n",
       "      <th>Country</th>\n",
       "      <th>Region</th>\n",
       "      <th>Happiness Rank</th>\n",
       "      <th>Happiness Score</th>\n",
       "      <th>Lower Confidence Interval</th>\n",
       "      <th>Upper Confidence Interval</th>\n",
       "      <th>Economy (GDP per Capita)</th>\n",
       "      <th>Family</th>\n",
       "      <th>Health (Life Expectancy)</th>\n",
       "      <th>Freedom</th>\n",
       "      <th>Trust (Government Corruption)</th>\n",
       "      <th>Generosity</th>\n",
       "      <th>Dystopia Residual</th>\n",
       "      <th>Year</th>\n",
       "    </tr>\n",
       "  </thead>\n",
       "  <tbody>\n",
       "    <tr>\n",
       "      <th>0</th>\n",
       "      <td>Denmark</td>\n",
       "      <td>Western Europe</td>\n",
       "      <td>1.0</td>\n",
       "      <td>7.526</td>\n",
       "      <td>7.460</td>\n",
       "      <td>7.592</td>\n",
       "      <td>1.44178</td>\n",
       "      <td>1.16374</td>\n",
       "      <td>0.79504</td>\n",
       "      <td>0.57941</td>\n",
       "      <td>0.44453</td>\n",
       "      <td>0.36171</td>\n",
       "      <td>2.73939</td>\n",
       "      <td>2016</td>\n",
       "    </tr>\n",
       "    <tr>\n",
       "      <th>1</th>\n",
       "      <td>Switzerland</td>\n",
       "      <td>Western Europe</td>\n",
       "      <td>2.0</td>\n",
       "      <td>7.509</td>\n",
       "      <td>7.428</td>\n",
       "      <td>7.590</td>\n",
       "      <td>1.52733</td>\n",
       "      <td>1.14524</td>\n",
       "      <td>0.86303</td>\n",
       "      <td>0.58557</td>\n",
       "      <td>0.41203</td>\n",
       "      <td>0.28083</td>\n",
       "      <td>2.69463</td>\n",
       "      <td>2016</td>\n",
       "    </tr>\n",
       "  </tbody>\n",
       "</table>\n",
       "</div>"
      ],
      "text/plain": [
       "       Country          Region  Happiness Rank  Happiness Score  \\\n",
       "0  Denmark      Western Europe  1.0             7.526             \n",
       "1  Switzerland  Western Europe  2.0             7.509             \n",
       "\n",
       "   Lower Confidence Interval  Upper Confidence Interval  \\\n",
       "0  7.460                      7.592                       \n",
       "1  7.428                      7.590                       \n",
       "\n",
       "   Economy (GDP per Capita)   Family  Health (Life Expectancy)  Freedom  \\\n",
       "0  1.44178                   1.16374  0.79504                   0.57941   \n",
       "1  1.52733                   1.14524  0.86303                   0.58557   \n",
       "\n",
       "   Trust (Government Corruption)  Generosity  Dystopia Residual  Year  \n",
       "0  0.44453                        0.36171     2.73939            2016  \n",
       "1  0.41203                        0.28083     2.69463            2016  "
      ]
     },
     "execution_count": 112,
     "metadata": {},
     "output_type": "execute_result"
    }
   ],
   "source": [
    "happiness2016.head(2)"
   ]
  },
  {
   "cell_type": "code",
   "execution_count": 113,
   "metadata": {},
   "outputs": [],
   "source": [
    "happiness2016.columns = happiness2016.columns.str.replace('.', ' ') \\\n",
    "                        .str.replace(r'[\\(\\)]', '') \\\n",
    "                        .str.strip() \\\n",
    "                        .str.upper()"
   ]
  },
  {
   "cell_type": "code",
   "execution_count": 114,
   "metadata": {},
   "outputs": [
    {
     "data": {
      "text/html": [
       "<div>\n",
       "<style scoped>\n",
       "    .dataframe tbody tr th:only-of-type {\n",
       "        vertical-align: middle;\n",
       "    }\n",
       "\n",
       "    .dataframe tbody tr th {\n",
       "        vertical-align: top;\n",
       "    }\n",
       "\n",
       "    .dataframe thead th {\n",
       "        text-align: right;\n",
       "    }\n",
       "</style>\n",
       "<table border=\"1\" class=\"dataframe\">\n",
       "  <thead>\n",
       "    <tr style=\"text-align: right;\">\n",
       "      <th></th>\n",
       "      <th>COUNTRY</th>\n",
       "      <th>REGION</th>\n",
       "      <th>HAPPINESS RANK</th>\n",
       "      <th>HAPPINESS SCORE</th>\n",
       "      <th>LOWER CONFIDENCE INTERVAL</th>\n",
       "      <th>UPPER CONFIDENCE INTERVAL</th>\n",
       "      <th>ECONOMY GDP PER CAPITA</th>\n",
       "      <th>FAMILY</th>\n",
       "      <th>HEALTH LIFE EXPECTANCY</th>\n",
       "      <th>FREEDOM</th>\n",
       "      <th>TRUST GOVERNMENT CORRUPTION</th>\n",
       "      <th>GENEROSITY</th>\n",
       "      <th>DYSTOPIA RESIDUAL</th>\n",
       "      <th>YEAR</th>\n",
       "    </tr>\n",
       "  </thead>\n",
       "  <tbody>\n",
       "    <tr>\n",
       "      <th>0</th>\n",
       "      <td>Denmark</td>\n",
       "      <td>Western Europe</td>\n",
       "      <td>1.0</td>\n",
       "      <td>7.526</td>\n",
       "      <td>7.460</td>\n",
       "      <td>7.592</td>\n",
       "      <td>1.44178</td>\n",
       "      <td>1.16374</td>\n",
       "      <td>0.79504</td>\n",
       "      <td>0.57941</td>\n",
       "      <td>0.44453</td>\n",
       "      <td>0.36171</td>\n",
       "      <td>2.73939</td>\n",
       "      <td>2016</td>\n",
       "    </tr>\n",
       "    <tr>\n",
       "      <th>1</th>\n",
       "      <td>Switzerland</td>\n",
       "      <td>Western Europe</td>\n",
       "      <td>2.0</td>\n",
       "      <td>7.509</td>\n",
       "      <td>7.428</td>\n",
       "      <td>7.590</td>\n",
       "      <td>1.52733</td>\n",
       "      <td>1.14524</td>\n",
       "      <td>0.86303</td>\n",
       "      <td>0.58557</td>\n",
       "      <td>0.41203</td>\n",
       "      <td>0.28083</td>\n",
       "      <td>2.69463</td>\n",
       "      <td>2016</td>\n",
       "    </tr>\n",
       "  </tbody>\n",
       "</table>\n",
       "</div>"
      ],
      "text/plain": [
       "       COUNTRY          REGION  HAPPINESS RANK  HAPPINESS SCORE  \\\n",
       "0  Denmark      Western Europe  1.0             7.526             \n",
       "1  Switzerland  Western Europe  2.0             7.509             \n",
       "\n",
       "   LOWER CONFIDENCE INTERVAL  UPPER CONFIDENCE INTERVAL  \\\n",
       "0  7.460                      7.592                       \n",
       "1  7.428                      7.590                       \n",
       "\n",
       "   ECONOMY GDP PER CAPITA   FAMILY  HEALTH LIFE EXPECTANCY  FREEDOM  \\\n",
       "0  1.44178                 1.16374  0.79504                 0.57941   \n",
       "1  1.52733                 1.14524  0.86303                 0.58557   \n",
       "\n",
       "   TRUST GOVERNMENT CORRUPTION  GENEROSITY  DYSTOPIA RESIDUAL  YEAR  \n",
       "0  0.44453                      0.36171     2.73939            2016  \n",
       "1  0.41203                      0.28083     2.69463            2016  "
      ]
     },
     "execution_count": 114,
     "metadata": {},
     "output_type": "execute_result"
    }
   ],
   "source": [
    "happiness2016.head(2)"
   ]
  },
  {
   "cell_type": "code",
   "execution_count": 115,
   "metadata": {},
   "outputs": [
    {
     "data": {
      "text/html": [
       "<div>\n",
       "<style scoped>\n",
       "    .dataframe tbody tr th:only-of-type {\n",
       "        vertical-align: middle;\n",
       "    }\n",
       "\n",
       "    .dataframe tbody tr th {\n",
       "        vertical-align: top;\n",
       "    }\n",
       "\n",
       "    .dataframe thead th {\n",
       "        text-align: right;\n",
       "    }\n",
       "</style>\n",
       "<table border=\"1\" class=\"dataframe\">\n",
       "  <thead>\n",
       "    <tr style=\"text-align: right;\">\n",
       "      <th></th>\n",
       "      <th>Country</th>\n",
       "      <th>Region</th>\n",
       "      <th>Happiness Rank</th>\n",
       "      <th>Happiness Score</th>\n",
       "      <th>Standard Error</th>\n",
       "      <th>Economy (GDP per Capita)</th>\n",
       "      <th>Family</th>\n",
       "      <th>Health (Life Expectancy)</th>\n",
       "      <th>Freedom</th>\n",
       "      <th>Trust (Government Corruption)</th>\n",
       "      <th>Generosity</th>\n",
       "      <th>Dystopia Residual</th>\n",
       "      <th>Year</th>\n",
       "    </tr>\n",
       "  </thead>\n",
       "  <tbody>\n",
       "    <tr>\n",
       "      <th>0</th>\n",
       "      <td>Switzerland</td>\n",
       "      <td>Western Europe</td>\n",
       "      <td>1.0</td>\n",
       "      <td>7.587</td>\n",
       "      <td>0.03411</td>\n",
       "      <td>1.39651</td>\n",
       "      <td>1.34951</td>\n",
       "      <td>0.94143</td>\n",
       "      <td>0.66557</td>\n",
       "      <td>0.41978</td>\n",
       "      <td>0.29678</td>\n",
       "      <td>2.51738</td>\n",
       "      <td>2015</td>\n",
       "    </tr>\n",
       "    <tr>\n",
       "      <th>1</th>\n",
       "      <td>Iceland</td>\n",
       "      <td>Western Europe</td>\n",
       "      <td>2.0</td>\n",
       "      <td>7.561</td>\n",
       "      <td>0.04884</td>\n",
       "      <td>1.30232</td>\n",
       "      <td>1.40223</td>\n",
       "      <td>0.94784</td>\n",
       "      <td>0.62877</td>\n",
       "      <td>0.14145</td>\n",
       "      <td>0.43630</td>\n",
       "      <td>2.70201</td>\n",
       "      <td>2015</td>\n",
       "    </tr>\n",
       "  </tbody>\n",
       "</table>\n",
       "</div>"
      ],
      "text/plain": [
       "       Country          Region  Happiness Rank  Happiness Score  \\\n",
       "0  Switzerland  Western Europe  1.0             7.587             \n",
       "1  Iceland      Western Europe  2.0             7.561             \n",
       "\n",
       "   Standard Error  Economy (GDP per Capita)   Family  \\\n",
       "0  0.03411         1.39651                   1.34951   \n",
       "1  0.04884         1.30232                   1.40223   \n",
       "\n",
       "   Health (Life Expectancy)  Freedom  Trust (Government Corruption)  \\\n",
       "0  0.94143                   0.66557  0.41978                         \n",
       "1  0.94784                   0.62877  0.14145                         \n",
       "\n",
       "   Generosity  Dystopia Residual  Year  \n",
       "0  0.29678     2.51738            2015  \n",
       "1  0.43630     2.70201            2015  "
      ]
     },
     "execution_count": 115,
     "metadata": {},
     "output_type": "execute_result"
    }
   ],
   "source": [
    "happiness2015.head(2)"
   ]
  },
  {
   "cell_type": "code",
   "execution_count": 116,
   "metadata": {},
   "outputs": [],
   "source": [
    "happiness2015.columns = happiness2015.columns.str.replace('.', ' ') \\\n",
    "                        .str.replace(r'[\\(\\)]', '') \\\n",
    "                        .str.strip() \\\n",
    "                        .str.upper()"
   ]
  },
  {
   "cell_type": "code",
   "execution_count": 117,
   "metadata": {},
   "outputs": [
    {
     "data": {
      "text/html": [
       "<div>\n",
       "<style scoped>\n",
       "    .dataframe tbody tr th:only-of-type {\n",
       "        vertical-align: middle;\n",
       "    }\n",
       "\n",
       "    .dataframe tbody tr th {\n",
       "        vertical-align: top;\n",
       "    }\n",
       "\n",
       "    .dataframe thead th {\n",
       "        text-align: right;\n",
       "    }\n",
       "</style>\n",
       "<table border=\"1\" class=\"dataframe\">\n",
       "  <thead>\n",
       "    <tr style=\"text-align: right;\">\n",
       "      <th></th>\n",
       "      <th>COUNTRY</th>\n",
       "      <th>REGION</th>\n",
       "      <th>HAPPINESS RANK</th>\n",
       "      <th>HAPPINESS SCORE</th>\n",
       "      <th>STANDARD ERROR</th>\n",
       "      <th>ECONOMY GDP PER CAPITA</th>\n",
       "      <th>FAMILY</th>\n",
       "      <th>HEALTH LIFE EXPECTANCY</th>\n",
       "      <th>FREEDOM</th>\n",
       "      <th>TRUST GOVERNMENT CORRUPTION</th>\n",
       "      <th>GENEROSITY</th>\n",
       "      <th>DYSTOPIA RESIDUAL</th>\n",
       "      <th>YEAR</th>\n",
       "    </tr>\n",
       "  </thead>\n",
       "  <tbody>\n",
       "    <tr>\n",
       "      <th>0</th>\n",
       "      <td>Switzerland</td>\n",
       "      <td>Western Europe</td>\n",
       "      <td>1.0</td>\n",
       "      <td>7.587</td>\n",
       "      <td>0.03411</td>\n",
       "      <td>1.39651</td>\n",
       "      <td>1.34951</td>\n",
       "      <td>0.94143</td>\n",
       "      <td>0.66557</td>\n",
       "      <td>0.41978</td>\n",
       "      <td>0.29678</td>\n",
       "      <td>2.51738</td>\n",
       "      <td>2015</td>\n",
       "    </tr>\n",
       "    <tr>\n",
       "      <th>1</th>\n",
       "      <td>Iceland</td>\n",
       "      <td>Western Europe</td>\n",
       "      <td>2.0</td>\n",
       "      <td>7.561</td>\n",
       "      <td>0.04884</td>\n",
       "      <td>1.30232</td>\n",
       "      <td>1.40223</td>\n",
       "      <td>0.94784</td>\n",
       "      <td>0.62877</td>\n",
       "      <td>0.14145</td>\n",
       "      <td>0.43630</td>\n",
       "      <td>2.70201</td>\n",
       "      <td>2015</td>\n",
       "    </tr>\n",
       "  </tbody>\n",
       "</table>\n",
       "</div>"
      ],
      "text/plain": [
       "       COUNTRY          REGION  HAPPINESS RANK  HAPPINESS SCORE  \\\n",
       "0  Switzerland  Western Europe  1.0             7.587             \n",
       "1  Iceland      Western Europe  2.0             7.561             \n",
       "\n",
       "   STANDARD ERROR  ECONOMY GDP PER CAPITA   FAMILY  HEALTH LIFE EXPECTANCY  \\\n",
       "0  0.03411         1.39651                 1.34951  0.94143                  \n",
       "1  0.04884         1.30232                 1.40223  0.94784                  \n",
       "\n",
       "   FREEDOM  TRUST GOVERNMENT CORRUPTION  GENEROSITY  DYSTOPIA RESIDUAL  YEAR  \n",
       "0  0.66557  0.41978                      0.29678     2.51738            2015  \n",
       "1  0.62877  0.14145                      0.43630     2.70201            2015  "
      ]
     },
     "execution_count": 117,
     "metadata": {},
     "output_type": "execute_result"
    }
   ],
   "source": [
    "happiness2015.head(2)"
   ]
  },
  {
   "cell_type": "code",
   "execution_count": 118,
   "metadata": {},
   "outputs": [],
   "source": [
    "combined = pd.concat([happiness2015,happiness2016,happiness2017], ignore_index=True, sort=True)"
   ]
  },
  {
   "cell_type": "code",
   "execution_count": 119,
   "metadata": {},
   "outputs": [
    {
     "data": {
      "text/plain": [
       "COUNTRY                        0  \n",
       "DYSTOPIA RESIDUAL              22 \n",
       "ECONOMY GDP PER CAPITA         22 \n",
       "FAMILY                         22 \n",
       "FREEDOM                        22 \n",
       "GENEROSITY                     22 \n",
       "HAPPINESS RANK                 22 \n",
       "HAPPINESS SCORE                22 \n",
       "HEALTH LIFE EXPECTANCY         22 \n",
       "LOWER CONFIDENCE INTERVAL      335\n",
       "REGION                         177\n",
       "STANDARD ERROR                 334\n",
       "TRUST GOVERNMENT CORRUPTION    22 \n",
       "UPPER CONFIDENCE INTERVAL      335\n",
       "WHISKER HIGH                   337\n",
       "WHISKER LOW                    337\n",
       "YEAR                           0  \n",
       "dtype: int64"
      ]
     },
     "execution_count": 119,
     "metadata": {},
     "output_type": "execute_result"
    }
   ],
   "source": [
    "combined.isnull().sum()"
   ]
  },
  {
   "cell_type": "markdown",
   "metadata": {},
   "source": [
    "### Visualizing Missing Data"
   ]
  },
  {
   "cell_type": "code",
   "execution_count": 124,
   "metadata": {},
   "outputs": [],
   "source": [
    "import seaborn as sns"
   ]
  },
  {
   "cell_type": "code",
   "execution_count": 125,
   "metadata": {},
   "outputs": [],
   "source": [
    "combined_updated = combined.set_index('YEAR')"
   ]
  },
  {
   "cell_type": "code",
   "execution_count": 126,
   "metadata": {},
   "outputs": [
    {
     "data": {
      "image/png": "[encoded data removed]",
      "text/plain": [
       "<Figure size 432x288 with 1 Axes>"
      ]
     },
     "metadata": {
      "needs_background": "light"
     },
     "output_type": "display_data"
    }
   ],
   "source": [
    "sns.heatmap(combined_updated.isnull(), cbar=False)\n",
    "plt.show()"
   ]
  },
  {
   "cell_type": "code",
   "execution_count": 127,
   "metadata": {},
   "outputs": [
    {
     "data": {
      "text/plain": [
       "164"
      ]
     },
     "execution_count": 127,
     "metadata": {},
     "output_type": "execute_result"
    }
   ],
   "source": [
    "combined[combined['YEAR'] == 2017]['REGION'].isnull().sum()"
   ]
  },
  {
   "cell_type": "markdown",
   "metadata": {},
   "source": [
    "### Using Data From Additional Sources to Fill in Missing Values"
   ]
  },
  {
   "cell_type": "code",
   "execution_count": 128,
   "metadata": {},
   "outputs": [],
   "source": [
    "regions2015 = happiness2015[['COUNTRY', 'REGION']].copy()\n",
    "regions2016 = happiness2016[['COUNTRY', 'REGION']].copy()"
   ]
  },
  {
   "cell_type": "code",
   "execution_count": 129,
   "metadata": {},
   "outputs": [
    {
     "data": {
      "text/html": [
       "<div>\n",
       "<style scoped>\n",
       "    .dataframe tbody tr th:only-of-type {\n",
       "        vertical-align: middle;\n",
       "    }\n",
       "\n",
       "    .dataframe tbody tr th {\n",
       "        vertical-align: top;\n",
       "    }\n",
       "\n",
       "    .dataframe thead th {\n",
       "        text-align: right;\n",
       "    }\n",
       "</style>\n",
       "<table border=\"1\" class=\"dataframe\">\n",
       "  <thead>\n",
       "    <tr style=\"text-align: right;\">\n",
       "      <th></th>\n",
       "      <th>COUNTRY</th>\n",
       "      <th>REGION</th>\n",
       "    </tr>\n",
       "  </thead>\n",
       "  <tbody>\n",
       "    <tr>\n",
       "      <th>0</th>\n",
       "      <td>Switzerland</td>\n",
       "      <td>Western Europe</td>\n",
       "    </tr>\n",
       "    <tr>\n",
       "      <th>1</th>\n",
       "      <td>Iceland</td>\n",
       "      <td>Western Europe</td>\n",
       "    </tr>\n",
       "    <tr>\n",
       "      <th>2</th>\n",
       "      <td>Denmark</td>\n",
       "      <td>Western Europe</td>\n",
       "    </tr>\n",
       "    <tr>\n",
       "      <th>3</th>\n",
       "      <td>Norway</td>\n",
       "      <td>Western Europe</td>\n",
       "    </tr>\n",
       "    <tr>\n",
       "      <th>4</th>\n",
       "      <td>Canada</td>\n",
       "      <td>North America</td>\n",
       "    </tr>\n",
       "  </tbody>\n",
       "</table>\n",
       "</div>"
      ],
      "text/plain": [
       "       COUNTRY          REGION\n",
       "0  Switzerland  Western Europe\n",
       "1  Iceland      Western Europe\n",
       "2  Denmark      Western Europe\n",
       "3  Norway       Western Europe\n",
       "4  Canada       North America "
      ]
     },
     "execution_count": 129,
     "metadata": {},
     "output_type": "execute_result"
    }
   ],
   "source": [
    "regions2015.head()"
   ]
  },
  {
   "cell_type": "code",
   "execution_count": 130,
   "metadata": {},
   "outputs": [],
   "source": [
    "regions = pd.concat([regions2015, regions2016], ignore_index=True)"
   ]
  },
  {
   "cell_type": "code",
   "execution_count": 131,
   "metadata": {},
   "outputs": [],
   "source": [
    "regions.dropna(inplace=True)\n",
    "regions.drop_duplicates(inplace=True)"
   ]
  },
  {
   "cell_type": "code",
   "execution_count": 132,
   "metadata": {},
   "outputs": [
    {
     "data": {
      "text/plain": [
       "(164, 2)"
      ]
     },
     "execution_count": 132,
     "metadata": {},
     "output_type": "execute_result"
    }
   ],
   "source": [
    "regions.shape"
   ]
  },
  {
   "cell_type": "code",
   "execution_count": 133,
   "metadata": {},
   "outputs": [
    {
     "data": {
      "text/html": [
       "<div>\n",
       "<style scoped>\n",
       "    .dataframe tbody tr th:only-of-type {\n",
       "        vertical-align: middle;\n",
       "    }\n",
       "\n",
       "    .dataframe tbody tr th {\n",
       "        vertical-align: top;\n",
       "    }\n",
       "\n",
       "    .dataframe thead th {\n",
       "        text-align: right;\n",
       "    }\n",
       "</style>\n",
       "<table border=\"1\" class=\"dataframe\">\n",
       "  <thead>\n",
       "    <tr style=\"text-align: right;\">\n",
       "      <th></th>\n",
       "      <th>COUNTRY</th>\n",
       "      <th>REGION</th>\n",
       "    </tr>\n",
       "  </thead>\n",
       "  <tbody>\n",
       "    <tr>\n",
       "      <th>0</th>\n",
       "      <td>Switzerland</td>\n",
       "      <td>Western Europe</td>\n",
       "    </tr>\n",
       "    <tr>\n",
       "      <th>1</th>\n",
       "      <td>Iceland</td>\n",
       "      <td>Western Europe</td>\n",
       "    </tr>\n",
       "    <tr>\n",
       "      <th>2</th>\n",
       "      <td>Denmark</td>\n",
       "      <td>Western Europe</td>\n",
       "    </tr>\n",
       "    <tr>\n",
       "      <th>3</th>\n",
       "      <td>Norway</td>\n",
       "      <td>Western Europe</td>\n",
       "    </tr>\n",
       "    <tr>\n",
       "      <th>4</th>\n",
       "      <td>Canada</td>\n",
       "      <td>North America</td>\n",
       "    </tr>\n",
       "  </tbody>\n",
       "</table>\n",
       "</div>"
      ],
      "text/plain": [
       "       COUNTRY          REGION\n",
       "0  Switzerland  Western Europe\n",
       "1  Iceland      Western Europe\n",
       "2  Denmark      Western Europe\n",
       "3  Norway       Western Europe\n",
       "4  Canada       North America "
      ]
     },
     "execution_count": 133,
     "metadata": {},
     "output_type": "execute_result"
    }
   ],
   "source": [
    "regions.head()"
   ]
  },
  {
   "cell_type": "code",
   "execution_count": 135,
   "metadata": {},
   "outputs": [
    {
     "data": {
      "text/html": [
       "<div>\n",
       "<style scoped>\n",
       "    .dataframe tbody tr th:only-of-type {\n",
       "        vertical-align: middle;\n",
       "    }\n",
       "\n",
       "    .dataframe tbody tr th {\n",
       "        vertical-align: top;\n",
       "    }\n",
       "\n",
       "    .dataframe thead th {\n",
       "        text-align: right;\n",
       "    }\n",
       "</style>\n",
       "<table border=\"1\" class=\"dataframe\">\n",
       "  <thead>\n",
       "    <tr style=\"text-align: right;\">\n",
       "      <th></th>\n",
       "      <th>COUNTRY</th>\n",
       "      <th>DYSTOPIA RESIDUAL</th>\n",
       "      <th>ECONOMY GDP PER CAPITA</th>\n",
       "      <th>FAMILY</th>\n",
       "      <th>FREEDOM</th>\n",
       "      <th>GENEROSITY</th>\n",
       "      <th>HAPPINESS RANK</th>\n",
       "      <th>HAPPINESS SCORE</th>\n",
       "      <th>HEALTH LIFE EXPECTANCY</th>\n",
       "      <th>LOWER CONFIDENCE INTERVAL</th>\n",
       "      <th>REGION</th>\n",
       "      <th>STANDARD ERROR</th>\n",
       "      <th>TRUST GOVERNMENT CORRUPTION</th>\n",
       "      <th>UPPER CONFIDENCE INTERVAL</th>\n",
       "      <th>WHISKER HIGH</th>\n",
       "      <th>WHISKER LOW</th>\n",
       "      <th>YEAR</th>\n",
       "    </tr>\n",
       "  </thead>\n",
       "  <tbody>\n",
       "    <tr>\n",
       "      <th>0</th>\n",
       "      <td>Switzerland</td>\n",
       "      <td>2.51738</td>\n",
       "      <td>1.39651</td>\n",
       "      <td>1.34951</td>\n",
       "      <td>0.66557</td>\n",
       "      <td>0.29678</td>\n",
       "      <td>1.0</td>\n",
       "      <td>7.587</td>\n",
       "      <td>0.94143</td>\n",
       "      <td>NaN</td>\n",
       "      <td>Western Europe</td>\n",
       "      <td>0.03411</td>\n",
       "      <td>0.41978</td>\n",
       "      <td>NaN</td>\n",
       "      <td>NaN</td>\n",
       "      <td>NaN</td>\n",
       "      <td>2015</td>\n",
       "    </tr>\n",
       "    <tr>\n",
       "      <th>1</th>\n",
       "      <td>Iceland</td>\n",
       "      <td>2.70201</td>\n",
       "      <td>1.30232</td>\n",
       "      <td>1.40223</td>\n",
       "      <td>0.62877</td>\n",
       "      <td>0.43630</td>\n",
       "      <td>2.0</td>\n",
       "      <td>7.561</td>\n",
       "      <td>0.94784</td>\n",
       "      <td>NaN</td>\n",
       "      <td>Western Europe</td>\n",
       "      <td>0.04884</td>\n",
       "      <td>0.14145</td>\n",
       "      <td>NaN</td>\n",
       "      <td>NaN</td>\n",
       "      <td>NaN</td>\n",
       "      <td>2015</td>\n",
       "    </tr>\n",
       "  </tbody>\n",
       "</table>\n",
       "</div>"
      ],
      "text/plain": [
       "       COUNTRY  DYSTOPIA RESIDUAL  ECONOMY GDP PER CAPITA   FAMILY  FREEDOM  \\\n",
       "0  Switzerland  2.51738            1.39651                 1.34951  0.66557   \n",
       "1  Iceland      2.70201            1.30232                 1.40223  0.62877   \n",
       "\n",
       "   GENEROSITY  HAPPINESS RANK  HAPPINESS SCORE  HEALTH LIFE EXPECTANCY  \\\n",
       "0  0.29678     1.0             7.587            0.94143                  \n",
       "1  0.43630     2.0             7.561            0.94784                  \n",
       "\n",
       "   LOWER CONFIDENCE INTERVAL          REGION  STANDARD ERROR  \\\n",
       "0 NaN                         Western Europe  0.03411          \n",
       "1 NaN                         Western Europe  0.04884          \n",
       "\n",
       "   TRUST GOVERNMENT CORRUPTION  UPPER CONFIDENCE INTERVAL  WHISKER HIGH  \\\n",
       "0  0.41978                     NaN                        NaN             \n",
       "1  0.14145                     NaN                        NaN             \n",
       "\n",
       "   WHISKER LOW  YEAR  \n",
       "0 NaN           2015  \n",
       "1 NaN           2015  "
      ]
     },
     "execution_count": 135,
     "metadata": {},
     "output_type": "execute_result"
    }
   ],
   "source": [
    "combined.head(2)"
   ]
  },
  {
   "cell_type": "code",
   "execution_count": 136,
   "metadata": {},
   "outputs": [],
   "source": [
    "combined = pd.merge(left=combined,\n",
    "                   right=regions,\n",
    "                   on=\"COUNTRY\",\n",
    "                   how=\"left\")"
   ]
  },
  {
   "cell_type": "code",
   "execution_count": 137,
   "metadata": {},
   "outputs": [
    {
     "data": {
      "text/html": [
       "<div>\n",
       "<style scoped>\n",
       "    .dataframe tbody tr th:only-of-type {\n",
       "        vertical-align: middle;\n",
       "    }\n",
       "\n",
       "    .dataframe tbody tr th {\n",
       "        vertical-align: top;\n",
       "    }\n",
       "\n",
       "    .dataframe thead th {\n",
       "        text-align: right;\n",
       "    }\n",
       "</style>\n",
       "<table border=\"1\" class=\"dataframe\">\n",
       "  <thead>\n",
       "    <tr style=\"text-align: right;\">\n",
       "      <th></th>\n",
       "      <th>COUNTRY</th>\n",
       "      <th>DYSTOPIA RESIDUAL</th>\n",
       "      <th>ECONOMY GDP PER CAPITA</th>\n",
       "      <th>FAMILY</th>\n",
       "      <th>FREEDOM</th>\n",
       "      <th>GENEROSITY</th>\n",
       "      <th>HAPPINESS RANK</th>\n",
       "      <th>HAPPINESS SCORE</th>\n",
       "      <th>HEALTH LIFE EXPECTANCY</th>\n",
       "      <th>LOWER CONFIDENCE INTERVAL</th>\n",
       "      <th>REGION_x</th>\n",
       "      <th>STANDARD ERROR</th>\n",
       "      <th>TRUST GOVERNMENT CORRUPTION</th>\n",
       "      <th>UPPER CONFIDENCE INTERVAL</th>\n",
       "      <th>WHISKER HIGH</th>\n",
       "      <th>WHISKER LOW</th>\n",
       "      <th>YEAR</th>\n",
       "      <th>REGION_y</th>\n",
       "    </tr>\n",
       "  </thead>\n",
       "  <tbody>\n",
       "    <tr>\n",
       "      <th>0</th>\n",
       "      <td>Switzerland</td>\n",
       "      <td>2.51738</td>\n",
       "      <td>1.39651</td>\n",
       "      <td>1.34951</td>\n",
       "      <td>0.66557</td>\n",
       "      <td>0.29678</td>\n",
       "      <td>1.0</td>\n",
       "      <td>7.587</td>\n",
       "      <td>0.94143</td>\n",
       "      <td>NaN</td>\n",
       "      <td>Western Europe</td>\n",
       "      <td>0.03411</td>\n",
       "      <td>0.41978</td>\n",
       "      <td>NaN</td>\n",
       "      <td>NaN</td>\n",
       "      <td>NaN</td>\n",
       "      <td>2015</td>\n",
       "      <td>Western Europe</td>\n",
       "    </tr>\n",
       "    <tr>\n",
       "      <th>1</th>\n",
       "      <td>Iceland</td>\n",
       "      <td>2.70201</td>\n",
       "      <td>1.30232</td>\n",
       "      <td>1.40223</td>\n",
       "      <td>0.62877</td>\n",
       "      <td>0.43630</td>\n",
       "      <td>2.0</td>\n",
       "      <td>7.561</td>\n",
       "      <td>0.94784</td>\n",
       "      <td>NaN</td>\n",
       "      <td>Western Europe</td>\n",
       "      <td>0.04884</td>\n",
       "      <td>0.14145</td>\n",
       "      <td>NaN</td>\n",
       "      <td>NaN</td>\n",
       "      <td>NaN</td>\n",
       "      <td>2015</td>\n",
       "      <td>Western Europe</td>\n",
       "    </tr>\n",
       "    <tr>\n",
       "      <th>2</th>\n",
       "      <td>Denmark</td>\n",
       "      <td>2.49204</td>\n",
       "      <td>1.32548</td>\n",
       "      <td>1.36058</td>\n",
       "      <td>0.64938</td>\n",
       "      <td>0.34139</td>\n",
       "      <td>3.0</td>\n",
       "      <td>7.527</td>\n",
       "      <td>0.87464</td>\n",
       "      <td>NaN</td>\n",
       "      <td>Western Europe</td>\n",
       "      <td>0.03328</td>\n",
       "      <td>0.48357</td>\n",
       "      <td>NaN</td>\n",
       "      <td>NaN</td>\n",
       "      <td>NaN</td>\n",
       "      <td>2015</td>\n",
       "      <td>Western Europe</td>\n",
       "    </tr>\n",
       "  </tbody>\n",
       "</table>\n",
       "</div>"
      ],
      "text/plain": [
       "       COUNTRY  DYSTOPIA RESIDUAL  ECONOMY GDP PER CAPITA   FAMILY  FREEDOM  \\\n",
       "0  Switzerland  2.51738            1.39651                 1.34951  0.66557   \n",
       "1  Iceland      2.70201            1.30232                 1.40223  0.62877   \n",
       "2  Denmark      2.49204            1.32548                 1.36058  0.64938   \n",
       "\n",
       "   GENEROSITY  HAPPINESS RANK  HAPPINESS SCORE  HEALTH LIFE EXPECTANCY  \\\n",
       "0  0.29678     1.0             7.587            0.94143                  \n",
       "1  0.43630     2.0             7.561            0.94784                  \n",
       "2  0.34139     3.0             7.527            0.87464                  \n",
       "\n",
       "   LOWER CONFIDENCE INTERVAL        REGION_x  STANDARD ERROR  \\\n",
       "0 NaN                         Western Europe  0.03411          \n",
       "1 NaN                         Western Europe  0.04884          \n",
       "2 NaN                         Western Europe  0.03328          \n",
       "\n",
       "   TRUST GOVERNMENT CORRUPTION  UPPER CONFIDENCE INTERVAL  WHISKER HIGH  \\\n",
       "0  0.41978                     NaN                        NaN             \n",
       "1  0.14145                     NaN                        NaN             \n",
       "2  0.48357                     NaN                        NaN             \n",
       "\n",
       "   WHISKER LOW  YEAR        REGION_y  \n",
       "0 NaN           2015  Western Europe  \n",
       "1 NaN           2015  Western Europe  \n",
       "2 NaN           2015  Western Europe  "
      ]
     },
     "execution_count": 137,
     "metadata": {},
     "output_type": "execute_result"
    }
   ],
   "source": [
    "combined.head(3)"
   ]
  },
  {
   "cell_type": "code",
   "execution_count": 138,
   "metadata": {},
   "outputs": [
    {
     "data": {
      "text/plain": [
       "COUNTRY                        0  \n",
       "DYSTOPIA RESIDUAL              22 \n",
       "ECONOMY GDP PER CAPITA         22 \n",
       "FAMILY                         22 \n",
       "FREEDOM                        22 \n",
       "GENEROSITY                     22 \n",
       "HAPPINESS RANK                 22 \n",
       "HAPPINESS SCORE                22 \n",
       "HEALTH LIFE EXPECTANCY         22 \n",
       "LOWER CONFIDENCE INTERVAL      335\n",
       "REGION_x                       177\n",
       "STANDARD ERROR                 334\n",
       "TRUST GOVERNMENT CORRUPTION    22 \n",
       "UPPER CONFIDENCE INTERVAL      335\n",
       "WHISKER HIGH                   337\n",
       "WHISKER LOW                    337\n",
       "YEAR                           0  \n",
       "REGION_y                       0  \n",
       "dtype: int64"
      ]
     },
     "execution_count": 138,
     "metadata": {},
     "output_type": "execute_result"
    }
   ],
   "source": [
    "combined.isnull().sum()"
   ]
  },
  {
   "cell_type": "code",
   "execution_count": 139,
   "metadata": {},
   "outputs": [],
   "source": [
    "combined.drop('REGION_x', axis=1, inplace=True)"
   ]
  },
  {
   "cell_type": "code",
   "execution_count": 140,
   "metadata": {},
   "outputs": [],
   "source": [
    "combined.rename(columns={'REGION_y': 'REGION'}, inplace=True)"
   ]
  },
  {
   "cell_type": "code",
   "execution_count": 141,
   "metadata": {},
   "outputs": [
    {
     "data": {
      "text/plain": [
       "COUNTRY                        0  \n",
       "DYSTOPIA RESIDUAL              22 \n",
       "ECONOMY GDP PER CAPITA         22 \n",
       "FAMILY                         22 \n",
       "FREEDOM                        22 \n",
       "GENEROSITY                     22 \n",
       "HAPPINESS RANK                 22 \n",
       "HAPPINESS SCORE                22 \n",
       "HEALTH LIFE EXPECTANCY         22 \n",
       "LOWER CONFIDENCE INTERVAL      335\n",
       "STANDARD ERROR                 334\n",
       "TRUST GOVERNMENT CORRUPTION    22 \n",
       "UPPER CONFIDENCE INTERVAL      335\n",
       "WHISKER HIGH                   337\n",
       "WHISKER LOW                    337\n",
       "YEAR                           0  \n",
       "REGION                         0  \n",
       "dtype: int64"
      ]
     },
     "execution_count": 141,
     "metadata": {},
     "output_type": "execute_result"
    }
   ],
   "source": [
    "combined.isnull().sum()"
   ]
  },
  {
   "cell_type": "markdown",
   "metadata": {},
   "source": [
    "### Identifying Duplicates Values"
   ]
  },
  {
   "cell_type": "code",
   "execution_count": 142,
   "metadata": {},
   "outputs": [],
   "source": [
    "dups = combined.duplicated(['COUNTRY', 'YEAR'])"
   ]
  },
  {
   "cell_type": "code",
   "execution_count": 143,
   "metadata": {},
   "outputs": [
    {
     "data": {
      "text/plain": [
       "0    False\n",
       "1    False\n",
       "2    False\n",
       "3    False\n",
       "4    False\n",
       "dtype: bool"
      ]
     },
     "execution_count": 143,
     "metadata": {},
     "output_type": "execute_result"
    }
   ],
   "source": [
    "dups.head()"
   ]
  },
  {
   "cell_type": "code",
   "execution_count": 144,
   "metadata": {},
   "outputs": [
    {
     "data": {
      "text/html": [
       "<div>\n",
       "<style scoped>\n",
       "    .dataframe tbody tr th:only-of-type {\n",
       "        vertical-align: middle;\n",
       "    }\n",
       "\n",
       "    .dataframe tbody tr th {\n",
       "        vertical-align: top;\n",
       "    }\n",
       "\n",
       "    .dataframe thead th {\n",
       "        text-align: right;\n",
       "    }\n",
       "</style>\n",
       "<table border=\"1\" class=\"dataframe\">\n",
       "  <thead>\n",
       "    <tr style=\"text-align: right;\">\n",
       "      <th></th>\n",
       "      <th>COUNTRY</th>\n",
       "      <th>DYSTOPIA RESIDUAL</th>\n",
       "      <th>ECONOMY GDP PER CAPITA</th>\n",
       "      <th>FAMILY</th>\n",
       "      <th>FREEDOM</th>\n",
       "      <th>GENEROSITY</th>\n",
       "      <th>HAPPINESS RANK</th>\n",
       "      <th>HAPPINESS SCORE</th>\n",
       "      <th>HEALTH LIFE EXPECTANCY</th>\n",
       "      <th>LOWER CONFIDENCE INTERVAL</th>\n",
       "      <th>STANDARD ERROR</th>\n",
       "      <th>TRUST GOVERNMENT CORRUPTION</th>\n",
       "      <th>UPPER CONFIDENCE INTERVAL</th>\n",
       "      <th>WHISKER HIGH</th>\n",
       "      <th>WHISKER LOW</th>\n",
       "      <th>YEAR</th>\n",
       "      <th>REGION</th>\n",
       "    </tr>\n",
       "  </thead>\n",
       "  <tbody>\n",
       "  </tbody>\n",
       "</table>\n",
       "</div>"
      ],
      "text/plain": [
       "Empty DataFrame\n",
       "Columns: [COUNTRY, DYSTOPIA RESIDUAL, ECONOMY GDP PER CAPITA, FAMILY, FREEDOM, GENEROSITY, HAPPINESS RANK, HAPPINESS SCORE, HEALTH LIFE EXPECTANCY, LOWER CONFIDENCE INTERVAL, STANDARD ERROR, TRUST GOVERNMENT CORRUPTION, UPPER CONFIDENCE INTERVAL, WHISKER HIGH, WHISKER LOW, YEAR, REGION]\n",
       "Index: []"
      ]
     },
     "execution_count": 144,
     "metadata": {},
     "output_type": "execute_result"
    }
   ],
   "source": [
    "combined[dups]"
   ]
  },
  {
   "cell_type": "code",
   "execution_count": 145,
   "metadata": {},
   "outputs": [],
   "source": [
    "combined['COUNTRY'] = combined['COUNTRY'].str.upper()"
   ]
  },
  {
   "cell_type": "code",
   "execution_count": 146,
   "metadata": {},
   "outputs": [],
   "source": [
    "dups = combined.duplicated(['COUNTRY', 'YEAR'])"
   ]
  },
  {
   "cell_type": "code",
   "execution_count": 147,
   "metadata": {},
   "outputs": [
    {
     "data": {
      "text/html": [
       "<div>\n",
       "<style scoped>\n",
       "    .dataframe tbody tr th:only-of-type {\n",
       "        vertical-align: middle;\n",
       "    }\n",
       "\n",
       "    .dataframe tbody tr th {\n",
       "        vertical-align: top;\n",
       "    }\n",
       "\n",
       "    .dataframe thead th {\n",
       "        text-align: right;\n",
       "    }\n",
       "</style>\n",
       "<table border=\"1\" class=\"dataframe\">\n",
       "  <thead>\n",
       "    <tr style=\"text-align: right;\">\n",
       "      <th></th>\n",
       "      <th>COUNTRY</th>\n",
       "      <th>DYSTOPIA RESIDUAL</th>\n",
       "      <th>ECONOMY GDP PER CAPITA</th>\n",
       "      <th>FAMILY</th>\n",
       "      <th>FREEDOM</th>\n",
       "      <th>GENEROSITY</th>\n",
       "      <th>HAPPINESS RANK</th>\n",
       "      <th>HAPPINESS SCORE</th>\n",
       "      <th>HEALTH LIFE EXPECTANCY</th>\n",
       "      <th>LOWER CONFIDENCE INTERVAL</th>\n",
       "      <th>STANDARD ERROR</th>\n",
       "      <th>TRUST GOVERNMENT CORRUPTION</th>\n",
       "      <th>UPPER CONFIDENCE INTERVAL</th>\n",
       "      <th>WHISKER HIGH</th>\n",
       "      <th>WHISKER LOW</th>\n",
       "      <th>YEAR</th>\n",
       "      <th>REGION</th>\n",
       "    </tr>\n",
       "  </thead>\n",
       "  <tbody>\n",
       "    <tr>\n",
       "      <th>162</th>\n",
       "      <td>SOMALILAND REGION</td>\n",
       "      <td>NaN</td>\n",
       "      <td>NaN</td>\n",
       "      <td>NaN</td>\n",
       "      <td>NaN</td>\n",
       "      <td>NaN</td>\n",
       "      <td>NaN</td>\n",
       "      <td>NaN</td>\n",
       "      <td>NaN</td>\n",
       "      <td>NaN</td>\n",
       "      <td>NaN</td>\n",
       "      <td>NaN</td>\n",
       "      <td>NaN</td>\n",
       "      <td>NaN</td>\n",
       "      <td>NaN</td>\n",
       "      <td>2015</td>\n",
       "      <td>Sub-Saharan Africa</td>\n",
       "    </tr>\n",
       "    <tr>\n",
       "      <th>326</th>\n",
       "      <td>SOMALILAND REGION</td>\n",
       "      <td>NaN</td>\n",
       "      <td>NaN</td>\n",
       "      <td>NaN</td>\n",
       "      <td>NaN</td>\n",
       "      <td>NaN</td>\n",
       "      <td>NaN</td>\n",
       "      <td>NaN</td>\n",
       "      <td>NaN</td>\n",
       "      <td>NaN</td>\n",
       "      <td>NaN</td>\n",
       "      <td>NaN</td>\n",
       "      <td>NaN</td>\n",
       "      <td>NaN</td>\n",
       "      <td>NaN</td>\n",
       "      <td>2016</td>\n",
       "      <td>Sub-Saharan Africa</td>\n",
       "    </tr>\n",
       "    <tr>\n",
       "      <th>489</th>\n",
       "      <td>SOMALILAND REGION</td>\n",
       "      <td>NaN</td>\n",
       "      <td>NaN</td>\n",
       "      <td>NaN</td>\n",
       "      <td>NaN</td>\n",
       "      <td>NaN</td>\n",
       "      <td>NaN</td>\n",
       "      <td>NaN</td>\n",
       "      <td>NaN</td>\n",
       "      <td>NaN</td>\n",
       "      <td>NaN</td>\n",
       "      <td>NaN</td>\n",
       "      <td>NaN</td>\n",
       "      <td>NaN</td>\n",
       "      <td>NaN</td>\n",
       "      <td>2017</td>\n",
       "      <td>Sub-Saharan Africa</td>\n",
       "    </tr>\n",
       "  </tbody>\n",
       "</table>\n",
       "</div>"
      ],
      "text/plain": [
       "               COUNTRY  DYSTOPIA RESIDUAL  ECONOMY GDP PER CAPITA  FAMILY  \\\n",
       "162  SOMALILAND REGION NaN                NaN                     NaN       \n",
       "326  SOMALILAND REGION NaN                NaN                     NaN       \n",
       "489  SOMALILAND REGION NaN                NaN                     NaN       \n",
       "\n",
       "     FREEDOM  GENEROSITY  HAPPINESS RANK  HAPPINESS SCORE  \\\n",
       "162 NaN      NaN         NaN             NaN                \n",
       "326 NaN      NaN         NaN             NaN                \n",
       "489 NaN      NaN         NaN             NaN                \n",
       "\n",
       "     HEALTH LIFE EXPECTANCY  LOWER CONFIDENCE INTERVAL  STANDARD ERROR  \\\n",
       "162 NaN                     NaN                        NaN               \n",
       "326 NaN                     NaN                        NaN               \n",
       "489 NaN                     NaN                        NaN               \n",
       "\n",
       "     TRUST GOVERNMENT CORRUPTION  UPPER CONFIDENCE INTERVAL  WHISKER HIGH  \\\n",
       "162 NaN                          NaN                        NaN             \n",
       "326 NaN                          NaN                        NaN             \n",
       "489 NaN                          NaN                        NaN             \n",
       "\n",
       "     WHISKER LOW  YEAR              REGION  \n",
       "162 NaN           2015  Sub-Saharan Africa  \n",
       "326 NaN           2016  Sub-Saharan Africa  \n",
       "489 NaN           2017  Sub-Saharan Africa  "
      ]
     },
     "execution_count": 147,
     "metadata": {},
     "output_type": "execute_result"
    }
   ],
   "source": [
    "combined[dups]"
   ]
  },
  {
   "cell_type": "markdown",
   "metadata": {},
   "source": [
    "### Correcting Duplicates Values"
   ]
  },
  {
   "cell_type": "code",
   "execution_count": 148,
   "metadata": {},
   "outputs": [
    {
     "data": {
      "text/html": [
       "<div>\n",
       "<style scoped>\n",
       "    .dataframe tbody tr th:only-of-type {\n",
       "        vertical-align: middle;\n",
       "    }\n",
       "\n",
       "    .dataframe tbody tr th {\n",
       "        vertical-align: top;\n",
       "    }\n",
       "\n",
       "    .dataframe thead th {\n",
       "        text-align: right;\n",
       "    }\n",
       "</style>\n",
       "<table border=\"1\" class=\"dataframe\">\n",
       "  <thead>\n",
       "    <tr style=\"text-align: right;\">\n",
       "      <th></th>\n",
       "      <th>COUNTRY</th>\n",
       "      <th>DYSTOPIA RESIDUAL</th>\n",
       "      <th>ECONOMY GDP PER CAPITA</th>\n",
       "      <th>FAMILY</th>\n",
       "      <th>FREEDOM</th>\n",
       "      <th>GENEROSITY</th>\n",
       "      <th>HAPPINESS RANK</th>\n",
       "      <th>HAPPINESS SCORE</th>\n",
       "      <th>HEALTH LIFE EXPECTANCY</th>\n",
       "      <th>LOWER CONFIDENCE INTERVAL</th>\n",
       "      <th>STANDARD ERROR</th>\n",
       "      <th>TRUST GOVERNMENT CORRUPTION</th>\n",
       "      <th>UPPER CONFIDENCE INTERVAL</th>\n",
       "      <th>WHISKER HIGH</th>\n",
       "      <th>WHISKER LOW</th>\n",
       "      <th>YEAR</th>\n",
       "      <th>REGION</th>\n",
       "    </tr>\n",
       "  </thead>\n",
       "  <tbody>\n",
       "    <tr>\n",
       "      <th>90</th>\n",
       "      <td>SOMALILAND REGION</td>\n",
       "      <td>2.11032</td>\n",
       "      <td>0.18847</td>\n",
       "      <td>0.95152</td>\n",
       "      <td>0.46582</td>\n",
       "      <td>0.50318</td>\n",
       "      <td>91.0</td>\n",
       "      <td>5.057</td>\n",
       "      <td>0.43873</td>\n",
       "      <td>NaN</td>\n",
       "      <td>0.06161</td>\n",
       "      <td>0.39928</td>\n",
       "      <td>NaN</td>\n",
       "      <td>NaN</td>\n",
       "      <td>NaN</td>\n",
       "      <td>2015</td>\n",
       "      <td>Sub-Saharan Africa</td>\n",
       "    </tr>\n",
       "    <tr>\n",
       "      <th>162</th>\n",
       "      <td>SOMALILAND REGION</td>\n",
       "      <td>NaN</td>\n",
       "      <td>NaN</td>\n",
       "      <td>NaN</td>\n",
       "      <td>NaN</td>\n",
       "      <td>NaN</td>\n",
       "      <td>NaN</td>\n",
       "      <td>NaN</td>\n",
       "      <td>NaN</td>\n",
       "      <td>NaN</td>\n",
       "      <td>NaN</td>\n",
       "      <td>NaN</td>\n",
       "      <td>NaN</td>\n",
       "      <td>NaN</td>\n",
       "      <td>NaN</td>\n",
       "      <td>2015</td>\n",
       "      <td>Sub-Saharan Africa</td>\n",
       "    </tr>\n",
       "    <tr>\n",
       "      <th>260</th>\n",
       "      <td>SOMALILAND REGION</td>\n",
       "      <td>2.43801</td>\n",
       "      <td>0.25558</td>\n",
       "      <td>0.75862</td>\n",
       "      <td>0.39130</td>\n",
       "      <td>0.51479</td>\n",
       "      <td>97.0</td>\n",
       "      <td>5.057</td>\n",
       "      <td>0.33108</td>\n",
       "      <td>4.934</td>\n",
       "      <td>NaN</td>\n",
       "      <td>0.36794</td>\n",
       "      <td>5.18</td>\n",
       "      <td>NaN</td>\n",
       "      <td>NaN</td>\n",
       "      <td>2016</td>\n",
       "      <td>Sub-Saharan Africa</td>\n",
       "    </tr>\n",
       "    <tr>\n",
       "      <th>326</th>\n",
       "      <td>SOMALILAND REGION</td>\n",
       "      <td>NaN</td>\n",
       "      <td>NaN</td>\n",
       "      <td>NaN</td>\n",
       "      <td>NaN</td>\n",
       "      <td>NaN</td>\n",
       "      <td>NaN</td>\n",
       "      <td>NaN</td>\n",
       "      <td>NaN</td>\n",
       "      <td>NaN</td>\n",
       "      <td>NaN</td>\n",
       "      <td>NaN</td>\n",
       "      <td>NaN</td>\n",
       "      <td>NaN</td>\n",
       "      <td>NaN</td>\n",
       "      <td>2016</td>\n",
       "      <td>Sub-Saharan Africa</td>\n",
       "    </tr>\n",
       "    <tr>\n",
       "      <th>488</th>\n",
       "      <td>SOMALILAND REGION</td>\n",
       "      <td>NaN</td>\n",
       "      <td>NaN</td>\n",
       "      <td>NaN</td>\n",
       "      <td>NaN</td>\n",
       "      <td>NaN</td>\n",
       "      <td>NaN</td>\n",
       "      <td>NaN</td>\n",
       "      <td>NaN</td>\n",
       "      <td>NaN</td>\n",
       "      <td>NaN</td>\n",
       "      <td>NaN</td>\n",
       "      <td>NaN</td>\n",
       "      <td>NaN</td>\n",
       "      <td>NaN</td>\n",
       "      <td>2017</td>\n",
       "      <td>Sub-Saharan Africa</td>\n",
       "    </tr>\n",
       "    <tr>\n",
       "      <th>489</th>\n",
       "      <td>SOMALILAND REGION</td>\n",
       "      <td>NaN</td>\n",
       "      <td>NaN</td>\n",
       "      <td>NaN</td>\n",
       "      <td>NaN</td>\n",
       "      <td>NaN</td>\n",
       "      <td>NaN</td>\n",
       "      <td>NaN</td>\n",
       "      <td>NaN</td>\n",
       "      <td>NaN</td>\n",
       "      <td>NaN</td>\n",
       "      <td>NaN</td>\n",
       "      <td>NaN</td>\n",
       "      <td>NaN</td>\n",
       "      <td>NaN</td>\n",
       "      <td>2017</td>\n",
       "      <td>Sub-Saharan Africa</td>\n",
       "    </tr>\n",
       "  </tbody>\n",
       "</table>\n",
       "</div>"
      ],
      "text/plain": [
       "               COUNTRY  DYSTOPIA RESIDUAL  ECONOMY GDP PER CAPITA   FAMILY  \\\n",
       "90   SOMALILAND REGION  2.11032            0.18847                 0.95152   \n",
       "162  SOMALILAND REGION NaN                NaN                     NaN        \n",
       "260  SOMALILAND REGION  2.43801            0.25558                 0.75862   \n",
       "326  SOMALILAND REGION NaN                NaN                     NaN        \n",
       "488  SOMALILAND REGION NaN                NaN                     NaN        \n",
       "489  SOMALILAND REGION NaN                NaN                     NaN        \n",
       "\n",
       "     FREEDOM  GENEROSITY  HAPPINESS RANK  HAPPINESS SCORE  \\\n",
       "90   0.46582  0.50318     91.0            5.057             \n",
       "162 NaN      NaN         NaN             NaN                \n",
       "260  0.39130  0.51479     97.0            5.057             \n",
       "326 NaN      NaN         NaN             NaN                \n",
       "488 NaN      NaN         NaN             NaN                \n",
       "489 NaN      NaN         NaN             NaN                \n",
       "\n",
       "     HEALTH LIFE EXPECTANCY  LOWER CONFIDENCE INTERVAL  STANDARD ERROR  \\\n",
       "90   0.43873                NaN                         0.06161          \n",
       "162 NaN                     NaN                        NaN               \n",
       "260  0.33108                 4.934                     NaN               \n",
       "326 NaN                     NaN                        NaN               \n",
       "488 NaN                     NaN                        NaN               \n",
       "489 NaN                     NaN                        NaN               \n",
       "\n",
       "     TRUST GOVERNMENT CORRUPTION  UPPER CONFIDENCE INTERVAL  WHISKER HIGH  \\\n",
       "90   0.39928                     NaN                        NaN             \n",
       "162 NaN                          NaN                        NaN             \n",
       "260  0.36794                      5.18                      NaN             \n",
       "326 NaN                          NaN                        NaN             \n",
       "488 NaN                          NaN                        NaN             \n",
       "489 NaN                          NaN                        NaN             \n",
       "\n",
       "     WHISKER LOW  YEAR              REGION  \n",
       "90  NaN           2015  Sub-Saharan Africa  \n",
       "162 NaN           2015  Sub-Saharan Africa  \n",
       "260 NaN           2016  Sub-Saharan Africa  \n",
       "326 NaN           2016  Sub-Saharan Africa  \n",
       "488 NaN           2017  Sub-Saharan Africa  \n",
       "489 NaN           2017  Sub-Saharan Africa  "
      ]
     },
     "execution_count": 148,
     "metadata": {},
     "output_type": "execute_result"
    }
   ],
   "source": [
    "combined[combined['COUNTRY'] == 'SOMALILAND REGION']"
   ]
  },
  {
   "cell_type": "code",
   "execution_count": 149,
   "metadata": {},
   "outputs": [],
   "source": [
    "combined.drop_duplicates(['COUNTRY', 'YEAR'], inplace=True)"
   ]
  },
  {
   "cell_type": "code",
   "execution_count": 150,
   "metadata": {},
   "outputs": [
    {
     "data": {
      "text/html": [
       "<div>\n",
       "<style scoped>\n",
       "    .dataframe tbody tr th:only-of-type {\n",
       "        vertical-align: middle;\n",
       "    }\n",
       "\n",
       "    .dataframe tbody tr th {\n",
       "        vertical-align: top;\n",
       "    }\n",
       "\n",
       "    .dataframe thead th {\n",
       "        text-align: right;\n",
       "    }\n",
       "</style>\n",
       "<table border=\"1\" class=\"dataframe\">\n",
       "  <thead>\n",
       "    <tr style=\"text-align: right;\">\n",
       "      <th></th>\n",
       "      <th>COUNTRY</th>\n",
       "      <th>DYSTOPIA RESIDUAL</th>\n",
       "      <th>ECONOMY GDP PER CAPITA</th>\n",
       "      <th>FAMILY</th>\n",
       "      <th>FREEDOM</th>\n",
       "      <th>GENEROSITY</th>\n",
       "      <th>HAPPINESS RANK</th>\n",
       "      <th>HAPPINESS SCORE</th>\n",
       "      <th>HEALTH LIFE EXPECTANCY</th>\n",
       "      <th>LOWER CONFIDENCE INTERVAL</th>\n",
       "      <th>STANDARD ERROR</th>\n",
       "      <th>TRUST GOVERNMENT CORRUPTION</th>\n",
       "      <th>UPPER CONFIDENCE INTERVAL</th>\n",
       "      <th>WHISKER HIGH</th>\n",
       "      <th>WHISKER LOW</th>\n",
       "      <th>YEAR</th>\n",
       "      <th>REGION</th>\n",
       "    </tr>\n",
       "  </thead>\n",
       "  <tbody>\n",
       "    <tr>\n",
       "      <th>90</th>\n",
       "      <td>SOMALILAND REGION</td>\n",
       "      <td>2.11032</td>\n",
       "      <td>0.18847</td>\n",
       "      <td>0.95152</td>\n",
       "      <td>0.46582</td>\n",
       "      <td>0.50318</td>\n",
       "      <td>91.0</td>\n",
       "      <td>5.057</td>\n",
       "      <td>0.43873</td>\n",
       "      <td>NaN</td>\n",
       "      <td>0.06161</td>\n",
       "      <td>0.39928</td>\n",
       "      <td>NaN</td>\n",
       "      <td>NaN</td>\n",
       "      <td>NaN</td>\n",
       "      <td>2015</td>\n",
       "      <td>Sub-Saharan Africa</td>\n",
       "    </tr>\n",
       "    <tr>\n",
       "      <th>260</th>\n",
       "      <td>SOMALILAND REGION</td>\n",
       "      <td>2.43801</td>\n",
       "      <td>0.25558</td>\n",
       "      <td>0.75862</td>\n",
       "      <td>0.39130</td>\n",
       "      <td>0.51479</td>\n",
       "      <td>97.0</td>\n",
       "      <td>5.057</td>\n",
       "      <td>0.33108</td>\n",
       "      <td>4.934</td>\n",
       "      <td>NaN</td>\n",
       "      <td>0.36794</td>\n",
       "      <td>5.18</td>\n",
       "      <td>NaN</td>\n",
       "      <td>NaN</td>\n",
       "      <td>2016</td>\n",
       "      <td>Sub-Saharan Africa</td>\n",
       "    </tr>\n",
       "    <tr>\n",
       "      <th>488</th>\n",
       "      <td>SOMALILAND REGION</td>\n",
       "      <td>NaN</td>\n",
       "      <td>NaN</td>\n",
       "      <td>NaN</td>\n",
       "      <td>NaN</td>\n",
       "      <td>NaN</td>\n",
       "      <td>NaN</td>\n",
       "      <td>NaN</td>\n",
       "      <td>NaN</td>\n",
       "      <td>NaN</td>\n",
       "      <td>NaN</td>\n",
       "      <td>NaN</td>\n",
       "      <td>NaN</td>\n",
       "      <td>NaN</td>\n",
       "      <td>NaN</td>\n",
       "      <td>2017</td>\n",
       "      <td>Sub-Saharan Africa</td>\n",
       "    </tr>\n",
       "  </tbody>\n",
       "</table>\n",
       "</div>"
      ],
      "text/plain": [
       "               COUNTRY  DYSTOPIA RESIDUAL  ECONOMY GDP PER CAPITA   FAMILY  \\\n",
       "90   SOMALILAND REGION  2.11032            0.18847                 0.95152   \n",
       "260  SOMALILAND REGION  2.43801            0.25558                 0.75862   \n",
       "488  SOMALILAND REGION NaN                NaN                     NaN        \n",
       "\n",
       "     FREEDOM  GENEROSITY  HAPPINESS RANK  HAPPINESS SCORE  \\\n",
       "90   0.46582  0.50318     91.0            5.057             \n",
       "260  0.39130  0.51479     97.0            5.057             \n",
       "488 NaN      NaN         NaN             NaN                \n",
       "\n",
       "     HEALTH LIFE EXPECTANCY  LOWER CONFIDENCE INTERVAL  STANDARD ERROR  \\\n",
       "90   0.43873                NaN                         0.06161          \n",
       "260  0.33108                 4.934                     NaN               \n",
       "488 NaN                     NaN                        NaN               \n",
       "\n",
       "     TRUST GOVERNMENT CORRUPTION  UPPER CONFIDENCE INTERVAL  WHISKER HIGH  \\\n",
       "90   0.39928                     NaN                        NaN             \n",
       "260  0.36794                      5.18                      NaN             \n",
       "488 NaN                          NaN                        NaN             \n",
       "\n",
       "     WHISKER LOW  YEAR              REGION  \n",
       "90  NaN           2015  Sub-Saharan Africa  \n",
       "260 NaN           2016  Sub-Saharan Africa  \n",
       "488 NaN           2017  Sub-Saharan Africa  "
      ]
     },
     "execution_count": 150,
     "metadata": {},
     "output_type": "execute_result"
    }
   ],
   "source": [
    "combined[combined['COUNTRY'] == 'SOMALILAND REGION']"
   ]
  },
  {
   "cell_type": "code",
   "execution_count": 151,
   "metadata": {},
   "outputs": [
    {
     "data": {
      "image/png": "[encoded data removed]",
      "text/plain": [
       "<Figure size 432x288 with 1 Axes>"
      ]
     },
     "metadata": {
      "needs_background": "light"
     },
     "output_type": "display_data"
    }
   ],
   "source": [
    "sns.heatmap(combined.isnull(), cbar=False)\n",
    "plt.show()"
   ]
  },
  {
   "cell_type": "markdown",
   "metadata": {},
   "source": [
    "### Handle Missing Values by Dropping Columns"
   ]
  },
  {
   "cell_type": "code",
   "execution_count": 152,
   "metadata": {},
   "outputs": [
    {
     "data": {
      "text/plain": [
       "COUNTRY                        0  \n",
       "DYSTOPIA RESIDUAL              19 \n",
       "ECONOMY GDP PER CAPITA         19 \n",
       "FAMILY                         19 \n",
       "FREEDOM                        19 \n",
       "GENEROSITY                     19 \n",
       "HAPPINESS RANK                 19 \n",
       "HAPPINESS SCORE                19 \n",
       "HEALTH LIFE EXPECTANCY         19 \n",
       "LOWER CONFIDENCE INTERVAL      332\n",
       "STANDARD ERROR                 331\n",
       "TRUST GOVERNMENT CORRUPTION    19 \n",
       "UPPER CONFIDENCE INTERVAL      332\n",
       "WHISKER HIGH                   334\n",
       "WHISKER LOW                    334\n",
       "YEAR                           0  \n",
       "REGION                         0  \n",
       "dtype: int64"
      ]
     },
     "execution_count": 152,
     "metadata": {},
     "output_type": "execute_result"
    }
   ],
   "source": [
    "combined.isnull().sum()"
   ]
  },
  {
   "cell_type": "code",
   "execution_count": 153,
   "metadata": {},
   "outputs": [],
   "source": [
    "columns_to_drop = ['LOWER CONFIDENCE INTERVAL', 'STANDARD ERROR', \n",
    "                   'UPPER CONFIDENCE INTERVAL', 'WHISKER HIGH', \n",
    "                   'WHISKER LOW']"
   ]
  },
  {
   "cell_type": "code",
   "execution_count": 154,
   "metadata": {},
   "outputs": [],
   "source": [
    "combined_droped = combined.drop(columns_to_drop, axis=1)"
   ]
  },
  {
   "cell_type": "code",
   "execution_count": 156,
   "metadata": {},
   "outputs": [
    {
     "data": {
      "text/plain": [
       "COUNTRY                        0 \n",
       "DYSTOPIA RESIDUAL              19\n",
       "ECONOMY GDP PER CAPITA         19\n",
       "FAMILY                         19\n",
       "FREEDOM                        19\n",
       "GENEROSITY                     19\n",
       "HAPPINESS RANK                 19\n",
       "HAPPINESS SCORE                19\n",
       "HEALTH LIFE EXPECTANCY         19\n",
       "TRUST GOVERNMENT CORRUPTION    19\n",
       "YEAR                           0 \n",
       "REGION                         0 \n",
       "dtype: int64"
      ]
     },
     "execution_count": 156,
     "metadata": {},
     "output_type": "execute_result"
    }
   ],
   "source": [
    "combined_droped.isnull().sum()"
   ]
  },
  {
   "cell_type": "markdown",
   "metadata": {},
   "source": [
    "    df.dropna(axis=1)"
   ]
  },
  {
   "cell_type": "code",
   "execution_count": 158,
   "metadata": {},
   "outputs": [
    {
     "data": {
      "text/plain": [
       "WHISKER LOW                    155\n",
       "WHISKER HIGH                   155\n",
       "LOWER CONFIDENCE INTERVAL      157\n",
       "UPPER CONFIDENCE INTERVAL      157\n",
       "STANDARD ERROR                 158\n",
       "HEALTH LIFE EXPECTANCY         470\n",
       "DYSTOPIA RESIDUAL              470\n",
       "ECONOMY GDP PER CAPITA         470\n",
       "FAMILY                         470\n",
       "FREEDOM                        470\n",
       "GENEROSITY                     470\n",
       "HAPPINESS RANK                 470\n",
       "HAPPINESS SCORE                470\n",
       "TRUST GOVERNMENT CORRUPTION    470\n",
       "COUNTRY                        489\n",
       "YEAR                           489\n",
       "REGION                         489\n",
       "dtype: int64"
      ]
     },
     "execution_count": 158,
     "metadata": {},
     "output_type": "execute_result"
    }
   ],
   "source": [
    "combined.notnull().sum().sort_values()"
   ]
  },
  {
   "cell_type": "code",
   "execution_count": 159,
   "metadata": {},
   "outputs": [],
   "source": [
    "combined_droped = combined.dropna(thresh=159, axis=1).copy()"
   ]
  },
  {
   "cell_type": "code",
   "execution_count": 160,
   "metadata": {},
   "outputs": [
    {
     "data": {
      "text/plain": [
       "COUNTRY                        0 \n",
       "DYSTOPIA RESIDUAL              19\n",
       "ECONOMY GDP PER CAPITA         19\n",
       "FAMILY                         19\n",
       "FREEDOM                        19\n",
       "GENEROSITY                     19\n",
       "HAPPINESS RANK                 19\n",
       "HAPPINESS SCORE                19\n",
       "HEALTH LIFE EXPECTANCY         19\n",
       "TRUST GOVERNMENT CORRUPTION    19\n",
       "YEAR                           0 \n",
       "REGION                         0 \n",
       "dtype: int64"
      ]
     },
     "execution_count": 160,
     "metadata": {},
     "output_type": "execute_result"
    }
   ],
   "source": [
    "combined_droped.isnull().sum()"
   ]
  },
  {
   "cell_type": "markdown",
   "metadata": {},
   "source": [
    "### Analyzing Missing Data"
   ]
  },
  {
   "cell_type": "code",
   "execution_count": 161,
   "metadata": {},
   "outputs": [],
   "source": [
    "sorted_data = combined_droped.set_index('REGION').sort_values(['REGION', 'HAPPINESS SCORE'])"
   ]
  },
  {
   "cell_type": "code",
   "execution_count": 163,
   "metadata": {},
   "outputs": [
    {
     "data": {
      "image/png": "[encoded data removed]",
      "text/plain": [
       "<Figure size 432x288 with 1 Axes>"
      ]
     },
     "metadata": {
      "needs_background": "light"
     },
     "output_type": "display_data"
    }
   ],
   "source": [
    "sns.heatmap(sorted_data.isnull(), cbar=False)\n",
    "plt.show()"
   ]
  },
  {
   "cell_type": "markdown",
   "metadata": {},
   "source": [
    "### Handling Missing Values with Imputation"
   ]
  },
  {
   "cell_type": "code",
   "execution_count": 165,
   "metadata": {},
   "outputs": [],
   "source": [
    "happiness_mean = combined_droped['HAPPINESS SCORE'].mean()"
   ]
  },
  {
   "cell_type": "code",
   "execution_count": 166,
   "metadata": {},
   "outputs": [
    {
     "data": {
      "text/plain": [
       "5.370727659882891"
      ]
     },
     "execution_count": 166,
     "metadata": {},
     "output_type": "execute_result"
    }
   ],
   "source": [
    "happiness_mean"
   ]
  },
  {
   "cell_type": "code",
   "execution_count": 167,
   "metadata": {},
   "outputs": [],
   "source": [
    "combined_droped['HAPPINESS SCORE UPDATED'] = combined_droped['HAPPINESS SCORE'].fillna(happiness_mean)"
   ]
  },
  {
   "cell_type": "code",
   "execution_count": 168,
   "metadata": {},
   "outputs": [
    {
     "data": {
      "text/plain": [
       "5.370727659882891"
      ]
     },
     "execution_count": 168,
     "metadata": {},
     "output_type": "execute_result"
    }
   ],
   "source": [
    "combined_droped['HAPPINESS SCORE UPDATED'].mean()"
   ]
  },
  {
   "cell_type": "code",
   "execution_count": 169,
   "metadata": {},
   "outputs": [
    {
     "data": {
      "text/html": [
       "<div>\n",
       "<style scoped>\n",
       "    .dataframe tbody tr th:only-of-type {\n",
       "        vertical-align: middle;\n",
       "    }\n",
       "\n",
       "    .dataframe tbody tr th {\n",
       "        vertical-align: top;\n",
       "    }\n",
       "\n",
       "    .dataframe thead th {\n",
       "        text-align: right;\n",
       "    }\n",
       "</style>\n",
       "<table border=\"1\" class=\"dataframe\">\n",
       "  <thead>\n",
       "    <tr style=\"text-align: right;\">\n",
       "      <th></th>\n",
       "      <th>HAPPINESS SCORE</th>\n",
       "    </tr>\n",
       "    <tr>\n",
       "      <th>REGION</th>\n",
       "      <th></th>\n",
       "    </tr>\n",
       "  </thead>\n",
       "  <tbody>\n",
       "    <tr>\n",
       "      <th>Australia and New Zealand</th>\n",
       "      <td>7.302500</td>\n",
       "    </tr>\n",
       "    <tr>\n",
       "      <th>Central and Eastern Europe</th>\n",
       "      <td>5.371184</td>\n",
       "    </tr>\n",
       "    <tr>\n",
       "      <th>Eastern Asia</th>\n",
       "      <td>5.632333</td>\n",
       "    </tr>\n",
       "    <tr>\n",
       "      <th>Latin America and Caribbean</th>\n",
       "      <td>6.069074</td>\n",
       "    </tr>\n",
       "    <tr>\n",
       "      <th>Middle East and Northern Africa</th>\n",
       "      <td>5.387879</td>\n",
       "    </tr>\n",
       "    <tr>\n",
       "      <th>North America</th>\n",
       "      <td>7.227167</td>\n",
       "    </tr>\n",
       "    <tr>\n",
       "      <th>Southeastern Asia</th>\n",
       "      <td>5.364077</td>\n",
       "    </tr>\n",
       "    <tr>\n",
       "      <th>Southern Asia</th>\n",
       "      <td>4.590857</td>\n",
       "    </tr>\n",
       "    <tr>\n",
       "      <th>Sub-Saharan Africa</th>\n",
       "      <td>4.150957</td>\n",
       "    </tr>\n",
       "    <tr>\n",
       "      <th>Western Europe</th>\n",
       "      <td>6.693000</td>\n",
       "    </tr>\n",
       "    <tr>\n",
       "      <th>All</th>\n",
       "      <td>5.370728</td>\n",
       "    </tr>\n",
       "  </tbody>\n",
       "</table>\n",
       "</div>"
      ],
      "text/plain": [
       "                                 HAPPINESS SCORE\n",
       "REGION                                          \n",
       "Australia and New Zealand        7.302500       \n",
       "Central and Eastern Europe       5.371184       \n",
       "Eastern Asia                     5.632333       \n",
       "Latin America and Caribbean      6.069074       \n",
       "Middle East and Northern Africa  5.387879       \n",
       "North America                    7.227167       \n",
       "Southeastern Asia                5.364077       \n",
       "Southern Asia                    4.590857       \n",
       "Sub-Saharan Africa               4.150957       \n",
       "Western Europe                   6.693000       \n",
       "All                              5.370728       "
      ]
     },
     "execution_count": 169,
     "metadata": {},
     "output_type": "execute_result"
    }
   ],
   "source": [
    "combined_droped.pivot_table(index='REGION',\n",
    "                           values='HAPPINESS SCORE',\n",
    "                           margins=True)"
   ]
  },
  {
   "cell_type": "markdown",
   "metadata": {},
   "source": [
    "### Dropping Rows"
   ]
  },
  {
   "cell_type": "code",
   "execution_count": 170,
   "metadata": {},
   "outputs": [],
   "source": [
    "combined_droped = combined_droped.dropna()"
   ]
  },
  {
   "cell_type": "code",
   "execution_count": 171,
   "metadata": {},
   "outputs": [
    {
     "data": {
      "text/plain": [
       "COUNTRY                        0\n",
       "DYSTOPIA RESIDUAL              0\n",
       "ECONOMY GDP PER CAPITA         0\n",
       "FAMILY                         0\n",
       "FREEDOM                        0\n",
       "GENEROSITY                     0\n",
       "HAPPINESS RANK                 0\n",
       "HAPPINESS SCORE                0\n",
       "HEALTH LIFE EXPECTANCY         0\n",
       "TRUST GOVERNMENT CORRUPTION    0\n",
       "YEAR                           0\n",
       "REGION                         0\n",
       "HAPPINESS SCORE UPDATED        0\n",
       "dtype: int64"
      ]
     },
     "execution_count": 171,
     "metadata": {},
     "output_type": "execute_result"
    }
   ],
   "source": [
    "combined_droped.isnull().sum()"
   ]
  },
  {
   "cell_type": "markdown",
   "metadata": {},
   "source": [
    "## Identifying Hidden Missing Data"
   ]
  },
  {
   "cell_type": "markdown",
   "metadata": {},
   "source": [
    "### Primer: Happiness 2015"
   ]
  },
  {
   "cell_type": "code",
   "execution_count": 172,
   "metadata": {},
   "outputs": [],
   "source": [
    "happiness2015 = pd.read_csv('data/wh_2015_special.csv')"
   ]
  },
  {
   "cell_type": "code",
   "execution_count": 173,
   "metadata": {},
   "outputs": [
    {
     "data": {
      "text/plain": [
       "Country                          0\n",
       "Region                           0\n",
       "Happiness Rank                   0\n",
       "Happiness Score                  0\n",
       "Standard Error                   0\n",
       "Economy (GDP per Capita)         0\n",
       "Family                           0\n",
       "Health (Life Expectancy)         0\n",
       "Freedom                          0\n",
       "Trust (Government Corruption)    0\n",
       "Generosity                       0\n",
       "Dystopia Residual                0\n",
       "Year                             0\n",
       "dtype: int64"
      ]
     },
     "execution_count": 173,
     "metadata": {},
     "output_type": "execute_result"
    }
   ],
   "source": [
    "happiness2015.isnull().sum()"
   ]
  },
  {
   "cell_type": "code",
   "execution_count": 174,
   "metadata": {},
   "outputs": [],
   "source": [
    "h_2015 = happiness2015['Region'].unique()"
   ]
  },
  {
   "cell_type": "code",
   "execution_count": 175,
   "metadata": {},
   "outputs": [
    {
     "data": {
      "text/plain": [
       "array(['.', 'Australia and New Zealand', 'Central and Eastern Europe',\n",
       "       'Eastern Asia', 'Latin America and Caribbean',\n",
       "       'Middle East and Northern Africa', 'North America',\n",
       "       'Southeastern Asia', 'Southern Asia', 'Sub-Saharan Africa',\n",
       "       'Western Europe'], dtype=object)"
      ]
     },
     "execution_count": 175,
     "metadata": {},
     "output_type": "execute_result"
    }
   ],
   "source": [
    "np.sort(h_2015)"
   ]
  },
  {
   "cell_type": "code",
   "execution_count": 176,
   "metadata": {},
   "outputs": [
    {
     "data": {
      "text/html": [
       "<div>\n",
       "<style scoped>\n",
       "    .dataframe tbody tr th:only-of-type {\n",
       "        vertical-align: middle;\n",
       "    }\n",
       "\n",
       "    .dataframe tbody tr th {\n",
       "        vertical-align: top;\n",
       "    }\n",
       "\n",
       "    .dataframe thead th {\n",
       "        text-align: right;\n",
       "    }\n",
       "</style>\n",
       "<table border=\"1\" class=\"dataframe\">\n",
       "  <thead>\n",
       "    <tr style=\"text-align: right;\">\n",
       "      <th></th>\n",
       "      <th>Country</th>\n",
       "      <th>Region</th>\n",
       "      <th>Happiness Rank</th>\n",
       "      <th>Happiness Score</th>\n",
       "      <th>Standard Error</th>\n",
       "      <th>Economy (GDP per Capita)</th>\n",
       "      <th>Family</th>\n",
       "      <th>Health (Life Expectancy)</th>\n",
       "      <th>Freedom</th>\n",
       "      <th>Trust (Government Corruption)</th>\n",
       "      <th>Generosity</th>\n",
       "      <th>Dystopia Residual</th>\n",
       "      <th>Year</th>\n",
       "    </tr>\n",
       "  </thead>\n",
       "  <tbody>\n",
       "    <tr>\n",
       "      <th>158</th>\n",
       "      <td>Belize</td>\n",
       "      <td>.</td>\n",
       "      <td>?</td>\n",
       "      <td>.</td>\n",
       "      <td>.</td>\n",
       "      <td>.</td>\n",
       "      <td>.</td>\n",
       "      <td>.</td>\n",
       "      <td>.</td>\n",
       "      <td>.</td>\n",
       "      <td>.</td>\n",
       "      <td>.</td>\n",
       "      <td>2015</td>\n",
       "    </tr>\n",
       "    <tr>\n",
       "      <th>159</th>\n",
       "      <td>Namibia</td>\n",
       "      <td>.</td>\n",
       "      <td>?</td>\n",
       "      <td>.</td>\n",
       "      <td>.</td>\n",
       "      <td>.</td>\n",
       "      <td>.</td>\n",
       "      <td>.</td>\n",
       "      <td>.</td>\n",
       "      <td>.</td>\n",
       "      <td>.</td>\n",
       "      <td>.</td>\n",
       "      <td>2015</td>\n",
       "    </tr>\n",
       "    <tr>\n",
       "      <th>160</th>\n",
       "      <td>Puerto Rico</td>\n",
       "      <td>.</td>\n",
       "      <td>?</td>\n",
       "      <td>.</td>\n",
       "      <td>.</td>\n",
       "      <td>.</td>\n",
       "      <td>.</td>\n",
       "      <td>.</td>\n",
       "      <td>.</td>\n",
       "      <td>.</td>\n",
       "      <td>.</td>\n",
       "      <td>.</td>\n",
       "      <td>2015</td>\n",
       "    </tr>\n",
       "    <tr>\n",
       "      <th>161</th>\n",
       "      <td>Somalia</td>\n",
       "      <td>.</td>\n",
       "      <td>?</td>\n",
       "      <td>.</td>\n",
       "      <td>.</td>\n",
       "      <td>.</td>\n",
       "      <td>.</td>\n",
       "      <td>.</td>\n",
       "      <td>.</td>\n",
       "      <td>.</td>\n",
       "      <td>.</td>\n",
       "      <td>.</td>\n",
       "      <td>2015</td>\n",
       "    </tr>\n",
       "    <tr>\n",
       "      <th>162</th>\n",
       "      <td>Somaliland Region</td>\n",
       "      <td>.</td>\n",
       "      <td>?</td>\n",
       "      <td>.</td>\n",
       "      <td>.</td>\n",
       "      <td>.</td>\n",
       "      <td>.</td>\n",
       "      <td>.</td>\n",
       "      <td>.</td>\n",
       "      <td>.</td>\n",
       "      <td>.</td>\n",
       "      <td>.</td>\n",
       "      <td>2015</td>\n",
       "    </tr>\n",
       "    <tr>\n",
       "      <th>163</th>\n",
       "      <td>South Sudan</td>\n",
       "      <td>.</td>\n",
       "      <td>?</td>\n",
       "      <td>.</td>\n",
       "      <td>.</td>\n",
       "      <td>.</td>\n",
       "      <td>.</td>\n",
       "      <td>.</td>\n",
       "      <td>.</td>\n",
       "      <td>.</td>\n",
       "      <td>.</td>\n",
       "      <td>.</td>\n",
       "      <td>2015</td>\n",
       "    </tr>\n",
       "  </tbody>\n",
       "</table>\n",
       "</div>"
      ],
      "text/plain": [
       "               Country Region Happiness Rank Happiness Score Standard Error  \\\n",
       "158  Belize             .      ?              .               .               \n",
       "159  Namibia            .      ?              .               .               \n",
       "160  Puerto Rico        .      ?              .               .               \n",
       "161  Somalia            .      ?              .               .               \n",
       "162  Somaliland Region  .      ?              .               .               \n",
       "163  South Sudan        .      ?              .               .               \n",
       "\n",
       "    Economy (GDP per Capita) Family Health (Life Expectancy) Freedom  \\\n",
       "158  .                        .      .                        .        \n",
       "159  .                        .      .                        .        \n",
       "160  .                        .      .                        .        \n",
       "161  .                        .      .                        .        \n",
       "162  .                        .      .                        .        \n",
       "163  .                        .      .                        .        \n",
       "\n",
       "    Trust (Government Corruption) Generosity Dystopia Residual  Year  \n",
       "158  .                             .          .                 2015  \n",
       "159  .                             .          .                 2015  \n",
       "160  .                             .          .                 2015  \n",
       "161  .                             .          .                 2015  \n",
       "162  .                             .          .                 2015  \n",
       "163  .                             .          .                 2015  "
      ]
     },
     "execution_count": 176,
     "metadata": {},
     "output_type": "execute_result"
    }
   ],
   "source": [
    "happiness2015[happiness2015['Region'] == '.']"
   ]
  },
  {
   "cell_type": "code",
   "execution_count": 177,
   "metadata": {},
   "outputs": [],
   "source": [
    "happiness2015 = pd.read_csv('data/wh_2015_special.csv', na_values='.')"
   ]
  },
  {
   "cell_type": "code",
   "execution_count": 178,
   "metadata": {},
   "outputs": [
    {
     "data": {
      "text/plain": [
       "Country                          0\n",
       "Region                           6\n",
       "Happiness Rank                   0\n",
       "Happiness Score                  6\n",
       "Standard Error                   6\n",
       "Economy (GDP per Capita)         6\n",
       "Family                           6\n",
       "Health (Life Expectancy)         6\n",
       "Freedom                          6\n",
       "Trust (Government Corruption)    6\n",
       "Generosity                       6\n",
       "Dystopia Residual                6\n",
       "Year                             0\n",
       "dtype: int64"
      ]
     },
     "execution_count": 178,
     "metadata": {},
     "output_type": "execute_result"
    }
   ],
   "source": [
    "happiness2015.isnull().sum()"
   ]
  },
  {
   "cell_type": "code",
   "execution_count": 179,
   "metadata": {},
   "outputs": [
    {
     "data": {
      "text/html": [
       "<div>\n",
       "<style scoped>\n",
       "    .dataframe tbody tr th:only-of-type {\n",
       "        vertical-align: middle;\n",
       "    }\n",
       "\n",
       "    .dataframe tbody tr th {\n",
       "        vertical-align: top;\n",
       "    }\n",
       "\n",
       "    .dataframe thead th {\n",
       "        text-align: right;\n",
       "    }\n",
       "</style>\n",
       "<table border=\"1\" class=\"dataframe\">\n",
       "  <thead>\n",
       "    <tr style=\"text-align: right;\">\n",
       "      <th></th>\n",
       "      <th>Country</th>\n",
       "      <th>Region</th>\n",
       "      <th>Happiness Rank</th>\n",
       "      <th>Happiness Score</th>\n",
       "      <th>Standard Error</th>\n",
       "      <th>Economy (GDP per Capita)</th>\n",
       "      <th>Family</th>\n",
       "      <th>Health (Life Expectancy)</th>\n",
       "      <th>Freedom</th>\n",
       "      <th>Trust (Government Corruption)</th>\n",
       "      <th>Generosity</th>\n",
       "      <th>Dystopia Residual</th>\n",
       "      <th>Year</th>\n",
       "    </tr>\n",
       "  </thead>\n",
       "  <tbody>\n",
       "    <tr>\n",
       "      <th>158</th>\n",
       "      <td>Belize</td>\n",
       "      <td>NaN</td>\n",
       "      <td>?</td>\n",
       "      <td>NaN</td>\n",
       "      <td>NaN</td>\n",
       "      <td>NaN</td>\n",
       "      <td>NaN</td>\n",
       "      <td>NaN</td>\n",
       "      <td>NaN</td>\n",
       "      <td>NaN</td>\n",
       "      <td>NaN</td>\n",
       "      <td>NaN</td>\n",
       "      <td>2015</td>\n",
       "    </tr>\n",
       "    <tr>\n",
       "      <th>159</th>\n",
       "      <td>Namibia</td>\n",
       "      <td>NaN</td>\n",
       "      <td>?</td>\n",
       "      <td>NaN</td>\n",
       "      <td>NaN</td>\n",
       "      <td>NaN</td>\n",
       "      <td>NaN</td>\n",
       "      <td>NaN</td>\n",
       "      <td>NaN</td>\n",
       "      <td>NaN</td>\n",
       "      <td>NaN</td>\n",
       "      <td>NaN</td>\n",
       "      <td>2015</td>\n",
       "    </tr>\n",
       "    <tr>\n",
       "      <th>160</th>\n",
       "      <td>Puerto Rico</td>\n",
       "      <td>NaN</td>\n",
       "      <td>?</td>\n",
       "      <td>NaN</td>\n",
       "      <td>NaN</td>\n",
       "      <td>NaN</td>\n",
       "      <td>NaN</td>\n",
       "      <td>NaN</td>\n",
       "      <td>NaN</td>\n",
       "      <td>NaN</td>\n",
       "      <td>NaN</td>\n",
       "      <td>NaN</td>\n",
       "      <td>2015</td>\n",
       "    </tr>\n",
       "    <tr>\n",
       "      <th>161</th>\n",
       "      <td>Somalia</td>\n",
       "      <td>NaN</td>\n",
       "      <td>?</td>\n",
       "      <td>NaN</td>\n",
       "      <td>NaN</td>\n",
       "      <td>NaN</td>\n",
       "      <td>NaN</td>\n",
       "      <td>NaN</td>\n",
       "      <td>NaN</td>\n",
       "      <td>NaN</td>\n",
       "      <td>NaN</td>\n",
       "      <td>NaN</td>\n",
       "      <td>2015</td>\n",
       "    </tr>\n",
       "    <tr>\n",
       "      <th>162</th>\n",
       "      <td>Somaliland Region</td>\n",
       "      <td>NaN</td>\n",
       "      <td>?</td>\n",
       "      <td>NaN</td>\n",
       "      <td>NaN</td>\n",
       "      <td>NaN</td>\n",
       "      <td>NaN</td>\n",
       "      <td>NaN</td>\n",
       "      <td>NaN</td>\n",
       "      <td>NaN</td>\n",
       "      <td>NaN</td>\n",
       "      <td>NaN</td>\n",
       "      <td>2015</td>\n",
       "    </tr>\n",
       "    <tr>\n",
       "      <th>163</th>\n",
       "      <td>South Sudan</td>\n",
       "      <td>NaN</td>\n",
       "      <td>?</td>\n",
       "      <td>NaN</td>\n",
       "      <td>NaN</td>\n",
       "      <td>NaN</td>\n",
       "      <td>NaN</td>\n",
       "      <td>NaN</td>\n",
       "      <td>NaN</td>\n",
       "      <td>NaN</td>\n",
       "      <td>NaN</td>\n",
       "      <td>NaN</td>\n",
       "      <td>2015</td>\n",
       "    </tr>\n",
       "  </tbody>\n",
       "</table>\n",
       "</div>"
      ],
      "text/plain": [
       "               Country Region Happiness Rank  Happiness Score  Standard Error  \\\n",
       "158  Belize             NaN    ?             NaN              NaN               \n",
       "159  Namibia            NaN    ?             NaN              NaN               \n",
       "160  Puerto Rico        NaN    ?             NaN              NaN               \n",
       "161  Somalia            NaN    ?             NaN              NaN               \n",
       "162  Somaliland Region  NaN    ?             NaN              NaN               \n",
       "163  South Sudan        NaN    ?             NaN              NaN               \n",
       "\n",
       "     Economy (GDP per Capita)  Family  Health (Life Expectancy)  Freedom  \\\n",
       "158 NaN                       NaN     NaN                       NaN        \n",
       "159 NaN                       NaN     NaN                       NaN        \n",
       "160 NaN                       NaN     NaN                       NaN        \n",
       "161 NaN                       NaN     NaN                       NaN        \n",
       "162 NaN                       NaN     NaN                       NaN        \n",
       "163 NaN                       NaN     NaN                       NaN        \n",
       "\n",
       "     Trust (Government Corruption)  Generosity  Dystopia Residual  Year  \n",
       "158 NaN                            NaN         NaN                 2015  \n",
       "159 NaN                            NaN         NaN                 2015  \n",
       "160 NaN                            NaN         NaN                 2015  \n",
       "161 NaN                            NaN         NaN                 2015  \n",
       "162 NaN                            NaN         NaN                 2015  \n",
       "163 NaN                            NaN         NaN                 2015  "
      ]
     },
     "execution_count": 179,
     "metadata": {},
     "output_type": "execute_result"
    }
   ],
   "source": [
    "happiness2015[happiness2015['Region'].isnull()]"
   ]
  },
  {
   "cell_type": "code",
   "execution_count": 180,
   "metadata": {},
   "outputs": [],
   "source": [
    "happiness2015.replace('?', np.nan, inplace=True)"
   ]
  },
  {
   "cell_type": "code",
   "execution_count": 181,
   "metadata": {},
   "outputs": [
    {
     "data": {
      "text/html": [
       "<div>\n",
       "<style scoped>\n",
       "    .dataframe tbody tr th:only-of-type {\n",
       "        vertical-align: middle;\n",
       "    }\n",
       "\n",
       "    .dataframe tbody tr th {\n",
       "        vertical-align: top;\n",
       "    }\n",
       "\n",
       "    .dataframe thead th {\n",
       "        text-align: right;\n",
       "    }\n",
       "</style>\n",
       "<table border=\"1\" class=\"dataframe\">\n",
       "  <thead>\n",
       "    <tr style=\"text-align: right;\">\n",
       "      <th></th>\n",
       "      <th>Country</th>\n",
       "      <th>Region</th>\n",
       "      <th>Happiness Rank</th>\n",
       "      <th>Happiness Score</th>\n",
       "      <th>Standard Error</th>\n",
       "      <th>Economy (GDP per Capita)</th>\n",
       "      <th>Family</th>\n",
       "      <th>Health (Life Expectancy)</th>\n",
       "      <th>Freedom</th>\n",
       "      <th>Trust (Government Corruption)</th>\n",
       "      <th>Generosity</th>\n",
       "      <th>Dystopia Residual</th>\n",
       "      <th>Year</th>\n",
       "    </tr>\n",
       "  </thead>\n",
       "  <tbody>\n",
       "    <tr>\n",
       "      <th>158</th>\n",
       "      <td>Belize</td>\n",
       "      <td>NaN</td>\n",
       "      <td>NaN</td>\n",
       "      <td>NaN</td>\n",
       "      <td>NaN</td>\n",
       "      <td>NaN</td>\n",
       "      <td>NaN</td>\n",
       "      <td>NaN</td>\n",
       "      <td>NaN</td>\n",
       "      <td>NaN</td>\n",
       "      <td>NaN</td>\n",
       "      <td>NaN</td>\n",
       "      <td>2015</td>\n",
       "    </tr>\n",
       "    <tr>\n",
       "      <th>159</th>\n",
       "      <td>Namibia</td>\n",
       "      <td>NaN</td>\n",
       "      <td>NaN</td>\n",
       "      <td>NaN</td>\n",
       "      <td>NaN</td>\n",
       "      <td>NaN</td>\n",
       "      <td>NaN</td>\n",
       "      <td>NaN</td>\n",
       "      <td>NaN</td>\n",
       "      <td>NaN</td>\n",
       "      <td>NaN</td>\n",
       "      <td>NaN</td>\n",
       "      <td>2015</td>\n",
       "    </tr>\n",
       "    <tr>\n",
       "      <th>160</th>\n",
       "      <td>Puerto Rico</td>\n",
       "      <td>NaN</td>\n",
       "      <td>NaN</td>\n",
       "      <td>NaN</td>\n",
       "      <td>NaN</td>\n",
       "      <td>NaN</td>\n",
       "      <td>NaN</td>\n",
       "      <td>NaN</td>\n",
       "      <td>NaN</td>\n",
       "      <td>NaN</td>\n",
       "      <td>NaN</td>\n",
       "      <td>NaN</td>\n",
       "      <td>2015</td>\n",
       "    </tr>\n",
       "    <tr>\n",
       "      <th>161</th>\n",
       "      <td>Somalia</td>\n",
       "      <td>NaN</td>\n",
       "      <td>NaN</td>\n",
       "      <td>NaN</td>\n",
       "      <td>NaN</td>\n",
       "      <td>NaN</td>\n",
       "      <td>NaN</td>\n",
       "      <td>NaN</td>\n",
       "      <td>NaN</td>\n",
       "      <td>NaN</td>\n",
       "      <td>NaN</td>\n",
       "      <td>NaN</td>\n",
       "      <td>2015</td>\n",
       "    </tr>\n",
       "    <tr>\n",
       "      <th>162</th>\n",
       "      <td>Somaliland Region</td>\n",
       "      <td>NaN</td>\n",
       "      <td>NaN</td>\n",
       "      <td>NaN</td>\n",
       "      <td>NaN</td>\n",
       "      <td>NaN</td>\n",
       "      <td>NaN</td>\n",
       "      <td>NaN</td>\n",
       "      <td>NaN</td>\n",
       "      <td>NaN</td>\n",
       "      <td>NaN</td>\n",
       "      <td>NaN</td>\n",
       "      <td>2015</td>\n",
       "    </tr>\n",
       "    <tr>\n",
       "      <th>163</th>\n",
       "      <td>South Sudan</td>\n",
       "      <td>NaN</td>\n",
       "      <td>NaN</td>\n",
       "      <td>NaN</td>\n",
       "      <td>NaN</td>\n",
       "      <td>NaN</td>\n",
       "      <td>NaN</td>\n",
       "      <td>NaN</td>\n",
       "      <td>NaN</td>\n",
       "      <td>NaN</td>\n",
       "      <td>NaN</td>\n",
       "      <td>NaN</td>\n",
       "      <td>2015</td>\n",
       "    </tr>\n",
       "  </tbody>\n",
       "</table>\n",
       "</div>"
      ],
      "text/plain": [
       "               Country Region Happiness Rank  Happiness Score  Standard Error  \\\n",
       "158  Belize             NaN    NaN           NaN              NaN               \n",
       "159  Namibia            NaN    NaN           NaN              NaN               \n",
       "160  Puerto Rico        NaN    NaN           NaN              NaN               \n",
       "161  Somalia            NaN    NaN           NaN              NaN               \n",
       "162  Somaliland Region  NaN    NaN           NaN              NaN               \n",
       "163  South Sudan        NaN    NaN           NaN              NaN               \n",
       "\n",
       "     Economy (GDP per Capita)  Family  Health (Life Expectancy)  Freedom  \\\n",
       "158 NaN                       NaN     NaN                       NaN        \n",
       "159 NaN                       NaN     NaN                       NaN        \n",
       "160 NaN                       NaN     NaN                       NaN        \n",
       "161 NaN                       NaN     NaN                       NaN        \n",
       "162 NaN                       NaN     NaN                       NaN        \n",
       "163 NaN                       NaN     NaN                       NaN        \n",
       "\n",
       "     Trust (Government Corruption)  Generosity  Dystopia Residual  Year  \n",
       "158 NaN                            NaN         NaN                 2015  \n",
       "159 NaN                            NaN         NaN                 2015  \n",
       "160 NaN                            NaN         NaN                 2015  \n",
       "161 NaN                            NaN         NaN                 2015  \n",
       "162 NaN                            NaN         NaN                 2015  \n",
       "163 NaN                            NaN         NaN                 2015  "
      ]
     },
     "execution_count": 181,
     "metadata": {},
     "output_type": "execute_result"
    }
   ],
   "source": [
    "happiness2015[happiness2015['Region'].isnull()]"
   ]
  },
  {
   "cell_type": "markdown",
   "metadata": {},
   "source": [
    "### Primer: Diabetes"
   ]
  },
  {
   "cell_type": "code",
   "execution_count": 182,
   "metadata": {},
   "outputs": [],
   "source": [
    "diabetes = pd.read_csv('data/pima-indians-diabetes_data.csv')"
   ]
  },
  {
   "cell_type": "code",
   "execution_count": 183,
   "metadata": {
    "scrolled": true
   },
   "outputs": [
    {
     "data": {
      "text/html": [
       "<div>\n",
       "<style scoped>\n",
       "    .dataframe tbody tr th:only-of-type {\n",
       "        vertical-align: middle;\n",
       "    }\n",
       "\n",
       "    .dataframe tbody tr th {\n",
       "        vertical-align: top;\n",
       "    }\n",
       "\n",
       "    .dataframe thead th {\n",
       "        text-align: right;\n",
       "    }\n",
       "</style>\n",
       "<table border=\"1\" class=\"dataframe\">\n",
       "  <thead>\n",
       "    <tr style=\"text-align: right;\">\n",
       "      <th></th>\n",
       "      <th>Pregnant</th>\n",
       "      <th>Glucose</th>\n",
       "      <th>Diastolic_BP</th>\n",
       "      <th>Skin_Fold</th>\n",
       "      <th>Serum_Insulin</th>\n",
       "      <th>BMI</th>\n",
       "      <th>Diabetes_Pedigree</th>\n",
       "      <th>Age</th>\n",
       "      <th>Class</th>\n",
       "    </tr>\n",
       "  </thead>\n",
       "  <tbody>\n",
       "    <tr>\n",
       "      <th>0</th>\n",
       "      <td>6.0</td>\n",
       "      <td>148.0</td>\n",
       "      <td>72.0</td>\n",
       "      <td>35.0</td>\n",
       "      <td>NaN</td>\n",
       "      <td>33.6</td>\n",
       "      <td>0.627</td>\n",
       "      <td>50</td>\n",
       "      <td>1.0</td>\n",
       "    </tr>\n",
       "    <tr>\n",
       "      <th>1</th>\n",
       "      <td>1.0</td>\n",
       "      <td>85.0</td>\n",
       "      <td>66.0</td>\n",
       "      <td>29.0</td>\n",
       "      <td>NaN</td>\n",
       "      <td>26.6</td>\n",
       "      <td>0.351</td>\n",
       "      <td>31</td>\n",
       "      <td>0.0</td>\n",
       "    </tr>\n",
       "    <tr>\n",
       "      <th>2</th>\n",
       "      <td>8.0</td>\n",
       "      <td>183.0</td>\n",
       "      <td>64.0</td>\n",
       "      <td>NaN</td>\n",
       "      <td>NaN</td>\n",
       "      <td>23.3</td>\n",
       "      <td>0.672</td>\n",
       "      <td>32</td>\n",
       "      <td>1.0</td>\n",
       "    </tr>\n",
       "    <tr>\n",
       "      <th>3</th>\n",
       "      <td>1.0</td>\n",
       "      <td>89.0</td>\n",
       "      <td>66.0</td>\n",
       "      <td>23.0</td>\n",
       "      <td>94.0</td>\n",
       "      <td>28.1</td>\n",
       "      <td>0.167</td>\n",
       "      <td>21</td>\n",
       "      <td>0.0</td>\n",
       "    </tr>\n",
       "    <tr>\n",
       "      <th>4</th>\n",
       "      <td>0.0</td>\n",
       "      <td>137.0</td>\n",
       "      <td>40.0</td>\n",
       "      <td>35.0</td>\n",
       "      <td>168.0</td>\n",
       "      <td>43.1</td>\n",
       "      <td>2.288</td>\n",
       "      <td>33</td>\n",
       "      <td>1.0</td>\n",
       "    </tr>\n",
       "  </tbody>\n",
       "</table>\n",
       "</div>"
      ],
      "text/plain": [
       "   Pregnant  Glucose  Diastolic_BP  Skin_Fold  Serum_Insulin   BMI  \\\n",
       "0  6.0       148.0    72.0          35.0      NaN             33.6   \n",
       "1  1.0       85.0     66.0          29.0      NaN             26.6   \n",
       "2  8.0       183.0    64.0         NaN        NaN             23.3   \n",
       "3  1.0       89.0     66.0          23.0       94.0           28.1   \n",
       "4  0.0       137.0    40.0          35.0       168.0          43.1   \n",
       "\n",
       "   Diabetes_Pedigree  Age  Class  \n",
       "0  0.627              50   1.0    \n",
       "1  0.351              31   0.0    \n",
       "2  0.672              32   1.0    \n",
       "3  0.167              21   0.0    \n",
       "4  2.288              33   1.0    "
      ]
     },
     "execution_count": 183,
     "metadata": {},
     "output_type": "execute_result"
    }
   ],
   "source": [
    "diabetes.head()"
   ]
  },
  {
   "cell_type": "code",
   "execution_count": 184,
   "metadata": {},
   "outputs": [
    {
     "name": "stdout",
     "output_type": "stream",
     "text": [
      "<class 'pandas.core.frame.DataFrame'>\n",
      "RangeIndex: 768 entries, 0 to 767\n",
      "Data columns (total 9 columns):\n",
      "Pregnant             768 non-null float64\n",
      "Glucose              763 non-null float64\n",
      "Diastolic_BP         733 non-null float64\n",
      "Skin_Fold            541 non-null float64\n",
      "Serum_Insulin        394 non-null float64\n",
      "BMI                  768 non-null float64\n",
      "Diabetes_Pedigree    768 non-null float64\n",
      "Age                  768 non-null int64\n",
      "Class                768 non-null float64\n",
      "dtypes: float64(8), int64(1)\n",
      "memory usage: 54.1 KB\n"
     ]
    }
   ],
   "source": [
    "diabetes.info()"
   ]
  },
  {
   "cell_type": "code",
   "execution_count": 185,
   "metadata": {},
   "outputs": [
    {
     "data": {
      "text/html": [
       "<div>\n",
       "<style scoped>\n",
       "    .dataframe tbody tr th:only-of-type {\n",
       "        vertical-align: middle;\n",
       "    }\n",
       "\n",
       "    .dataframe tbody tr th {\n",
       "        vertical-align: top;\n",
       "    }\n",
       "\n",
       "    .dataframe thead th {\n",
       "        text-align: right;\n",
       "    }\n",
       "</style>\n",
       "<table border=\"1\" class=\"dataframe\">\n",
       "  <thead>\n",
       "    <tr style=\"text-align: right;\">\n",
       "      <th></th>\n",
       "      <th>Pregnant</th>\n",
       "      <th>Glucose</th>\n",
       "      <th>Diastolic_BP</th>\n",
       "      <th>Skin_Fold</th>\n",
       "      <th>Serum_Insulin</th>\n",
       "      <th>BMI</th>\n",
       "      <th>Diabetes_Pedigree</th>\n",
       "      <th>Age</th>\n",
       "      <th>Class</th>\n",
       "    </tr>\n",
       "  </thead>\n",
       "  <tbody>\n",
       "    <tr>\n",
       "      <th>count</th>\n",
       "      <td>768.000000</td>\n",
       "      <td>763.000000</td>\n",
       "      <td>733.000000</td>\n",
       "      <td>541.000000</td>\n",
       "      <td>394.000000</td>\n",
       "      <td>768.000000</td>\n",
       "      <td>768.000000</td>\n",
       "      <td>768.000000</td>\n",
       "      <td>768.000000</td>\n",
       "    </tr>\n",
       "    <tr>\n",
       "      <th>mean</th>\n",
       "      <td>3.845052</td>\n",
       "      <td>121.686763</td>\n",
       "      <td>72.405184</td>\n",
       "      <td>29.153420</td>\n",
       "      <td>155.548223</td>\n",
       "      <td>31.992578</td>\n",
       "      <td>0.471876</td>\n",
       "      <td>33.240885</td>\n",
       "      <td>0.348958</td>\n",
       "    </tr>\n",
       "    <tr>\n",
       "      <th>std</th>\n",
       "      <td>3.369578</td>\n",
       "      <td>30.535641</td>\n",
       "      <td>12.382158</td>\n",
       "      <td>10.476982</td>\n",
       "      <td>118.775855</td>\n",
       "      <td>7.884160</td>\n",
       "      <td>0.331329</td>\n",
       "      <td>11.760232</td>\n",
       "      <td>0.476951</td>\n",
       "    </tr>\n",
       "    <tr>\n",
       "      <th>min</th>\n",
       "      <td>0.000000</td>\n",
       "      <td>44.000000</td>\n",
       "      <td>24.000000</td>\n",
       "      <td>7.000000</td>\n",
       "      <td>14.000000</td>\n",
       "      <td>0.000000</td>\n",
       "      <td>0.078000</td>\n",
       "      <td>21.000000</td>\n",
       "      <td>0.000000</td>\n",
       "    </tr>\n",
       "    <tr>\n",
       "      <th>25%</th>\n",
       "      <td>1.000000</td>\n",
       "      <td>99.000000</td>\n",
       "      <td>64.000000</td>\n",
       "      <td>22.000000</td>\n",
       "      <td>76.250000</td>\n",
       "      <td>27.300000</td>\n",
       "      <td>0.243750</td>\n",
       "      <td>24.000000</td>\n",
       "      <td>0.000000</td>\n",
       "    </tr>\n",
       "    <tr>\n",
       "      <th>50%</th>\n",
       "      <td>3.000000</td>\n",
       "      <td>117.000000</td>\n",
       "      <td>72.000000</td>\n",
       "      <td>29.000000</td>\n",
       "      <td>125.000000</td>\n",
       "      <td>32.000000</td>\n",
       "      <td>0.372500</td>\n",
       "      <td>29.000000</td>\n",
       "      <td>0.000000</td>\n",
       "    </tr>\n",
       "    <tr>\n",
       "      <th>75%</th>\n",
       "      <td>6.000000</td>\n",
       "      <td>141.000000</td>\n",
       "      <td>80.000000</td>\n",
       "      <td>36.000000</td>\n",
       "      <td>190.000000</td>\n",
       "      <td>36.600000</td>\n",
       "      <td>0.626250</td>\n",
       "      <td>41.000000</td>\n",
       "      <td>1.000000</td>\n",
       "    </tr>\n",
       "    <tr>\n",
       "      <th>max</th>\n",
       "      <td>17.000000</td>\n",
       "      <td>199.000000</td>\n",
       "      <td>122.000000</td>\n",
       "      <td>99.000000</td>\n",
       "      <td>846.000000</td>\n",
       "      <td>67.100000</td>\n",
       "      <td>2.420000</td>\n",
       "      <td>81.000000</td>\n",
       "      <td>1.000000</td>\n",
       "    </tr>\n",
       "  </tbody>\n",
       "</table>\n",
       "</div>"
      ],
      "text/plain": [
       "         Pregnant     Glucose  Diastolic_BP   Skin_Fold  Serum_Insulin  \\\n",
       "count  768.000000  763.000000  733.000000    541.000000  394.000000      \n",
       "mean   3.845052    121.686763  72.405184     29.153420   155.548223      \n",
       "std    3.369578    30.535641   12.382158     10.476982   118.775855      \n",
       "min    0.000000    44.000000   24.000000     7.000000    14.000000       \n",
       "25%    1.000000    99.000000   64.000000     22.000000   76.250000       \n",
       "50%    3.000000    117.000000  72.000000     29.000000   125.000000      \n",
       "75%    6.000000    141.000000  80.000000     36.000000   190.000000      \n",
       "max    17.000000   199.000000  122.000000    99.000000   846.000000      \n",
       "\n",
       "              BMI  Diabetes_Pedigree         Age       Class  \n",
       "count  768.000000  768.000000         768.000000  768.000000  \n",
       "mean   31.992578   0.471876           33.240885   0.348958    \n",
       "std    7.884160    0.331329           11.760232   0.476951    \n",
       "min    0.000000    0.078000           21.000000   0.000000    \n",
       "25%    27.300000   0.243750           24.000000   0.000000    \n",
       "50%    32.000000   0.372500           29.000000   0.000000    \n",
       "75%    36.600000   0.626250           41.000000   1.000000    \n",
       "max    67.100000   2.420000           81.000000   1.000000    "
      ]
     },
     "execution_count": 185,
     "metadata": {},
     "output_type": "execute_result"
    }
   ],
   "source": [
    "diabetes.describe()"
   ]
  },
  {
   "cell_type": "code",
   "execution_count": 187,
   "metadata": {},
   "outputs": [],
   "source": [
    "diabetes.loc[diabetes['BMI'] == 0, 'BMI'] = np.nan"
   ]
  },
  {
   "cell_type": "code",
   "execution_count": 188,
   "metadata": {},
   "outputs": [
    {
     "data": {
      "text/html": [
       "<div>\n",
       "<style scoped>\n",
       "    .dataframe tbody tr th:only-of-type {\n",
       "        vertical-align: middle;\n",
       "    }\n",
       "\n",
       "    .dataframe tbody tr th {\n",
       "        vertical-align: top;\n",
       "    }\n",
       "\n",
       "    .dataframe thead th {\n",
       "        text-align: right;\n",
       "    }\n",
       "</style>\n",
       "<table border=\"1\" class=\"dataframe\">\n",
       "  <thead>\n",
       "    <tr style=\"text-align: right;\">\n",
       "      <th></th>\n",
       "      <th>Pregnant</th>\n",
       "      <th>Glucose</th>\n",
       "      <th>Diastolic_BP</th>\n",
       "      <th>Skin_Fold</th>\n",
       "      <th>Serum_Insulin</th>\n",
       "      <th>BMI</th>\n",
       "      <th>Diabetes_Pedigree</th>\n",
       "      <th>Age</th>\n",
       "      <th>Class</th>\n",
       "    </tr>\n",
       "  </thead>\n",
       "  <tbody>\n",
       "    <tr>\n",
       "      <th>count</th>\n",
       "      <td>768.000000</td>\n",
       "      <td>763.000000</td>\n",
       "      <td>733.000000</td>\n",
       "      <td>541.000000</td>\n",
       "      <td>394.000000</td>\n",
       "      <td>757.000000</td>\n",
       "      <td>768.000000</td>\n",
       "      <td>768.000000</td>\n",
       "      <td>768.000000</td>\n",
       "    </tr>\n",
       "    <tr>\n",
       "      <th>mean</th>\n",
       "      <td>3.845052</td>\n",
       "      <td>121.686763</td>\n",
       "      <td>72.405184</td>\n",
       "      <td>29.153420</td>\n",
       "      <td>155.548223</td>\n",
       "      <td>32.457464</td>\n",
       "      <td>0.471876</td>\n",
       "      <td>33.240885</td>\n",
       "      <td>0.348958</td>\n",
       "    </tr>\n",
       "    <tr>\n",
       "      <th>std</th>\n",
       "      <td>3.369578</td>\n",
       "      <td>30.535641</td>\n",
       "      <td>12.382158</td>\n",
       "      <td>10.476982</td>\n",
       "      <td>118.775855</td>\n",
       "      <td>6.924988</td>\n",
       "      <td>0.331329</td>\n",
       "      <td>11.760232</td>\n",
       "      <td>0.476951</td>\n",
       "    </tr>\n",
       "    <tr>\n",
       "      <th>min</th>\n",
       "      <td>0.000000</td>\n",
       "      <td>44.000000</td>\n",
       "      <td>24.000000</td>\n",
       "      <td>7.000000</td>\n",
       "      <td>14.000000</td>\n",
       "      <td>18.200000</td>\n",
       "      <td>0.078000</td>\n",
       "      <td>21.000000</td>\n",
       "      <td>0.000000</td>\n",
       "    </tr>\n",
       "    <tr>\n",
       "      <th>25%</th>\n",
       "      <td>1.000000</td>\n",
       "      <td>99.000000</td>\n",
       "      <td>64.000000</td>\n",
       "      <td>22.000000</td>\n",
       "      <td>76.250000</td>\n",
       "      <td>27.500000</td>\n",
       "      <td>0.243750</td>\n",
       "      <td>24.000000</td>\n",
       "      <td>0.000000</td>\n",
       "    </tr>\n",
       "    <tr>\n",
       "      <th>50%</th>\n",
       "      <td>3.000000</td>\n",
       "      <td>117.000000</td>\n",
       "      <td>72.000000</td>\n",
       "      <td>29.000000</td>\n",
       "      <td>125.000000</td>\n",
       "      <td>32.300000</td>\n",
       "      <td>0.372500</td>\n",
       "      <td>29.000000</td>\n",
       "      <td>0.000000</td>\n",
       "    </tr>\n",
       "    <tr>\n",
       "      <th>75%</th>\n",
       "      <td>6.000000</td>\n",
       "      <td>141.000000</td>\n",
       "      <td>80.000000</td>\n",
       "      <td>36.000000</td>\n",
       "      <td>190.000000</td>\n",
       "      <td>36.600000</td>\n",
       "      <td>0.626250</td>\n",
       "      <td>41.000000</td>\n",
       "      <td>1.000000</td>\n",
       "    </tr>\n",
       "    <tr>\n",
       "      <th>max</th>\n",
       "      <td>17.000000</td>\n",
       "      <td>199.000000</td>\n",
       "      <td>122.000000</td>\n",
       "      <td>99.000000</td>\n",
       "      <td>846.000000</td>\n",
       "      <td>67.100000</td>\n",
       "      <td>2.420000</td>\n",
       "      <td>81.000000</td>\n",
       "      <td>1.000000</td>\n",
       "    </tr>\n",
       "  </tbody>\n",
       "</table>\n",
       "</div>"
      ],
      "text/plain": [
       "         Pregnant     Glucose  Diastolic_BP   Skin_Fold  Serum_Insulin  \\\n",
       "count  768.000000  763.000000  733.000000    541.000000  394.000000      \n",
       "mean   3.845052    121.686763  72.405184     29.153420   155.548223      \n",
       "std    3.369578    30.535641   12.382158     10.476982   118.775855      \n",
       "min    0.000000    44.000000   24.000000     7.000000    14.000000       \n",
       "25%    1.000000    99.000000   64.000000     22.000000   76.250000       \n",
       "50%    3.000000    117.000000  72.000000     29.000000   125.000000      \n",
       "75%    6.000000    141.000000  80.000000     36.000000   190.000000      \n",
       "max    17.000000   199.000000  122.000000    99.000000   846.000000      \n",
       "\n",
       "              BMI  Diabetes_Pedigree         Age       Class  \n",
       "count  757.000000  768.000000         768.000000  768.000000  \n",
       "mean   32.457464   0.471876           33.240885   0.348958    \n",
       "std    6.924988    0.331329           11.760232   0.476951    \n",
       "min    18.200000   0.078000           21.000000   0.000000    \n",
       "25%    27.500000   0.243750           24.000000   0.000000    \n",
       "50%    32.300000   0.372500           29.000000   0.000000    \n",
       "75%    36.600000   0.626250           41.000000   1.000000    \n",
       "max    67.100000   2.420000           81.000000   1.000000    "
      ]
     },
     "execution_count": 188,
     "metadata": {},
     "output_type": "execute_result"
    }
   ],
   "source": [
    "diabetes.describe()"
   ]
  },
  {
   "cell_type": "markdown",
   "metadata": {},
   "source": [
    "#### Analyzing missingness percentage"
   ]
  },
  {
   "cell_type": "code",
   "execution_count": 190,
   "metadata": {},
   "outputs": [],
   "source": [
    "misssing_values_sum = diabetes.isnull().sum()"
   ]
  },
  {
   "cell_type": "code",
   "execution_count": 191,
   "metadata": {},
   "outputs": [
    {
     "data": {
      "text/plain": [
       "Pregnant             0.000000 \n",
       "Glucose              0.651042 \n",
       "Diastolic_BP         4.557292 \n",
       "Skin_Fold            29.557292\n",
       "Serum_Insulin        48.697917\n",
       "BMI                  1.432292 \n",
       "Diabetes_Pedigree    0.000000 \n",
       "Age                  0.000000 \n",
       "Class                0.000000 \n",
       "dtype: float64"
      ]
     },
     "execution_count": 191,
     "metadata": {},
     "output_type": "execute_result"
    }
   ],
   "source": [
    "misssing_values_sum/diabetes.shape[0] * 100"
   ]
  },
  {
   "cell_type": "markdown",
   "metadata": {},
   "source": [
    "## Andvance Visualization of Missing Data"
   ]
  },
  {
   "cell_type": "markdown",
   "metadata": {},
   "source": [
    "> `conda install -c conda-forge missingno`"
   ]
  },
  {
   "cell_type": "code",
   "execution_count": 192,
   "metadata": {},
   "outputs": [
    {
     "name": "stdout",
     "output_type": "stream",
     "text": [
      "Collecting missingno\n",
      "  Downloading https://files.pythonhosted.org/packages/2b/de/6e4dd6d720c49939544352155dc06a08c9f7e4271aa631a559dfbeaaf9d4/missingno-0.4.2-py3-none-any.whl\n",
      "Requirement already satisfied: seaborn in /opt/conda/lib/python3.7/site-packages (from missingno) (0.9.0)\n",
      "Requirement already satisfied: scipy in /opt/conda/lib/python3.7/site-packages (from missingno) (1.3.2)\n",
      "Requirement already satisfied: numpy in /opt/conda/lib/python3.7/site-packages (from missingno) (1.17.3)\n",
      "Requirement already satisfied: matplotlib in /opt/conda/lib/python3.7/site-packages (from missingno) (3.1.2)\n",
      "Requirement already satisfied: pandas>=0.15.2 in /opt/conda/lib/python3.7/site-packages (from seaborn->missingno) (0.25.3)\n",
      "Requirement already satisfied: python-dateutil>=2.1 in /opt/conda/lib/python3.7/site-packages (from matplotlib->missingno) (2.8.1)\n",
      "Requirement already satisfied: pyparsing!=2.0.4,!=2.1.2,!=2.1.6,>=2.0.1 in /opt/conda/lib/python3.7/site-packages (from matplotlib->missingno) (2.4.5)\n",
      "Requirement already satisfied: kiwisolver>=1.0.1 in /opt/conda/lib/python3.7/site-packages (from matplotlib->missingno) (1.1.0)\n",
      "Requirement already satisfied: cycler>=0.10 in /opt/conda/lib/python3.7/site-packages (from matplotlib->missingno) (0.10.0)\n",
      "Requirement already satisfied: pytz>=2017.2 in /opt/conda/lib/python3.7/site-packages (from pandas>=0.15.2->seaborn->missingno) (2019.3)\n",
      "Requirement already satisfied: six>=1.5 in /opt/conda/lib/python3.7/site-packages (from python-dateutil>=2.1->matplotlib->missingno) (1.13.0)\n",
      "Requirement already satisfied: setuptools in /opt/conda/lib/python3.7/site-packages (from kiwisolver>=1.0.1->matplotlib->missingno) (42.0.2.post20191201)\n",
      "Installing collected packages: missingno\n",
      "Successfully installed missingno-0.4.2\n"
     ]
    }
   ],
   "source": [
    "! pip install missingno"
   ]
  },
  {
   "cell_type": "code",
   "execution_count": 193,
   "metadata": {},
   "outputs": [],
   "source": [
    "# Import missingno as msno\n",
    "import missingno as msno\n",
    "import matplotlib.pyplot as plt\n",
    "%matplotlib inline"
   ]
  },
  {
   "cell_type": "code",
   "execution_count": 194,
   "metadata": {},
   "outputs": [
    {
     "data": {
      "image/png": "[encoded data removed]",
      "text/plain": [
       "<Figure size 1800x720 with 2 Axes>"
      ]
     },
     "metadata": {
      "needs_background": "light"
     },
     "output_type": "display_data"
    }
   ],
   "source": [
    "msno.matrix(diabetes)\n",
    "plt.show()"
   ]
  },
  {
   "cell_type": "markdown",
   "metadata": {},
   "source": [
    "### Missingness Patterns"
   ]
  },
  {
   "cell_type": "code",
   "execution_count": 195,
   "metadata": {},
   "outputs": [
    {
     "data": {
      "image/png": "[encoded data removed]",
      "text/plain": [
       "<Figure size 1440x864 with 2 Axes>"
      ]
     },
     "metadata": {
      "needs_background": "light"
     },
     "output_type": "display_data"
    }
   ],
   "source": [
    "msno.heatmap(diabetes)\n",
    "plt.show()"
   ]
  },
  {
   "cell_type": "code",
   "execution_count": 196,
   "metadata": {},
   "outputs": [
    {
     "data": {
      "image/png": "[encoded data removed]",
      "text/plain": [
       "<Figure size 1800x720 with 1 Axes>"
      ]
     },
     "metadata": {
      "needs_background": "light"
     },
     "output_type": "display_data"
    }
   ],
   "source": [
    "msno.dendrogram(diabetes)\n",
    "plt.show()"
   ]
  },
  {
   "cell_type": "code",
   "execution_count": 198,
   "metadata": {},
   "outputs": [],
   "source": [
    "sorted_values = diabetes.sort_values('Serum_Insulin')"
   ]
  },
  {
   "cell_type": "code",
   "execution_count": 200,
   "metadata": {},
   "outputs": [
    {
     "data": {
      "image/png": "[encoded data removed]",
      "text/plain": [
       "<Figure size 1800x720 with 2 Axes>"
      ]
     },
     "metadata": {
      "needs_background": "light"
     },
     "output_type": "display_data"
    }
   ],
   "source": [
    "msno.matrix(sorted_values)\n",
    "plt.show()"
   ]
  },
  {
   "cell_type": "code",
   "execution_count": null,
   "metadata": {},
   "outputs": [],
   "source": []
  },
  {
   "cell_type": "markdown",
   "metadata": {},
   "source": [
    "## Handle Missing Values"
   ]
  },
  {
   "cell_type": "markdown",
   "metadata": {},
   "source": [
    "### Dropping Rows"
   ]
  },
  {
   "cell_type": "code",
   "execution_count": 201,
   "metadata": {},
   "outputs": [
    {
     "data": {
      "text/plain": [
       "5"
      ]
     },
     "execution_count": 201,
     "metadata": {},
     "output_type": "execute_result"
    }
   ],
   "source": [
    "diabetes['Glucose'].isnull().sum()"
   ]
  },
  {
   "cell_type": "code",
   "execution_count": 202,
   "metadata": {},
   "outputs": [],
   "source": [
    "diabetes.dropna(subset=['Glucose'], how='all', inplace=True)"
   ]
  },
  {
   "cell_type": "code",
   "execution_count": 203,
   "metadata": {},
   "outputs": [
    {
     "data": {
      "image/png": "[encoded data removed]",
      "text/plain": [
       "<Figure size 1800x720 with 2 Axes>"
      ]
     },
     "metadata": {
      "needs_background": "light"
     },
     "output_type": "display_data"
    }
   ],
   "source": [
    "msno.matrix(diabetes)\n",
    "plt.show()"
   ]
  },
  {
   "cell_type": "code",
   "execution_count": 204,
   "metadata": {},
   "outputs": [
    {
     "data": {
      "image/png": "[encoded data removed]",
      "text/plain": [
       "<Figure size 1440x864 with 2 Axes>"
      ]
     },
     "metadata": {
      "needs_background": "light"
     },
     "output_type": "display_data"
    }
   ],
   "source": [
    "msno.heatmap(diabetes)\n",
    "plt.show()"
   ]
  },
  {
   "cell_type": "code",
   "execution_count": 205,
   "metadata": {},
   "outputs": [
    {
     "data": {
      "image/png": "[encoded data removed]",
      "text/plain": [
       "<Figure size 1800x720 with 2 Axes>"
      ]
     },
     "metadata": {
      "needs_background": "light"
     },
     "output_type": "display_data"
    }
   ],
   "source": [
    "diabetes.dropna(subset=['BMI'], how='all', inplace=True)\n",
    "msno.matrix(diabetes)\n",
    "plt.show()"
   ]
  },
  {
   "cell_type": "markdown",
   "metadata": {},
   "source": [
    "### Imputation Techniques"
   ]
  },
  {
   "cell_type": "markdown",
   "metadata": {},
   "source": [
    "#### Mean & median imputation\n"
   ]
  },
  {
   "cell_type": "code",
   "execution_count": 206,
   "metadata": {},
   "outputs": [],
   "source": [
    "from sklearn.impute import SimpleImputer"
   ]
  },
  {
   "cell_type": "code",
   "execution_count": 209,
   "metadata": {},
   "outputs": [
    {
     "data": {
      "image/png": "[encoded data removed]",
      "text/plain": [
       "<Figure size 1800x720 with 2 Axes>"
      ]
     },
     "metadata": {
      "needs_background": "light"
     },
     "output_type": "display_data"
    }
   ],
   "source": [
    "diabetes_mean = diabetes.copy(deep=True)\n",
    "\n",
    "mean_imputer = SimpleImputer(strategy='mean')\n",
    "\n",
    "diabetes_mean.iloc[:,:] = mean_imputer.fit_transform(diabetes_mean)\n",
    "\n",
    "msno.matrix(diabetes_mean)\n",
    "plt.show()"
   ]
  },
  {
   "cell_type": "code",
   "execution_count": 210,
   "metadata": {},
   "outputs": [],
   "source": [
    "diabetes_median = diabetes.copy(deep=True)\n",
    "median_imputer = SimpleImputer(strategy='median')\n",
    "\n",
    "diabetes_median.iloc[:,:] = median_imputer.fit_transform(diabetes_median)"
   ]
  },
  {
   "cell_type": "markdown",
   "metadata": {},
   "source": [
    "#### Mode and constant imputation"
   ]
  },
  {
   "cell_type": "code",
   "execution_count": 211,
   "metadata": {},
   "outputs": [],
   "source": [
    "diabetes_mode = diabetes.copy(deep=True)\n",
    "\n",
    "mode_imputer = SimpleImputer(strategy='most_frequent')\n",
    "\n",
    "diabetes_mode.iloc[:,:] = mode_imputer.fit_transform(diabetes_mode)"
   ]
  },
  {
   "cell_type": "code",
   "execution_count": 212,
   "metadata": {},
   "outputs": [],
   "source": [
    "diabetes_constant = diabetes.copy(deep=True)\n",
    "\n",
    "constant_imputer = SimpleImputer(strategy='constant', fill_value=0)\n",
    "\n",
    "diabetes_constant.iloc[:,:] = constant_imputer.fit_transform(diabetes_constant)"
   ]
  },
  {
   "cell_type": "markdown",
   "metadata": {},
   "source": [
    "#### Visualize imputations"
   ]
  },
  {
   "cell_type": "code",
   "execution_count": 214,
   "metadata": {},
   "outputs": [
    {
     "data": {
      "image/png": "[encoded data removed]",
      "text/plain": [
       "<Figure size 720x720 with 4 Axes>"
      ]
     },
     "metadata": {
      "needs_background": "light"
     },
     "output_type": "display_data"
    }
   ],
   "source": [
    "fig, axes = plt.subplots(nrows=2, ncols=2, figsize=(10, 10))\n",
    "\n",
    "nullity = diabetes['Serum_Insulin'].isnull() | diabetes['Glucose'].isnull()\n",
    "\n",
    "imputations = {'Mean Imputation': diabetes_mean, 'Median Imputation': diabetes_median, \n",
    "               'Most Frequent Imputation': diabetes_mode, 'Constant Imputation': diabetes_constant}\n",
    "\n",
    "for ax, df_key in zip(axes.flatten(), imputations):\n",
    "    imputations[df_key].plot(x='Serum_Insulin',\n",
    "                            y = 'Glucose',\n",
    "                            kind='scatter',\n",
    "                            alpha=0.5,\n",
    "                            c=nullity, \n",
    "                            cmap='rainbow',\n",
    "                            ax=ax,\n",
    "                            colorbar=False,\n",
    "                            title=df_key)\n",
    "plt.show()"
   ]
  }
 ],
 "metadata": {
  "kernelspec": {
   "display_name": "Python 3",
   "language": "python",
   "name": "python3"
  },
  "language_info": {
   "codemirror_mode": {
    "name": "ipython",
    "version": 3
   },
   "file_extension": ".py",
   "mimetype": "text/x-python",
   "name": "python",
   "nbconvert_exporter": "python",
   "pygments_lexer": "ipython3",
   "version": "3.7.3"
  }
 },
 "nbformat": 4,
 "nbformat_minor": 2
}
